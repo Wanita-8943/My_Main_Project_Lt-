{
  "nbformat": 4,
  "nbformat_minor": 0,
  "metadata": {
    "colab": {
      "provenance": [],
      "machine_shape": "hm",
      "include_colab_link": true
    },
    "kernelspec": {
      "name": "python3",
      "display_name": "Python 3"
    },
    "language_info": {
      "name": "python"
    },
    "accelerator": "GPU",
    "gpuClass": "standard"
  },
  "cells": [
    {
      "cell_type": "markdown",
      "metadata": {
        "id": "view-in-github",
        "colab_type": "text"
      },
      "source": [
        "<a href=\"https://colab.research.google.com/github/Wanita-8943/My_Main_Project_Lt-/blob/main/5.5_(4e-4)AR5_Train_Unfreeze_250_Lt.ipynb\" target=\"_parent\"><img src=\"https://colab.research.google.com/assets/colab-badge.svg\" alt=\"Open In Colab\"/></a>"
      ]
    },
    {
      "cell_type": "markdown",
      "source": [
        "#เรียกใช้ CSV"
      ],
      "metadata": {
        "id": "ow7eWoNw6U-c"
      }
    },
    {
      "cell_type": "code",
      "execution_count": null,
      "metadata": {
        "id": "z8o_VVNXzcL8"
      },
      "outputs": [],
      "source": [
        "import pandas as pd\n",
        "import shutil"
      ]
    },
    {
      "cell_type": "code",
      "source": [
        "from google.colab import drive\n",
        "drive.mount('/content/drive')"
      ],
      "metadata": {
        "colab": {
          "base_uri": "https://localhost:8080/"
        },
        "id": "1_2Fe8u81d5r",
        "outputId": "9b5011d4-4ac0-4bbb-c23b-4da9998b3f8d"
      },
      "execution_count": null,
      "outputs": [
        {
          "output_type": "stream",
          "name": "stdout",
          "text": [
            "Mounted at /content/drive\n"
          ]
        }
      ]
    },
    {
      "cell_type": "markdown",
      "source": [
        "#Imports"
      ],
      "metadata": {
        "id": "5qxePnnn7TGW"
      }
    },
    {
      "cell_type": "code",
      "source": [
        "from tensorflow.keras import models\n",
        "from tensorflow.keras import layers\n",
        "from tensorflow.keras import optimizers\n",
        "import os\n",
        "import glob\n",
        "import shutil\n",
        "import sys\n",
        "import numpy as np\n",
        "from skimage.io import imread\n",
        "import matplotlib.pyplot as plt\n",
        "from IPython.display import Image\n",
        "%matplotlib inline"
      ],
      "metadata": {
        "id": "D-hCRloc3t39"
      },
      "execution_count": null,
      "outputs": []
    },
    {
      "cell_type": "code",
      "source": [
        "import tensorflow as tf\n",
        "from tensorflow.keras import Sequential\n",
        "from tensorflow.keras.layers import Dense\n",
        "from tensorflow.keras.optimizers import Adam\n",
        "from tensorflow.keras import backend as K"
      ],
      "metadata": {
        "id": "YZWXwjXeGxZP"
      },
      "execution_count": null,
      "outputs": []
    },
    {
      "cell_type": "markdown",
      "source": [
        "#กำหนดค่าพารามิเตอร์\n"
      ],
      "metadata": {
        "id": "RooqSdBc7QHC"
      }
    },
    {
      "cell_type": "code",
      "source": [
        "batch_size = 16\n",
        "width = 150\n",
        "height = 150\n",
        "epochs = 250\n",
        "NUM_TRAIN = 2850\n",
        "NUM_TEST = 950\n",
        "dropout_rate = 0.2\n",
        "input_shape = (height, width, 3)"
      ],
      "metadata": {
        "id": "thDb7U9B3xOo"
      },
      "execution_count": null,
      "outputs": []
    },
    {
      "cell_type": "markdown",
      "source": [
        "#Clone efficientnet repo\n"
      ],
      "metadata": {
        "id": "pumGmy6f3eSW"
      }
    },
    {
      "cell_type": "code",
      "source": [
        "#ดึงข้อมูลใน Github มาใช้\n",
        "import os\n",
        "%cd /content\n",
        "if not os.path.isdir(\"efficientnet_keras_transfer_learning\"):\n",
        " !git clone https://github.com/Wanita-8943/efficientnet_keras_transfer_learning\n",
        "%cd efficientnet_keras_transfer_learning/\n"
      ],
      "metadata": {
        "colab": {
          "base_uri": "https://localhost:8080/"
        },
        "id": "P7iy2f8n16p0",
        "outputId": "19469b1c-f5c5-4141-dad1-e6b14b5d6595"
      },
      "execution_count": null,
      "outputs": [
        {
          "output_type": "stream",
          "name": "stdout",
          "text": [
            "/content\n",
            "Cloning into 'efficientnet_keras_transfer_learning'...\n",
            "remote: Enumerating objects: 1085, done.\u001b[K\n",
            "remote: Counting objects: 100% (248/248), done.\u001b[K\n",
            "remote: Compressing objects: 100% (127/127), done.\u001b[K\n",
            "remote: Total 1085 (delta 124), reused 241 (delta 121), pack-reused 837\u001b[K\n",
            "Receiving objects: 100% (1085/1085), 14.09 MiB | 18.89 MiB/s, done.\n",
            "Resolving deltas: 100% (621/621), done.\n",
            "/content/efficientnet_keras_transfer_learning\n"
          ]
        }
      ]
    },
    {
      "cell_type": "code",
      "source": [
        "# Options: EfficientNetB0, EfficientNetB1, EfficientNetB2, EfficientNetB3\n",
        "# Higher the number, the more complex the model is.\n",
        "from efficientnet import EfficientNetB0 as Net\n",
        "from efficientnet import center_crop_and_resize, preprocess_input"
      ],
      "metadata": {
        "id": "tjZBRnfo3bN0"
      },
      "execution_count": null,
      "outputs": []
    },
    {
      "cell_type": "code",
      "source": [
        "# loading pretrained conv base model\n",
        "# โหลดโมเดล มาโดยตัด output ของโมเดลออก เเต่ยังใช้ input อันเดิม\n",
        "# เเละโหลด weight ของโมเดล มาด้วยที่ชื่อว่า imagenet\n",
        "conv_base = Net(weights='imagenet', include_top=False, input_shape=input_shape)"
      ],
      "metadata": {
        "colab": {
          "base_uri": "https://localhost:8080/"
        },
        "id": "-KXyJhN3DjTd",
        "outputId": "8781c4f7-0829-4bf7-ef9f-00b0a4c5f512"
      },
      "execution_count": null,
      "outputs": [
        {
          "output_type": "stream",
          "name": "stdout",
          "text": [
            "Downloading data from https://github.com/qubvel/efficientnet/releases/download/v0.0.1/efficientnet-b0_imagenet_1000_notop.h5\n",
            "16717576/16717576 [==============================] - 14s 1us/step\n"
          ]
        }
      ]
    },
    {
      "cell_type": "markdown",
      "source": [
        "#load model\n"
      ],
      "metadata": {
        "id": "gUXNvjTfg97D"
      }
    },
    {
      "cell_type": "code",
      "source": [
        "import sys\n",
        "sys.path.append('/content/drive/My Drive/All_File_Lt/Model/Regression/5/5.4_(4e-4)AR4_Unfreeze_250_Lt.h5')\n",
        "\n",
        "from efficientnet.layers import Swish, DropConnect\n",
        "from efficientnet.model import ConvKernalInitializer\n",
        "from tensorflow.keras.utils import get_custom_objects\n",
        "\n",
        "get_custom_objects().update({\n",
        "    'ConvKernalInitializer': ConvKernalInitializer,\n",
        "    'Swish': Swish,\n",
        "    'DropConnect':DropConnect\n",
        "})"
      ],
      "metadata": {
        "id": "tdEdMUM6g8-K"
      },
      "execution_count": null,
      "outputs": []
    },
    {
      "cell_type": "code",
      "source": [
        "#load model \n",
        "from tensorflow.keras.models import load_model\n",
        "model = load_model('/content/drive/My Drive/All_File_Lt/Model/Regression/5/5.4_(4e-4)AR4_Unfreeze_250_Lt.h5')\n",
        "height = width = model.input_shape[1]"
      ],
      "metadata": {
        "id": "51y00AmKhFVp"
      },
      "execution_count": null,
      "outputs": []
    },
    {
      "cell_type": "code",
      "source": [
        "model.summary()"
      ],
      "metadata": {
        "colab": {
          "base_uri": "https://localhost:8080/"
        },
        "id": "veq6Mp-GYE2V",
        "outputId": "cc96af14-d448-469b-d133-67e91ed595fb"
      },
      "execution_count": null,
      "outputs": [
        {
          "output_type": "stream",
          "name": "stdout",
          "text": [
            "Model: \"sequential\"\n",
            "_________________________________________________________________\n",
            " Layer (type)                Output Shape              Param #   \n",
            "=================================================================\n",
            " efficientnet-b0 (Functional  (None, 5, 5, 1280)       4049564   \n",
            " )                                                               \n",
            "                                                                 \n",
            " gap (GlobalMaxPooling2D)    (None, 1280)              0         \n",
            "                                                                 \n",
            " dropout_out (Dropout)       (None, 1280)              0         \n",
            "                                                                 \n",
            " fc_out (Dense)              (None, 19)                24339     \n",
            "                                                                 \n",
            " dense (Dense)               (None, 1)                 20        \n",
            "                                                                 \n",
            "=================================================================\n",
            "Total params: 4,073,923\n",
            "Trainable params: 4,031,907\n",
            "Non-trainable params: 42,016\n",
            "_________________________________________________________________\n"
          ]
        }
      ]
    },
    {
      "cell_type": "markdown",
      "source": [
        "#สร้างโฟลเดอร์ Train Valodation และ Test"
      ],
      "metadata": {
        "id": "J36J9EAE7qSB"
      }
    },
    {
      "cell_type": "code",
      "source": [
        "df = pd.read_csv (r'/content/drive/MyDrive/All_File_Lt/Data/All_Data_Lt.csv')\n",
        "df"
      ],
      "metadata": {
        "colab": {
          "base_uri": "https://localhost:8080/",
          "height": 424
        },
        "id": "skoKhKJDngAZ",
        "outputId": "c5bcac52-7a43-4916-cdd2-dc64faf96d14"
      },
      "execution_count": null,
      "outputs": [
        {
          "output_type": "execute_result",
          "data": {
            "text/plain": [
              "      Fig_Age  Fig_Person Class_Age+Gender Class_Age  Class_0-18  Age(year)  \\\n",
              "0           1           1             Y07F       Y07           0          7   \n",
              "1           2           1             Y07F       Y07           0          7   \n",
              "2           3           2             Y07F       Y07           0          7   \n",
              "3           4           2             Y07F       Y07           0          7   \n",
              "4           5           3             Y07F       Y07           0          7   \n",
              "...       ...         ...              ...       ...         ...        ...   \n",
              "4745      121          77             Y25M       Y25          18         25   \n",
              "4746      122          78             Y25M       Y25          18         25   \n",
              "4747      123          78             Y25M       Y25          18         25   \n",
              "4748      124          79             Y25M       Y25          18         25   \n",
              "4749      125          79             Y25M       Y25          18         25   \n",
              "\n",
              "      Class_0-1       Filename  \\\n",
              "0             0         V1.jpg   \n",
              "1             0    Flip_V1.jpg   \n",
              "2             0         V2.jpg   \n",
              "3             0    Flip_V2.jpg   \n",
              "4             0         V3.jpg   \n",
              "...         ...            ...   \n",
              "4745          1  Flip_J463.jpg   \n",
              "4746          1       J464.jpg   \n",
              "4747          1  Flip_J464.jpg   \n",
              "4748          1       J465.jpg   \n",
              "4749          1  Flip_J465.jpg   \n",
              "\n",
              "                                          Path_filename     Sex Floder  \n",
              "0     /content/drive/My Drive/All_File_Lt/TVT_All_Lt...  Female   Both  \n",
              "1     /content/drive/My Drive/All_File_Lt/TVT_All_Lt...  Female   Both  \n",
              "2     /content/drive/My Drive/All_File_Lt/TVT_All_Lt...  Female   Both  \n",
              "3     /content/drive/My Drive/All_File_Lt/TVT_All_Lt...  Female   Both  \n",
              "4     /content/drive/My Drive/All_File_Lt/TVT_All_Lt...  Female   Both  \n",
              "...                                                 ...     ...    ...  \n",
              "4745  /content/drive/My Drive/All_File_Lt/TVT_All_Lt...    Male   Both  \n",
              "4746  /content/drive/My Drive/All_File_Lt/TVT_All_Lt...    Male   Both  \n",
              "4747  /content/drive/My Drive/All_File_Lt/TVT_All_Lt...    Male   Both  \n",
              "4748  /content/drive/My Drive/All_File_Lt/TVT_All_Lt...    Male   Both  \n",
              "4749  /content/drive/My Drive/All_File_Lt/TVT_All_Lt...    Male   Both  \n",
              "\n",
              "[4750 rows x 11 columns]"
            ],
            "text/html": [
              "\n",
              "  <div id=\"df-f6af9c7a-4957-4f7b-b410-dab8016adffb\">\n",
              "    <div class=\"colab-df-container\">\n",
              "      <div>\n",
              "<style scoped>\n",
              "    .dataframe tbody tr th:only-of-type {\n",
              "        vertical-align: middle;\n",
              "    }\n",
              "\n",
              "    .dataframe tbody tr th {\n",
              "        vertical-align: top;\n",
              "    }\n",
              "\n",
              "    .dataframe thead th {\n",
              "        text-align: right;\n",
              "    }\n",
              "</style>\n",
              "<table border=\"1\" class=\"dataframe\">\n",
              "  <thead>\n",
              "    <tr style=\"text-align: right;\">\n",
              "      <th></th>\n",
              "      <th>Fig_Age</th>\n",
              "      <th>Fig_Person</th>\n",
              "      <th>Class_Age+Gender</th>\n",
              "      <th>Class_Age</th>\n",
              "      <th>Class_0-18</th>\n",
              "      <th>Age(year)</th>\n",
              "      <th>Class_0-1</th>\n",
              "      <th>Filename</th>\n",
              "      <th>Path_filename</th>\n",
              "      <th>Sex</th>\n",
              "      <th>Floder</th>\n",
              "    </tr>\n",
              "  </thead>\n",
              "  <tbody>\n",
              "    <tr>\n",
              "      <th>0</th>\n",
              "      <td>1</td>\n",
              "      <td>1</td>\n",
              "      <td>Y07F</td>\n",
              "      <td>Y07</td>\n",
              "      <td>0</td>\n",
              "      <td>7</td>\n",
              "      <td>0</td>\n",
              "      <td>V1.jpg</td>\n",
              "      <td>/content/drive/My Drive/All_File_Lt/TVT_All_Lt...</td>\n",
              "      <td>Female</td>\n",
              "      <td>Both</td>\n",
              "    </tr>\n",
              "    <tr>\n",
              "      <th>1</th>\n",
              "      <td>2</td>\n",
              "      <td>1</td>\n",
              "      <td>Y07F</td>\n",
              "      <td>Y07</td>\n",
              "      <td>0</td>\n",
              "      <td>7</td>\n",
              "      <td>0</td>\n",
              "      <td>Flip_V1.jpg</td>\n",
              "      <td>/content/drive/My Drive/All_File_Lt/TVT_All_Lt...</td>\n",
              "      <td>Female</td>\n",
              "      <td>Both</td>\n",
              "    </tr>\n",
              "    <tr>\n",
              "      <th>2</th>\n",
              "      <td>3</td>\n",
              "      <td>2</td>\n",
              "      <td>Y07F</td>\n",
              "      <td>Y07</td>\n",
              "      <td>0</td>\n",
              "      <td>7</td>\n",
              "      <td>0</td>\n",
              "      <td>V2.jpg</td>\n",
              "      <td>/content/drive/My Drive/All_File_Lt/TVT_All_Lt...</td>\n",
              "      <td>Female</td>\n",
              "      <td>Both</td>\n",
              "    </tr>\n",
              "    <tr>\n",
              "      <th>3</th>\n",
              "      <td>4</td>\n",
              "      <td>2</td>\n",
              "      <td>Y07F</td>\n",
              "      <td>Y07</td>\n",
              "      <td>0</td>\n",
              "      <td>7</td>\n",
              "      <td>0</td>\n",
              "      <td>Flip_V2.jpg</td>\n",
              "      <td>/content/drive/My Drive/All_File_Lt/TVT_All_Lt...</td>\n",
              "      <td>Female</td>\n",
              "      <td>Both</td>\n",
              "    </tr>\n",
              "    <tr>\n",
              "      <th>4</th>\n",
              "      <td>5</td>\n",
              "      <td>3</td>\n",
              "      <td>Y07F</td>\n",
              "      <td>Y07</td>\n",
              "      <td>0</td>\n",
              "      <td>7</td>\n",
              "      <td>0</td>\n",
              "      <td>V3.jpg</td>\n",
              "      <td>/content/drive/My Drive/All_File_Lt/TVT_All_Lt...</td>\n",
              "      <td>Female</td>\n",
              "      <td>Both</td>\n",
              "    </tr>\n",
              "    <tr>\n",
              "      <th>...</th>\n",
              "      <td>...</td>\n",
              "      <td>...</td>\n",
              "      <td>...</td>\n",
              "      <td>...</td>\n",
              "      <td>...</td>\n",
              "      <td>...</td>\n",
              "      <td>...</td>\n",
              "      <td>...</td>\n",
              "      <td>...</td>\n",
              "      <td>...</td>\n",
              "      <td>...</td>\n",
              "    </tr>\n",
              "    <tr>\n",
              "      <th>4745</th>\n",
              "      <td>121</td>\n",
              "      <td>77</td>\n",
              "      <td>Y25M</td>\n",
              "      <td>Y25</td>\n",
              "      <td>18</td>\n",
              "      <td>25</td>\n",
              "      <td>1</td>\n",
              "      <td>Flip_J463.jpg</td>\n",
              "      <td>/content/drive/My Drive/All_File_Lt/TVT_All_Lt...</td>\n",
              "      <td>Male</td>\n",
              "      <td>Both</td>\n",
              "    </tr>\n",
              "    <tr>\n",
              "      <th>4746</th>\n",
              "      <td>122</td>\n",
              "      <td>78</td>\n",
              "      <td>Y25M</td>\n",
              "      <td>Y25</td>\n",
              "      <td>18</td>\n",
              "      <td>25</td>\n",
              "      <td>1</td>\n",
              "      <td>J464.jpg</td>\n",
              "      <td>/content/drive/My Drive/All_File_Lt/TVT_All_Lt...</td>\n",
              "      <td>Male</td>\n",
              "      <td>Both</td>\n",
              "    </tr>\n",
              "    <tr>\n",
              "      <th>4747</th>\n",
              "      <td>123</td>\n",
              "      <td>78</td>\n",
              "      <td>Y25M</td>\n",
              "      <td>Y25</td>\n",
              "      <td>18</td>\n",
              "      <td>25</td>\n",
              "      <td>1</td>\n",
              "      <td>Flip_J464.jpg</td>\n",
              "      <td>/content/drive/My Drive/All_File_Lt/TVT_All_Lt...</td>\n",
              "      <td>Male</td>\n",
              "      <td>Both</td>\n",
              "    </tr>\n",
              "    <tr>\n",
              "      <th>4748</th>\n",
              "      <td>124</td>\n",
              "      <td>79</td>\n",
              "      <td>Y25M</td>\n",
              "      <td>Y25</td>\n",
              "      <td>18</td>\n",
              "      <td>25</td>\n",
              "      <td>1</td>\n",
              "      <td>J465.jpg</td>\n",
              "      <td>/content/drive/My Drive/All_File_Lt/TVT_All_Lt...</td>\n",
              "      <td>Male</td>\n",
              "      <td>Both</td>\n",
              "    </tr>\n",
              "    <tr>\n",
              "      <th>4749</th>\n",
              "      <td>125</td>\n",
              "      <td>79</td>\n",
              "      <td>Y25M</td>\n",
              "      <td>Y25</td>\n",
              "      <td>18</td>\n",
              "      <td>25</td>\n",
              "      <td>1</td>\n",
              "      <td>Flip_J465.jpg</td>\n",
              "      <td>/content/drive/My Drive/All_File_Lt/TVT_All_Lt...</td>\n",
              "      <td>Male</td>\n",
              "      <td>Both</td>\n",
              "    </tr>\n",
              "  </tbody>\n",
              "</table>\n",
              "<p>4750 rows × 11 columns</p>\n",
              "</div>\n",
              "      <button class=\"colab-df-convert\" onclick=\"convertToInteractive('df-f6af9c7a-4957-4f7b-b410-dab8016adffb')\"\n",
              "              title=\"Convert this dataframe to an interactive table.\"\n",
              "              style=\"display:none;\">\n",
              "        \n",
              "  <svg xmlns=\"http://www.w3.org/2000/svg\" height=\"24px\"viewBox=\"0 0 24 24\"\n",
              "       width=\"24px\">\n",
              "    <path d=\"M0 0h24v24H0V0z\" fill=\"none\"/>\n",
              "    <path d=\"M18.56 5.44l.94 2.06.94-2.06 2.06-.94-2.06-.94-.94-2.06-.94 2.06-2.06.94zm-11 1L8.5 8.5l.94-2.06 2.06-.94-2.06-.94L8.5 2.5l-.94 2.06-2.06.94zm10 10l.94 2.06.94-2.06 2.06-.94-2.06-.94-.94-2.06-.94 2.06-2.06.94z\"/><path d=\"M17.41 7.96l-1.37-1.37c-.4-.4-.92-.59-1.43-.59-.52 0-1.04.2-1.43.59L10.3 9.45l-7.72 7.72c-.78.78-.78 2.05 0 2.83L4 21.41c.39.39.9.59 1.41.59.51 0 1.02-.2 1.41-.59l7.78-7.78 2.81-2.81c.8-.78.8-2.07 0-2.86zM5.41 20L4 18.59l7.72-7.72 1.47 1.35L5.41 20z\"/>\n",
              "  </svg>\n",
              "      </button>\n",
              "      \n",
              "  <style>\n",
              "    .colab-df-container {\n",
              "      display:flex;\n",
              "      flex-wrap:wrap;\n",
              "      gap: 12px;\n",
              "    }\n",
              "\n",
              "    .colab-df-convert {\n",
              "      background-color: #E8F0FE;\n",
              "      border: none;\n",
              "      border-radius: 50%;\n",
              "      cursor: pointer;\n",
              "      display: none;\n",
              "      fill: #1967D2;\n",
              "      height: 32px;\n",
              "      padding: 0 0 0 0;\n",
              "      width: 32px;\n",
              "    }\n",
              "\n",
              "    .colab-df-convert:hover {\n",
              "      background-color: #E2EBFA;\n",
              "      box-shadow: 0px 1px 2px rgba(60, 64, 67, 0.3), 0px 1px 3px 1px rgba(60, 64, 67, 0.15);\n",
              "      fill: #174EA6;\n",
              "    }\n",
              "\n",
              "    [theme=dark] .colab-df-convert {\n",
              "      background-color: #3B4455;\n",
              "      fill: #D2E3FC;\n",
              "    }\n",
              "\n",
              "    [theme=dark] .colab-df-convert:hover {\n",
              "      background-color: #434B5C;\n",
              "      box-shadow: 0px 1px 3px 1px rgba(0, 0, 0, 0.15);\n",
              "      filter: drop-shadow(0px 1px 2px rgba(0, 0, 0, 0.3));\n",
              "      fill: #FFFFFF;\n",
              "    }\n",
              "  </style>\n",
              "\n",
              "      <script>\n",
              "        const buttonEl =\n",
              "          document.querySelector('#df-f6af9c7a-4957-4f7b-b410-dab8016adffb button.colab-df-convert');\n",
              "        buttonEl.style.display =\n",
              "          google.colab.kernel.accessAllowed ? 'block' : 'none';\n",
              "\n",
              "        async function convertToInteractive(key) {\n",
              "          const element = document.querySelector('#df-f6af9c7a-4957-4f7b-b410-dab8016adffb');\n",
              "          const dataTable =\n",
              "            await google.colab.kernel.invokeFunction('convertToInteractive',\n",
              "                                                     [key], {});\n",
              "          if (!dataTable) return;\n",
              "\n",
              "          const docLinkHtml = 'Like what you see? Visit the ' +\n",
              "            '<a target=\"_blank\" href=https://colab.research.google.com/notebooks/data_table.ipynb>data table notebook</a>'\n",
              "            + ' to learn more about interactive tables.';\n",
              "          element.innerHTML = '';\n",
              "          dataTable['output_type'] = 'display_data';\n",
              "          await google.colab.output.renderOutput(dataTable, element);\n",
              "          const docLink = document.createElement('div');\n",
              "          docLink.innerHTML = docLinkHtml;\n",
              "          element.appendChild(docLink);\n",
              "        }\n",
              "      </script>\n",
              "    </div>\n",
              "  </div>\n",
              "  "
            ]
          },
          "metadata": {},
          "execution_count": 12
        }
      ]
    },
    {
      "cell_type": "code",
      "source": [
        "train = df[df['Fig_Age'].between(1,75)]\n",
        "val = df[df['Fig_Age'].between(76,100)]"
      ],
      "metadata": {
        "id": "Z1zBw01Gl8Ac"
      },
      "execution_count": null,
      "outputs": []
    },
    {
      "cell_type": "code",
      "source": [
        "DATA_PATH = \"/content/drive/My Drive/All_File_Lt/TVT_All_Lt\"\n",
        "os.chdir(DATA_PATH)\n",
        "train_dir = os.path.join(DATA_PATH, 'train')\n",
        "print(train_dir)\n",
        "validation_dir = os.path.join(DATA_PATH, 'validation')\n",
        "print(validation_dir)"
      ],
      "metadata": {
        "colab": {
          "base_uri": "https://localhost:8080/"
        },
        "id": "QL0g-8iOnMC4",
        "outputId": "cd239c3f-0ae4-4c91-8436-36691187e5b7"
      },
      "execution_count": null,
      "outputs": [
        {
          "output_type": "stream",
          "name": "stdout",
          "text": [
            "/content/drive/My Drive/All_File_Lt/TVT_All_Lt/train\n",
            "/content/drive/My Drive/All_File_Lt/TVT_All_Lt/validation\n"
          ]
        }
      ]
    },
    {
      "cell_type": "markdown",
      "source": [
        "\n",
        "#Train"
      ],
      "metadata": {
        "id": "bWEnlTSwazL5"
      }
    },
    {
      "cell_type": "code",
      "source": [
        "# Train ด้วย ImageDataGenerator ของ Keras ซึ่งจะเพิ่มข้อมูลเสริมระหว่างการฝึกเพื่อลดโอกาสเกิด overfitting\n",
        "#overfitting เกิดจากข้อมูลที่ซับซ้อนกันเกินไป\n",
        "from tensorflow.keras.preprocessing.image import ImageDataGenerator\n",
        "\n",
        "train_datagen = ImageDataGenerator(\n",
        "      rescale=1./255, #โมเดลส่วนใหญ่ต้องใช้ RGB ในช่วง 0–1\n",
        "      rotation_range=40,\n",
        "      width_shift_range=0.2,\n",
        "      height_shift_range=0.2,\n",
        "      shear_range=0.2,\n",
        "      zoom_range=0.2,\n",
        "      horizontal_flip=True,\n",
        "      fill_mode='nearest')\n",
        "\n",
        "# Note that the validation data should not be augmented!\n",
        "test_datagen = ImageDataGenerator(rescale=1./255)\n",
        "\n",
        "train_generator = train_datagen.flow_from_dataframe(\n",
        "        dataframe = train,\n",
        "        directory = train_dir,\n",
        "        x_col = 'Path_filename',\n",
        "        y_col = 'Age(year)',\n",
        "        class_mode = 'other',\n",
        "        target_size=(height, width),\n",
        "        batch_size=batch_size)\n",
        "\n",
        "validation_generator = test_datagen.flow_from_dataframe(\n",
        "        dataframe = val,\n",
        "        directory = validation_dir,\n",
        "        x_col = 'Path_filename',\n",
        "        y_col = 'Age(year)',\n",
        "        class_mode = 'other',\n",
        "        target_size=(height, width),\n",
        "        batch_size=batch_size)"
      ],
      "metadata": {
        "id": "xGPrsn9no_pa",
        "outputId": "d21fed45-2292-4945-cc46-0fe154de3fc6",
        "colab": {
          "base_uri": "https://localhost:8080/"
        }
      },
      "execution_count": null,
      "outputs": [
        {
          "output_type": "stream",
          "name": "stdout",
          "text": [
            "Found 2850 validated image filenames.\n",
            "Found 950 validated image filenames.\n"
          ]
        }
      ]
    },
    {
      "cell_type": "code",
      "source": [
        "model.compile(loss='mse',\n",
        "          optimizer=Adam(learning_rate=4e-4),\n",
        "          metrics=['mae'])\n",
        "history = model.fit_generator(\n",
        "      train_generator,\n",
        "      steps_per_epoch= NUM_TRAIN //batch_size,\n",
        "      epochs=epochs,\n",
        "      validation_data=validation_generator,\n",
        "      validation_steps= NUM_TEST //batch_size,\n",
        "      verbose=1,\n",
        "      use_multiprocessing=True,\n",
        "      workers=4)"
      ],
      "metadata": {
        "id": "N6qUmmF856ZE",
        "outputId": "b1db29fa-6f43-4d2a-e29f-c8635b104be5",
        "colab": {
          "base_uri": "https://localhost:8080/"
        }
      },
      "execution_count": null,
      "outputs": [
        {
          "output_type": "stream",
          "name": "stderr",
          "text": [
            "<ipython-input-16-23c2d5617436>:4: UserWarning: `Model.fit_generator` is deprecated and will be removed in a future version. Please use `Model.fit`, which supports generators.\n",
            "  history = model.fit_generator(\n"
          ]
        },
        {
          "output_type": "stream",
          "name": "stdout",
          "text": [
            "Epoch 1/250\n",
            "178/178 [==============================] - 608s 3s/step - loss: 3.0470 - mae: 1.2771 - val_loss: 8.0656 - val_mae: 2.2250\n",
            "Epoch 2/250\n",
            "178/178 [==============================] - 27s 148ms/step - loss: 3.0446 - mae: 1.2382 - val_loss: 5.7377 - val_mae: 1.8630\n",
            "Epoch 3/250\n",
            "178/178 [==============================] - 27s 148ms/step - loss: 3.0219 - mae: 1.2499 - val_loss: 8.8240 - val_mae: 2.2856\n",
            "Epoch 4/250\n",
            "178/178 [==============================] - 27s 150ms/step - loss: 2.4923 - mae: 1.1570 - val_loss: 7.2460 - val_mae: 2.0687\n",
            "Epoch 5/250\n",
            "178/178 [==============================] - 27s 151ms/step - loss: 2.4815 - mae: 1.1527 - val_loss: 5.4460 - val_mae: 1.8292\n",
            "Epoch 6/250\n",
            "178/178 [==============================] - 28s 152ms/step - loss: 2.3202 - mae: 1.1300 - val_loss: 4.2198 - val_mae: 1.6007\n",
            "Epoch 7/250\n",
            "178/178 [==============================] - 28s 152ms/step - loss: 2.3002 - mae: 1.1900 - val_loss: 9.1842 - val_mae: 2.3582\n",
            "Epoch 8/250\n",
            "178/178 [==============================] - 28s 157ms/step - loss: 2.5243 - mae: 1.2258 - val_loss: 6.7989 - val_mae: 2.0341\n",
            "Epoch 9/250\n",
            "178/178 [==============================] - 28s 153ms/step - loss: 2.4002 - mae: 1.1928 - val_loss: 6.2937 - val_mae: 1.9880\n",
            "Epoch 10/250\n",
            "178/178 [==============================] - 28s 153ms/step - loss: 2.3033 - mae: 1.1587 - val_loss: 7.7323 - val_mae: 2.2290\n",
            "Epoch 11/250\n",
            "178/178 [==============================] - 28s 152ms/step - loss: 2.9739 - mae: 1.2423 - val_loss: 6.5805 - val_mae: 2.0291\n",
            "Epoch 12/250\n",
            "178/178 [==============================] - 28s 153ms/step - loss: 3.0259 - mae: 1.2331 - val_loss: 8.1183 - val_mae: 2.2665\n",
            "Epoch 13/250\n",
            "178/178 [==============================] - 28s 155ms/step - loss: 3.0960 - mae: 1.2392 - val_loss: 9.2504 - val_mae: 2.3958\n",
            "Epoch 14/250\n",
            "178/178 [==============================] - 28s 155ms/step - loss: 2.6074 - mae: 1.1850 - val_loss: 7.8326 - val_mae: 2.2392\n",
            "Epoch 15/250\n",
            "178/178 [==============================] - 28s 155ms/step - loss: 2.5774 - mae: 1.1556 - val_loss: 7.2445 - val_mae: 2.1297\n",
            "Epoch 16/250\n",
            "178/178 [==============================] - 28s 156ms/step - loss: 2.8502 - mae: 1.1594 - val_loss: 7.1206 - val_mae: 2.1113\n",
            "Epoch 17/250\n",
            "178/178 [==============================] - 28s 155ms/step - loss: 3.3323 - mae: 1.2129 - val_loss: 8.8750 - val_mae: 2.2875\n",
            "Epoch 18/250\n",
            "178/178 [==============================] - 28s 156ms/step - loss: 4.9987 - mae: 1.3399 - val_loss: 7.5092 - val_mae: 2.1357\n",
            "Epoch 19/250\n",
            "178/178 [==============================] - 28s 156ms/step - loss: 4.1019 - mae: 1.2717 - val_loss: 5.8393 - val_mae: 1.9119\n",
            "Epoch 20/250\n",
            "178/178 [==============================] - 28s 156ms/step - loss: 4.7763 - mae: 1.3225 - val_loss: 5.2825 - val_mae: 1.7880\n",
            "Epoch 21/250\n",
            "178/178 [==============================] - 28s 156ms/step - loss: 5.0335 - mae: 1.4150 - val_loss: 6.6337 - val_mae: 1.9821\n",
            "Epoch 22/250\n",
            "178/178 [==============================] - 28s 156ms/step - loss: 4.3698 - mae: 1.3501 - val_loss: 6.0611 - val_mae: 1.9294\n",
            "Epoch 23/250\n",
            "178/178 [==============================] - 24s 132ms/step - loss: 4.6243 - mae: 1.3863 - val_loss: 7.2555 - val_mae: 2.1169\n",
            "Epoch 24/250\n",
            "178/178 [==============================] - 28s 155ms/step - loss: 4.4921 - mae: 1.3345 - val_loss: 6.7276 - val_mae: 2.0538\n",
            "Epoch 25/250\n",
            "178/178 [==============================] - 28s 154ms/step - loss: 3.7006 - mae: 1.3077 - val_loss: 6.2624 - val_mae: 1.9657\n",
            "Epoch 26/250\n",
            "178/178 [==============================] - 28s 153ms/step - loss: 3.6460 - mae: 1.2625 - val_loss: 6.7133 - val_mae: 2.0502\n",
            "Epoch 27/250\n",
            "178/178 [==============================] - 28s 154ms/step - loss: 3.3620 - mae: 1.2685 - val_loss: 7.6752 - val_mae: 2.1988\n",
            "Epoch 28/250\n",
            "178/178 [==============================] - 28s 154ms/step - loss: 3.4539 - mae: 1.2599 - val_loss: 6.6379 - val_mae: 2.0338\n",
            "Epoch 29/250\n",
            "178/178 [==============================] - 28s 154ms/step - loss: 3.6596 - mae: 1.2790 - val_loss: 7.3984 - val_mae: 2.1834\n",
            "Epoch 30/250\n",
            "178/178 [==============================] - 28s 154ms/step - loss: 3.1310 - mae: 1.2526 - val_loss: 6.6586 - val_mae: 2.0120\n",
            "Epoch 31/250\n",
            "178/178 [==============================] - 23s 127ms/step - loss: 3.2661 - mae: 1.2463 - val_loss: 7.3718 - val_mae: 2.1575\n",
            "Epoch 32/250\n",
            "178/178 [==============================] - 28s 152ms/step - loss: 3.4792 - mae: 1.2519 - val_loss: 6.5273 - val_mae: 2.0186\n",
            "Epoch 33/250\n",
            "178/178 [==============================] - 28s 154ms/step - loss: 3.4239 - mae: 1.2578 - val_loss: 6.8552 - val_mae: 2.0586\n",
            "Epoch 34/250\n",
            "178/178 [==============================] - 28s 152ms/step - loss: 3.7700 - mae: 1.2589 - val_loss: 6.0209 - val_mae: 1.9286\n",
            "Epoch 35/250\n",
            "178/178 [==============================] - 27s 150ms/step - loss: 4.1630 - mae: 1.2937 - val_loss: 5.5886 - val_mae: 1.8344\n",
            "Epoch 36/250\n",
            "178/178 [==============================] - 28s 152ms/step - loss: 5.1426 - mae: 1.3806 - val_loss: 5.2954 - val_mae: 1.7887\n",
            "Epoch 37/250\n",
            "178/178 [==============================] - 27s 151ms/step - loss: 2.4418 - mae: 1.1792 - val_loss: 8.9635 - val_mae: 2.3938\n",
            "Epoch 38/250\n",
            "178/178 [==============================] - 28s 152ms/step - loss: 2.6551 - mae: 1.1942 - val_loss: 7.2804 - val_mae: 2.1441\n",
            "Epoch 39/250\n",
            "178/178 [==============================] - 28s 152ms/step - loss: 2.4487 - mae: 1.1674 - val_loss: 8.2717 - val_mae: 2.2557\n",
            "Epoch 40/250\n",
            "178/178 [==============================] - 28s 152ms/step - loss: 2.4036 - mae: 1.1489 - val_loss: 6.8570 - val_mae: 2.0656\n",
            "Epoch 41/250\n",
            "178/178 [==============================] - 28s 152ms/step - loss: 2.5152 - mae: 1.1923 - val_loss: 16.4149 - val_mae: 3.0316\n",
            "Epoch 42/250\n",
            "178/178 [==============================] - 28s 152ms/step - loss: 2.3999 - mae: 1.1893 - val_loss: 11.6023 - val_mae: 2.6388\n",
            "Epoch 43/250\n",
            "178/178 [==============================] - 27s 151ms/step - loss: 2.3290 - mae: 1.1943 - val_loss: 12.0199 - val_mae: 2.6930\n",
            "Epoch 44/250\n",
            "178/178 [==============================] - 28s 155ms/step - loss: 2.3740 - mae: 1.1837 - val_loss: 10.7861 - val_mae: 2.5849\n",
            "Epoch 45/250\n",
            "178/178 [==============================] - 28s 154ms/step - loss: 2.3002 - mae: 1.1796 - val_loss: 8.0611 - val_mae: 2.2405\n",
            "Epoch 46/250\n",
            "178/178 [==============================] - 28s 156ms/step - loss: 2.1302 - mae: 1.1370 - val_loss: 11.5528 - val_mae: 2.6241\n",
            "Epoch 47/250\n",
            "178/178 [==============================] - 28s 154ms/step - loss: 2.1159 - mae: 1.1261 - val_loss: 9.5716 - val_mae: 2.4003\n",
            "Epoch 48/250\n",
            "178/178 [==============================] - 28s 153ms/step - loss: 2.1035 - mae: 1.1177 - val_loss: 8.8149 - val_mae: 2.3143\n",
            "Epoch 49/250\n",
            "178/178 [==============================] - 28s 154ms/step - loss: 2.1237 - mae: 1.1247 - val_loss: 9.7428 - val_mae: 2.4293\n",
            "Epoch 50/250\n",
            "178/178 [==============================] - 28s 153ms/step - loss: 2.1162 - mae: 1.1040 - val_loss: 8.2505 - val_mae: 2.2363\n",
            "Epoch 51/250\n",
            "178/178 [==============================] - 28s 153ms/step - loss: 2.1270 - mae: 1.1181 - val_loss: 8.0979 - val_mae: 2.2396\n",
            "Epoch 52/250\n",
            "178/178 [==============================] - 28s 152ms/step - loss: 2.0485 - mae: 1.1145 - val_loss: 12.3290 - val_mae: 2.7136\n",
            "Epoch 53/250\n",
            "178/178 [==============================] - 27s 150ms/step - loss: 1.8866 - mae: 1.0650 - val_loss: 9.7084 - val_mae: 2.4139\n",
            "Epoch 54/250\n",
            "178/178 [==============================] - 27s 151ms/step - loss: 2.0400 - mae: 1.1044 - val_loss: 8.6066 - val_mae: 2.2546\n",
            "Epoch 55/250\n",
            "178/178 [==============================] - 28s 154ms/step - loss: 2.0007 - mae: 1.0903 - val_loss: 6.3254 - val_mae: 1.9774\n",
            "Epoch 56/250\n",
            "178/178 [==============================] - 28s 151ms/step - loss: 3.2008 - mae: 1.3423 - val_loss: 5.8120 - val_mae: 1.8648\n",
            "Epoch 57/250\n",
            "178/178 [==============================] - 28s 153ms/step - loss: 3.1711 - mae: 1.3561 - val_loss: 5.9442 - val_mae: 1.8744\n",
            "Epoch 58/250\n",
            "178/178 [==============================] - 28s 153ms/step - loss: 3.0460 - mae: 1.3199 - val_loss: 6.6122 - val_mae: 1.9678\n",
            "Epoch 59/250\n",
            "178/178 [==============================] - 28s 153ms/step - loss: 3.0798 - mae: 1.3228 - val_loss: 6.7422 - val_mae: 2.0032\n",
            "Epoch 60/250\n",
            "178/178 [==============================] - 28s 155ms/step - loss: 2.8983 - mae: 1.2948 - val_loss: 7.5000 - val_mae: 2.0957\n",
            "Epoch 61/250\n",
            "178/178 [==============================] - 29s 160ms/step - loss: 2.7087 - mae: 1.2557 - val_loss: 7.6748 - val_mae: 2.1101\n",
            "Epoch 62/250\n",
            "178/178 [==============================] - 29s 158ms/step - loss: 2.4929 - mae: 1.2176 - val_loss: 7.4853 - val_mae: 2.0878\n",
            "Epoch 63/250\n",
            "178/178 [==============================] - 24s 132ms/step - loss: 2.4816 - mae: 1.2181 - val_loss: 7.7000 - val_mae: 2.1253\n",
            "Epoch 64/250\n",
            "178/178 [==============================] - 29s 160ms/step - loss: 2.7135 - mae: 1.2500 - val_loss: 9.3084 - val_mae: 2.4219\n",
            "Epoch 65/250\n",
            "178/178 [==============================] - 30s 164ms/step - loss: 2.9901 - mae: 1.3228 - val_loss: 8.9312 - val_mae: 2.3806\n",
            "Epoch 66/250\n",
            "178/178 [==============================] - 28s 156ms/step - loss: 2.7725 - mae: 1.2642 - val_loss: 9.4356 - val_mae: 2.4233\n",
            "Epoch 67/250\n",
            "178/178 [==============================] - 28s 154ms/step - loss: 2.6902 - mae: 1.2524 - val_loss: 8.8892 - val_mae: 2.3588\n",
            "Epoch 68/250\n",
            "178/178 [==============================] - 28s 154ms/step - loss: 2.6282 - mae: 1.2300 - val_loss: 8.0941 - val_mae: 2.2369\n",
            "Epoch 69/250\n",
            "178/178 [==============================] - 28s 157ms/step - loss: 2.6445 - mae: 1.2416 - val_loss: 8.8710 - val_mae: 2.3467\n",
            "Epoch 70/250\n",
            "178/178 [==============================] - 28s 155ms/step - loss: 2.6314 - mae: 1.2359 - val_loss: 8.7824 - val_mae: 2.3442\n",
            "Epoch 71/250\n",
            "178/178 [==============================] - 23s 128ms/step - loss: 2.6234 - mae: 1.2228 - val_loss: 9.4723 - val_mae: 2.4254\n",
            "Epoch 72/250\n",
            "178/178 [==============================] - 28s 153ms/step - loss: 2.5541 - mae: 1.2080 - val_loss: 8.6801 - val_mae: 2.3336\n",
            "Epoch 73/250\n",
            "178/178 [==============================] - 28s 152ms/step - loss: 2.4650 - mae: 1.1880 - val_loss: 9.7493 - val_mae: 2.4487\n",
            "Epoch 74/250\n",
            "178/178 [==============================] - 28s 151ms/step - loss: 2.2653 - mae: 1.1674 - val_loss: 9.6091 - val_mae: 2.4546\n",
            "Epoch 75/250\n",
            "178/178 [==============================] - 27s 148ms/step - loss: 2.3693 - mae: 1.1927 - val_loss: 7.9582 - val_mae: 2.2341\n",
            "Epoch 76/250\n",
            "178/178 [==============================] - 27s 150ms/step - loss: 2.2289 - mae: 1.1633 - val_loss: 7.8746 - val_mae: 2.2119\n",
            "Epoch 77/250\n",
            "178/178 [==============================] - 27s 149ms/step - loss: 2.1888 - mae: 1.1366 - val_loss: 7.9737 - val_mae: 2.1987\n",
            "Epoch 78/250\n",
            "178/178 [==============================] - 28s 151ms/step - loss: 2.0738 - mae: 1.1188 - val_loss: 7.8773 - val_mae: 2.1927\n",
            "Epoch 79/250\n",
            "178/178 [==============================] - 24s 129ms/step - loss: 2.0955 - mae: 1.1272 - val_loss: 10.6868 - val_mae: 2.5047\n",
            "Epoch 80/250\n",
            "178/178 [==============================] - 28s 152ms/step - loss: 2.2051 - mae: 1.1064 - val_loss: 9.6104 - val_mae: 2.4000\n",
            "Epoch 81/250\n",
            "178/178 [==============================] - 27s 149ms/step - loss: 2.0149 - mae: 1.1022 - val_loss: 7.8336 - val_mae: 2.1615\n",
            "Epoch 82/250\n",
            "178/178 [==============================] - 27s 148ms/step - loss: 2.2197 - mae: 1.1325 - val_loss: 10.7688 - val_mae: 2.5226\n",
            "Epoch 83/250\n",
            "178/178 [==============================] - 27s 149ms/step - loss: 2.4387 - mae: 1.1849 - val_loss: 10.4034 - val_mae: 2.4572\n",
            "Epoch 84/250\n",
            "178/178 [==============================] - 28s 152ms/step - loss: 1.9924 - mae: 1.0995 - val_loss: 12.0353 - val_mae: 2.6503\n",
            "Epoch 85/250\n",
            "178/178 [==============================] - 27s 150ms/step - loss: 1.9704 - mae: 1.0876 - val_loss: 10.0180 - val_mae: 2.4395\n",
            "Epoch 86/250\n",
            "178/178 [==============================] - 23s 124ms/step - loss: 1.9655 - mae: 1.0905 - val_loss: 9.5646 - val_mae: 2.3901\n",
            "Epoch 87/250\n",
            "178/178 [==============================] - 28s 152ms/step - loss: 1.8883 - mae: 1.0714 - val_loss: 7.8140 - val_mae: 2.1779\n",
            "Epoch 88/250\n",
            "178/178 [==============================] - 28s 152ms/step - loss: 1.8827 - mae: 1.0685 - val_loss: 8.5495 - val_mae: 2.2793\n",
            "Epoch 89/250\n",
            "178/178 [==============================] - 28s 152ms/step - loss: 2.2485 - mae: 1.1312 - val_loss: 11.1025 - val_mae: 2.5476\n",
            "Epoch 90/250\n",
            "178/178 [==============================] - 28s 153ms/step - loss: 1.9256 - mae: 1.0582 - val_loss: 9.1249 - val_mae: 2.3207\n",
            "Epoch 91/250\n",
            "178/178 [==============================] - 28s 152ms/step - loss: 1.8065 - mae: 1.0400 - val_loss: 9.3448 - val_mae: 2.3553\n",
            "Epoch 92/250\n",
            "178/178 [==============================] - 28s 152ms/step - loss: 1.9745 - mae: 1.0826 - val_loss: 8.6437 - val_mae: 2.2581\n",
            "Epoch 93/250\n",
            "178/178 [==============================] - 28s 153ms/step - loss: 2.0755 - mae: 1.1082 - val_loss: 8.8417 - val_mae: 2.2905\n",
            "Epoch 94/250\n",
            "178/178 [==============================] - 28s 155ms/step - loss: 2.1046 - mae: 1.1064 - val_loss: 8.0594 - val_mae: 2.1927\n",
            "Epoch 95/250\n",
            "178/178 [==============================] - 28s 156ms/step - loss: 2.0493 - mae: 1.0923 - val_loss: 8.0902 - val_mae: 2.1999\n",
            "Epoch 96/250\n",
            "178/178 [==============================] - 28s 155ms/step - loss: 2.0283 - mae: 1.0682 - val_loss: 8.0051 - val_mae: 2.1566\n",
            "Epoch 97/250\n",
            "178/178 [==============================] - 29s 157ms/step - loss: 2.0374 - mae: 1.0882 - val_loss: 7.9018 - val_mae: 2.2061\n",
            "Epoch 98/250\n",
            "178/178 [==============================] - 28s 154ms/step - loss: 1.9145 - mae: 1.0501 - val_loss: 8.4841 - val_mae: 2.2807\n",
            "Epoch 99/250\n",
            "178/178 [==============================] - 24s 132ms/step - loss: 1.9679 - mae: 1.0806 - val_loss: 7.4859 - val_mae: 2.1073\n",
            "Epoch 100/250\n",
            "178/178 [==============================] - 28s 151ms/step - loss: 1.8222 - mae: 1.0425 - val_loss: 6.9340 - val_mae: 2.0151\n",
            "Epoch 101/250\n",
            "178/178 [==============================] - 28s 151ms/step - loss: 1.7955 - mae: 1.0406 - val_loss: 9.3615 - val_mae: 2.3661\n",
            "Epoch 102/250\n",
            "178/178 [==============================] - 28s 155ms/step - loss: 1.8397 - mae: 1.0405 - val_loss: 8.4377 - val_mae: 2.2568\n",
            "Epoch 103/250\n",
            "178/178 [==============================] - 28s 155ms/step - loss: 1.7480 - mae: 1.0188 - val_loss: 9.5089 - val_mae: 2.3950\n",
            "Epoch 104/250\n",
            "178/178 [==============================] - 28s 153ms/step - loss: 1.8588 - mae: 1.0454 - val_loss: 8.6661 - val_mae: 2.2721\n",
            "Epoch 105/250\n",
            "178/178 [==============================] - 28s 154ms/step - loss: 1.8798 - mae: 1.0351 - val_loss: 8.1202 - val_mae: 2.2255\n",
            "Epoch 106/250\n",
            "178/178 [==============================] - 28s 153ms/step - loss: 1.7837 - mae: 1.0327 - val_loss: 6.8407 - val_mae: 2.0230\n",
            "Epoch 107/250\n",
            "178/178 [==============================] - 29s 158ms/step - loss: 1.8124 - mae: 1.0244 - val_loss: 9.2678 - val_mae: 2.3607\n",
            "Epoch 108/250\n",
            "178/178 [==============================] - 28s 154ms/step - loss: 1.6787 - mae: 1.0193 - val_loss: 6.7725 - val_mae: 2.0210\n",
            "Epoch 109/250\n",
            "178/178 [==============================] - 28s 156ms/step - loss: 1.7004 - mae: 1.0140 - val_loss: 8.7012 - val_mae: 2.2907\n",
            "Epoch 110/250\n",
            "178/178 [==============================] - 28s 156ms/step - loss: 1.6881 - mae: 1.0101 - val_loss: 7.0503 - val_mae: 2.0838\n",
            "Epoch 111/250\n",
            "178/178 [==============================] - 28s 155ms/step - loss: 1.8103 - mae: 1.0344 - val_loss: 8.9490 - val_mae: 2.3465\n",
            "Epoch 112/250\n",
            "178/178 [==============================] - 28s 154ms/step - loss: 1.8926 - mae: 1.0555 - val_loss: 7.5956 - val_mae: 2.1636\n",
            "Epoch 113/250\n",
            "178/178 [==============================] - 28s 152ms/step - loss: 1.8068 - mae: 1.0241 - val_loss: 7.4704 - val_mae: 2.1303\n",
            "Epoch 114/250\n",
            "178/178 [==============================] - 28s 153ms/step - loss: 2.0226 - mae: 1.0553 - val_loss: 7.8435 - val_mae: 2.1867\n",
            "Epoch 115/250\n",
            "178/178 [==============================] - 28s 154ms/step - loss: 1.7279 - mae: 1.0213 - val_loss: 7.2314 - val_mae: 2.1324\n",
            "Epoch 116/250\n",
            "178/178 [==============================] - 28s 154ms/step - loss: 1.6258 - mae: 0.9903 - val_loss: 7.6091 - val_mae: 2.1418\n",
            "Epoch 117/250\n",
            "178/178 [==============================] - 28s 154ms/step - loss: 1.7113 - mae: 1.0042 - val_loss: 7.6329 - val_mae: 2.1690\n",
            "Epoch 118/250\n",
            "178/178 [==============================] - 28s 154ms/step - loss: 1.7048 - mae: 1.0064 - val_loss: 7.1766 - val_mae: 2.1144\n",
            "Epoch 119/250\n",
            "178/178 [==============================] - 28s 153ms/step - loss: 1.9088 - mae: 1.0421 - val_loss: 6.1913 - val_mae: 1.9700\n",
            "Epoch 120/250\n",
            "178/178 [==============================] - 28s 154ms/step - loss: 1.8155 - mae: 1.0230 - val_loss: 6.8470 - val_mae: 2.0493\n",
            "Epoch 121/250\n",
            "178/178 [==============================] - 28s 153ms/step - loss: 1.5995 - mae: 0.9791 - val_loss: 5.9505 - val_mae: 1.9386\n",
            "Epoch 122/250\n",
            "178/178 [==============================] - 28s 154ms/step - loss: 1.6341 - mae: 0.9786 - val_loss: 7.7544 - val_mae: 2.1839\n",
            "Epoch 123/250\n",
            "178/178 [==============================] - 27s 151ms/step - loss: 1.7327 - mae: 0.9911 - val_loss: 9.6767 - val_mae: 2.4209\n",
            "Epoch 124/250\n",
            "178/178 [==============================] - 27s 151ms/step - loss: 1.8101 - mae: 1.0124 - val_loss: 6.1723 - val_mae: 1.9602\n",
            "Epoch 125/250\n",
            "178/178 [==============================] - 28s 154ms/step - loss: 1.7224 - mae: 1.0108 - val_loss: 5.9213 - val_mae: 1.9184\n",
            "Epoch 126/250\n",
            "178/178 [==============================] - 28s 152ms/step - loss: 1.6394 - mae: 0.9895 - val_loss: 5.9813 - val_mae: 1.9188\n",
            "Epoch 127/250\n",
            "178/178 [==============================] - 28s 153ms/step - loss: 1.6023 - mae: 0.9740 - val_loss: 6.8726 - val_mae: 2.0535\n",
            "Epoch 128/250\n",
            "178/178 [==============================] - 23s 126ms/step - loss: 1.6685 - mae: 0.9903 - val_loss: 8.1648 - val_mae: 2.0882\n",
            "Epoch 129/250\n",
            "178/178 [==============================] - 24s 129ms/step - loss: 1.6357 - mae: 0.9906 - val_loss: 7.7183 - val_mae: 2.1248\n",
            "Epoch 130/250\n",
            "178/178 [==============================] - 28s 154ms/step - loss: 1.6482 - mae: 0.9937 - val_loss: 8.2584 - val_mae: 2.2274\n",
            "Epoch 131/250\n",
            "178/178 [==============================] - 28s 153ms/step - loss: 2.0514 - mae: 1.1048 - val_loss: 5.3239 - val_mae: 1.7971\n",
            "Epoch 132/250\n",
            "178/178 [==============================] - 28s 151ms/step - loss: 1.7777 - mae: 1.0199 - val_loss: 6.1453 - val_mae: 1.9737\n",
            "Epoch 133/250\n",
            "178/178 [==============================] - 28s 152ms/step - loss: 1.6471 - mae: 0.9858 - val_loss: 8.1994 - val_mae: 2.2006\n",
            "Epoch 134/250\n",
            "178/178 [==============================] - 28s 153ms/step - loss: 1.5312 - mae: 0.9706 - val_loss: 6.4951 - val_mae: 2.0100\n",
            "Epoch 135/250\n",
            "178/178 [==============================] - 28s 153ms/step - loss: 1.6213 - mae: 0.9755 - val_loss: 6.2031 - val_mae: 1.9227\n",
            "Epoch 136/250\n",
            "178/178 [==============================] - 28s 152ms/step - loss: 1.5182 - mae: 0.9523 - val_loss: 6.5974 - val_mae: 1.9736\n",
            "Epoch 137/250\n",
            "178/178 [==============================] - 28s 152ms/step - loss: 1.5713 - mae: 0.9560 - val_loss: 5.9374 - val_mae: 1.8721\n",
            "Epoch 138/250\n",
            "178/178 [==============================] - 28s 153ms/step - loss: 1.5423 - mae: 0.9584 - val_loss: 5.9220 - val_mae: 1.9029\n",
            "Epoch 139/250\n",
            "178/178 [==============================] - 28s 154ms/step - loss: 1.5435 - mae: 0.9654 - val_loss: 7.2384 - val_mae: 2.0992\n",
            "Epoch 140/250\n",
            "178/178 [==============================] - 28s 154ms/step - loss: 1.4665 - mae: 0.9414 - val_loss: 5.4038 - val_mae: 1.8412\n",
            "Epoch 141/250\n",
            "178/178 [==============================] - 28s 153ms/step - loss: 1.5370 - mae: 0.9423 - val_loss: 4.7100 - val_mae: 1.7294\n",
            "Epoch 142/250\n",
            "178/178 [==============================] - 28s 152ms/step - loss: 1.4303 - mae: 0.9323 - val_loss: 5.2352 - val_mae: 1.7862\n",
            "Epoch 143/250\n",
            "178/178 [==============================] - 28s 153ms/step - loss: 1.4395 - mae: 0.9244 - val_loss: 7.4230 - val_mae: 2.1255\n",
            "Epoch 144/250\n",
            "178/178 [==============================] - 28s 153ms/step - loss: 1.5986 - mae: 0.9511 - val_loss: 9.7289 - val_mae: 2.4330\n",
            "Epoch 145/250\n",
            "178/178 [==============================] - 28s 153ms/step - loss: 1.5644 - mae: 0.9490 - val_loss: 5.1798 - val_mae: 1.7778\n",
            "Epoch 146/250\n",
            "178/178 [==============================] - 28s 154ms/step - loss: 1.4111 - mae: 0.9234 - val_loss: 5.9226 - val_mae: 1.8916\n",
            "Epoch 147/250\n",
            "178/178 [==============================] - 28s 152ms/step - loss: 1.4062 - mae: 0.9171 - val_loss: 5.5456 - val_mae: 1.8478\n",
            "Epoch 148/250\n",
            "178/178 [==============================] - 28s 151ms/step - loss: 1.3956 - mae: 0.9067 - val_loss: 5.3748 - val_mae: 1.8206\n",
            "Epoch 149/250\n",
            "178/178 [==============================] - 27s 150ms/step - loss: 1.5649 - mae: 0.9625 - val_loss: 8.2041 - val_mae: 2.2651\n",
            "Epoch 150/250\n",
            "178/178 [==============================] - 28s 151ms/step - loss: 1.6708 - mae: 0.9949 - val_loss: 10.3231 - val_mae: 2.4609\n",
            "Epoch 151/250\n",
            "178/178 [==============================] - 28s 152ms/step - loss: 1.6978 - mae: 0.9888 - val_loss: 4.6458 - val_mae: 1.6885\n",
            "Epoch 152/250\n",
            "178/178 [==============================] - 27s 149ms/step - loss: 1.5006 - mae: 0.9309 - val_loss: 8.0221 - val_mae: 2.1865\n",
            "Epoch 153/250\n",
            "178/178 [==============================] - 27s 150ms/step - loss: 1.5293 - mae: 0.9314 - val_loss: 5.1491 - val_mae: 1.7744\n",
            "Epoch 154/250\n",
            "178/178 [==============================] - 27s 149ms/step - loss: 1.3998 - mae: 0.9114 - val_loss: 5.5085 - val_mae: 1.8132\n",
            "Epoch 155/250\n",
            "178/178 [==============================] - 27s 150ms/step - loss: 1.3460 - mae: 0.8987 - val_loss: 6.1615 - val_mae: 1.9279\n",
            "Epoch 156/250\n",
            "178/178 [==============================] - 28s 152ms/step - loss: 1.3615 - mae: 0.9076 - val_loss: 5.9775 - val_mae: 1.9503\n",
            "Epoch 157/250\n",
            "178/178 [==============================] - 28s 153ms/step - loss: 1.4203 - mae: 0.9005 - val_loss: 6.3206 - val_mae: 1.9646\n",
            "Epoch 158/250\n",
            "178/178 [==============================] - 28s 152ms/step - loss: 1.5548 - mae: 0.9365 - val_loss: 7.1861 - val_mae: 2.0865\n",
            "Epoch 159/250\n",
            "178/178 [==============================] - 28s 152ms/step - loss: 1.2901 - mae: 0.8839 - val_loss: 6.6580 - val_mae: 2.0345\n",
            "Epoch 160/250\n",
            "178/178 [==============================] - 27s 151ms/step - loss: 1.3287 - mae: 0.8887 - val_loss: 6.7588 - val_mae: 2.0213\n",
            "Epoch 161/250\n",
            "178/178 [==============================] - 28s 154ms/step - loss: 1.3864 - mae: 0.9214 - val_loss: 6.0185 - val_mae: 1.9252\n",
            "Epoch 162/250\n",
            "178/178 [==============================] - 28s 152ms/step - loss: 1.3406 - mae: 0.8825 - val_loss: 5.3471 - val_mae: 1.7308\n",
            "Epoch 163/250\n",
            "178/178 [==============================] - 28s 154ms/step - loss: 1.2931 - mae: 0.8795 - val_loss: 4.9300 - val_mae: 1.7066\n",
            "Epoch 164/250\n",
            "178/178 [==============================] - 28s 153ms/step - loss: 1.3937 - mae: 0.8855 - val_loss: 4.9043 - val_mae: 1.6814\n",
            "Epoch 165/250\n",
            "178/178 [==============================] - 28s 154ms/step - loss: 1.4254 - mae: 0.8916 - val_loss: 5.2623 - val_mae: 1.7689\n",
            "Epoch 166/250\n",
            "178/178 [==============================] - 28s 154ms/step - loss: 1.3188 - mae: 0.8911 - val_loss: 7.1640 - val_mae: 2.1306\n",
            "Epoch 167/250\n",
            "178/178 [==============================] - 28s 153ms/step - loss: 1.3856 - mae: 0.8894 - val_loss: 31.0591 - val_mae: 4.5428\n",
            "Epoch 168/250\n",
            "178/178 [==============================] - 28s 153ms/step - loss: 2.0824 - mae: 1.0749 - val_loss: 7.5929 - val_mae: 2.2270\n",
            "Epoch 169/250\n",
            "178/178 [==============================] - 28s 154ms/step - loss: 2.2102 - mae: 1.0733 - val_loss: 6.7356 - val_mae: 2.0440\n",
            "Epoch 170/250\n",
            "178/178 [==============================] - 28s 153ms/step - loss: 2.2503 - mae: 1.0674 - val_loss: 4.9376 - val_mae: 1.7179\n",
            "Epoch 171/250\n",
            "178/178 [==============================] - 28s 153ms/step - loss: 2.0548 - mae: 1.0241 - val_loss: 8.4888 - val_mae: 2.3545\n",
            "Epoch 172/250\n",
            "178/178 [==============================] - 29s 157ms/step - loss: 2.1237 - mae: 1.0243 - val_loss: 9.4913 - val_mae: 2.4650\n",
            "Epoch 173/250\n",
            "178/178 [==============================] - 28s 154ms/step - loss: 2.0089 - mae: 1.0082 - val_loss: 8.6509 - val_mae: 2.2951\n",
            "Epoch 174/250\n",
            "178/178 [==============================] - 28s 154ms/step - loss: 1.9839 - mae: 1.0078 - val_loss: 6.3239 - val_mae: 1.9307\n",
            "Epoch 175/250\n",
            "178/178 [==============================] - 28s 153ms/step - loss: 2.0725 - mae: 1.0117 - val_loss: 5.5461 - val_mae: 1.8161\n",
            "Epoch 176/250\n",
            "178/178 [==============================] - 28s 154ms/step - loss: 1.9661 - mae: 0.9919 - val_loss: 6.1339 - val_mae: 1.8704\n",
            "Epoch 177/250\n",
            "178/178 [==============================] - 24s 130ms/step - loss: 1.8761 - mae: 0.9866 - val_loss: 5.1333 - val_mae: 1.7124\n",
            "Epoch 178/250\n",
            "178/178 [==============================] - 28s 154ms/step - loss: 1.7400 - mae: 0.9574 - val_loss: 6.2116 - val_mae: 1.9077\n",
            "Epoch 179/250\n",
            "178/178 [==============================] - 28s 154ms/step - loss: 1.8283 - mae: 0.9646 - val_loss: 5.4539 - val_mae: 1.7724\n",
            "Epoch 180/250\n",
            "178/178 [==============================] - 28s 153ms/step - loss: 1.7732 - mae: 0.9586 - val_loss: 4.6367 - val_mae: 1.6457\n",
            "Epoch 181/250\n",
            "178/178 [==============================] - 28s 154ms/step - loss: 1.6626 - mae: 0.9451 - val_loss: 7.1509 - val_mae: 2.0715\n",
            "Epoch 182/250\n",
            "178/178 [==============================] - 28s 154ms/step - loss: 1.7614 - mae: 0.9595 - val_loss: 5.3544 - val_mae: 1.7656\n",
            "Epoch 183/250\n",
            "178/178 [==============================] - 28s 154ms/step - loss: 1.6385 - mae: 0.9436 - val_loss: 6.2047 - val_mae: 1.8389\n",
            "Epoch 184/250\n",
            "178/178 [==============================] - 28s 154ms/step - loss: 1.6929 - mae: 0.9524 - val_loss: 5.8374 - val_mae: 1.8155\n",
            "Epoch 185/250\n",
            "178/178 [==============================] - 28s 154ms/step - loss: 2.2135 - mae: 1.0046 - val_loss: 6.5913 - val_mae: 1.9264\n",
            "Epoch 186/250\n",
            "178/178 [==============================] - 28s 156ms/step - loss: 3.1440 - mae: 1.2766 - val_loss: 5.7686 - val_mae: 1.7904\n",
            "Epoch 187/250\n",
            "178/178 [==============================] - 28s 154ms/step - loss: 2.2994 - mae: 1.1254 - val_loss: 5.7394 - val_mae: 1.7821\n",
            "Epoch 188/250\n",
            "178/178 [==============================] - 28s 156ms/step - loss: 2.3018 - mae: 1.1181 - val_loss: 5.8367 - val_mae: 1.8013\n",
            "Epoch 189/250\n",
            "178/178 [==============================] - 28s 154ms/step - loss: 1.9258 - mae: 1.0269 - val_loss: 6.3620 - val_mae: 1.8743\n",
            "Epoch 190/250\n",
            "178/178 [==============================] - 28s 154ms/step - loss: 1.8848 - mae: 1.0251 - val_loss: 6.4649 - val_mae: 1.8851\n",
            "Epoch 191/250\n",
            "178/178 [==============================] - 28s 154ms/step - loss: 2.0047 - mae: 1.0322 - val_loss: 7.8474 - val_mae: 2.0680\n",
            "Epoch 192/250\n",
            "178/178 [==============================] - 28s 154ms/step - loss: 1.9256 - mae: 1.0306 - val_loss: 6.7313 - val_mae: 1.9418\n",
            "Epoch 193/250\n",
            "178/178 [==============================] - 28s 153ms/step - loss: 2.3196 - mae: 1.0759 - val_loss: 9.4654 - val_mae: 2.3120\n",
            "Epoch 194/250\n",
            "178/178 [==============================] - 23s 128ms/step - loss: 3.4091 - mae: 1.2042 - val_loss: 5.9907 - val_mae: 1.8174\n",
            "Epoch 195/250\n",
            "178/178 [==============================] - 28s 152ms/step - loss: 3.1284 - mae: 1.1821 - val_loss: 5.8084 - val_mae: 1.8161\n",
            "Epoch 196/250\n",
            "178/178 [==============================] - 28s 152ms/step - loss: 2.8956 - mae: 1.1282 - val_loss: 6.0133 - val_mae: 1.8369\n",
            "Epoch 197/250\n",
            "178/178 [==============================] - 28s 153ms/step - loss: 2.6474 - mae: 1.1202 - val_loss: 6.3400 - val_mae: 1.8850\n",
            "Epoch 198/250\n",
            "178/178 [==============================] - 27s 151ms/step - loss: 2.6172 - mae: 1.1831 - val_loss: 5.1921 - val_mae: 1.7567\n",
            "Epoch 199/250\n",
            "178/178 [==============================] - 28s 152ms/step - loss: 6.1176 - mae: 1.6394 - val_loss: 6.2520 - val_mae: 1.8715\n",
            "Epoch 200/250\n",
            "178/178 [==============================] - 23s 126ms/step - loss: 5.5433 - mae: 1.5173 - val_loss: 7.1511 - val_mae: 1.9909\n",
            "Epoch 201/250\n",
            "178/178 [==============================] - 27s 150ms/step - loss: 4.9836 - mae: 1.4415 - val_loss: 6.0666 - val_mae: 1.8175\n",
            "Epoch 202/250\n",
            "178/178 [==============================] - 27s 149ms/step - loss: 4.9309 - mae: 1.4369 - val_loss: 6.1484 - val_mae: 1.8538\n",
            "Epoch 203/250\n",
            "178/178 [==============================] - 28s 151ms/step - loss: 4.3684 - mae: 1.3432 - val_loss: 7.2655 - val_mae: 2.0160\n",
            "Epoch 204/250\n",
            "178/178 [==============================] - 28s 153ms/step - loss: 4.8142 - mae: 1.3984 - val_loss: 7.8761 - val_mae: 2.1194\n",
            "Epoch 205/250\n",
            "178/178 [==============================] - 28s 153ms/step - loss: 4.2355 - mae: 1.4427 - val_loss: 8.8960 - val_mae: 2.2591\n",
            "Epoch 206/250\n",
            "178/178 [==============================] - 28s 152ms/step - loss: 3.9983 - mae: 1.3947 - val_loss: 10.1287 - val_mae: 2.3908\n",
            "Epoch 207/250\n",
            "178/178 [==============================] - 28s 154ms/step - loss: 3.7070 - mae: 1.3373 - val_loss: 10.9036 - val_mae: 2.4763\n",
            "Epoch 208/250\n",
            "178/178 [==============================] - 28s 154ms/step - loss: 3.5771 - mae: 1.2952 - val_loss: 9.1233 - val_mae: 2.2548\n",
            "Epoch 209/250\n",
            "178/178 [==============================] - 28s 154ms/step - loss: 3.5059 - mae: 1.2693 - val_loss: 9.3436 - val_mae: 2.2685\n",
            "Epoch 210/250\n",
            "178/178 [==============================] - 28s 154ms/step - loss: 3.1492 - mae: 1.2407 - val_loss: 9.8982 - val_mae: 2.3347\n",
            "Epoch 211/250\n",
            "178/178 [==============================] - 28s 156ms/step - loss: 3.1395 - mae: 1.2118 - val_loss: 9.7362 - val_mae: 2.3223\n",
            "Epoch 212/250\n",
            "178/178 [==============================] - 24s 131ms/step - loss: 2.9095 - mae: 1.1761 - val_loss: 10.7780 - val_mae: 2.4228\n",
            "Epoch 213/250\n",
            "178/178 [==============================] - 28s 153ms/step - loss: 3.1355 - mae: 1.1882 - val_loss: 10.2958 - val_mae: 2.3793\n",
            "Epoch 214/250\n",
            "178/178 [==============================] - 28s 156ms/step - loss: 2.6278 - mae: 1.1565 - val_loss: 10.3135 - val_mae: 2.4042\n",
            "Epoch 215/250\n",
            "178/178 [==============================] - 28s 154ms/step - loss: 2.7815 - mae: 1.1517 - val_loss: 11.1924 - val_mae: 2.4862\n",
            "Epoch 216/250\n",
            "178/178 [==============================] - 28s 154ms/step - loss: 2.4810 - mae: 1.1086 - val_loss: 9.1627 - val_mae: 2.2691\n",
            "Epoch 217/250\n",
            "178/178 [==============================] - 28s 152ms/step - loss: 2.6014 - mae: 1.1387 - val_loss: 9.0020 - val_mae: 2.2652\n",
            "Epoch 218/250\n",
            "178/178 [==============================] - 27s 151ms/step - loss: 2.6818 - mae: 1.1240 - val_loss: 9.1601 - val_mae: 2.2944\n",
            "Epoch 219/250\n",
            "178/178 [==============================] - 28s 153ms/step - loss: 2.4010 - mae: 1.0907 - val_loss: 8.6993 - val_mae: 2.2148\n",
            "Epoch 220/250\n",
            "178/178 [==============================] - 27s 151ms/step - loss: 2.6518 - mae: 1.0994 - val_loss: 7.7785 - val_mae: 2.0997\n",
            "Epoch 221/250\n",
            "178/178 [==============================] - 28s 152ms/step - loss: 3.3729 - mae: 1.1552 - val_loss: 8.5006 - val_mae: 2.1821\n",
            "Epoch 222/250\n",
            "178/178 [==============================] - 28s 153ms/step - loss: 3.1678 - mae: 1.1224 - val_loss: 7.5551 - val_mae: 2.1045\n",
            "Epoch 223/250\n",
            "178/178 [==============================] - 28s 155ms/step - loss: 3.3701 - mae: 1.1427 - val_loss: 6.9172 - val_mae: 1.9979\n",
            "Epoch 224/250\n",
            "178/178 [==============================] - 28s 155ms/step - loss: 3.5000 - mae: 1.1350 - val_loss: 7.1810 - val_mae: 2.0541\n",
            "Epoch 225/250\n",
            "178/178 [==============================] - 28s 154ms/step - loss: 3.3031 - mae: 1.1299 - val_loss: 8.4410 - val_mae: 2.1933\n",
            "Epoch 226/250\n",
            "178/178 [==============================] - 27s 151ms/step - loss: 3.2981 - mae: 1.1223 - val_loss: 6.9373 - val_mae: 2.0154\n",
            "Epoch 227/250\n",
            "178/178 [==============================] - 28s 154ms/step - loss: 2.9014 - mae: 1.0853 - val_loss: 6.9670 - val_mae: 2.0328\n",
            "Epoch 228/250\n",
            "178/178 [==============================] - 28s 153ms/step - loss: 2.7900 - mae: 1.0801 - val_loss: 7.8139 - val_mae: 2.1075\n",
            "Epoch 229/250\n",
            "178/178 [==============================] - 28s 152ms/step - loss: 2.4524 - mae: 1.0506 - val_loss: 7.3728 - val_mae: 2.0897\n",
            "Epoch 230/250\n",
            "178/178 [==============================] - 28s 155ms/step - loss: 1.9831 - mae: 0.9988 - val_loss: 6.5070 - val_mae: 1.9492\n",
            "Epoch 231/250\n",
            "178/178 [==============================] - 28s 153ms/step - loss: 1.9016 - mae: 0.9894 - val_loss: 6.5913 - val_mae: 1.9845\n",
            "Epoch 232/250\n",
            "178/178 [==============================] - 27s 151ms/step - loss: 2.0092 - mae: 0.9670 - val_loss: 7.5765 - val_mae: 2.1050\n",
            "Epoch 233/250\n",
            "178/178 [==============================] - 27s 151ms/step - loss: 3.5481 - mae: 1.1532 - val_loss: 7.7521 - val_mae: 2.0917\n",
            "Epoch 234/250\n",
            "178/178 [==============================] - 23s 125ms/step - loss: 3.7809 - mae: 1.1573 - val_loss: 5.9923 - val_mae: 1.8534\n",
            "Epoch 235/250\n",
            "178/178 [==============================] - 27s 148ms/step - loss: 3.9702 - mae: 1.1570 - val_loss: 4.7193 - val_mae: 1.6616\n",
            "Epoch 236/250\n",
            "178/178 [==============================] - 27s 147ms/step - loss: 2.9540 - mae: 1.0829 - val_loss: 4.7860 - val_mae: 1.6908\n",
            "Epoch 237/250\n",
            "178/178 [==============================] - 27s 147ms/step - loss: 3.1408 - mae: 1.0974 - val_loss: 6.4006 - val_mae: 1.9109\n",
            "Epoch 238/250\n",
            "178/178 [==============================] - 27s 147ms/step - loss: 2.8290 - mae: 1.1076 - val_loss: 23.1086 - val_mae: 3.6955\n",
            "Epoch 239/250\n",
            "178/178 [==============================] - 27s 148ms/step - loss: 3.4766 - mae: 1.1721 - val_loss: 7.2648 - val_mae: 1.9793\n",
            "Epoch 240/250\n",
            "178/178 [==============================] - 27s 149ms/step - loss: 3.2635 - mae: 1.1747 - val_loss: 6.5592 - val_mae: 1.9256\n",
            "Epoch 241/250\n",
            "178/178 [==============================] - 28s 155ms/step - loss: 2.7277 - mae: 1.1212 - val_loss: 6.2203 - val_mae: 1.9191\n",
            "Epoch 242/250\n",
            "178/178 [==============================] - 28s 153ms/step - loss: 3.0114 - mae: 1.0903 - val_loss: 7.0111 - val_mae: 2.0208\n",
            "Epoch 243/250\n",
            "178/178 [==============================] - 28s 155ms/step - loss: 4.3104 - mae: 1.2154 - val_loss: 8.7509 - val_mae: 2.2280\n",
            "Epoch 244/250\n",
            "178/178 [==============================] - 28s 154ms/step - loss: 5.4915 - mae: 1.3231 - val_loss: 7.4534 - val_mae: 2.0598\n",
            "Epoch 245/250\n",
            "178/178 [==============================] - 28s 154ms/step - loss: 4.8477 - mae: 1.2647 - val_loss: 6.9726 - val_mae: 2.0224\n",
            "Epoch 246/250\n",
            "178/178 [==============================] - 28s 154ms/step - loss: 4.5103 - mae: 1.2315 - val_loss: 6.1934 - val_mae: 1.8800\n",
            "Epoch 247/250\n",
            "178/178 [==============================] - 28s 152ms/step - loss: 3.3462 - mae: 1.1343 - val_loss: 8.5672 - val_mae: 2.2225\n",
            "Epoch 248/250\n",
            "178/178 [==============================] - 28s 152ms/step - loss: 3.4073 - mae: 1.1305 - val_loss: 8.8829 - val_mae: 2.2446\n",
            "Epoch 249/250\n",
            "178/178 [==============================] - 27s 151ms/step - loss: 3.9384 - mae: 1.2150 - val_loss: 6.0528 - val_mae: 1.9039\n",
            "Epoch 250/250\n",
            "178/178 [==============================] - 28s 152ms/step - loss: 2.8068 - mae: 1.1431 - val_loss: 6.9965 - val_mae: 2.0056\n"
          ]
        }
      ]
    },
    {
      "cell_type": "code",
      "source": [
        "loss = history.history['loss']\n",
        "val_loss = history.history['val_loss']\n",
        "mae = history.history['mae']\n",
        "val_mae = history.history['val_mae']\n",
        "\n",
        "\n",
        "epochs_x = range(len(loss))\n",
        "\n",
        "\n",
        "# plt.plot(epochs_x, mae, 'go', label='Training MAE')\n",
        "plt.plot(epochs_x, mae, 'o', color ='darkviolet', label='Training MAE')\n",
        "plt.plot(epochs_x, val_mae, 'k', label='Validation MAE')\n",
        "plt.title('Training and validation MeanAbsoluteError')\n",
        "plt.legend()\n",
        "\n",
        "plt.figure()\n",
        "# plt.plot(epochs_x, loss, 'go', label='Training loss')\n",
        "plt.plot(epochs_x, loss, 'o', color ='darkviolet', label='Training loss')\n",
        "plt.plot(epochs_x, val_loss, 'k', label='Validation loss')\n",
        "plt.title('Training and validation loss')\n",
        "plt.legend()\n",
        "\n",
        "plt.show()"
      ],
      "metadata": {
        "id": "Y3K89-CM-dfg",
        "colab": {
          "base_uri": "https://localhost:8080/",
          "height": 887
        },
        "outputId": "dbc84d22-9a96-4cab-888e-3d02c27a818b"
      },
      "execution_count": null,
      "outputs": [
        {
          "output_type": "display_data",
          "data": {
            "text/plain": [
              "<Figure size 640x480 with 1 Axes>"
            ],
            "image/png": "[encoded data removed]"
          },
          "metadata": {}
        },
        {
          "output_type": "display_data",
          "data": {
            "text/plain": [
              "<Figure size 640x480 with 1 Axes>"
            ],
            "image/png": "[encoded data removed]"
          },
          "metadata": {}
        }
      ]
    },
    {
      "cell_type": "code",
      "source": [
        "epochs_x"
      ],
      "metadata": {
        "id": "N_sP_ZmSY-Jv",
        "colab": {
          "base_uri": "https://localhost:8080/"
        },
        "outputId": "df0583d6-1b63-4c83-ad17-d28966564cb1"
      },
      "execution_count": null,
      "outputs": [
        {
          "output_type": "execute_result",
          "data": {
            "text/plain": [
              "range(0, 250)"
            ]
          },
          "metadata": {},
          "execution_count": 18
        }
      ]
    },
    {
      "cell_type": "markdown",
      "source": [
        "#Download the model\n"
      ],
      "metadata": {
        "id": "R19IJQSYoW7J"
      }
    },
    {
      "cell_type": "code",
      "source": [
        "os.makedirs('/content/drive/My Drive/cut_panoramic/Model', exist_ok=True)\n",
        "model.save('/content/drive/My Drive/All_File_Lt/Model/Regression/5/5.5_(4e-4)AR5_Unfreeze_250_Lt.h5')"
      ],
      "metadata": {
        "id": "Zed4TdFcG2iJ"
      },
      "execution_count": null,
      "outputs": []
    },
    {
      "cell_type": "markdown",
      "source": [],
      "metadata": {
        "id": "n5YxZ-5QjQ0-"
      }
    },
    {
      "cell_type": "code",
      "source": [
        "# from google.colab import files\n",
        "# files.download('/content/drive/My Drive/cut_panoramic/Model/1.1_รอบแรก_Flimpano_Male125_250.h5')"
      ],
      "metadata": {
        "id": "P5eMxm1NV-oY"
      },
      "execution_count": null,
      "outputs": []
    },
    {
      "cell_type": "code",
      "source": [
        "\n"
      ],
      "metadata": {
        "id": "wY_pDlxkRwxS"
      },
      "execution_count": null,
      "outputs": []
    },
    {
      "cell_type": "code",
      "source": [],
      "metadata": {
        "id": "bwanKzbTjUeu"
      },
      "execution_count": null,
      "outputs": []
    }
  ]
}
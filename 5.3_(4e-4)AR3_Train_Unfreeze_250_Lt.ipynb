{
  "nbformat": 4,
  "nbformat_minor": 0,
  "metadata": {
    "colab": {
      "provenance": [],
      "machine_shape": "hm",
      "include_colab_link": true
    },
    "kernelspec": {
      "name": "python3",
      "display_name": "Python 3"
    },
    "language_info": {
      "name": "python"
    },
    "accelerator": "GPU",
    "gpuClass": "standard"
  },
  "cells": [
    {
      "cell_type": "markdown",
      "metadata": {
        "id": "view-in-github",
        "colab_type": "text"
      },
      "source": [
        "<a href=\"https://colab.research.google.com/github/Wanita-8943/My_Main_Project_Lt-/blob/main/5.3_(4e-4)AR3_Train_Unfreeze_250_Lt.ipynb\" target=\"_parent\"><img src=\"https://colab.research.google.com/assets/colab-badge.svg\" alt=\"Open In Colab\"/></a>"
      ]
    },
    {
      "cell_type": "markdown",
      "source": [
        "#เรียกใช้ CSV"
      ],
      "metadata": {
        "id": "ow7eWoNw6U-c"
      }
    },
    {
      "cell_type": "code",
      "execution_count": null,
      "metadata": {
        "id": "z8o_VVNXzcL8"
      },
      "outputs": [],
      "source": [
        "import pandas as pd\n",
        "import shutil"
      ]
    },
    {
      "cell_type": "code",
      "source": [
        "from google.colab import drive\n",
        "drive.mount('/content/drive')"
      ],
      "metadata": {
        "colab": {
          "base_uri": "https://localhost:8080/"
        },
        "id": "1_2Fe8u81d5r",
        "outputId": "d11ea0ec-9941-4697-faf3-0195de97b682"
      },
      "execution_count": null,
      "outputs": [
        {
          "output_type": "stream",
          "name": "stdout",
          "text": [
            "Mounted at /content/drive\n"
          ]
        }
      ]
    },
    {
      "cell_type": "markdown",
      "source": [
        "#Imports"
      ],
      "metadata": {
        "id": "5qxePnnn7TGW"
      }
    },
    {
      "cell_type": "code",
      "source": [
        "from tensorflow.keras import models\n",
        "from tensorflow.keras import layers\n",
        "from tensorflow.keras import optimizers\n",
        "import os\n",
        "import glob\n",
        "import shutil\n",
        "import sys\n",
        "import numpy as np\n",
        "from skimage.io import imread\n",
        "import matplotlib.pyplot as plt\n",
        "from IPython.display import Image\n",
        "%matplotlib inline"
      ],
      "metadata": {
        "id": "D-hCRloc3t39"
      },
      "execution_count": null,
      "outputs": []
    },
    {
      "cell_type": "code",
      "source": [
        "import tensorflow as tf\n",
        "from tensorflow.keras import Sequential\n",
        "from tensorflow.keras.layers import Dense\n",
        "from tensorflow.keras.optimizers import Adam\n",
        "from tensorflow.keras import backend as K"
      ],
      "metadata": {
        "id": "YZWXwjXeGxZP"
      },
      "execution_count": null,
      "outputs": []
    },
    {
      "cell_type": "markdown",
      "source": [
        "#กำหนดค่าพารามิเตอร์\n"
      ],
      "metadata": {
        "id": "RooqSdBc7QHC"
      }
    },
    {
      "cell_type": "code",
      "source": [
        "batch_size = 16\n",
        "width = 150\n",
        "height = 150\n",
        "epochs = 250\n",
        "NUM_TRAIN = 2850\n",
        "NUM_TEST = 950\n",
        "dropout_rate = 0.2\n",
        "input_shape = (height, width, 3)"
      ],
      "metadata": {
        "id": "thDb7U9B3xOo"
      },
      "execution_count": null,
      "outputs": []
    },
    {
      "cell_type": "markdown",
      "source": [
        "#Clone efficientnet repo\n"
      ],
      "metadata": {
        "id": "pumGmy6f3eSW"
      }
    },
    {
      "cell_type": "code",
      "source": [
        "#ดึงข้อมูลใน Github มาใช้\n",
        "import os\n",
        "%cd /content\n",
        "if not os.path.isdir(\"efficientnet_keras_transfer_learning\"):\n",
        " !git clone https://github.com/Wanita-8943/efficientnet_keras_transfer_learning\n",
        "%cd efficientnet_keras_transfer_learning/\n"
      ],
      "metadata": {
        "colab": {
          "base_uri": "https://localhost:8080/"
        },
        "id": "P7iy2f8n16p0",
        "outputId": "a963708b-f53a-4dbd-b219-28be4ca32c62"
      },
      "execution_count": null,
      "outputs": [
        {
          "output_type": "stream",
          "name": "stdout",
          "text": [
            "/content\n",
            "Cloning into 'efficientnet_keras_transfer_learning'...\n",
            "remote: Enumerating objects: 1085, done.\u001b[K\n",
            "remote: Counting objects: 100% (248/248), done.\u001b[K\n",
            "remote: Compressing objects: 100% (127/127), done.\u001b[K\n",
            "remote: Total 1085 (delta 124), reused 241 (delta 121), pack-reused 837\u001b[K\n",
            "Receiving objects: 100% (1085/1085), 14.09 MiB | 33.56 MiB/s, done.\n",
            "Resolving deltas: 100% (621/621), done.\n",
            "/content/efficientnet_keras_transfer_learning\n"
          ]
        }
      ]
    },
    {
      "cell_type": "code",
      "source": [
        "# Options: EfficientNetB0, EfficientNetB1, EfficientNetB2, EfficientNetB3\n",
        "# Higher the number, the more complex the model is.\n",
        "from efficientnet import EfficientNetB0 as Net\n",
        "from efficientnet import center_crop_and_resize, preprocess_input"
      ],
      "metadata": {
        "id": "tjZBRnfo3bN0"
      },
      "execution_count": null,
      "outputs": []
    },
    {
      "cell_type": "code",
      "source": [
        "# loading pretrained conv base model\n",
        "# โหลดโมเดล มาโดยตัด output ของโมเดลออก เเต่ยังใช้ input อันเดิม\n",
        "# เเละโหลด weight ของโมเดล มาด้วยที่ชื่อว่า imagenet\n",
        "conv_base = Net(weights='imagenet', include_top=False, input_shape=input_shape)"
      ],
      "metadata": {
        "colab": {
          "base_uri": "https://localhost:8080/"
        },
        "id": "-KXyJhN3DjTd",
        "outputId": "334cd7c0-447c-4b48-e3fd-dfedc37ccf20"
      },
      "execution_count": null,
      "outputs": [
        {
          "output_type": "stream",
          "name": "stdout",
          "text": [
            "Downloading data from https://github.com/qubvel/efficientnet/releases/download/v0.0.1/efficientnet-b0_imagenet_1000_notop.h5\n",
            "16717576/16717576 [==============================] - 0s 0us/step\n"
          ]
        }
      ]
    },
    {
      "cell_type": "markdown",
      "source": [
        "#load model\n"
      ],
      "metadata": {
        "id": "gUXNvjTfg97D"
      }
    },
    {
      "cell_type": "code",
      "source": [
        "import sys\n",
        "sys.path.append('/content/drive/My Drive/All_File_Lt/Model/Regression/5/5.2_(4e-4)AR2_Freeze_250_Lt.h5')\n",
        "\n",
        "from efficientnet.layers import Swish, DropConnect\n",
        "from efficientnet.model import ConvKernalInitializer\n",
        "from tensorflow.keras.utils import get_custom_objects\n",
        "\n",
        "get_custom_objects().update({\n",
        "    'ConvKernalInitializer': ConvKernalInitializer,\n",
        "    'Swish': Swish,\n",
        "    'DropConnect':DropConnect\n",
        "})"
      ],
      "metadata": {
        "id": "tdEdMUM6g8-K"
      },
      "execution_count": null,
      "outputs": []
    },
    {
      "cell_type": "code",
      "source": [
        "#load model \n",
        "from tensorflow.keras.models import load_model\n",
        "model = load_model('/content/drive/My Drive/All_File_Lt/Model/Regression/5/5.2_(4e-4)AR2_Freeze_250_Lt.h5')\n",
        "height = width = model.input_shape[1]"
      ],
      "metadata": {
        "id": "51y00AmKhFVp"
      },
      "execution_count": null,
      "outputs": []
    },
    {
      "cell_type": "code",
      "source": [
        "model.summary()"
      ],
      "metadata": {
        "colab": {
          "base_uri": "https://localhost:8080/"
        },
        "id": "veq6Mp-GYE2V",
        "outputId": "3c24f47e-9e6a-40df-97c3-0040ca501dc9"
      },
      "execution_count": null,
      "outputs": [
        {
          "output_type": "stream",
          "name": "stdout",
          "text": [
            "Model: \"sequential\"\n",
            "_________________________________________________________________\n",
            " Layer (type)                Output Shape              Param #   \n",
            "=================================================================\n",
            " efficientnet-b0 (Functional  (None, 5, 5, 1280)       4049564   \n",
            " )                                                               \n",
            "                                                                 \n",
            " gap (GlobalMaxPooling2D)    (None, 1280)              0         \n",
            "                                                                 \n",
            " dropout_out (Dropout)       (None, 1280)              0         \n",
            "                                                                 \n",
            " fc_out (Dense)              (None, 19)                24339     \n",
            "                                                                 \n",
            " dense (Dense)               (None, 1)                 20        \n",
            "                                                                 \n",
            "=================================================================\n",
            "Total params: 4,073,923\n",
            "Trainable params: 24,359\n",
            "Non-trainable params: 4,049,564\n",
            "_________________________________________________________________\n"
          ]
        }
      ]
    },
    {
      "cell_type": "markdown",
      "source": [
        "#สร้างโฟลเดอร์ Train Valodation และ Test"
      ],
      "metadata": {
        "id": "J36J9EAE7qSB"
      }
    },
    {
      "cell_type": "code",
      "source": [
        "df = pd.read_csv (r'/content/drive/MyDrive/All_File_Lt/Data/All_Data_Lt.csv')\n",
        "df"
      ],
      "metadata": {
        "colab": {
          "base_uri": "https://localhost:8080/",
          "height": 424
        },
        "id": "skoKhKJDngAZ",
        "outputId": "301cc7e1-ecf3-4bb4-ebed-308d36326754"
      },
      "execution_count": null,
      "outputs": [
        {
          "output_type": "execute_result",
          "data": {
            "text/plain": [
              "      Fig_Age  Fig_Person Class_Age+Gender Class_Age  Class_0-18  Age(year)  \\\n",
              "0           1           1             Y07F       Y07           0          7   \n",
              "1           2           1             Y07F       Y07           0          7   \n",
              "2           3           2             Y07F       Y07           0          7   \n",
              "3           4           2             Y07F       Y07           0          7   \n",
              "4           5           3             Y07F       Y07           0          7   \n",
              "...       ...         ...              ...       ...         ...        ...   \n",
              "4745      121          77             Y25M       Y25          18         25   \n",
              "4746      122          78             Y25M       Y25          18         25   \n",
              "4747      123          78             Y25M       Y25          18         25   \n",
              "4748      124          79             Y25M       Y25          18         25   \n",
              "4749      125          79             Y25M       Y25          18         25   \n",
              "\n",
              "      Class_0-1       Filename  \\\n",
              "0             0         V1.jpg   \n",
              "1             0    Flip_V1.jpg   \n",
              "2             0         V2.jpg   \n",
              "3             0    Flip_V2.jpg   \n",
              "4             0         V3.jpg   \n",
              "...         ...            ...   \n",
              "4745          1  Flip_J463.jpg   \n",
              "4746          1       J464.jpg   \n",
              "4747          1  Flip_J464.jpg   \n",
              "4748          1       J465.jpg   \n",
              "4749          1  Flip_J465.jpg   \n",
              "\n",
              "                                          Path_filename     Sex Floder  \n",
              "0     /content/drive/My Drive/All_File_Lt/TVT_All_Lt...  Female   Both  \n",
              "1     /content/drive/My Drive/All_File_Lt/TVT_All_Lt...  Female   Both  \n",
              "2     /content/drive/My Drive/All_File_Lt/TVT_All_Lt...  Female   Both  \n",
              "3     /content/drive/My Drive/All_File_Lt/TVT_All_Lt...  Female   Both  \n",
              "4     /content/drive/My Drive/All_File_Lt/TVT_All_Lt...  Female   Both  \n",
              "...                                                 ...     ...    ...  \n",
              "4745  /content/drive/My Drive/All_File_Lt/TVT_All_Lt...    Male   Both  \n",
              "4746  /content/drive/My Drive/All_File_Lt/TVT_All_Lt...    Male   Both  \n",
              "4747  /content/drive/My Drive/All_File_Lt/TVT_All_Lt...    Male   Both  \n",
              "4748  /content/drive/My Drive/All_File_Lt/TVT_All_Lt...    Male   Both  \n",
              "4749  /content/drive/My Drive/All_File_Lt/TVT_All_Lt...    Male   Both  \n",
              "\n",
              "[4750 rows x 11 columns]"
            ],
            "text/html": [
              "\n",
              "  <div id=\"df-1a1247d9-02f5-415e-8b71-04a1a265467c\">\n",
              "    <div class=\"colab-df-container\">\n",
              "      <div>\n",
              "<style scoped>\n",
              "    .dataframe tbody tr th:only-of-type {\n",
              "        vertical-align: middle;\n",
              "    }\n",
              "\n",
              "    .dataframe tbody tr th {\n",
              "        vertical-align: top;\n",
              "    }\n",
              "\n",
              "    .dataframe thead th {\n",
              "        text-align: right;\n",
              "    }\n",
              "</style>\n",
              "<table border=\"1\" class=\"dataframe\">\n",
              "  <thead>\n",
              "    <tr style=\"text-align: right;\">\n",
              "      <th></th>\n",
              "      <th>Fig_Age</th>\n",
              "      <th>Fig_Person</th>\n",
              "      <th>Class_Age+Gender</th>\n",
              "      <th>Class_Age</th>\n",
              "      <th>Class_0-18</th>\n",
              "      <th>Age(year)</th>\n",
              "      <th>Class_0-1</th>\n",
              "      <th>Filename</th>\n",
              "      <th>Path_filename</th>\n",
              "      <th>Sex</th>\n",
              "      <th>Floder</th>\n",
              "    </tr>\n",
              "  </thead>\n",
              "  <tbody>\n",
              "    <tr>\n",
              "      <th>0</th>\n",
              "      <td>1</td>\n",
              "      <td>1</td>\n",
              "      <td>Y07F</td>\n",
              "      <td>Y07</td>\n",
              "      <td>0</td>\n",
              "      <td>7</td>\n",
              "      <td>0</td>\n",
              "      <td>V1.jpg</td>\n",
              "      <td>/content/drive/My Drive/All_File_Lt/TVT_All_Lt...</td>\n",
              "      <td>Female</td>\n",
              "      <td>Both</td>\n",
              "    </tr>\n",
              "    <tr>\n",
              "      <th>1</th>\n",
              "      <td>2</td>\n",
              "      <td>1</td>\n",
              "      <td>Y07F</td>\n",
              "      <td>Y07</td>\n",
              "      <td>0</td>\n",
              "      <td>7</td>\n",
              "      <td>0</td>\n",
              "      <td>Flip_V1.jpg</td>\n",
              "      <td>/content/drive/My Drive/All_File_Lt/TVT_All_Lt...</td>\n",
              "      <td>Female</td>\n",
              "      <td>Both</td>\n",
              "    </tr>\n",
              "    <tr>\n",
              "      <th>2</th>\n",
              "      <td>3</td>\n",
              "      <td>2</td>\n",
              "      <td>Y07F</td>\n",
              "      <td>Y07</td>\n",
              "      <td>0</td>\n",
              "      <td>7</td>\n",
              "      <td>0</td>\n",
              "      <td>V2.jpg</td>\n",
              "      <td>/content/drive/My Drive/All_File_Lt/TVT_All_Lt...</td>\n",
              "      <td>Female</td>\n",
              "      <td>Both</td>\n",
              "    </tr>\n",
              "    <tr>\n",
              "      <th>3</th>\n",
              "      <td>4</td>\n",
              "      <td>2</td>\n",
              "      <td>Y07F</td>\n",
              "      <td>Y07</td>\n",
              "      <td>0</td>\n",
              "      <td>7</td>\n",
              "      <td>0</td>\n",
              "      <td>Flip_V2.jpg</td>\n",
              "      <td>/content/drive/My Drive/All_File_Lt/TVT_All_Lt...</td>\n",
              "      <td>Female</td>\n",
              "      <td>Both</td>\n",
              "    </tr>\n",
              "    <tr>\n",
              "      <th>4</th>\n",
              "      <td>5</td>\n",
              "      <td>3</td>\n",
              "      <td>Y07F</td>\n",
              "      <td>Y07</td>\n",
              "      <td>0</td>\n",
              "      <td>7</td>\n",
              "      <td>0</td>\n",
              "      <td>V3.jpg</td>\n",
              "      <td>/content/drive/My Drive/All_File_Lt/TVT_All_Lt...</td>\n",
              "      <td>Female</td>\n",
              "      <td>Both</td>\n",
              "    </tr>\n",
              "    <tr>\n",
              "      <th>...</th>\n",
              "      <td>...</td>\n",
              "      <td>...</td>\n",
              "      <td>...</td>\n",
              "      <td>...</td>\n",
              "      <td>...</td>\n",
              "      <td>...</td>\n",
              "      <td>...</td>\n",
              "      <td>...</td>\n",
              "      <td>...</td>\n",
              "      <td>...</td>\n",
              "      <td>...</td>\n",
              "    </tr>\n",
              "    <tr>\n",
              "      <th>4745</th>\n",
              "      <td>121</td>\n",
              "      <td>77</td>\n",
              "      <td>Y25M</td>\n",
              "      <td>Y25</td>\n",
              "      <td>18</td>\n",
              "      <td>25</td>\n",
              "      <td>1</td>\n",
              "      <td>Flip_J463.jpg</td>\n",
              "      <td>/content/drive/My Drive/All_File_Lt/TVT_All_Lt...</td>\n",
              "      <td>Male</td>\n",
              "      <td>Both</td>\n",
              "    </tr>\n",
              "    <tr>\n",
              "      <th>4746</th>\n",
              "      <td>122</td>\n",
              "      <td>78</td>\n",
              "      <td>Y25M</td>\n",
              "      <td>Y25</td>\n",
              "      <td>18</td>\n",
              "      <td>25</td>\n",
              "      <td>1</td>\n",
              "      <td>J464.jpg</td>\n",
              "      <td>/content/drive/My Drive/All_File_Lt/TVT_All_Lt...</td>\n",
              "      <td>Male</td>\n",
              "      <td>Both</td>\n",
              "    </tr>\n",
              "    <tr>\n",
              "      <th>4747</th>\n",
              "      <td>123</td>\n",
              "      <td>78</td>\n",
              "      <td>Y25M</td>\n",
              "      <td>Y25</td>\n",
              "      <td>18</td>\n",
              "      <td>25</td>\n",
              "      <td>1</td>\n",
              "      <td>Flip_J464.jpg</td>\n",
              "      <td>/content/drive/My Drive/All_File_Lt/TVT_All_Lt...</td>\n",
              "      <td>Male</td>\n",
              "      <td>Both</td>\n",
              "    </tr>\n",
              "    <tr>\n",
              "      <th>4748</th>\n",
              "      <td>124</td>\n",
              "      <td>79</td>\n",
              "      <td>Y25M</td>\n",
              "      <td>Y25</td>\n",
              "      <td>18</td>\n",
              "      <td>25</td>\n",
              "      <td>1</td>\n",
              "      <td>J465.jpg</td>\n",
              "      <td>/content/drive/My Drive/All_File_Lt/TVT_All_Lt...</td>\n",
              "      <td>Male</td>\n",
              "      <td>Both</td>\n",
              "    </tr>\n",
              "    <tr>\n",
              "      <th>4749</th>\n",
              "      <td>125</td>\n",
              "      <td>79</td>\n",
              "      <td>Y25M</td>\n",
              "      <td>Y25</td>\n",
              "      <td>18</td>\n",
              "      <td>25</td>\n",
              "      <td>1</td>\n",
              "      <td>Flip_J465.jpg</td>\n",
              "      <td>/content/drive/My Drive/All_File_Lt/TVT_All_Lt...</td>\n",
              "      <td>Male</td>\n",
              "      <td>Both</td>\n",
              "    </tr>\n",
              "  </tbody>\n",
              "</table>\n",
              "<p>4750 rows × 11 columns</p>\n",
              "</div>\n",
              "      <button class=\"colab-df-convert\" onclick=\"convertToInteractive('df-1a1247d9-02f5-415e-8b71-04a1a265467c')\"\n",
              "              title=\"Convert this dataframe to an interactive table.\"\n",
              "              style=\"display:none;\">\n",
              "        \n",
              "  <svg xmlns=\"http://www.w3.org/2000/svg\" height=\"24px\"viewBox=\"0 0 24 24\"\n",
              "       width=\"24px\">\n",
              "    <path d=\"M0 0h24v24H0V0z\" fill=\"none\"/>\n",
              "    <path d=\"M18.56 5.44l.94 2.06.94-2.06 2.06-.94-2.06-.94-.94-2.06-.94 2.06-2.06.94zm-11 1L8.5 8.5l.94-2.06 2.06-.94-2.06-.94L8.5 2.5l-.94 2.06-2.06.94zm10 10l.94 2.06.94-2.06 2.06-.94-2.06-.94-.94-2.06-.94 2.06-2.06.94z\"/><path d=\"M17.41 7.96l-1.37-1.37c-.4-.4-.92-.59-1.43-.59-.52 0-1.04.2-1.43.59L10.3 9.45l-7.72 7.72c-.78.78-.78 2.05 0 2.83L4 21.41c.39.39.9.59 1.41.59.51 0 1.02-.2 1.41-.59l7.78-7.78 2.81-2.81c.8-.78.8-2.07 0-2.86zM5.41 20L4 18.59l7.72-7.72 1.47 1.35L5.41 20z\"/>\n",
              "  </svg>\n",
              "      </button>\n",
              "      \n",
              "  <style>\n",
              "    .colab-df-container {\n",
              "      display:flex;\n",
              "      flex-wrap:wrap;\n",
              "      gap: 12px;\n",
              "    }\n",
              "\n",
              "    .colab-df-convert {\n",
              "      background-color: #E8F0FE;\n",
              "      border: none;\n",
              "      border-radius: 50%;\n",
              "      cursor: pointer;\n",
              "      display: none;\n",
              "      fill: #1967D2;\n",
              "      height: 32px;\n",
              "      padding: 0 0 0 0;\n",
              "      width: 32px;\n",
              "    }\n",
              "\n",
              "    .colab-df-convert:hover {\n",
              "      background-color: #E2EBFA;\n",
              "      box-shadow: 0px 1px 2px rgba(60, 64, 67, 0.3), 0px 1px 3px 1px rgba(60, 64, 67, 0.15);\n",
              "      fill: #174EA6;\n",
              "    }\n",
              "\n",
              "    [theme=dark] .colab-df-convert {\n",
              "      background-color: #3B4455;\n",
              "      fill: #D2E3FC;\n",
              "    }\n",
              "\n",
              "    [theme=dark] .colab-df-convert:hover {\n",
              "      background-color: #434B5C;\n",
              "      box-shadow: 0px 1px 3px 1px rgba(0, 0, 0, 0.15);\n",
              "      filter: drop-shadow(0px 1px 2px rgba(0, 0, 0, 0.3));\n",
              "      fill: #FFFFFF;\n",
              "    }\n",
              "  </style>\n",
              "\n",
              "      <script>\n",
              "        const buttonEl =\n",
              "          document.querySelector('#df-1a1247d9-02f5-415e-8b71-04a1a265467c button.colab-df-convert');\n",
              "        buttonEl.style.display =\n",
              "          google.colab.kernel.accessAllowed ? 'block' : 'none';\n",
              "\n",
              "        async function convertToInteractive(key) {\n",
              "          const element = document.querySelector('#df-1a1247d9-02f5-415e-8b71-04a1a265467c');\n",
              "          const dataTable =\n",
              "            await google.colab.kernel.invokeFunction('convertToInteractive',\n",
              "                                                     [key], {});\n",
              "          if (!dataTable) return;\n",
              "\n",
              "          const docLinkHtml = 'Like what you see? Visit the ' +\n",
              "            '<a target=\"_blank\" href=https://colab.research.google.com/notebooks/data_table.ipynb>data table notebook</a>'\n",
              "            + ' to learn more about interactive tables.';\n",
              "          element.innerHTML = '';\n",
              "          dataTable['output_type'] = 'display_data';\n",
              "          await google.colab.output.renderOutput(dataTable, element);\n",
              "          const docLink = document.createElement('div');\n",
              "          docLink.innerHTML = docLinkHtml;\n",
              "          element.appendChild(docLink);\n",
              "        }\n",
              "      </script>\n",
              "    </div>\n",
              "  </div>\n",
              "  "
            ]
          },
          "metadata": {},
          "execution_count": 12
        }
      ]
    },
    {
      "cell_type": "code",
      "source": [
        "train = df[df['Fig_Age'].between(1,75)]\n",
        "val = df[df['Fig_Age'].between(76,100)]"
      ],
      "metadata": {
        "id": "Z1zBw01Gl8Ac"
      },
      "execution_count": null,
      "outputs": []
    },
    {
      "cell_type": "code",
      "source": [
        "DATA_PATH = \"/content/drive/My Drive/All_File_Lt/TVT_All_Lt\"\n",
        "os.chdir(DATA_PATH)\n",
        "train_dir = os.path.join(DATA_PATH, 'train')\n",
        "print(train_dir)\n",
        "validation_dir = os.path.join(DATA_PATH, 'validation')\n",
        "print(validation_dir)"
      ],
      "metadata": {
        "colab": {
          "base_uri": "https://localhost:8080/"
        },
        "id": "QL0g-8iOnMC4",
        "outputId": "7534c0c9-7d6c-496d-9954-341f68b3a9d5"
      },
      "execution_count": null,
      "outputs": [
        {
          "output_type": "stream",
          "name": "stdout",
          "text": [
            "/content/drive/My Drive/All_File_Lt/TVT_All_Lt/train\n",
            "/content/drive/My Drive/All_File_Lt/TVT_All_Lt/validation\n"
          ]
        }
      ]
    },
    {
      "cell_type": "markdown",
      "source": [
        "\n",
        "#Train"
      ],
      "metadata": {
        "id": "bWEnlTSwazL5"
      }
    },
    {
      "cell_type": "code",
      "source": [
        "# Train ด้วย ImageDataGenerator ของ Keras ซึ่งจะเพิ่มข้อมูลเสริมระหว่างการฝึกเพื่อลดโอกาสเกิด overfitting\n",
        "#overfitting เกิดจากข้อมูลที่ซับซ้อนกันเกินไป\n",
        "from tensorflow.keras.preprocessing.image import ImageDataGenerator\n",
        "\n",
        "train_datagen = ImageDataGenerator(\n",
        "      rescale=1./255, #โมเดลส่วนใหญ่ต้องใช้ RGB ในช่วง 0–1\n",
        "      rotation_range=40,\n",
        "      width_shift_range=0.2,\n",
        "      height_shift_range=0.2,\n",
        "      shear_range=0.2,\n",
        "      zoom_range=0.2,\n",
        "      horizontal_flip=True,\n",
        "      fill_mode='nearest')\n",
        "\n",
        "# Note that the validation data should not be augmented!\n",
        "test_datagen = ImageDataGenerator(rescale=1./255)\n",
        "\n",
        "train_generator = train_datagen.flow_from_dataframe(\n",
        "        dataframe = train,\n",
        "        directory = train_dir,\n",
        "        x_col = 'Path_filename',\n",
        "        y_col = 'Age(year)',\n",
        "        class_mode = 'other',\n",
        "        target_size=(height, width),\n",
        "        batch_size=batch_size)\n",
        "\n",
        "validation_generator = test_datagen.flow_from_dataframe(\n",
        "        dataframe = val,\n",
        "        directory = validation_dir,\n",
        "        x_col = 'Path_filename',\n",
        "        y_col = 'Age(year)',\n",
        "        class_mode = 'other',\n",
        "        target_size=(height, width),\n",
        "        batch_size=batch_size)"
      ],
      "metadata": {
        "id": "xGPrsn9no_pa",
        "outputId": "a2fcfe58-1dfd-4ca8-9c8c-4642e13f50af",
        "colab": {
          "base_uri": "https://localhost:8080/"
        }
      },
      "execution_count": null,
      "outputs": [
        {
          "output_type": "stream",
          "name": "stdout",
          "text": [
            "Found 2850 validated image filenames.\n",
            "Found 950 validated image filenames.\n"
          ]
        }
      ]
    },
    {
      "cell_type": "code",
      "source": [
        "# multiply_16\n",
        "# set 'multiply_16' and following layers trainable\n",
        "model.trainable = True\n",
        "\n",
        "set_trainable = False\n",
        "for layer in conv_base.layers:\n",
        "    if layer.name == 'multiply_16':\n",
        "        set_trainable = True\n",
        "    if set_trainable:\n",
        "        layer.trainable = True\n",
        "    else:\n",
        "        layer.trainable = False  \n",
        "     "
      ],
      "metadata": {
        "id": "8lwm8SThDk8s"
      },
      "execution_count": null,
      "outputs": []
    },
    {
      "cell_type": "code",
      "source": [
        "model.summary()"
      ],
      "metadata": {
        "colab": {
          "base_uri": "https://localhost:8080/"
        },
        "id": "MhJBA_RQDnyR",
        "outputId": "30a1ac84-69aa-4e5a-da55-a07b74fda73c"
      },
      "execution_count": null,
      "outputs": [
        {
          "output_type": "stream",
          "name": "stdout",
          "text": [
            "Model: \"sequential\"\n",
            "_________________________________________________________________\n",
            " Layer (type)                Output Shape              Param #   \n",
            "=================================================================\n",
            " efficientnet-b0 (Functional  (None, 5, 5, 1280)       4049564   \n",
            " )                                                               \n",
            "                                                                 \n",
            " gap (GlobalMaxPooling2D)    (None, 1280)              0         \n",
            "                                                                 \n",
            " dropout_out (Dropout)       (None, 1280)              0         \n",
            "                                                                 \n",
            " fc_out (Dense)              (None, 19)                24339     \n",
            "                                                                 \n",
            " dense (Dense)               (None, 1)                 20        \n",
            "                                                                 \n",
            "=================================================================\n",
            "Total params: 4,073,923\n",
            "Trainable params: 4,031,907\n",
            "Non-trainable params: 42,016\n",
            "_________________________________________________________________\n"
          ]
        }
      ]
    },
    {
      "cell_type": "code",
      "source": [
        "model.compile(loss='mse',\n",
        "          optimizer=Adam(learning_rate=4e-4),\n",
        "          metrics=['mae'])\n",
        "history = model.fit_generator(\n",
        "      train_generator,\n",
        "      steps_per_epoch= NUM_TRAIN //batch_size,\n",
        "      epochs=epochs,\n",
        "      validation_data=validation_generator,\n",
        "      validation_steps= NUM_TEST //batch_size,\n",
        "      verbose=1,\n",
        "      use_multiprocessing=True,\n",
        "      workers=4)"
      ],
      "metadata": {
        "id": "N6qUmmF856ZE",
        "outputId": "104b5f41-5421-4b40-b654-7087c7d3da4f",
        "colab": {
          "base_uri": "https://localhost:8080/"
        }
      },
      "execution_count": null,
      "outputs": [
        {
          "output_type": "stream",
          "name": "stderr",
          "text": [
            "<ipython-input-18-23c2d5617436>:4: UserWarning: `Model.fit_generator` is deprecated and will be removed in a future version. Please use `Model.fit`, which supports generators.\n",
            "  history = model.fit_generator(\n"
          ]
        },
        {
          "output_type": "stream",
          "name": "stdout",
          "text": [
            "Epoch 1/250\n",
            "178/178 [==============================] - 234s 992ms/step - loss: 30.0258 - mae: 4.7377 - val_loss: 30.0425 - val_mae: 4.7396\n",
            "Epoch 2/250\n",
            "178/178 [==============================] - 27s 148ms/step - loss: 30.0183 - mae: 4.7391 - val_loss: 30.0381 - val_mae: 4.7416\n",
            "Epoch 3/250\n",
            "178/178 [==============================] - 27s 149ms/step - loss: 30.0054 - mae: 4.7370 - val_loss: 30.0446 - val_mae: 4.7438\n",
            "Epoch 4/250\n",
            "178/178 [==============================] - 27s 151ms/step - loss: 29.9438 - mae: 4.7310 - val_loss: 29.9578 - val_mae: 4.7312\n",
            "Epoch 5/250\n",
            "178/178 [==============================] - 27s 151ms/step - loss: 29.9640 - mae: 4.7338 - val_loss: 30.0128 - val_mae: 4.7353\n",
            "Epoch 6/250\n",
            "178/178 [==============================] - 27s 150ms/step - loss: 29.9833 - mae: 4.7347 - val_loss: 30.1346 - val_mae: 4.7513\n",
            "Epoch 7/250\n",
            "178/178 [==============================] - 27s 151ms/step - loss: 29.9760 - mae: 4.7350 - val_loss: 29.9566 - val_mae: 4.7342\n",
            "Epoch 8/250\n",
            "178/178 [==============================] - 23s 125ms/step - loss: 30.0092 - mae: 4.7382 - val_loss: 29.9247 - val_mae: 4.7299\n",
            "Epoch 9/250\n",
            "178/178 [==============================] - 28s 156ms/step - loss: 30.0178 - mae: 4.7383 - val_loss: 30.0436 - val_mae: 4.7387\n",
            "Epoch 10/250\n",
            "178/178 [==============================] - 29s 157ms/step - loss: 29.9675 - mae: 4.7333 - val_loss: 30.1196 - val_mae: 4.7491\n",
            "Epoch 11/250\n",
            "178/178 [==============================] - 27s 147ms/step - loss: 29.9121 - mae: 4.7289 - val_loss: 29.9152 - val_mae: 4.7289\n",
            "Epoch 12/250\n",
            "178/178 [==============================] - 27s 148ms/step - loss: 29.8686 - mae: 4.7138 - val_loss: 29.9502 - val_mae: 4.7323\n",
            "Epoch 13/250\n",
            "178/178 [==============================] - 27s 148ms/step - loss: 29.9807 - mae: 4.7354 - val_loss: 30.0213 - val_mae: 4.7398\n",
            "Epoch 14/250\n",
            "178/178 [==============================] - 26s 145ms/step - loss: 29.9449 - mae: 4.7312 - val_loss: 30.1148 - val_mae: 4.7464\n",
            "Epoch 15/250\n",
            "178/178 [==============================] - 26s 146ms/step - loss: 30.0970 - mae: 4.7475 - val_loss: 29.8871 - val_mae: 4.7252\n",
            "Epoch 16/250\n",
            "178/178 [==============================] - 27s 147ms/step - loss: 30.0332 - mae: 4.7417 - val_loss: 29.9581 - val_mae: 4.7337\n",
            "Epoch 17/250\n",
            "178/178 [==============================] - 27s 148ms/step - loss: 29.9981 - mae: 4.7386 - val_loss: 29.9627 - val_mae: 4.7380\n",
            "Epoch 18/250\n",
            "178/178 [==============================] - 27s 147ms/step - loss: 30.0700 - mae: 4.7445 - val_loss: 29.9620 - val_mae: 4.7358\n",
            "Epoch 19/250\n",
            "178/178 [==============================] - 27s 147ms/step - loss: 29.9911 - mae: 4.7351 - val_loss: 29.8731 - val_mae: 4.7249\n",
            "Epoch 20/250\n",
            "178/178 [==============================] - 23s 125ms/step - loss: 29.9979 - mae: 4.7377 - val_loss: 30.0026 - val_mae: 4.7378\n",
            "Epoch 21/250\n",
            "178/178 [==============================] - 27s 151ms/step - loss: 29.9727 - mae: 4.7343 - val_loss: 29.9965 - val_mae: 4.7367\n",
            "Epoch 22/250\n",
            "178/178 [==============================] - 27s 151ms/step - loss: 30.0631 - mae: 4.7445 - val_loss: 29.9484 - val_mae: 4.7326\n",
            "Epoch 23/250\n",
            "178/178 [==============================] - 27s 151ms/step - loss: 30.0560 - mae: 4.7423 - val_loss: 30.0249 - val_mae: 4.7390\n",
            "Epoch 24/250\n",
            "178/178 [==============================] - 27s 151ms/step - loss: 30.0366 - mae: 4.7392 - val_loss: 29.9425 - val_mae: 4.7306\n",
            "Epoch 25/250\n",
            "178/178 [==============================] - 23s 125ms/step - loss: 29.9600 - mae: 4.7333 - val_loss: 30.1377 - val_mae: 4.7528\n",
            "Epoch 26/250\n",
            "178/178 [==============================] - 26s 145ms/step - loss: 30.0176 - mae: 4.7398 - val_loss: 29.9875 - val_mae: 4.7378\n",
            "Epoch 27/250\n",
            "178/178 [==============================] - 27s 146ms/step - loss: 29.2878 - mae: 4.5148 - val_loss: 97.2979 - val_mae: 8.2875\n",
            "177/178 [============================>.] - ETA: 0s - loss: 29.3263 - mae: 4.5180Epoch 28/250\n",
            "178/178 [==============================] - 27s 146ms/step - loss: 27.0152 - mae: 4.3476 - val_loss: 76.4464 - val_mae: 6.9689\n",
            "Epoch 29/250\n",
            "178/178 [==============================] - 26s 145ms/step - loss: 26.2024 - mae: 4.2106 - val_loss: 25.6074 - val_mae: 4.2062\n",
            "Epoch 30/250\n",
            "178/178 [==============================] - 26s 145ms/step - loss: 27.4275 - mae: 4.3891 - val_loss: 27.8279 - val_mae: 4.5011\n",
            "Epoch 31/250\n",
            "178/178 [==============================] - 26s 145ms/step - loss: 23.7655 - mae: 4.0133 - val_loss: 49.4279 - val_mae: 5.9549\n",
            "Epoch 32/250\n",
            "178/178 [==============================] - 26s 145ms/step - loss: 21.2938 - mae: 3.7249 - val_loss: 48.3478 - val_mae: 5.8884\n",
            "Epoch 33/250\n",
            "178/178 [==============================] - 27s 147ms/step - loss: 21.8820 - mae: 3.8117 - val_loss: 37.1170 - val_mae: 5.1327\n",
            "Epoch 34/250\n",
            "178/178 [==============================] - 27s 146ms/step - loss: 24.3002 - mae: 4.0969 - val_loss: 21.6571 - val_mae: 3.5741\n",
            "Epoch 35/250\n",
            "178/178 [==============================] - 27s 147ms/step - loss: 24.7496 - mae: 4.1667 - val_loss: 26.7385 - val_mae: 4.1493\n",
            "Epoch 36/250\n",
            "178/178 [==============================] - 22s 120ms/step - loss: 24.7472 - mae: 4.1580 - val_loss: 29.3826 - val_mae: 4.4508\n",
            "Epoch 37/250\n",
            "178/178 [==============================] - 27s 149ms/step - loss: 22.6653 - mae: 3.8685 - val_loss: 55.0591 - val_mae: 5.7034\n",
            "Epoch 38/250\n",
            "178/178 [==============================] - 27s 147ms/step - loss: 23.0001 - mae: 3.8066 - val_loss: 54.7089 - val_mae: 5.6803\n",
            "Epoch 39/250\n",
            "178/178 [==============================] - 27s 147ms/step - loss: 28.2052 - mae: 4.1134 - val_loss: 52.9072 - val_mae: 5.5882\n",
            "Epoch 40/250\n",
            "178/178 [==============================] - 27s 147ms/step - loss: 27.4103 - mae: 4.0495 - val_loss: 44.2379 - val_mae: 5.0030\n",
            "Epoch 41/250\n",
            "178/178 [==============================] - 27s 150ms/step - loss: 20.1674 - mae: 3.4951 - val_loss: 63.6582 - val_mae: 6.3982\n",
            "Epoch 42/250\n",
            "178/178 [==============================] - 28s 152ms/step - loss: 18.8735 - mae: 3.4821 - val_loss: 44.0990 - val_mae: 4.9904\n",
            "Epoch 43/250\n",
            "178/178 [==============================] - 27s 152ms/step - loss: 25.6874 - mae: 3.9265 - val_loss: 62.3322 - val_mae: 6.3862\n",
            "Epoch 44/250\n",
            "178/178 [==============================] - 28s 156ms/step - loss: 18.9278 - mae: 3.4565 - val_loss: 40.6497 - val_mae: 4.7731\n",
            "Epoch 45/250\n",
            "178/178 [==============================] - 29s 158ms/step - loss: 17.4325 - mae: 3.3415 - val_loss: 41.3826 - val_mae: 4.8346\n",
            "Epoch 46/250\n",
            "178/178 [==============================] - 27s 150ms/step - loss: 16.8876 - mae: 3.2982 - val_loss: 49.0307 - val_mae: 5.3577\n",
            "Epoch 47/250\n",
            "178/178 [==============================] - 27s 150ms/step - loss: 17.2599 - mae: 3.3353 - val_loss: 44.7216 - val_mae: 5.0768\n",
            "Epoch 48/250\n",
            "178/178 [==============================] - 27s 150ms/step - loss: 16.7491 - mae: 3.2839 - val_loss: 30.8779 - val_mae: 4.1776\n",
            "Epoch 49/250\n",
            "178/178 [==============================] - 27s 147ms/step - loss: 16.2019 - mae: 3.2197 - val_loss: 38.2332 - val_mae: 4.6591\n",
            "Epoch 50/250\n",
            "178/178 [==============================] - 27s 147ms/step - loss: 16.4394 - mae: 3.2633 - val_loss: 42.8828 - val_mae: 4.9646\n",
            "Epoch 51/250\n",
            "178/178 [==============================] - 27s 149ms/step - loss: 15.4862 - mae: 3.1642 - val_loss: 41.3840 - val_mae: 4.8944\n",
            "Epoch 52/250\n",
            "178/178 [==============================] - 27s 148ms/step - loss: 14.6301 - mae: 3.0800 - val_loss: 42.5882 - val_mae: 4.9705\n",
            "Epoch 53/250\n",
            "178/178 [==============================] - 27s 147ms/step - loss: 14.9790 - mae: 3.1069 - val_loss: 55.0198 - val_mae: 5.8558\n",
            "Epoch 54/250\n",
            "178/178 [==============================] - 27s 148ms/step - loss: 15.1440 - mae: 3.0990 - val_loss: 52.5325 - val_mae: 5.7067\n",
            "Epoch 55/250\n",
            "178/178 [==============================] - 27s 149ms/step - loss: 15.1374 - mae: 3.1170 - val_loss: 49.4536 - val_mae: 5.4513\n",
            "Epoch 56/250\n",
            "178/178 [==============================] - 27s 148ms/step - loss: 14.7298 - mae: 3.0687 - val_loss: 55.3713 - val_mae: 5.8731\n",
            "Epoch 57/250\n",
            "178/178 [==============================] - 27s 148ms/step - loss: 13.8412 - mae: 2.9913 - val_loss: 50.9112 - val_mae: 5.5616\n",
            "Epoch 58/250\n",
            "178/178 [==============================] - 27s 148ms/step - loss: 13.9537 - mae: 2.9936 - val_loss: 62.5158 - val_mae: 6.3630\n",
            "Epoch 59/250\n",
            "178/178 [==============================] - 27s 149ms/step - loss: 13.7205 - mae: 2.9903 - val_loss: 54.2225 - val_mae: 5.8406\n",
            "Epoch 60/250\n",
            "178/178 [==============================] - 27s 148ms/step - loss: 13.4035 - mae: 2.9373 - val_loss: 49.3246 - val_mae: 5.5188\n",
            "Epoch 61/250\n",
            "178/178 [==============================] - 27s 149ms/step - loss: 13.2702 - mae: 2.9465 - val_loss: 55.7992 - val_mae: 5.9723\n",
            "Epoch 62/250\n",
            "178/178 [==============================] - 27s 150ms/step - loss: 13.0271 - mae: 2.9064 - val_loss: 50.6856 - val_mae: 5.5915\n",
            "Epoch 63/250\n",
            "178/178 [==============================] - 27s 148ms/step - loss: 13.0889 - mae: 2.9269 - val_loss: 53.0817 - val_mae: 5.7828\n",
            "Epoch 64/250\n",
            "178/178 [==============================] - 27s 150ms/step - loss: 12.5286 - mae: 2.8568 - val_loss: 34.3860 - val_mae: 4.4578\n",
            "Epoch 65/250\n",
            "178/178 [==============================] - 27s 148ms/step - loss: 12.3706 - mae: 2.8621 - val_loss: 33.8268 - val_mae: 4.4117\n",
            "Epoch 66/250\n",
            "178/178 [==============================] - 27s 149ms/step - loss: 12.5798 - mae: 2.8646 - val_loss: 13.7948 - val_mae: 2.9300\n",
            "Epoch 67/250\n",
            "178/178 [==============================] - 27s 149ms/step - loss: 11.6678 - mae: 2.7736 - val_loss: 15.7651 - val_mae: 3.1026\n",
            "178/178 [==============================] - ETA: 0s - loss: 11.6678 - mae: 2.7736Epoch 68/250\n",
            "178/178 [==============================] - 27s 149ms/step - loss: 11.2432 - mae: 2.7104 - val_loss: 36.0215 - val_mae: 4.8165\n",
            "Epoch 69/250\n",
            "178/178 [==============================] - 27s 151ms/step - loss: 11.8324 - mae: 2.7865 - val_loss: 45.2247 - val_mae: 5.3598\n",
            "Epoch 70/250\n",
            "178/178 [==============================] - 27s 147ms/step - loss: 11.1083 - mae: 2.7068 - val_loss: 38.7562 - val_mae: 4.8306\n",
            "Epoch 71/250\n",
            "178/178 [==============================] - 27s 148ms/step - loss: 10.7583 - mae: 2.6579 - val_loss: 19.9179 - val_mae: 3.5004\n",
            "Epoch 72/250\n",
            "178/178 [==============================] - 27s 147ms/step - loss: 10.2018 - mae: 2.5647 - val_loss: 17.8194 - val_mae: 3.3712\n",
            "Epoch 73/250\n",
            "178/178 [==============================] - 22s 121ms/step - loss: 9.8155 - mae: 2.5087 - val_loss: 15.2559 - val_mae: 3.0285\n",
            "Epoch 74/250\n",
            "178/178 [==============================] - 27s 146ms/step - loss: 9.7152 - mae: 2.4917 - val_loss: 21.1178 - val_mae: 3.4541\n",
            "Epoch 75/250\n",
            "178/178 [==============================] - 27s 146ms/step - loss: 9.3647 - mae: 2.4109 - val_loss: 12.9216 - val_mae: 2.8036\n",
            "Epoch 76/250\n",
            "178/178 [==============================] - 22s 120ms/step - loss: 9.3595 - mae: 2.4390 - val_loss: 31.7622 - val_mae: 4.5201\n",
            "Epoch 77/250\n",
            "178/178 [==============================] - 27s 150ms/step - loss: 8.5430 - mae: 2.3273 - val_loss: 10.7702 - val_mae: 2.5543\n",
            "Epoch 78/250\n",
            "178/178 [==============================] - 28s 153ms/step - loss: 8.2517 - mae: 2.2818 - val_loss: 11.7148 - val_mae: 2.6734\n",
            "Epoch 79/250\n",
            "178/178 [==============================] - 27s 150ms/step - loss: 7.6226 - mae: 2.1867 - val_loss: 9.3086 - val_mae: 2.4189\n",
            "Epoch 80/250\n",
            "178/178 [==============================] - 27s 149ms/step - loss: 7.7207 - mae: 2.1852 - val_loss: 33.5690 - val_mae: 4.6926\n",
            "Epoch 81/250\n",
            "178/178 [==============================] - 27s 149ms/step - loss: 7.1670 - mae: 2.1028 - val_loss: 15.6583 - val_mae: 3.0953\n",
            "Epoch 82/250\n",
            "178/178 [==============================] - 27s 149ms/step - loss: 7.5840 - mae: 2.1789 - val_loss: 8.7875 - val_mae: 2.3198\n",
            "Epoch 83/250\n",
            "178/178 [==============================] - 27s 149ms/step - loss: 6.9112 - mae: 2.0763 - val_loss: 17.2466 - val_mae: 3.2805\n",
            "Epoch 84/250\n",
            "178/178 [==============================] - 27s 150ms/step - loss: 8.1433 - mae: 2.2313 - val_loss: 22.8832 - val_mae: 3.6963\n",
            "Epoch 85/250\n",
            "178/178 [==============================] - 27s 151ms/step - loss: 7.5782 - mae: 2.1695 - val_loss: 6.8282 - val_mae: 2.0880\n",
            "Epoch 86/250\n",
            "178/178 [==============================] - 27s 150ms/step - loss: 6.7422 - mae: 2.0473 - val_loss: 23.4550 - val_mae: 3.7817\n",
            "Epoch 87/250\n",
            "178/178 [==============================] - 28s 152ms/step - loss: 6.3228 - mae: 1.9693 - val_loss: 12.8845 - val_mae: 2.8228\n",
            "Epoch 88/250\n",
            "178/178 [==============================] - 28s 153ms/step - loss: 6.2753 - mae: 1.9647 - val_loss: 14.4522 - val_mae: 2.9584\n",
            "Epoch 89/250\n",
            "178/178 [==============================] - 27s 150ms/step - loss: 6.2456 - mae: 1.9470 - val_loss: 17.8373 - val_mae: 3.2957\n",
            "Epoch 90/250\n",
            "178/178 [==============================] - 27s 151ms/step - loss: 5.8681 - mae: 1.8913 - val_loss: 7.6437 - val_mae: 2.1466\n",
            "Epoch 91/250\n",
            "178/178 [==============================] - 27s 150ms/step - loss: 5.6423 - mae: 1.8515 - val_loss: 9.9596 - val_mae: 2.5003\n",
            "Epoch 92/250\n",
            "178/178 [==============================] - 23s 126ms/step - loss: 5.3649 - mae: 1.8274 - val_loss: 6.4401 - val_mae: 2.0218\n",
            "Epoch 93/250\n",
            "178/178 [==============================] - 24s 129ms/step - loss: 5.5512 - mae: 1.8484 - val_loss: 15.2375 - val_mae: 3.0929\n",
            "Epoch 94/250\n",
            "178/178 [==============================] - 27s 148ms/step - loss: 5.4004 - mae: 1.8336 - val_loss: 9.1012 - val_mae: 2.3867\n",
            "Epoch 95/250\n",
            "178/178 [==============================] - 27s 147ms/step - loss: 5.2142 - mae: 1.7910 - val_loss: 16.7114 - val_mae: 3.1448\n",
            "Epoch 96/250\n",
            "178/178 [==============================] - 27s 147ms/step - loss: 5.3333 - mae: 1.7876 - val_loss: 5.1250 - val_mae: 1.7776\n",
            "Epoch 97/250\n",
            "178/178 [==============================] - 27s 146ms/step - loss: 5.0161 - mae: 1.7767 - val_loss: 12.3853 - val_mae: 2.6881\n",
            "Epoch 98/250\n",
            "178/178 [==============================] - 26s 145ms/step - loss: 5.0386 - mae: 1.7671 - val_loss: 6.9359 - val_mae: 2.0565\n",
            "Epoch 99/250\n",
            "178/178 [==============================] - 26s 145ms/step - loss: 5.0011 - mae: 1.7613 - val_loss: 8.4934 - val_mae: 2.2929\n",
            "Epoch 100/250\n",
            "178/178 [==============================] - 27s 146ms/step - loss: 4.9083 - mae: 1.7262 - val_loss: 7.5769 - val_mae: 2.1693\n",
            "Epoch 101/250\n",
            "178/178 [==============================] - 27s 146ms/step - loss: 4.6311 - mae: 1.6890 - val_loss: 8.5328 - val_mae: 2.2880\n",
            "Epoch 102/250\n",
            "178/178 [==============================] - 27s 148ms/step - loss: 4.6733 - mae: 1.6949 - val_loss: 10.2988 - val_mae: 2.4846\n",
            "Epoch 103/250\n",
            "178/178 [==============================] - 27s 148ms/step - loss: 4.6070 - mae: 1.6965 - val_loss: 5.4036 - val_mae: 1.9006\n",
            "Epoch 104/250\n",
            "178/178 [==============================] - 23s 126ms/step - loss: 4.7801 - mae: 1.7150 - val_loss: 6.2505 - val_mae: 1.9724\n",
            "Epoch 105/250\n",
            "178/178 [==============================] - 28s 152ms/step - loss: 4.7102 - mae: 1.7206 - val_loss: 8.3980 - val_mae: 2.3066\n",
            "Epoch 106/250\n",
            "178/178 [==============================] - 27s 151ms/step - loss: 5.1590 - mae: 1.7696 - val_loss: 12.5167 - val_mae: 2.8314\n",
            "Epoch 107/250\n",
            "178/178 [==============================] - 27s 149ms/step - loss: 4.8944 - mae: 1.7358 - val_loss: 11.0954 - val_mae: 2.6431\n",
            "Epoch 108/250\n",
            "178/178 [==============================] - 27s 150ms/step - loss: 4.3530 - mae: 1.6344 - val_loss: 6.2408 - val_mae: 1.9657\n",
            "Epoch 109/250\n",
            "178/178 [==============================] - 27s 150ms/step - loss: 4.1519 - mae: 1.5955 - val_loss: 6.0950 - val_mae: 1.9493\n",
            "Epoch 110/250\n",
            "178/178 [==============================] - 27s 151ms/step - loss: 4.0973 - mae: 1.5845 - val_loss: 16.9001 - val_mae: 3.1989\n",
            "Epoch 111/250\n",
            "178/178 [==============================] - 27s 149ms/step - loss: 4.0848 - mae: 1.5970 - val_loss: 6.0320 - val_mae: 1.9471\n",
            "Epoch 112/250\n",
            "178/178 [==============================] - 27s 149ms/step - loss: 3.9299 - mae: 1.5590 - val_loss: 8.0823 - val_mae: 2.2238\n",
            "Epoch 113/250\n",
            "178/178 [==============================] - 23s 126ms/step - loss: 4.3530 - mae: 1.6369 - val_loss: 7.8664 - val_mae: 2.2546\n",
            "Epoch 114/250\n",
            "178/178 [==============================] - 28s 152ms/step - loss: 8.2807 - mae: 2.2326 - val_loss: 40.3297 - val_mae: 5.0041\n",
            "Epoch 115/250\n",
            "178/178 [==============================] - 28s 152ms/step - loss: 7.1505 - mae: 2.0716 - val_loss: 14.0944 - val_mae: 2.8266\n",
            "Epoch 116/250\n",
            "178/178 [==============================] - 27s 148ms/step - loss: 5.7379 - mae: 1.8735 - val_loss: 7.8308 - val_mae: 2.1617\n",
            "Epoch 117/250\n",
            "178/178 [==============================] - 27s 148ms/step - loss: 5.1819 - mae: 1.7927 - val_loss: 6.1944 - val_mae: 1.9288\n",
            "Epoch 118/250\n",
            "178/178 [==============================] - 27s 148ms/step - loss: 4.8682 - mae: 1.7215 - val_loss: 6.5441 - val_mae: 1.9781\n",
            "Epoch 119/250\n",
            "178/178 [==============================] - 27s 150ms/step - loss: 5.0550 - mae: 1.7822 - val_loss: 9.3239 - val_mae: 2.4028\n",
            "Epoch 120/250\n",
            "178/178 [==============================] - 27s 149ms/step - loss: 5.1488 - mae: 1.8395 - val_loss: 8.5157 - val_mae: 2.3090\n",
            "Epoch 121/250\n",
            "178/178 [==============================] - 27s 149ms/step - loss: 4.9188 - mae: 1.8027 - val_loss: 9.7103 - val_mae: 2.4685\n",
            "Epoch 122/250\n",
            "178/178 [==============================] - 27s 149ms/step - loss: 5.0733 - mae: 1.8252 - val_loss: 8.8554 - val_mae: 2.3594\n",
            "Epoch 123/250\n",
            "178/178 [==============================] - 27s 150ms/step - loss: 4.8592 - mae: 1.7860 - val_loss: 7.6507 - val_mae: 2.1965\n",
            "Epoch 124/250\n",
            "178/178 [==============================] - 27s 148ms/step - loss: 4.6343 - mae: 1.7294 - val_loss: 6.6174 - val_mae: 2.0763\n",
            "Epoch 125/250\n",
            "178/178 [==============================] - 23s 125ms/step - loss: 4.4722 - mae: 1.7106 - val_loss: 5.5422 - val_mae: 1.8990\n",
            "Epoch 126/250\n",
            "178/178 [==============================] - 27s 149ms/step - loss: 4.3840 - mae: 1.6890 - val_loss: 7.3201 - val_mae: 2.1245\n",
            "Epoch 127/250\n",
            "178/178 [==============================] - 27s 149ms/step - loss: 4.2521 - mae: 1.6453 - val_loss: 6.7586 - val_mae: 2.0510\n",
            "Epoch 128/250\n",
            "178/178 [==============================] - 27s 148ms/step - loss: 4.2993 - mae: 1.6674 - val_loss: 4.9410 - val_mae: 1.8200\n",
            "Epoch 129/250\n",
            "178/178 [==============================] - 27s 148ms/step - loss: 4.2792 - mae: 1.6588 - val_loss: 6.4964 - val_mae: 2.0303\n",
            "Epoch 130/250\n",
            "178/178 [==============================] - 28s 152ms/step - loss: 3.9918 - mae: 1.6003 - val_loss: 5.5650 - val_mae: 1.8780\n",
            "Epoch 131/250\n",
            "178/178 [==============================] - 27s 151ms/step - loss: 4.6317 - mae: 1.7115 - val_loss: 8.0396 - val_mae: 2.2117\n",
            "Epoch 132/250\n",
            "178/178 [==============================] - 27s 150ms/step - loss: 4.1928 - mae: 1.6544 - val_loss: 8.9247 - val_mae: 2.3385\n",
            "Epoch 133/250\n",
            "178/178 [==============================] - 27s 149ms/step - loss: 4.0159 - mae: 1.6096 - val_loss: 6.2585 - val_mae: 1.9506\n",
            "Epoch 134/250\n",
            "178/178 [==============================] - 27s 150ms/step - loss: 4.0636 - mae: 1.6138 - val_loss: 6.6913 - val_mae: 2.0499\n",
            "Epoch 135/250\n",
            "178/178 [==============================] - 23s 124ms/step - loss: 4.0233 - mae: 1.6144 - val_loss: 5.8916 - val_mae: 1.9327\n",
            "Epoch 136/250\n",
            "178/178 [==============================] - 26s 144ms/step - loss: 3.6144 - mae: 1.5330 - val_loss: 6.5593 - val_mae: 2.0480\n",
            "Epoch 137/250\n",
            "178/178 [==============================] - 26s 146ms/step - loss: 3.7162 - mae: 1.5506 - val_loss: 7.2125 - val_mae: 2.1116\n",
            "Epoch 138/250\n",
            "178/178 [==============================] - 27s 147ms/step - loss: 3.6899 - mae: 1.5468 - val_loss: 7.0771 - val_mae: 2.0794\n",
            "Epoch 139/250\n",
            "178/178 [==============================] - 27s 146ms/step - loss: 3.5637 - mae: 1.5148 - val_loss: 10.7275 - val_mae: 2.5617\n",
            "Epoch 140/250\n",
            "178/178 [==============================] - 27s 148ms/step - loss: 3.7830 - mae: 1.5660 - val_loss: 8.3340 - val_mae: 2.3117\n",
            "Epoch 141/250\n",
            "178/178 [==============================] - 27s 147ms/step - loss: 3.9226 - mae: 1.5770 - val_loss: 7.7623 - val_mae: 2.1557\n",
            "Epoch 142/250\n",
            "178/178 [==============================] - 27s 149ms/step - loss: 3.5814 - mae: 1.5203 - val_loss: 7.2465 - val_mae: 2.1146\n",
            "Epoch 143/250\n",
            "178/178 [==============================] - 27s 149ms/step - loss: 3.4064 - mae: 1.4804 - val_loss: 6.5873 - val_mae: 1.9896\n",
            "Epoch 144/250\n",
            "178/178 [==============================] - 27s 149ms/step - loss: 3.6910 - mae: 1.5133 - val_loss: 6.6217 - val_mae: 2.0011\n",
            "Epoch 145/250\n",
            "178/178 [==============================] - 27s 149ms/step - loss: 3.3730 - mae: 1.4755 - val_loss: 5.6732 - val_mae: 1.9215\n",
            "Epoch 146/250\n",
            "178/178 [==============================] - 28s 156ms/step - loss: 3.5236 - mae: 1.4876 - val_loss: 5.8015 - val_mae: 1.9137\n",
            "Epoch 147/250\n",
            "178/178 [==============================] - 28s 155ms/step - loss: 3.4274 - mae: 1.4685 - val_loss: 6.4988 - val_mae: 1.9556\n",
            "Epoch 148/250\n",
            "178/178 [==============================] - 28s 152ms/step - loss: 3.3772 - mae: 1.4560 - val_loss: 6.2950 - val_mae: 1.9787\n",
            "Epoch 149/250\n",
            "178/178 [==============================] - 27s 150ms/step - loss: 3.4661 - mae: 1.4606 - val_loss: 10.1825 - val_mae: 2.4385\n",
            "Epoch 150/250\n",
            "178/178 [==============================] - 27s 147ms/step - loss: 3.6640 - mae: 1.5177 - val_loss: 8.4532 - val_mae: 2.2373\n",
            "Epoch 151/250\n",
            "178/178 [==============================] - 27s 150ms/step - loss: 4.9213 - mae: 1.7174 - val_loss: 11.6364 - val_mae: 2.5936\n",
            "Epoch 152/250\n",
            "178/178 [==============================] - 27s 150ms/step - loss: 4.0662 - mae: 1.6098 - val_loss: 8.7161 - val_mae: 2.2574\n",
            "Epoch 153/250\n",
            "178/178 [==============================] - 27s 151ms/step - loss: 4.6106 - mae: 1.6765 - val_loss: 6.5347 - val_mae: 1.9896\n",
            "Epoch 154/250\n",
            "178/178 [==============================] - 28s 152ms/step - loss: 3.9365 - mae: 1.5693 - val_loss: 9.4964 - val_mae: 2.3657\n",
            "Epoch 155/250\n",
            "178/178 [==============================] - 23s 124ms/step - loss: 4.3085 - mae: 1.6158 - val_loss: 8.2788 - val_mae: 2.2481\n",
            "Epoch 156/250\n",
            "178/178 [==============================] - 27s 150ms/step - loss: 3.6300 - mae: 1.4984 - val_loss: 7.7934 - val_mae: 2.1419\n",
            "Epoch 157/250\n",
            "178/178 [==============================] - 28s 153ms/step - loss: 3.5535 - mae: 1.4741 - val_loss: 6.5316 - val_mae: 2.0332\n",
            "Epoch 158/250\n",
            "178/178 [==============================] - 27s 149ms/step - loss: 3.4115 - mae: 1.4548 - val_loss: 6.9911 - val_mae: 2.0615\n",
            "178/178 [==============================] - ETA: 0s - loss: 3.4115 - mae: 1.4548Epoch 159/250\n",
            "178/178 [==============================] - 27s 148ms/step - loss: 3.3677 - mae: 1.4395 - val_loss: 7.1695 - val_mae: 2.1142\n",
            "Epoch 160/250\n",
            "178/178 [==============================] - 27s 149ms/step - loss: 3.5187 - mae: 1.4632 - val_loss: 5.4244 - val_mae: 1.7924\n",
            "Epoch 161/250\n",
            "178/178 [==============================] - 28s 153ms/step - loss: 3.4833 - mae: 1.4647 - val_loss: 5.3601 - val_mae: 1.8276\n",
            "Epoch 162/250\n",
            "178/178 [==============================] - 28s 154ms/step - loss: 3.6506 - mae: 1.4795 - val_loss: 10.7224 - val_mae: 2.5112\n",
            "Epoch 163/250\n",
            "178/178 [==============================] - 28s 155ms/step - loss: 3.3567 - mae: 1.4377 - val_loss: 8.4061 - val_mae: 2.2648\n",
            "Epoch 164/250\n",
            "178/178 [==============================] - 28s 153ms/step - loss: 3.2510 - mae: 1.4191 - val_loss: 7.4036 - val_mae: 2.0825\n",
            "Epoch 165/250\n",
            "178/178 [==============================] - 28s 152ms/step - loss: 3.4083 - mae: 1.4303 - val_loss: 6.5241 - val_mae: 1.9716\n",
            "Epoch 166/250\n",
            "178/178 [==============================] - 27s 151ms/step - loss: 3.3597 - mae: 1.4316 - val_loss: 4.3592 - val_mae: 1.6558\n",
            "Epoch 167/250\n",
            "178/178 [==============================] - 27s 149ms/step - loss: 3.2442 - mae: 1.4004 - val_loss: 6.4105 - val_mae: 1.9571\n",
            "177/178 [============================>.] - ETA: 0s - loss: 3.2469 - mae: 1.3999Epoch 168/250\n",
            "178/178 [==============================] - 27s 150ms/step - loss: 3.0793 - mae: 1.3834 - val_loss: 9.2904 - val_mae: 2.3284\n",
            "Epoch 169/250\n",
            "178/178 [==============================] - 27s 150ms/step - loss: 2.8440 - mae: 1.3401 - val_loss: 11.3030 - val_mae: 2.5833\n",
            "Epoch 170/250\n",
            "178/178 [==============================] - 27s 149ms/step - loss: 3.0816 - mae: 1.3756 - val_loss: 4.6495 - val_mae: 1.6672\n",
            "Epoch 171/250\n",
            "178/178 [==============================] - 27s 149ms/step - loss: 2.8074 - mae: 1.3239 - val_loss: 6.6453 - val_mae: 1.9644\n",
            "Epoch 172/250\n",
            "178/178 [==============================] - 27s 151ms/step - loss: 3.0269 - mae: 1.3758 - val_loss: 6.8395 - val_mae: 2.0357\n",
            "Epoch 173/250\n",
            "178/178 [==============================] - 27s 148ms/step - loss: 3.0859 - mae: 1.3761 - val_loss: 6.0680 - val_mae: 1.9259\n",
            "Epoch 174/250\n",
            "178/178 [==============================] - 27s 151ms/step - loss: 4.1195 - mae: 1.5658 - val_loss: 9.4613 - val_mae: 2.3434\n",
            "Epoch 175/250\n",
            "178/178 [==============================] - 27s 149ms/step - loss: 3.3792 - mae: 1.4203 - val_loss: 7.7052 - val_mae: 2.1428\n",
            "Epoch 176/250\n",
            "178/178 [==============================] - 27s 149ms/step - loss: 3.1560 - mae: 1.3998 - val_loss: 6.5361 - val_mae: 2.0246\n",
            "Epoch 177/250\n",
            "178/178 [==============================] - 23s 126ms/step - loss: 3.2918 - mae: 1.4123 - val_loss: 5.0232 - val_mae: 1.7534\n",
            "Epoch 178/250\n",
            "178/178 [==============================] - 27s 151ms/step - loss: 2.8289 - mae: 1.3309 - val_loss: 5.6424 - val_mae: 1.8719\n",
            "Epoch 179/250\n",
            "178/178 [==============================] - 28s 151ms/step - loss: 2.9569 - mae: 1.3429 - val_loss: 5.7152 - val_mae: 1.8488\n",
            "Epoch 180/250\n",
            "178/178 [==============================] - 27s 151ms/step - loss: 2.9069 - mae: 1.3405 - val_loss: 7.2308 - val_mae: 1.9756\n",
            "Epoch 181/250\n",
            "178/178 [==============================] - 27s 151ms/step - loss: 3.3364 - mae: 1.4239 - val_loss: 16.4879 - val_mae: 3.1465\n",
            "Epoch 182/250\n",
            "178/178 [==============================] - 27s 151ms/step - loss: 3.1144 - mae: 1.3928 - val_loss: 6.1239 - val_mae: 1.9685\n",
            "Epoch 183/250\n",
            "178/178 [==============================] - 27s 150ms/step - loss: 2.9339 - mae: 1.3556 - val_loss: 7.3203 - val_mae: 2.1026\n",
            "Epoch 184/250\n",
            "178/178 [==============================] - 27s 148ms/step - loss: 2.8114 - mae: 1.3188 - val_loss: 4.4801 - val_mae: 1.7086\n",
            "Epoch 185/250\n",
            "178/178 [==============================] - 27s 150ms/step - loss: 2.8942 - mae: 1.3315 - val_loss: 4.9463 - val_mae: 1.8088\n",
            "Epoch 186/250\n",
            "178/178 [==============================] - 27s 149ms/step - loss: 3.0624 - mae: 1.3564 - val_loss: 10.2372 - val_mae: 2.4563\n",
            "Epoch 187/250\n",
            "178/178 [==============================] - 27s 148ms/step - loss: 3.1449 - mae: 1.3799 - val_loss: 8.2043 - val_mae: 2.2448\n",
            "Epoch 188/250\n",
            "178/178 [==============================] - 27s 149ms/step - loss: 2.8799 - mae: 1.3292 - val_loss: 7.4859 - val_mae: 2.1033\n",
            "Epoch 189/250\n",
            "178/178 [==============================] - 27s 151ms/step - loss: 2.7552 - mae: 1.3048 - val_loss: 5.4977 - val_mae: 1.8352\n",
            "Epoch 190/250\n",
            "178/178 [==============================] - 27s 150ms/step - loss: 2.6906 - mae: 1.2895 - val_loss: 6.8272 - val_mae: 2.0194\n",
            "Epoch 191/250\n",
            "178/178 [==============================] - 27s 150ms/step - loss: 2.6884 - mae: 1.2942 - val_loss: 6.4670 - val_mae: 1.9724\n",
            "Epoch 192/250\n",
            "178/178 [==============================] - 27s 150ms/step - loss: 2.5885 - mae: 1.2810 - val_loss: 4.8538 - val_mae: 1.7165\n",
            "Epoch 193/250\n",
            "178/178 [==============================] - 27s 149ms/step - loss: 3.3457 - mae: 1.4223 - val_loss: 14.1470 - val_mae: 2.9366\n",
            "Epoch 194/250\n",
            "178/178 [==============================] - 28s 152ms/step - loss: 2.9361 - mae: 1.3388 - val_loss: 8.8591 - val_mae: 2.2793\n",
            "Epoch 195/250\n",
            "178/178 [==============================] - 27s 149ms/step - loss: 3.3488 - mae: 1.4193 - val_loss: 8.0414 - val_mae: 2.2378\n",
            "Epoch 196/250\n",
            "178/178 [==============================] - 27s 151ms/step - loss: 3.1173 - mae: 1.4131 - val_loss: 7.7999 - val_mae: 2.2045\n",
            "Epoch 197/250\n",
            "178/178 [==============================] - 27s 149ms/step - loss: 3.0864 - mae: 1.3608 - val_loss: 5.2370 - val_mae: 1.7700\n",
            "Epoch 198/250\n",
            "178/178 [==============================] - 27s 150ms/step - loss: 2.9922 - mae: 1.3600 - val_loss: 4.9262 - val_mae: 1.7598\n",
            "Epoch 199/250\n",
            "178/178 [==============================] - 27s 149ms/step - loss: 2.8246 - mae: 1.3081 - val_loss: 4.7826 - val_mae: 1.6787\n",
            "Epoch 200/250\n",
            "178/178 [==============================] - 28s 152ms/step - loss: 2.6950 - mae: 1.2802 - val_loss: 4.9667 - val_mae: 1.7543\n",
            "Epoch 201/250\n",
            "178/178 [==============================] - 27s 149ms/step - loss: 3.6955 - mae: 1.4598 - val_loss: 7.2381 - val_mae: 2.0712\n",
            "Epoch 202/250\n",
            "178/178 [==============================] - 23s 125ms/step - loss: 2.8764 - mae: 1.3202 - val_loss: 4.4186 - val_mae: 1.6687\n",
            "Epoch 203/250\n",
            "178/178 [==============================] - 28s 153ms/step - loss: 2.6539 - mae: 1.2787 - val_loss: 4.8516 - val_mae: 1.7549\n",
            "Epoch 204/250\n",
            "178/178 [==============================] - 28s 152ms/step - loss: 2.6724 - mae: 1.2781 - val_loss: 5.3095 - val_mae: 1.7882\n",
            "Epoch 205/250\n",
            "178/178 [==============================] - 28s 155ms/step - loss: 2.6788 - mae: 1.2780 - val_loss: 11.7677 - val_mae: 2.6118\n",
            "Epoch 206/250\n",
            "178/178 [==============================] - 28s 152ms/step - loss: 3.1524 - mae: 1.3520 - val_loss: 4.2097 - val_mae: 1.6470\n",
            "Epoch 207/250\n",
            "178/178 [==============================] - 28s 152ms/step - loss: 2.6571 - mae: 1.2844 - val_loss: 7.0019 - val_mae: 2.0238\n",
            "Epoch 208/250\n",
            "178/178 [==============================] - 28s 152ms/step - loss: 2.4507 - mae: 1.2352 - val_loss: 5.5599 - val_mae: 1.8247\n",
            "Epoch 209/250\n",
            "178/178 [==============================] - 27s 151ms/step - loss: 2.4439 - mae: 1.2273 - val_loss: 7.3402 - val_mae: 2.1209\n",
            "Epoch 210/250\n",
            "178/178 [==============================] - 28s 153ms/step - loss: 2.3039 - mae: 1.1969 - val_loss: 14.9657 - val_mae: 2.9706\n",
            "Epoch 211/250\n",
            "178/178 [==============================] - 23s 128ms/step - loss: 3.1451 - mae: 1.3771 - val_loss: 7.1726 - val_mae: 2.0177\n",
            "Epoch 212/250\n",
            "178/178 [==============================] - 27s 147ms/step - loss: 2.6728 - mae: 1.2669 - val_loss: 10.3237 - val_mae: 2.4872\n",
            "Epoch 213/250\n",
            "178/178 [==============================] - 27s 150ms/step - loss: 2.5653 - mae: 1.2569 - val_loss: 6.7221 - val_mae: 2.0267\n",
            "Epoch 214/250\n",
            "178/178 [==============================] - 27s 150ms/step - loss: 2.9107 - mae: 1.3342 - val_loss: 10.3495 - val_mae: 2.4944\n",
            "Epoch 215/250\n",
            "178/178 [==============================] - 27s 149ms/step - loss: 3.3331 - mae: 1.4113 - val_loss: 10.5002 - val_mae: 2.5405\n",
            "Epoch 216/250\n",
            "178/178 [==============================] - 27s 150ms/step - loss: 2.8060 - mae: 1.3240 - val_loss: 5.4109 - val_mae: 1.8635\n",
            "Epoch 217/250\n",
            "178/178 [==============================] - 28s 152ms/step - loss: 2.7005 - mae: 1.3036 - val_loss: 9.4761 - val_mae: 2.4289\n",
            "Epoch 218/250\n",
            "178/178 [==============================] - 27s 151ms/step - loss: 2.8351 - mae: 1.3024 - val_loss: 5.4823 - val_mae: 1.8427\n",
            "Epoch 219/250\n",
            "178/178 [==============================] - 28s 152ms/step - loss: 2.5773 - mae: 1.2623 - val_loss: 7.1314 - val_mae: 2.1017\n",
            "Epoch 220/250\n",
            "178/178 [==============================] - 27s 149ms/step - loss: 2.4797 - mae: 1.2378 - val_loss: 7.0178 - val_mae: 2.0802\n",
            "Epoch 221/250\n",
            "178/178 [==============================] - 27s 151ms/step - loss: 2.4104 - mae: 1.2139 - val_loss: 6.9222 - val_mae: 2.0268\n",
            "Epoch 222/250\n",
            "178/178 [==============================] - 27s 151ms/step - loss: 2.4481 - mae: 1.2236 - val_loss: 6.4172 - val_mae: 1.9604\n",
            "Epoch 223/250\n",
            "178/178 [==============================] - 27s 151ms/step - loss: 2.3117 - mae: 1.2014 - val_loss: 7.1364 - val_mae: 2.1136\n",
            "Epoch 224/250\n",
            "178/178 [==============================] - 28s 153ms/step - loss: 2.3210 - mae: 1.2067 - val_loss: 9.0622 - val_mae: 2.2950\n",
            "Epoch 225/250\n",
            "178/178 [==============================] - 23s 127ms/step - loss: 2.4538 - mae: 1.2331 - val_loss: 9.5467 - val_mae: 2.3828\n",
            "Epoch 226/250\n",
            "178/178 [==============================] - 27s 148ms/step - loss: 2.6808 - mae: 1.2862 - val_loss: 5.6927 - val_mae: 1.8346\n",
            "Epoch 227/250\n",
            "178/178 [==============================] - 23s 126ms/step - loss: 2.3033 - mae: 1.2026 - val_loss: 8.3643 - val_mae: 2.2548\n",
            "Epoch 228/250\n",
            "178/178 [==============================] - 27s 151ms/step - loss: 2.4785 - mae: 1.2141 - val_loss: 7.6742 - val_mae: 2.1633\n",
            "Epoch 229/250\n",
            "178/178 [==============================] - 27s 151ms/step - loss: 2.1851 - mae: 1.1662 - val_loss: 5.7925 - val_mae: 1.8345\n",
            "Epoch 230/250\n",
            "178/178 [==============================] - 27s 150ms/step - loss: 2.2101 - mae: 1.1660 - val_loss: 6.4616 - val_mae: 1.9982\n",
            "Epoch 231/250\n",
            "178/178 [==============================] - 23s 127ms/step - loss: 2.1063 - mae: 1.1498 - val_loss: 5.0189 - val_mae: 1.7234\n",
            "Epoch 232/250\n",
            "178/178 [==============================] - 27s 147ms/step - loss: 2.3090 - mae: 1.1741 - val_loss: 8.4953 - val_mae: 2.2552\n",
            "Epoch 233/250\n",
            "178/178 [==============================] - 27s 148ms/step - loss: 2.1401 - mae: 1.1535 - val_loss: 5.6729 - val_mae: 1.8538\n",
            "Epoch 234/250\n",
            "178/178 [==============================] - 27s 149ms/step - loss: 2.3370 - mae: 1.1787 - val_loss: 5.0947 - val_mae: 1.7690\n",
            "Epoch 235/250\n",
            "178/178 [==============================] - 27s 150ms/step - loss: 5.4212 - mae: 1.5404 - val_loss: 34.0521 - val_mae: 4.6260\n",
            "Epoch 236/250\n",
            "178/178 [==============================] - 28s 152ms/step - loss: 14.6953 - mae: 2.6607 - val_loss: 18.7777 - val_mae: 2.9307\n",
            "Epoch 237/250\n",
            "178/178 [==============================] - 28s 154ms/step - loss: 11.0008 - mae: 2.3235 - val_loss: 18.1072 - val_mae: 2.8197\n",
            "Epoch 238/250\n",
            "178/178 [==============================] - 27s 151ms/step - loss: 11.1569 - mae: 2.2272 - val_loss: 17.5201 - val_mae: 2.7740\n",
            "Epoch 239/250\n",
            "178/178 [==============================] - 28s 152ms/step - loss: 11.0719 - mae: 2.1963 - val_loss: 10.2772 - val_mae: 2.3241\n",
            "Epoch 240/250\n",
            "178/178 [==============================] - 27s 151ms/step - loss: 10.0652 - mae: 2.0951 - val_loss: 13.9750 - val_mae: 2.5112\n",
            "Epoch 241/250\n",
            "178/178 [==============================] - 27s 150ms/step - loss: 10.4831 - mae: 2.1307 - val_loss: 19.2134 - val_mae: 2.9792\n",
            "Epoch 242/250\n",
            "178/178 [==============================] - 27s 151ms/step - loss: 8.9920 - mae: 2.0266 - val_loss: 8.3453 - val_mae: 2.1704\n",
            "Epoch 243/250\n",
            "178/178 [==============================] - 27s 150ms/step - loss: 6.3585 - mae: 1.8893 - val_loss: 7.4998 - val_mae: 2.0879\n",
            "Epoch 244/250\n",
            "178/178 [==============================] - 28s 153ms/step - loss: 5.3647 - mae: 1.7706 - val_loss: 7.3287 - val_mae: 2.0865\n",
            "Epoch 245/250\n",
            "178/178 [==============================] - 27s 150ms/step - loss: 5.4697 - mae: 1.7607 - val_loss: 11.9028 - val_mae: 2.6584\n",
            "Epoch 246/250\n",
            "178/178 [==============================] - 28s 154ms/step - loss: 4.9430 - mae: 1.7056 - val_loss: 8.3683 - val_mae: 2.2095\n",
            "Epoch 247/250\n",
            "178/178 [==============================] - 28s 151ms/step - loss: 6.5883 - mae: 1.8200 - val_loss: 9.9553 - val_mae: 2.2535\n",
            "Epoch 248/250\n",
            "178/178 [==============================] - 28s 155ms/step - loss: 6.3627 - mae: 1.7766 - val_loss: 7.6169 - val_mae: 2.0431\n",
            "Epoch 249/250\n",
            "178/178 [==============================] - 27s 151ms/step - loss: 5.2435 - mae: 1.7086 - val_loss: 7.7558 - val_mae: 2.1451\n",
            "Epoch 250/250\n",
            "178/178 [==============================] - 23s 123ms/step - loss: 5.1450 - mae: 1.6528 - val_loss: 7.0582 - val_mae: 2.0674\n"
          ]
        }
      ]
    },
    {
      "cell_type": "code",
      "source": [
        "loss = history.history['loss']\n",
        "val_loss = history.history['val_loss']\n",
        "mae = history.history['mae']\n",
        "val_mae = history.history['val_mae']\n",
        "\n",
        "\n",
        "epochs_x = range(len(loss))\n",
        "\n",
        "\n",
        "# plt.plot(epochs_x, mae, 'go', label='Training MAE')\n",
        "plt.plot(epochs_x, mae, 'o', color ='darkviolet', label='Training MAE')\n",
        "plt.plot(epochs_x, val_mae, 'k', label='Validation MAE')\n",
        "plt.title('Training and validation MeanAbsoluteError')\n",
        "plt.legend()\n",
        "\n",
        "plt.figure()\n",
        "# plt.plot(epochs_x, loss, 'go', label='Training loss')\n",
        "plt.plot(epochs_x, loss, 'o', color ='darkviolet', label='Training loss')\n",
        "plt.plot(epochs_x, val_loss, 'k', label='Validation loss')\n",
        "plt.title('Training and validation loss')\n",
        "plt.legend()\n",
        "\n",
        "plt.show()"
      ],
      "metadata": {
        "id": "Y3K89-CM-dfg",
        "colab": {
          "base_uri": "https://localhost:8080/",
          "height": 887
        },
        "outputId": "4176b6cc-91e8-414f-a653-50d531a4ba0e"
      },
      "execution_count": null,
      "outputs": [
        {
          "output_type": "display_data",
          "data": {
            "text/plain": [
              "<Figure size 640x480 with 1 Axes>"
            ],
            "image/png": "[encoded data removed]"
          },
          "metadata": {}
        },
        {
          "output_type": "display_data",
          "data": {
            "text/plain": [
              "<Figure size 640x480 with 1 Axes>"
            ],
            "image/png": "[encoded data removed]"
          },
          "metadata": {}
        }
      ]
    },
    {
      "cell_type": "code",
      "source": [
        "epochs_x"
      ],
      "metadata": {
        "id": "N_sP_ZmSY-Jv",
        "colab": {
          "base_uri": "https://localhost:8080/"
        },
        "outputId": "0eeadfb1-1794-430c-93ea-beb66a5d3c79"
      },
      "execution_count": null,
      "outputs": [
        {
          "output_type": "execute_result",
          "data": {
            "text/plain": [
              "range(0, 250)"
            ]
          },
          "metadata": {},
          "execution_count": 20
        }
      ]
    },
    {
      "cell_type": "markdown",
      "source": [
        "#Download the model\n"
      ],
      "metadata": {
        "id": "R19IJQSYoW7J"
      }
    },
    {
      "cell_type": "code",
      "source": [
        "os.makedirs('/content/drive/My Drive/cut_panoramic/Model', exist_ok=True)\n",
        "model.save('/content/drive/My Drive/All_File_Lt/Model/Regression/5/5.3_(4e-4)AR3_Unfreeze_250_Lt.h5')"
      ],
      "metadata": {
        "id": "Zed4TdFcG2iJ"
      },
      "execution_count": null,
      "outputs": []
    },
    {
      "cell_type": "markdown",
      "source": [],
      "metadata": {
        "id": "n5YxZ-5QjQ0-"
      }
    },
    {
      "cell_type": "code",
      "source": [
        "# from google.colab import files\n",
        "# files.download('/content/drive/My Drive/cut_panoramic/Model/1.1_รอบแรก_Flimpano_Male125_250.h5')"
      ],
      "metadata": {
        "id": "P5eMxm1NV-oY"
      },
      "execution_count": null,
      "outputs": []
    },
    {
      "cell_type": "code",
      "source": [
        "\n"
      ],
      "metadata": {
        "id": "wY_pDlxkRwxS"
      },
      "execution_count": null,
      "outputs": []
    },
    {
      "cell_type": "code",
      "source": [],
      "metadata": {
        "id": "bwanKzbTjUeu"
      },
      "execution_count": null,
      "outputs": []
    }
  ]
}
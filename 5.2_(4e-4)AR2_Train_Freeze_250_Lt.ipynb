{
  "nbformat": 4,
  "nbformat_minor": 0,
  "metadata": {
    "colab": {
      "provenance": [],
      "machine_shape": "hm",
      "include_colab_link": true
    },
    "kernelspec": {
      "name": "python3",
      "display_name": "Python 3"
    },
    "language_info": {
      "name": "python"
    },
    "accelerator": "GPU",
    "gpuClass": "standard"
  },
  "cells": [
    {
      "cell_type": "markdown",
      "metadata": {
        "id": "view-in-github",
        "colab_type": "text"
      },
      "source": [
        "<a href=\"https://colab.research.google.com/github/Wanita-8943/My_Main_Project_Lt-/blob/main/5.2_(4e-4)AR2_Train_Freeze_250_Lt.ipynb\" target=\"_parent\"><img src=\"https://colab.research.google.com/assets/colab-badge.svg\" alt=\"Open In Colab\"/></a>"
      ]
    },
    {
      "cell_type": "markdown",
      "source": [
        "#เรียกใช้ CSV"
      ],
      "metadata": {
        "id": "ow7eWoNw6U-c"
      }
    },
    {
      "cell_type": "code",
      "execution_count": null,
      "metadata": {
        "id": "z8o_VVNXzcL8"
      },
      "outputs": [],
      "source": [
        "import pandas as pd\n",
        "import shutil"
      ]
    },
    {
      "cell_type": "code",
      "source": [
        "from google.colab import drive\n",
        "drive.mount('/content/drive')"
      ],
      "metadata": {
        "colab": {
          "base_uri": "https://localhost:8080/"
        },
        "id": "1_2Fe8u81d5r",
        "outputId": "69e63897-d1bb-4221-bf02-4a035da9d5c7"
      },
      "execution_count": null,
      "outputs": [
        {
          "output_type": "stream",
          "name": "stdout",
          "text": [
            "Mounted at /content/drive\n"
          ]
        }
      ]
    },
    {
      "cell_type": "markdown",
      "source": [
        "#Imports"
      ],
      "metadata": {
        "id": "5qxePnnn7TGW"
      }
    },
    {
      "cell_type": "code",
      "source": [
        "from tensorflow.keras import models\n",
        "from tensorflow.keras import layers\n",
        "from tensorflow.keras import optimizers\n",
        "import os\n",
        "import glob\n",
        "import shutil\n",
        "import sys\n",
        "import numpy as np\n",
        "from skimage.io import imread\n",
        "import matplotlib.pyplot as plt\n",
        "from IPython.display import Image\n",
        "%matplotlib inline"
      ],
      "metadata": {
        "id": "D-hCRloc3t39"
      },
      "execution_count": null,
      "outputs": []
    },
    {
      "cell_type": "code",
      "source": [
        "import tensorflow as tf\n",
        "from tensorflow.keras import Sequential\n",
        "from tensorflow.keras.layers import Dense\n",
        "from tensorflow.keras.optimizers import Adam\n",
        "from tensorflow.keras import backend as K"
      ],
      "metadata": {
        "id": "YZWXwjXeGxZP"
      },
      "execution_count": null,
      "outputs": []
    },
    {
      "cell_type": "markdown",
      "source": [
        "#กำหนดค่าพารามิเตอร์\n"
      ],
      "metadata": {
        "id": "RooqSdBc7QHC"
      }
    },
    {
      "cell_type": "code",
      "source": [
        "batch_size = 16\n",
        "width = 150\n",
        "height = 150\n",
        "epochs = 250\n",
        "NUM_TRAIN = 2850\n",
        "NUM_TEST = 950\n",
        "dropout_rate = 0.2\n",
        "input_shape = (height, width, 3)"
      ],
      "metadata": {
        "id": "thDb7U9B3xOo"
      },
      "execution_count": null,
      "outputs": []
    },
    {
      "cell_type": "markdown",
      "source": [
        "#Clone efficientnet repo\n"
      ],
      "metadata": {
        "id": "pumGmy6f3eSW"
      }
    },
    {
      "cell_type": "code",
      "source": [
        "#ดึงข้อมูลใน Github มาใช้\n",
        "import os\n",
        "%cd /content\n",
        "if not os.path.isdir(\"efficientnet_keras_transfer_learning\"):\n",
        " !git clone https://github.com/Wanita-8943/efficientnet_keras_transfer_learning\n",
        "%cd efficientnet_keras_transfer_learning/\n"
      ],
      "metadata": {
        "colab": {
          "base_uri": "https://localhost:8080/"
        },
        "id": "P7iy2f8n16p0",
        "outputId": "d02eeb20-f638-4c1d-d537-6dcfea60aa6e"
      },
      "execution_count": null,
      "outputs": [
        {
          "output_type": "stream",
          "name": "stdout",
          "text": [
            "/content\n",
            "Cloning into 'efficientnet_keras_transfer_learning'...\n",
            "remote: Enumerating objects: 1085, done.\u001b[K\n",
            "remote: Counting objects: 100% (248/248), done.\u001b[K\n",
            "remote: Compressing objects: 100% (127/127), done.\u001b[K\n",
            "remote: Total 1085 (delta 124), reused 241 (delta 121), pack-reused 837\u001b[K\n",
            "Receiving objects: 100% (1085/1085), 14.09 MiB | 15.11 MiB/s, done.\n",
            "Resolving deltas: 100% (621/621), done.\n",
            "/content/efficientnet_keras_transfer_learning\n"
          ]
        }
      ]
    },
    {
      "cell_type": "code",
      "source": [
        "# Options: EfficientNetB0, EfficientNetB1, EfficientNetB2, EfficientNetB3\n",
        "# Higher the number, the more complex the model is.\n",
        "from efficientnet import EfficientNetB0 as Net\n",
        "from efficientnet import center_crop_and_resize, preprocess_input"
      ],
      "metadata": {
        "id": "tjZBRnfo3bN0"
      },
      "execution_count": null,
      "outputs": []
    },
    {
      "cell_type": "code",
      "source": [
        "# loading pretrained conv base model\n",
        "# โหลดโมเดล มาโดยตัด output ของโมเดลออก เเต่ยังใช้ input อันเดิม\n",
        "# เเละโหลด weight ของโมเดล มาด้วยที่ชื่อว่า imagenet\n",
        "conv_base = Net(weights='imagenet', include_top=False, input_shape=input_shape)"
      ],
      "metadata": {
        "colab": {
          "base_uri": "https://localhost:8080/"
        },
        "id": "tbxD67_GHa1R",
        "outputId": "330962b5-896f-4f6c-937c-6793c6013961"
      },
      "execution_count": null,
      "outputs": [
        {
          "output_type": "stream",
          "name": "stdout",
          "text": [
            "Downloading data from https://github.com/qubvel/efficientnet/releases/download/v0.0.1/efficientnet-b0_imagenet_1000_notop.h5\n",
            "16717576/16717576 [==============================] - 0s 0us/step\n"
          ]
        }
      ]
    },
    {
      "cell_type": "markdown",
      "source": [
        "#load model\n"
      ],
      "metadata": {
        "id": "gUXNvjTfg97D"
      }
    },
    {
      "cell_type": "code",
      "source": [
        "import sys\n",
        "sys.path.append('/content/drive/My Drive/All_File_Lt/Model/Regression/5/5.1_(4e-4)AR1_Freeze_250_Lt.h5')\n",
        "\n",
        "from efficientnet.layers import Swish, DropConnect\n",
        "from efficientnet.model import ConvKernalInitializer\n",
        "from tensorflow.keras.utils import get_custom_objects\n",
        "\n",
        "get_custom_objects().update({\n",
        "    'ConvKernalInitializer': ConvKernalInitializer,\n",
        "    'Swish': Swish,\n",
        "    'DropConnect':DropConnect\n",
        "})"
      ],
      "metadata": {
        "id": "tdEdMUM6g8-K"
      },
      "execution_count": null,
      "outputs": []
    },
    {
      "cell_type": "code",
      "source": [
        "#load model \n",
        "from tensorflow.keras.models import load_model\n",
        "model = load_model('/content/drive/My Drive/All_File_Lt/Model/Regression/5/5.1_(4e-4)AR1_Freeze_250_Lt.h5')\n",
        "height = width = model.input_shape[1]"
      ],
      "metadata": {
        "id": "51y00AmKhFVp"
      },
      "execution_count": null,
      "outputs": []
    },
    {
      "cell_type": "code",
      "source": [
        "model.summary()"
      ],
      "metadata": {
        "colab": {
          "base_uri": "https://localhost:8080/"
        },
        "id": "veq6Mp-GYE2V",
        "outputId": "5e147188-8317-4345-a2ee-13ae3f150837"
      },
      "execution_count": null,
      "outputs": [
        {
          "output_type": "stream",
          "name": "stdout",
          "text": [
            "Model: \"sequential\"\n",
            "_________________________________________________________________\n",
            " Layer (type)                Output Shape              Param #   \n",
            "=================================================================\n",
            " efficientnet-b0 (Functional  (None, 5, 5, 1280)       4049564   \n",
            " )                                                               \n",
            "                                                                 \n",
            " gap (GlobalMaxPooling2D)    (None, 1280)              0         \n",
            "                                                                 \n",
            " dropout_out (Dropout)       (None, 1280)              0         \n",
            "                                                                 \n",
            " fc_out (Dense)              (None, 19)                24339     \n",
            "                                                                 \n",
            " dense (Dense)               (None, 1)                 20        \n",
            "                                                                 \n",
            "=================================================================\n",
            "Total params: 4,073,923\n",
            "Trainable params: 24,359\n",
            "Non-trainable params: 4,049,564\n",
            "_________________________________________________________________\n"
          ]
        }
      ]
    },
    {
      "cell_type": "markdown",
      "source": [
        "#สร้างโฟลเดอร์ Train Valodation และ Test"
      ],
      "metadata": {
        "id": "J36J9EAE7qSB"
      }
    },
    {
      "cell_type": "code",
      "source": [
        "df = pd.read_csv (r'/content/drive/MyDrive/All_File_Lt/Data/All_Data_Lt.csv')\n",
        "df"
      ],
      "metadata": {
        "colab": {
          "base_uri": "https://localhost:8080/",
          "height": 424
        },
        "id": "skoKhKJDngAZ",
        "outputId": "46ade690-1d11-4d85-fb11-4b005ae4878b"
      },
      "execution_count": null,
      "outputs": [
        {
          "output_type": "execute_result",
          "data": {
            "text/plain": [
              "      Fig_Age  Fig_Person Class_Age+Gender Class_Age  Class_0-18  Age(year)  \\\n",
              "0           1           1             Y07F       Y07           0          7   \n",
              "1           2           1             Y07F       Y07           0          7   \n",
              "2           3           2             Y07F       Y07           0          7   \n",
              "3           4           2             Y07F       Y07           0          7   \n",
              "4           5           3             Y07F       Y07           0          7   \n",
              "...       ...         ...              ...       ...         ...        ...   \n",
              "4745      121          77             Y25M       Y25          18         25   \n",
              "4746      122          78             Y25M       Y25          18         25   \n",
              "4747      123          78             Y25M       Y25          18         25   \n",
              "4748      124          79             Y25M       Y25          18         25   \n",
              "4749      125          79             Y25M       Y25          18         25   \n",
              "\n",
              "      Class_0-1       Filename  \\\n",
              "0             0         V1.jpg   \n",
              "1             0    Flip_V1.jpg   \n",
              "2             0         V2.jpg   \n",
              "3             0    Flip_V2.jpg   \n",
              "4             0         V3.jpg   \n",
              "...         ...            ...   \n",
              "4745          1  Flip_J463.jpg   \n",
              "4746          1       J464.jpg   \n",
              "4747          1  Flip_J464.jpg   \n",
              "4748          1       J465.jpg   \n",
              "4749          1  Flip_J465.jpg   \n",
              "\n",
              "                                          Path_filename     Sex Floder  \n",
              "0     /content/drive/My Drive/All_File_Lt/TVT_All_Lt...  Female   Both  \n",
              "1     /content/drive/My Drive/All_File_Lt/TVT_All_Lt...  Female   Both  \n",
              "2     /content/drive/My Drive/All_File_Lt/TVT_All_Lt...  Female   Both  \n",
              "3     /content/drive/My Drive/All_File_Lt/TVT_All_Lt...  Female   Both  \n",
              "4     /content/drive/My Drive/All_File_Lt/TVT_All_Lt...  Female   Both  \n",
              "...                                                 ...     ...    ...  \n",
              "4745  /content/drive/My Drive/All_File_Lt/TVT_All_Lt...    Male   Both  \n",
              "4746  /content/drive/My Drive/All_File_Lt/TVT_All_Lt...    Male   Both  \n",
              "4747  /content/drive/My Drive/All_File_Lt/TVT_All_Lt...    Male   Both  \n",
              "4748  /content/drive/My Drive/All_File_Lt/TVT_All_Lt...    Male   Both  \n",
              "4749  /content/drive/My Drive/All_File_Lt/TVT_All_Lt...    Male   Both  \n",
              "\n",
              "[4750 rows x 11 columns]"
            ],
            "text/html": [
              "\n",
              "  <div id=\"df-7d3131e4-0887-47eb-892d-ae82ea297428\">\n",
              "    <div class=\"colab-df-container\">\n",
              "      <div>\n",
              "<style scoped>\n",
              "    .dataframe tbody tr th:only-of-type {\n",
              "        vertical-align: middle;\n",
              "    }\n",
              "\n",
              "    .dataframe tbody tr th {\n",
              "        vertical-align: top;\n",
              "    }\n",
              "\n",
              "    .dataframe thead th {\n",
              "        text-align: right;\n",
              "    }\n",
              "</style>\n",
              "<table border=\"1\" class=\"dataframe\">\n",
              "  <thead>\n",
              "    <tr style=\"text-align: right;\">\n",
              "      <th></th>\n",
              "      <th>Fig_Age</th>\n",
              "      <th>Fig_Person</th>\n",
              "      <th>Class_Age+Gender</th>\n",
              "      <th>Class_Age</th>\n",
              "      <th>Class_0-18</th>\n",
              "      <th>Age(year)</th>\n",
              "      <th>Class_0-1</th>\n",
              "      <th>Filename</th>\n",
              "      <th>Path_filename</th>\n",
              "      <th>Sex</th>\n",
              "      <th>Floder</th>\n",
              "    </tr>\n",
              "  </thead>\n",
              "  <tbody>\n",
              "    <tr>\n",
              "      <th>0</th>\n",
              "      <td>1</td>\n",
              "      <td>1</td>\n",
              "      <td>Y07F</td>\n",
              "      <td>Y07</td>\n",
              "      <td>0</td>\n",
              "      <td>7</td>\n",
              "      <td>0</td>\n",
              "      <td>V1.jpg</td>\n",
              "      <td>/content/drive/My Drive/All_File_Lt/TVT_All_Lt...</td>\n",
              "      <td>Female</td>\n",
              "      <td>Both</td>\n",
              "    </tr>\n",
              "    <tr>\n",
              "      <th>1</th>\n",
              "      <td>2</td>\n",
              "      <td>1</td>\n",
              "      <td>Y07F</td>\n",
              "      <td>Y07</td>\n",
              "      <td>0</td>\n",
              "      <td>7</td>\n",
              "      <td>0</td>\n",
              "      <td>Flip_V1.jpg</td>\n",
              "      <td>/content/drive/My Drive/All_File_Lt/TVT_All_Lt...</td>\n",
              "      <td>Female</td>\n",
              "      <td>Both</td>\n",
              "    </tr>\n",
              "    <tr>\n",
              "      <th>2</th>\n",
              "      <td>3</td>\n",
              "      <td>2</td>\n",
              "      <td>Y07F</td>\n",
              "      <td>Y07</td>\n",
              "      <td>0</td>\n",
              "      <td>7</td>\n",
              "      <td>0</td>\n",
              "      <td>V2.jpg</td>\n",
              "      <td>/content/drive/My Drive/All_File_Lt/TVT_All_Lt...</td>\n",
              "      <td>Female</td>\n",
              "      <td>Both</td>\n",
              "    </tr>\n",
              "    <tr>\n",
              "      <th>3</th>\n",
              "      <td>4</td>\n",
              "      <td>2</td>\n",
              "      <td>Y07F</td>\n",
              "      <td>Y07</td>\n",
              "      <td>0</td>\n",
              "      <td>7</td>\n",
              "      <td>0</td>\n",
              "      <td>Flip_V2.jpg</td>\n",
              "      <td>/content/drive/My Drive/All_File_Lt/TVT_All_Lt...</td>\n",
              "      <td>Female</td>\n",
              "      <td>Both</td>\n",
              "    </tr>\n",
              "    <tr>\n",
              "      <th>4</th>\n",
              "      <td>5</td>\n",
              "      <td>3</td>\n",
              "      <td>Y07F</td>\n",
              "      <td>Y07</td>\n",
              "      <td>0</td>\n",
              "      <td>7</td>\n",
              "      <td>0</td>\n",
              "      <td>V3.jpg</td>\n",
              "      <td>/content/drive/My Drive/All_File_Lt/TVT_All_Lt...</td>\n",
              "      <td>Female</td>\n",
              "      <td>Both</td>\n",
              "    </tr>\n",
              "    <tr>\n",
              "      <th>...</th>\n",
              "      <td>...</td>\n",
              "      <td>...</td>\n",
              "      <td>...</td>\n",
              "      <td>...</td>\n",
              "      <td>...</td>\n",
              "      <td>...</td>\n",
              "      <td>...</td>\n",
              "      <td>...</td>\n",
              "      <td>...</td>\n",
              "      <td>...</td>\n",
              "      <td>...</td>\n",
              "    </tr>\n",
              "    <tr>\n",
              "      <th>4745</th>\n",
              "      <td>121</td>\n",
              "      <td>77</td>\n",
              "      <td>Y25M</td>\n",
              "      <td>Y25</td>\n",
              "      <td>18</td>\n",
              "      <td>25</td>\n",
              "      <td>1</td>\n",
              "      <td>Flip_J463.jpg</td>\n",
              "      <td>/content/drive/My Drive/All_File_Lt/TVT_All_Lt...</td>\n",
              "      <td>Male</td>\n",
              "      <td>Both</td>\n",
              "    </tr>\n",
              "    <tr>\n",
              "      <th>4746</th>\n",
              "      <td>122</td>\n",
              "      <td>78</td>\n",
              "      <td>Y25M</td>\n",
              "      <td>Y25</td>\n",
              "      <td>18</td>\n",
              "      <td>25</td>\n",
              "      <td>1</td>\n",
              "      <td>J464.jpg</td>\n",
              "      <td>/content/drive/My Drive/All_File_Lt/TVT_All_Lt...</td>\n",
              "      <td>Male</td>\n",
              "      <td>Both</td>\n",
              "    </tr>\n",
              "    <tr>\n",
              "      <th>4747</th>\n",
              "      <td>123</td>\n",
              "      <td>78</td>\n",
              "      <td>Y25M</td>\n",
              "      <td>Y25</td>\n",
              "      <td>18</td>\n",
              "      <td>25</td>\n",
              "      <td>1</td>\n",
              "      <td>Flip_J464.jpg</td>\n",
              "      <td>/content/drive/My Drive/All_File_Lt/TVT_All_Lt...</td>\n",
              "      <td>Male</td>\n",
              "      <td>Both</td>\n",
              "    </tr>\n",
              "    <tr>\n",
              "      <th>4748</th>\n",
              "      <td>124</td>\n",
              "      <td>79</td>\n",
              "      <td>Y25M</td>\n",
              "      <td>Y25</td>\n",
              "      <td>18</td>\n",
              "      <td>25</td>\n",
              "      <td>1</td>\n",
              "      <td>J465.jpg</td>\n",
              "      <td>/content/drive/My Drive/All_File_Lt/TVT_All_Lt...</td>\n",
              "      <td>Male</td>\n",
              "      <td>Both</td>\n",
              "    </tr>\n",
              "    <tr>\n",
              "      <th>4749</th>\n",
              "      <td>125</td>\n",
              "      <td>79</td>\n",
              "      <td>Y25M</td>\n",
              "      <td>Y25</td>\n",
              "      <td>18</td>\n",
              "      <td>25</td>\n",
              "      <td>1</td>\n",
              "      <td>Flip_J465.jpg</td>\n",
              "      <td>/content/drive/My Drive/All_File_Lt/TVT_All_Lt...</td>\n",
              "      <td>Male</td>\n",
              "      <td>Both</td>\n",
              "    </tr>\n",
              "  </tbody>\n",
              "</table>\n",
              "<p>4750 rows × 11 columns</p>\n",
              "</div>\n",
              "      <button class=\"colab-df-convert\" onclick=\"convertToInteractive('df-7d3131e4-0887-47eb-892d-ae82ea297428')\"\n",
              "              title=\"Convert this dataframe to an interactive table.\"\n",
              "              style=\"display:none;\">\n",
              "        \n",
              "  <svg xmlns=\"http://www.w3.org/2000/svg\" height=\"24px\"viewBox=\"0 0 24 24\"\n",
              "       width=\"24px\">\n",
              "    <path d=\"M0 0h24v24H0V0z\" fill=\"none\"/>\n",
              "    <path d=\"M18.56 5.44l.94 2.06.94-2.06 2.06-.94-2.06-.94-.94-2.06-.94 2.06-2.06.94zm-11 1L8.5 8.5l.94-2.06 2.06-.94-2.06-.94L8.5 2.5l-.94 2.06-2.06.94zm10 10l.94 2.06.94-2.06 2.06-.94-2.06-.94-.94-2.06-.94 2.06-2.06.94z\"/><path d=\"M17.41 7.96l-1.37-1.37c-.4-.4-.92-.59-1.43-.59-.52 0-1.04.2-1.43.59L10.3 9.45l-7.72 7.72c-.78.78-.78 2.05 0 2.83L4 21.41c.39.39.9.59 1.41.59.51 0 1.02-.2 1.41-.59l7.78-7.78 2.81-2.81c.8-.78.8-2.07 0-2.86zM5.41 20L4 18.59l7.72-7.72 1.47 1.35L5.41 20z\"/>\n",
              "  </svg>\n",
              "      </button>\n",
              "      \n",
              "  <style>\n",
              "    .colab-df-container {\n",
              "      display:flex;\n",
              "      flex-wrap:wrap;\n",
              "      gap: 12px;\n",
              "    }\n",
              "\n",
              "    .colab-df-convert {\n",
              "      background-color: #E8F0FE;\n",
              "      border: none;\n",
              "      border-radius: 50%;\n",
              "      cursor: pointer;\n",
              "      display: none;\n",
              "      fill: #1967D2;\n",
              "      height: 32px;\n",
              "      padding: 0 0 0 0;\n",
              "      width: 32px;\n",
              "    }\n",
              "\n",
              "    .colab-df-convert:hover {\n",
              "      background-color: #E2EBFA;\n",
              "      box-shadow: 0px 1px 2px rgba(60, 64, 67, 0.3), 0px 1px 3px 1px rgba(60, 64, 67, 0.15);\n",
              "      fill: #174EA6;\n",
              "    }\n",
              "\n",
              "    [theme=dark] .colab-df-convert {\n",
              "      background-color: #3B4455;\n",
              "      fill: #D2E3FC;\n",
              "    }\n",
              "\n",
              "    [theme=dark] .colab-df-convert:hover {\n",
              "      background-color: #434B5C;\n",
              "      box-shadow: 0px 1px 3px 1px rgba(0, 0, 0, 0.15);\n",
              "      filter: drop-shadow(0px 1px 2px rgba(0, 0, 0, 0.3));\n",
              "      fill: #FFFFFF;\n",
              "    }\n",
              "  </style>\n",
              "\n",
              "      <script>\n",
              "        const buttonEl =\n",
              "          document.querySelector('#df-7d3131e4-0887-47eb-892d-ae82ea297428 button.colab-df-convert');\n",
              "        buttonEl.style.display =\n",
              "          google.colab.kernel.accessAllowed ? 'block' : 'none';\n",
              "\n",
              "        async function convertToInteractive(key) {\n",
              "          const element = document.querySelector('#df-7d3131e4-0887-47eb-892d-ae82ea297428');\n",
              "          const dataTable =\n",
              "            await google.colab.kernel.invokeFunction('convertToInteractive',\n",
              "                                                     [key], {});\n",
              "          if (!dataTable) return;\n",
              "\n",
              "          const docLinkHtml = 'Like what you see? Visit the ' +\n",
              "            '<a target=\"_blank\" href=https://colab.research.google.com/notebooks/data_table.ipynb>data table notebook</a>'\n",
              "            + ' to learn more about interactive tables.';\n",
              "          element.innerHTML = '';\n",
              "          dataTable['output_type'] = 'display_data';\n",
              "          await google.colab.output.renderOutput(dataTable, element);\n",
              "          const docLink = document.createElement('div');\n",
              "          docLink.innerHTML = docLinkHtml;\n",
              "          element.appendChild(docLink);\n",
              "        }\n",
              "      </script>\n",
              "    </div>\n",
              "  </div>\n",
              "  "
            ]
          },
          "metadata": {},
          "execution_count": 12
        }
      ]
    },
    {
      "cell_type": "code",
      "source": [
        "train = df[df['Fig_Age'].between(1,75)]\n",
        "val = df[df['Fig_Age'].between(76,100)]"
      ],
      "metadata": {
        "id": "Z1zBw01Gl8Ac"
      },
      "execution_count": null,
      "outputs": []
    },
    {
      "cell_type": "code",
      "source": [
        "DATA_PATH = \"/content/drive/My Drive/All_File_Lt/TVT_All_Lt\"\n",
        "os.chdir(DATA_PATH)\n",
        "train_dir = os.path.join(DATA_PATH, 'train')\n",
        "print(train_dir)\n",
        "validation_dir = os.path.join(DATA_PATH, 'validation')\n",
        "print(validation_dir)"
      ],
      "metadata": {
        "colab": {
          "base_uri": "https://localhost:8080/"
        },
        "id": "QL0g-8iOnMC4",
        "outputId": "706cb6a2-6332-4380-8372-57375621e44e"
      },
      "execution_count": null,
      "outputs": [
        {
          "output_type": "stream",
          "name": "stdout",
          "text": [
            "/content/drive/My Drive/All_File_Lt/TVT_All_Lt/train\n",
            "/content/drive/My Drive/All_File_Lt/TVT_All_Lt/validation\n"
          ]
        }
      ]
    },
    {
      "cell_type": "markdown",
      "source": [
        "\n",
        "#Train"
      ],
      "metadata": {
        "id": "bWEnlTSwazL5"
      }
    },
    {
      "cell_type": "code",
      "source": [
        "# Train ด้วย ImageDataGenerator ของ Keras ซึ่งจะเพิ่มข้อมูลเสริมระหว่างการฝึกเพื่อลดโอกาสเกิด overfitting\n",
        "#overfitting เกิดจากข้อมูลที่ซับซ้อนกันเกินไป\n",
        "from tensorflow.keras.preprocessing.image import ImageDataGenerator\n",
        "\n",
        "train_datagen = ImageDataGenerator(\n",
        "      rescale=1./255, #โมเดลส่วนใหญ่ต้องใช้ RGB ในช่วง 0–1\n",
        "      rotation_range=40,\n",
        "      width_shift_range=0.2,\n",
        "      height_shift_range=0.2,\n",
        "      shear_range=0.2,\n",
        "      zoom_range=0.2,\n",
        "      horizontal_flip=True,\n",
        "      fill_mode='nearest')\n",
        "\n",
        "# Note that the validation data should not be augmented!\n",
        "test_datagen = ImageDataGenerator(rescale=1./255)\n",
        "\n",
        "train_generator = train_datagen.flow_from_dataframe(\n",
        "        dataframe = train,\n",
        "        directory = train_dir,\n",
        "        x_col = 'Path_filename',\n",
        "        y_col = 'Age(year)',\n",
        "        class_mode = 'other',\n",
        "        target_size=(height, width),\n",
        "        batch_size=batch_size)\n",
        "\n",
        "validation_generator = test_datagen.flow_from_dataframe(\n",
        "        dataframe = val,\n",
        "        directory = validation_dir,\n",
        "        x_col = 'Path_filename',\n",
        "        y_col = 'Age(year)',\n",
        "        class_mode = 'other',\n",
        "        target_size=(height, width),\n",
        "        batch_size=batch_size)"
      ],
      "metadata": {
        "id": "xGPrsn9no_pa",
        "outputId": "8f2adb82-8565-47b9-90a6-765f3cc790b2",
        "colab": {
          "base_uri": "https://localhost:8080/"
        }
      },
      "execution_count": null,
      "outputs": [
        {
          "output_type": "stream",
          "name": "stdout",
          "text": [
            "Found 2850 validated image filenames.\n",
            "Found 950 validated image filenames.\n"
          ]
        }
      ]
    },
    {
      "cell_type": "code",
      "source": [
        "model.compile(loss='mse',\n",
        "          optimizer=Adam(learning_rate=4e-4),\n",
        "          metrics=['mae'])\n",
        "history = model.fit_generator(\n",
        "      train_generator,\n",
        "      steps_per_epoch= NUM_TRAIN //batch_size,\n",
        "      epochs=epochs,\n",
        "      validation_data=validation_generator,\n",
        "      validation_steps= NUM_TEST //batch_size,\n",
        "      verbose=1,\n",
        "      use_multiprocessing=True,\n",
        "      workers=4)"
      ],
      "metadata": {
        "id": "N6qUmmF856ZE",
        "outputId": "520a47b1-5429-461d-a5ba-6489af3b3365",
        "colab": {
          "base_uri": "https://localhost:8080/"
        }
      },
      "execution_count": null,
      "outputs": [
        {
          "output_type": "stream",
          "name": "stderr",
          "text": [
            "<ipython-input-16-23c2d5617436>:4: UserWarning: `Model.fit_generator` is deprecated and will be removed in a future version. Please use `Model.fit`, which supports generators.\n",
            "  history = model.fit_generator(\n"
          ]
        },
        {
          "output_type": "stream",
          "name": "stdout",
          "text": [
            "Epoch 1/250\n",
            "178/178 [==============================] - 669s 4s/step - loss: 30.0184 - mae: 4.7390 - val_loss: 29.8911 - val_mae: 4.7279\n",
            "Epoch 2/250\n",
            "178/178 [==============================] - 26s 144ms/step - loss: 30.0067 - mae: 4.7369 - val_loss: 30.0646 - val_mae: 4.7447\n",
            "Epoch 3/250\n",
            "178/178 [==============================] - 26s 141ms/step - loss: 30.0073 - mae: 4.7373 - val_loss: 30.0001 - val_mae: 4.7352\n",
            "Epoch 4/250\n",
            "178/178 [==============================] - 25s 135ms/step - loss: 30.0332 - mae: 4.7397 - val_loss: 29.9629 - val_mae: 4.7321\n",
            "Epoch 5/250\n",
            "178/178 [==============================] - 25s 140ms/step - loss: 29.9869 - mae: 4.7362 - val_loss: 30.0043 - val_mae: 4.7355\n",
            "Epoch 6/250\n",
            "178/178 [==============================] - 26s 142ms/step - loss: 29.9761 - mae: 4.7364 - val_loss: 30.0097 - val_mae: 4.7407\n",
            "Epoch 7/250\n",
            "178/178 [==============================] - 25s 140ms/step - loss: 29.9596 - mae: 4.7336 - val_loss: 30.0170 - val_mae: 4.7374\n",
            "Epoch 8/250\n",
            "178/178 [==============================] - 25s 136ms/step - loss: 30.0265 - mae: 4.7394 - val_loss: 29.9852 - val_mae: 4.7331\n",
            "Epoch 9/250\n",
            "178/178 [==============================] - 25s 136ms/step - loss: 30.0339 - mae: 4.7399 - val_loss: 29.9672 - val_mae: 4.7343\n",
            "Epoch 10/250\n",
            "178/178 [==============================] - 25s 137ms/step - loss: 30.0061 - mae: 4.7364 - val_loss: 29.9884 - val_mae: 4.7341\n",
            "Epoch 11/250\n",
            "178/178 [==============================] - 25s 139ms/step - loss: 30.0337 - mae: 4.7404 - val_loss: 30.0212 - val_mae: 4.7373\n",
            "Epoch 12/250\n",
            "178/178 [==============================] - 25s 141ms/step - loss: 30.0152 - mae: 4.7383 - val_loss: 30.0138 - val_mae: 4.7364\n",
            "Epoch 13/250\n",
            "178/178 [==============================] - 26s 141ms/step - loss: 30.0202 - mae: 4.7395 - val_loss: 29.9652 - val_mae: 4.7321\n",
            "Epoch 14/250\n",
            "178/178 [==============================] - 26s 141ms/step - loss: 29.9862 - mae: 4.7357 - val_loss: 30.0742 - val_mae: 4.7458\n",
            "Epoch 15/250\n",
            "178/178 [==============================] - 25s 137ms/step - loss: 30.0205 - mae: 4.7398 - val_loss: 29.9991 - val_mae: 4.7386\n",
            "Epoch 16/250\n",
            "178/178 [==============================] - 26s 141ms/step - loss: 30.0114 - mae: 4.7398 - val_loss: 30.1081 - val_mae: 4.7481\n",
            "Epoch 17/250\n",
            "178/178 [==============================] - 25s 135ms/step - loss: 29.9954 - mae: 4.7359 - val_loss: 29.8666 - val_mae: 4.7226\n",
            "Epoch 18/250\n",
            "178/178 [==============================] - 25s 136ms/step - loss: 30.0526 - mae: 4.7434 - val_loss: 30.1123 - val_mae: 4.7522\n",
            "Epoch 19/250\n",
            "178/178 [==============================] - 25s 138ms/step - loss: 30.0219 - mae: 4.7391 - val_loss: 30.0180 - val_mae: 4.7384\n",
            "Epoch 20/250\n",
            "178/178 [==============================] - 25s 136ms/step - loss: 30.0855 - mae: 4.7461 - val_loss: 29.9258 - val_mae: 4.7268\n",
            "Epoch 21/250\n",
            "178/178 [==============================] - 21s 116ms/step - loss: 29.9888 - mae: 4.7356 - val_loss: 30.0404 - val_mae: 4.7417\n",
            "Epoch 22/250\n",
            "178/178 [==============================] - 25s 138ms/step - loss: 30.0111 - mae: 4.7381 - val_loss: 29.9927 - val_mae: 4.7364\n",
            "Epoch 23/250\n",
            "178/178 [==============================] - 25s 138ms/step - loss: 29.9593 - mae: 4.7337 - val_loss: 30.0974 - val_mae: 4.7480\n",
            "Epoch 24/250\n",
            "178/178 [==============================] - 25s 137ms/step - loss: 29.9980 - mae: 4.7370 - val_loss: 29.8899 - val_mae: 4.7247\n",
            "Epoch 25/250\n",
            "178/178 [==============================] - 25s 138ms/step - loss: 29.9090 - mae: 4.7292 - val_loss: 29.9354 - val_mae: 4.7278\n",
            "Epoch 26/250\n",
            "178/178 [==============================] - 25s 137ms/step - loss: 30.0528 - mae: 4.7441 - val_loss: 30.0213 - val_mae: 4.7417\n",
            "Epoch 27/250\n",
            "178/178 [==============================] - 24s 135ms/step - loss: 30.0230 - mae: 4.7385 - val_loss: 30.1292 - val_mae: 4.7501\n",
            "Epoch 28/250\n",
            "178/178 [==============================] - 24s 135ms/step - loss: 30.0270 - mae: 4.7391 - val_loss: 30.0084 - val_mae: 4.7354\n",
            "Epoch 29/250\n",
            "178/178 [==============================] - 24s 135ms/step - loss: 30.0245 - mae: 4.7395 - val_loss: 29.9121 - val_mae: 4.7320\n",
            "Epoch 30/250\n",
            "178/178 [==============================] - 24s 134ms/step - loss: 30.0456 - mae: 4.7412 - val_loss: 30.1155 - val_mae: 4.7511\n",
            "Epoch 31/250\n",
            "178/178 [==============================] - 24s 135ms/step - loss: 29.9584 - mae: 4.7310 - val_loss: 29.9693 - val_mae: 4.7341\n",
            "Epoch 32/250\n",
            "178/178 [==============================] - 25s 138ms/step - loss: 29.9404 - mae: 4.7330 - val_loss: 29.9449 - val_mae: 4.7290\n",
            "Epoch 33/250\n",
            "178/178 [==============================] - 25s 138ms/step - loss: 30.0342 - mae: 4.7396 - val_loss: 29.9735 - val_mae: 4.7363\n",
            "Epoch 34/250\n",
            "178/178 [==============================] - 25s 138ms/step - loss: 30.0309 - mae: 4.7416 - val_loss: 30.0551 - val_mae: 4.7416\n",
            "Epoch 35/250\n",
            "178/178 [==============================] - 25s 138ms/step - loss: 29.9692 - mae: 4.7342 - val_loss: 30.0149 - val_mae: 4.7353\n",
            "Epoch 36/250\n",
            "178/178 [==============================] - 25s 139ms/step - loss: 30.0146 - mae: 4.7388 - val_loss: 30.0551 - val_mae: 4.7416\n",
            "Epoch 37/250\n",
            "178/178 [==============================] - 25s 137ms/step - loss: 30.0231 - mae: 4.7422 - val_loss: 30.0043 - val_mae: 4.7397\n",
            "Epoch 38/250\n",
            "178/178 [==============================] - 25s 136ms/step - loss: 30.0324 - mae: 4.7406 - val_loss: 29.8104 - val_mae: 4.7194\n",
            "Epoch 39/250\n",
            "178/178 [==============================] - 25s 136ms/step - loss: 30.0393 - mae: 4.7428 - val_loss: 30.0698 - val_mae: 4.7439\n",
            "Epoch 40/250\n",
            "178/178 [==============================] - 25s 136ms/step - loss: 29.9817 - mae: 4.7363 - val_loss: 30.0160 - val_mae: 4.7386\n",
            "Epoch 41/250\n",
            "178/178 [==============================] - 25s 137ms/step - loss: 30.0448 - mae: 4.7399 - val_loss: 30.0688 - val_mae: 4.7449\n",
            "Epoch 42/250\n",
            "178/178 [==============================] - 25s 139ms/step - loss: 29.9478 - mae: 4.7334 - val_loss: 30.0922 - val_mae: 4.7450\n",
            "Epoch 43/250\n",
            "178/178 [==============================] - 25s 139ms/step - loss: 30.0361 - mae: 4.7416 - val_loss: 30.0361 - val_mae: 4.7376\n",
            "Epoch 44/250\n",
            "178/178 [==============================] - 24s 134ms/step - loss: 30.0337 - mae: 4.7402 - val_loss: 30.0041 - val_mae: 4.7355\n",
            "Epoch 45/250\n",
            "178/178 [==============================] - 20s 108ms/step - loss: 30.0118 - mae: 4.7380 - val_loss: 29.9342 - val_mae: 4.7292\n",
            "Epoch 46/250\n",
            "178/178 [==============================] - 25s 139ms/step - loss: 29.9726 - mae: 4.7337 - val_loss: 30.0710 - val_mae: 4.7430\n",
            "Epoch 47/250\n",
            "178/178 [==============================] - 25s 138ms/step - loss: 30.0395 - mae: 4.7429 - val_loss: 30.0204 - val_mae: 4.7388\n",
            "Epoch 48/250\n",
            "178/178 [==============================] - 25s 136ms/step - loss: 29.9485 - mae: 4.7301 - val_loss: 29.9664 - val_mae: 4.7335\n",
            "Epoch 49/250\n",
            "178/178 [==============================] - 25s 135ms/step - loss: 30.0634 - mae: 4.7443 - val_loss: 30.0577 - val_mae: 4.7442\n",
            "Epoch 50/250\n",
            "178/178 [==============================] - 24s 135ms/step - loss: 29.9262 - mae: 4.7301 - val_loss: 29.9226 - val_mae: 4.7281\n",
            "Epoch 51/250\n",
            "178/178 [==============================] - 25s 135ms/step - loss: 29.9629 - mae: 4.7335 - val_loss: 30.0084 - val_mae: 4.7354\n",
            "Epoch 52/250\n",
            "178/178 [==============================] - 25s 137ms/step - loss: 30.0116 - mae: 4.7384 - val_loss: 30.0955 - val_mae: 4.7461\n",
            "Epoch 53/250\n",
            "178/178 [==============================] - 26s 141ms/step - loss: 29.9234 - mae: 4.7303 - val_loss: 29.9947 - val_mae: 4.7341\n",
            "Epoch 54/250\n",
            "178/178 [==============================] - 20s 113ms/step - loss: 30.1102 - mae: 4.7493 - val_loss: 30.0636 - val_mae: 4.7416\n",
            "Epoch 55/250\n",
            "178/178 [==============================] - 25s 138ms/step - loss: 29.9647 - mae: 4.7324 - val_loss: 29.9025 - val_mae: 4.7268\n",
            "Epoch 56/250\n",
            "178/178 [==============================] - 25s 138ms/step - loss: 29.9600 - mae: 4.7317 - val_loss: 29.8984 - val_mae: 4.7269\n",
            "Epoch 57/250\n",
            "178/178 [==============================] - 24s 135ms/step - loss: 30.0459 - mae: 4.7431 - val_loss: 30.0084 - val_mae: 4.7374\n",
            "Epoch 58/250\n",
            "178/178 [==============================] - 24s 135ms/step - loss: 30.0224 - mae: 4.7370 - val_loss: 29.8529 - val_mae: 4.7216\n",
            "Epoch 59/250\n",
            "178/178 [==============================] - 25s 140ms/step - loss: 29.9804 - mae: 4.7355 - val_loss: 30.0245 - val_mae: 4.7387\n",
            "Epoch 60/250\n",
            "178/178 [==============================] - 25s 135ms/step - loss: 29.9869 - mae: 4.7359 - val_loss: 30.0520 - val_mae: 4.7408\n",
            "Epoch 61/250\n",
            "178/178 [==============================] - 21s 113ms/step - loss: 29.9400 - mae: 4.7311 - val_loss: 30.0223 - val_mae: 4.7407\n",
            "Epoch 62/250\n",
            "178/178 [==============================] - 25s 136ms/step - loss: 29.9796 - mae: 4.7354 - val_loss: 29.9575 - val_mae: 4.7332\n",
            "Epoch 63/250\n",
            "178/178 [==============================] - 25s 138ms/step - loss: 30.0204 - mae: 4.7397 - val_loss: 30.0137 - val_mae: 4.7363\n",
            "Epoch 64/250\n",
            "178/178 [==============================] - 25s 139ms/step - loss: 30.0066 - mae: 4.7365 - val_loss: 30.1197 - val_mae: 4.7491\n",
            "Epoch 65/250\n",
            "178/178 [==============================] - 25s 136ms/step - loss: 29.9742 - mae: 4.7328 - val_loss: 30.1071 - val_mae: 4.7449\n",
            "Epoch 66/250\n",
            "178/178 [==============================] - 25s 136ms/step - loss: 29.9890 - mae: 4.7349 - val_loss: 29.9365 - val_mae: 4.7312\n",
            "Epoch 67/250\n",
            "178/178 [==============================] - 25s 136ms/step - loss: 29.9814 - mae: 4.7338 - val_loss: 30.0209 - val_mae: 4.7375\n",
            "Epoch 68/250\n",
            "178/178 [==============================] - 25s 135ms/step - loss: 29.9866 - mae: 4.7352 - val_loss: 30.0296 - val_mae: 4.7374\n",
            "Epoch 69/250\n",
            "178/178 [==============================] - 25s 135ms/step - loss: 29.9729 - mae: 4.7338 - val_loss: 29.9500 - val_mae: 4.7323\n",
            "Epoch 70/250\n",
            "178/178 [==============================] - 24s 135ms/step - loss: 30.0357 - mae: 4.7417 - val_loss: 30.0657 - val_mae: 4.7438\n",
            "Epoch 71/250\n",
            "178/178 [==============================] - 24s 134ms/step - loss: 29.9933 - mae: 4.7354 - val_loss: 29.9736 - val_mae: 4.7365\n",
            "Epoch 72/250\n",
            "178/178 [==============================] - 25s 136ms/step - loss: 29.9382 - mae: 4.7314 - val_loss: 29.9640 - val_mae: 4.7331\n",
            "Epoch 73/250\n",
            "178/178 [==============================] - 25s 137ms/step - loss: 29.9930 - mae: 4.7367 - val_loss: 29.9810 - val_mae: 4.7374\n",
            "Epoch 74/250\n",
            "178/178 [==============================] - 24s 133ms/step - loss: 30.0118 - mae: 4.7383 - val_loss: 30.0487 - val_mae: 4.7458\n",
            "Epoch 75/250\n",
            "178/178 [==============================] - 20s 110ms/step - loss: 30.0035 - mae: 4.7362 - val_loss: 30.0085 - val_mae: 4.7394\n",
            "Epoch 76/250\n",
            "178/178 [==============================] - 25s 137ms/step - loss: 29.9673 - mae: 4.7349 - val_loss: 30.1684 - val_mae: 4.7574\n",
            "Epoch 77/250\n",
            "178/178 [==============================] - 24s 134ms/step - loss: 29.9969 - mae: 4.7353 - val_loss: 30.0159 - val_mae: 4.7363\n",
            "Epoch 78/250\n",
            "178/178 [==============================] - 25s 136ms/step - loss: 30.0491 - mae: 4.7419 - val_loss: 29.9759 - val_mae: 4.7322\n",
            "Epoch 79/250\n",
            "178/178 [==============================] - 20s 109ms/step - loss: 29.9553 - mae: 4.7323 - val_loss: 30.0160 - val_mae: 4.7387\n",
            "Epoch 80/250\n",
            "178/178 [==============================] - 25s 140ms/step - loss: 30.0164 - mae: 4.7394 - val_loss: 29.8761 - val_mae: 4.7237\n",
            "Epoch 81/250\n",
            "178/178 [==============================] - 20s 111ms/step - loss: 29.9630 - mae: 4.7323 - val_loss: 30.0868 - val_mae: 4.7439\n",
            "Epoch 82/250\n",
            "178/178 [==============================] - 25s 136ms/step - loss: 30.0408 - mae: 4.7413 - val_loss: 29.9799 - val_mae: 4.7363\n",
            "Epoch 83/250\n",
            "178/178 [==============================] - 25s 138ms/step - loss: 30.0431 - mae: 4.7412 - val_loss: 29.9568 - val_mae: 4.7343\n",
            "Epoch 84/250\n",
            "178/178 [==============================] - 25s 140ms/step - loss: 30.0022 - mae: 4.7358 - val_loss: 30.0085 - val_mae: 4.7375\n",
            "Epoch 85/250\n",
            "178/178 [==============================] - 25s 137ms/step - loss: 29.9925 - mae: 4.7359 - val_loss: 29.9906 - val_mae: 4.7343\n",
            "Epoch 86/250\n",
            "178/178 [==============================] - 20s 110ms/step - loss: 29.9916 - mae: 4.7366 - val_loss: 30.1061 - val_mae: 4.7482\n",
            "Epoch 87/250\n",
            "178/178 [==============================] - 25s 137ms/step - loss: 30.0334 - mae: 4.7405 - val_loss: 30.0815 - val_mae: 4.7427\n",
            "Epoch 88/250\n",
            "178/178 [==============================] - 25s 141ms/step - loss: 29.9875 - mae: 4.7356 - val_loss: 29.9333 - val_mae: 4.7300\n",
            "Epoch 89/250\n",
            "178/178 [==============================] - 25s 138ms/step - loss: 29.9989 - mae: 4.7373 - val_loss: 29.9534 - val_mae: 4.7309\n",
            "Epoch 90/250\n",
            "178/178 [==============================] - 25s 136ms/step - loss: 29.9829 - mae: 4.7356 - val_loss: 30.0373 - val_mae: 4.7409\n",
            "Epoch 91/250\n",
            "178/178 [==============================] - 24s 135ms/step - loss: 29.9834 - mae: 4.7362 - val_loss: 30.0731 - val_mae: 4.7406\n",
            "Epoch 92/250\n",
            "178/178 [==============================] - 24s 135ms/step - loss: 30.0865 - mae: 4.7457 - val_loss: 29.9545 - val_mae: 4.7321\n",
            "Epoch 93/250\n",
            "178/178 [==============================] - 25s 135ms/step - loss: 30.0251 - mae: 4.7387 - val_loss: 29.9714 - val_mae: 4.7342\n",
            "Epoch 94/250\n",
            "178/178 [==============================] - 25s 138ms/step - loss: 30.0269 - mae: 4.7391 - val_loss: 30.0477 - val_mae: 4.7405\n",
            "Epoch 95/250\n",
            "178/178 [==============================] - 25s 140ms/step - loss: 29.9729 - mae: 4.7345 - val_loss: 29.9374 - val_mae: 4.7301\n",
            "Epoch 96/250\n",
            "178/178 [==============================] - 24s 134ms/step - loss: 29.9519 - mae: 4.7327 - val_loss: 29.9756 - val_mae: 4.7343\n",
            "Epoch 97/250\n",
            "178/178 [==============================] - 24s 135ms/step - loss: 30.0630 - mae: 4.7449 - val_loss: 30.0126 - val_mae: 4.7376\n",
            "Epoch 98/250\n",
            "178/178 [==============================] - 24s 134ms/step - loss: 29.9448 - mae: 4.7318 - val_loss: 29.9439 - val_mae: 4.7323\n",
            "Epoch 99/250\n",
            "178/178 [==============================] - 24s 135ms/step - loss: 30.0125 - mae: 4.7374 - val_loss: 30.0138 - val_mae: 4.7384\n",
            "Epoch 100/250\n",
            "178/178 [==============================] - 25s 138ms/step - loss: 29.9340 - mae: 4.7306 - val_loss: 29.8940 - val_mae: 4.7269\n",
            "Epoch 101/250\n",
            "178/178 [==============================] - 25s 140ms/step - loss: 29.9969 - mae: 4.7385 - val_loss: 29.9895 - val_mae: 4.7375\n",
            "Epoch 102/250\n",
            "178/178 [==============================] - 25s 135ms/step - loss: 30.0647 - mae: 4.7445 - val_loss: 29.9280 - val_mae: 4.7312\n",
            "Epoch 103/250\n",
            "178/178 [==============================] - 24s 135ms/step - loss: 29.9359 - mae: 4.7310 - val_loss: 30.0401 - val_mae: 4.7395\n",
            "Epoch 104/250\n",
            "178/178 [==============================] - 24s 134ms/step - loss: 30.0436 - mae: 4.7408 - val_loss: 30.0265 - val_mae: 4.7384\n",
            "Epoch 105/250\n",
            "178/178 [==============================] - 24s 135ms/step - loss: 30.0207 - mae: 4.7394 - val_loss: 29.9131 - val_mae: 4.7267\n",
            "Epoch 106/250\n",
            "178/178 [==============================] - 25s 136ms/step - loss: 29.9333 - mae: 4.7302 - val_loss: 29.9692 - val_mae: 4.7320\n",
            "Epoch 107/250\n",
            "178/178 [==============================] - 25s 140ms/step - loss: 30.0333 - mae: 4.7412 - val_loss: 29.8919 - val_mae: 4.7288\n",
            "Epoch 108/250\n",
            "178/178 [==============================] - 25s 136ms/step - loss: 29.9811 - mae: 4.7356 - val_loss: 30.0890 - val_mae: 4.7479\n",
            "Epoch 109/250\n",
            "178/178 [==============================] - 24s 135ms/step - loss: 29.9597 - mae: 4.7324 - val_loss: 30.0285 - val_mae: 4.7363\n",
            "Epoch 110/250\n",
            "178/178 [==============================] - 20s 110ms/step - loss: 30.0403 - mae: 4.7433 - val_loss: 30.0731 - val_mae: 4.7429\n",
            "Epoch 111/250\n",
            "178/178 [==============================] - 25s 140ms/step - loss: 30.0128 - mae: 4.7370 - val_loss: 30.0181 - val_mae: 4.7386\n",
            "Epoch 112/250\n",
            "178/178 [==============================] - 25s 136ms/step - loss: 30.0477 - mae: 4.7414 - val_loss: 30.0613 - val_mae: 4.7440\n",
            "Epoch 113/250\n",
            "178/178 [==============================] - 24s 134ms/step - loss: 29.9905 - mae: 4.7359 - val_loss: 30.0340 - val_mae: 4.7419\n",
            "Epoch 114/250\n",
            "178/178 [==============================] - 24s 135ms/step - loss: 29.9733 - mae: 4.7331 - val_loss: 29.8625 - val_mae: 4.7250\n",
            "Epoch 115/250\n",
            "178/178 [==============================] - 24s 134ms/step - loss: 30.0038 - mae: 4.7380 - val_loss: 30.0297 - val_mae: 4.7377\n",
            "Epoch 116/250\n",
            "178/178 [==============================] - 25s 136ms/step - loss: 30.0289 - mae: 4.7400 - val_loss: 30.0323 - val_mae: 4.7421\n",
            "Epoch 117/250\n",
            "178/178 [==============================] - 25s 139ms/step - loss: 29.9841 - mae: 4.7360 - val_loss: 30.0403 - val_mae: 4.7398\n",
            "Epoch 118/250\n",
            "178/178 [==============================] - 25s 138ms/step - loss: 30.0795 - mae: 4.7455 - val_loss: 30.0539 - val_mae: 4.7450\n",
            "Epoch 119/250\n",
            "178/178 [==============================] - 24s 134ms/step - loss: 29.9977 - mae: 4.7361 - val_loss: 30.0106 - val_mae: 4.7400\n",
            "Epoch 120/250\n",
            "178/178 [==============================] - 20s 109ms/step - loss: 30.0028 - mae: 4.7382 - val_loss: 30.0314 - val_mae: 4.7370\n",
            "Epoch 121/250\n",
            "178/178 [==============================] - 25s 138ms/step - loss: 30.0531 - mae: 4.7445 - val_loss: 29.9822 - val_mae: 4.7388\n",
            "Epoch 122/250\n",
            "178/178 [==============================] - 25s 139ms/step - loss: 29.8428 - mae: 4.7219 - val_loss: 29.9887 - val_mae: 4.7326\n",
            "Epoch 123/250\n",
            "178/178 [==============================] - 24s 134ms/step - loss: 29.9717 - mae: 4.7334 - val_loss: 30.0288 - val_mae: 4.7368\n",
            "Epoch 124/250\n",
            "178/178 [==============================] - 24s 134ms/step - loss: 30.0086 - mae: 4.7393 - val_loss: 30.0559 - val_mae: 4.7432\n",
            "Epoch 125/250\n",
            "178/178 [==============================] - 24s 134ms/step - loss: 29.9818 - mae: 4.7362 - val_loss: 29.9882 - val_mae: 4.7366\n",
            "Epoch 126/250\n",
            "178/178 [==============================] - 24s 134ms/step - loss: 30.0219 - mae: 4.7414 - val_loss: 29.9975 - val_mae: 4.7378\n",
            "Epoch 127/250\n",
            "178/178 [==============================] - 24s 135ms/step - loss: 29.9506 - mae: 4.7331 - val_loss: 30.1288 - val_mae: 4.7497\n",
            "Epoch 128/250\n",
            "178/178 [==============================] - 24s 134ms/step - loss: 30.0458 - mae: 4.7419 - val_loss: 30.0208 - val_mae: 4.7391\n",
            "Epoch 129/250\n",
            "178/178 [==============================] - 25s 136ms/step - loss: 30.0091 - mae: 4.7382 - val_loss: 30.0470 - val_mae: 4.7421\n",
            "Epoch 130/250\n",
            "178/178 [==============================] - 25s 139ms/step - loss: 29.9410 - mae: 4.7310 - val_loss: 29.9635 - val_mae: 4.7335\n",
            "Epoch 131/250\n",
            "178/178 [==============================] - 25s 141ms/step - loss: 30.0453 - mae: 4.7415 - val_loss: 30.0820 - val_mae: 4.7454\n",
            "Epoch 132/250\n",
            "178/178 [==============================] - 24s 134ms/step - loss: 29.9927 - mae: 4.7364 - val_loss: 29.9938 - val_mae: 4.7399\n",
            "Epoch 133/250\n",
            "178/178 [==============================] - 24s 135ms/step - loss: 29.9509 - mae: 4.7319 - val_loss: 29.8717 - val_mae: 4.7239\n",
            "Epoch 134/250\n",
            "178/178 [==============================] - 24s 135ms/step - loss: 29.9834 - mae: 4.7355 - val_loss: 29.9810 - val_mae: 4.7356\n",
            "Epoch 135/250\n",
            "178/178 [==============================] - 25s 134ms/step - loss: 29.9706 - mae: 4.7350 - val_loss: 29.9449 - val_mae: 4.7333\n",
            "Epoch 136/250\n",
            "178/178 [==============================] - 25s 138ms/step - loss: 29.9946 - mae: 4.7371 - val_loss: 30.1092 - val_mae: 4.7512\n",
            "Epoch 137/250\n",
            "178/178 [==============================] - 25s 141ms/step - loss: 30.0177 - mae: 4.7403 - val_loss: 29.8646 - val_mae: 4.7248\n",
            "Epoch 138/250\n",
            "178/178 [==============================] - 25s 135ms/step - loss: 29.9646 - mae: 4.7340 - val_loss: 29.9564 - val_mae: 4.7303\n",
            "Epoch 139/250\n",
            "178/178 [==============================] - 24s 134ms/step - loss: 30.0032 - mae: 4.7370 - val_loss: 29.9425 - val_mae: 4.7291\n",
            "Epoch 140/250\n",
            "178/178 [==============================] - 25s 136ms/step - loss: 29.9748 - mae: 4.7365 - val_loss: 29.9771 - val_mae: 4.7355\n",
            "Epoch 141/250\n",
            "178/178 [==============================] - 24s 135ms/step - loss: 30.0236 - mae: 4.7387 - val_loss: 30.0380 - val_mae: 4.7417\n",
            "Epoch 142/250\n",
            "178/178 [==============================] - 25s 136ms/step - loss: 30.0793 - mae: 4.7458 - val_loss: 30.0095 - val_mae: 4.7384\n",
            "Epoch 143/250\n",
            "178/178 [==============================] - 25s 139ms/step - loss: 29.9439 - mae: 4.7311 - val_loss: 29.9333 - val_mae: 4.7300\n",
            "Epoch 144/250\n",
            "178/178 [==============================] - 25s 137ms/step - loss: 29.9742 - mae: 4.7364 - val_loss: 30.0350 - val_mae: 4.7406\n",
            "Epoch 145/250\n",
            "178/178 [==============================] - 24s 134ms/step - loss: 29.9990 - mae: 4.7365 - val_loss: 29.9555 - val_mae: 4.7310\n",
            "Epoch 146/250\n",
            "178/178 [==============================] - 21s 114ms/step - loss: 30.0102 - mae: 4.7388 - val_loss: 30.0350 - val_mae: 4.7385\n",
            "Epoch 147/250\n",
            "178/178 [==============================] - 25s 139ms/step - loss: 29.9236 - mae: 4.7311 - val_loss: 29.9004 - val_mae: 4.7269\n",
            "Epoch 148/250\n",
            "178/178 [==============================] - 25s 138ms/step - loss: 30.0310 - mae: 4.7402 - val_loss: 30.0020 - val_mae: 4.7375\n",
            "Epoch 149/250\n",
            "178/178 [==============================] - 24s 134ms/step - loss: 30.0421 - mae: 4.7426 - val_loss: 30.0348 - val_mae: 4.7406\n",
            "Epoch 150/250\n",
            "178/178 [==============================] - 25s 136ms/step - loss: 29.9962 - mae: 4.7353 - val_loss: 30.1167 - val_mae: 4.7502\n",
            "Epoch 151/250\n",
            "178/178 [==============================] - 24s 135ms/step - loss: 30.0212 - mae: 4.7412 - val_loss: 30.0745 - val_mae: 4.7440\n",
            "Epoch 152/250\n",
            "178/178 [==============================] - 20s 109ms/step - loss: 29.9546 - mae: 4.7336 - val_loss: 29.8803 - val_mae: 4.7260\n",
            "Epoch 153/250\n",
            "178/178 [==============================] - 25s 137ms/step - loss: 30.0222 - mae: 4.7400 - val_loss: 29.9558 - val_mae: 4.7334\n",
            "Epoch 154/250\n",
            "178/178 [==============================] - 20s 109ms/step - loss: 30.0263 - mae: 4.7406 - val_loss: 29.9557 - val_mae: 4.7314\n",
            "Epoch 155/250\n",
            "178/178 [==============================] - 25s 138ms/step - loss: 29.9909 - mae: 4.7366 - val_loss: 29.9553 - val_mae: 4.7313\n",
            "Epoch 156/250\n",
            "178/178 [==============================] - 25s 140ms/step - loss: 29.9703 - mae: 4.7356 - val_loss: 29.9501 - val_mae: 4.7346\n",
            "Epoch 157/250\n",
            "178/178 [==============================] - 25s 137ms/step - loss: 29.9728 - mae: 4.7342 - val_loss: 29.9971 - val_mae: 4.7387\n",
            "Epoch 158/250\n",
            "178/178 [==============================] - 24s 135ms/step - loss: 30.0276 - mae: 4.7402 - val_loss: 30.0339 - val_mae: 4.7375\n",
            "Epoch 159/250\n",
            "178/178 [==============================] - 24s 135ms/step - loss: 30.0610 - mae: 4.7424 - val_loss: 29.8454 - val_mae: 4.7225\n",
            "Epoch 160/250\n",
            "178/178 [==============================] - 25s 136ms/step - loss: 30.0383 - mae: 4.7423 - val_loss: 29.9799 - val_mae: 4.7343\n",
            "Epoch 161/250\n",
            "178/178 [==============================] - 24s 134ms/step - loss: 30.0601 - mae: 4.7444 - val_loss: 29.9724 - val_mae: 4.7333\n",
            "Epoch 162/250\n",
            "178/178 [==============================] - 24s 134ms/step - loss: 29.9396 - mae: 4.7304 - val_loss: 29.9545 - val_mae: 4.7320\n",
            "Epoch 163/250\n",
            "178/178 [==============================] - 24s 134ms/step - loss: 29.9610 - mae: 4.7325 - val_loss: 29.8687 - val_mae: 4.7227\n",
            "Epoch 164/250\n",
            "178/178 [==============================] - 24s 134ms/step - loss: 30.0148 - mae: 4.7400 - val_loss: 29.9792 - val_mae: 4.7334\n",
            "Epoch 165/250\n",
            "178/178 [==============================] - 25s 136ms/step - loss: 29.9939 - mae: 4.7365 - val_loss: 30.0572 - val_mae: 4.7416\n",
            "Epoch 166/250\n",
            "178/178 [==============================] - 25s 135ms/step - loss: 30.0296 - mae: 4.7420 - val_loss: 30.0487 - val_mae: 4.7438\n",
            "Epoch 167/250\n",
            "178/178 [==============================] - 25s 137ms/step - loss: 29.9743 - mae: 4.7338 - val_loss: 29.8549 - val_mae: 4.7214\n",
            "Epoch 168/250\n",
            "178/178 [==============================] - 25s 139ms/step - loss: 29.9646 - mae: 4.7320 - val_loss: 29.9387 - val_mae: 4.7289\n",
            "Epoch 169/250\n",
            "178/178 [==============================] - 25s 136ms/step - loss: 30.0123 - mae: 4.7383 - val_loss: 30.0233 - val_mae: 4.7373\n",
            "Epoch 170/250\n",
            "178/178 [==============================] - 24s 135ms/step - loss: 30.0652 - mae: 4.7441 - val_loss: 30.0530 - val_mae: 4.7415\n",
            "Epoch 171/250\n",
            "178/178 [==============================] - 24s 135ms/step - loss: 29.8994 - mae: 4.7260 - val_loss: 30.0244 - val_mae: 4.7363\n",
            "Epoch 172/250\n",
            "178/178 [==============================] - 24s 135ms/step - loss: 30.0665 - mae: 4.7440 - val_loss: 29.9979 - val_mae: 4.7331\n",
            "Epoch 173/250\n",
            "178/178 [==============================] - 25s 135ms/step - loss: 29.9440 - mae: 4.7321 - val_loss: 30.0562 - val_mae: 4.7427\n",
            "Epoch 174/250\n",
            "178/178 [==============================] - 25s 139ms/step - loss: 29.9953 - mae: 4.7378 - val_loss: 30.0000 - val_mae: 4.7355\n",
            "Epoch 175/250\n",
            "178/178 [==============================] - 25s 139ms/step - loss: 30.0086 - mae: 4.7380 - val_loss: 30.1717 - val_mae: 4.7608\n",
            "Epoch 176/250\n",
            "178/178 [==============================] - 25s 135ms/step - loss: 30.0264 - mae: 4.7407 - val_loss: 29.9301 - val_mae: 4.7290\n",
            "Epoch 177/250\n",
            "178/178 [==============================] - 24s 133ms/step - loss: 30.0125 - mae: 4.7382 - val_loss: 30.0233 - val_mae: 4.7416\n",
            "Epoch 178/250\n",
            "178/178 [==============================] - 25s 136ms/step - loss: 30.0157 - mae: 4.7365 - val_loss: 30.0572 - val_mae: 4.7437\n",
            "Epoch 179/250\n",
            "178/178 [==============================] - 24s 134ms/step - loss: 29.9876 - mae: 4.7355 - val_loss: 30.0477 - val_mae: 4.7427\n",
            "Epoch 180/250\n",
            "178/178 [==============================] - 20s 108ms/step - loss: 29.9602 - mae: 4.7344 - val_loss: 30.0350 - val_mae: 4.7405\n",
            "Epoch 181/250\n",
            "178/178 [==============================] - 26s 141ms/step - loss: 30.0196 - mae: 4.7398 - val_loss: 29.9437 - val_mae: 4.7322\n",
            "Epoch 182/250\n",
            "178/178 [==============================] - 25s 138ms/step - loss: 30.0211 - mae: 4.7391 - val_loss: 29.9493 - val_mae: 4.7353\n",
            "Epoch 183/250\n",
            "178/178 [==============================] - 20s 112ms/step - loss: 29.9930 - mae: 4.7362 - val_loss: 30.0286 - val_mae: 4.7407\n",
            "Epoch 184/250\n",
            "178/178 [==============================] - 25s 137ms/step - loss: 30.0377 - mae: 4.7409 - val_loss: 30.0191 - val_mae: 4.7375\n",
            "Epoch 185/250\n",
            "178/178 [==============================] - 21s 113ms/step - loss: 29.9433 - mae: 4.7314 - val_loss: 29.9695 - val_mae: 4.7343\n",
            "Epoch 186/250\n",
            "178/178 [==============================] - 25s 135ms/step - loss: 29.9649 - mae: 4.7335 - val_loss: 30.0625 - val_mae: 4.7406\n",
            "Epoch 187/250\n",
            "178/178 [==============================] - 24s 135ms/step - loss: 29.9880 - mae: 4.7360 - val_loss: 30.0658 - val_mae: 4.7440\n",
            "Epoch 188/250\n",
            "178/178 [==============================] - 25s 135ms/step - loss: 30.0083 - mae: 4.7388 - val_loss: 30.0668 - val_mae: 4.7428\n",
            "Epoch 189/250\n",
            "178/178 [==============================] - 25s 139ms/step - loss: 29.9852 - mae: 4.7352 - val_loss: 29.9872 - val_mae: 4.7375\n",
            "Epoch 190/250\n",
            "178/178 [==============================] - 25s 140ms/step - loss: 30.0032 - mae: 4.7382 - val_loss: 30.0316 - val_mae: 4.7396\n",
            "Epoch 191/250\n",
            "178/178 [==============================] - 24s 135ms/step - loss: 29.9974 - mae: 4.7387 - val_loss: 29.9237 - val_mae: 4.7309\n",
            "Epoch 192/250\n",
            "178/178 [==============================] - 24s 134ms/step - loss: 29.9880 - mae: 4.7345 - val_loss: 29.8951 - val_mae: 4.7258\n",
            "Epoch 193/250\n",
            "178/178 [==============================] - 21s 113ms/step - loss: 29.9863 - mae: 4.7360 - val_loss: 30.0042 - val_mae: 4.7417\n",
            "Epoch 194/250\n",
            "178/178 [==============================] - 25s 140ms/step - loss: 30.0136 - mae: 4.7405 - val_loss: 29.8835 - val_mae: 4.7247\n",
            "Epoch 195/250\n",
            "178/178 [==============================] - 25s 136ms/step - loss: 29.9864 - mae: 4.7354 - val_loss: 30.0064 - val_mae: 4.7375\n",
            "Epoch 196/250\n",
            "178/178 [==============================] - 24s 133ms/step - loss: 29.9503 - mae: 4.7331 - val_loss: 30.0795 - val_mae: 4.7447\n",
            "Epoch 197/250\n",
            "178/178 [==============================] - 19s 107ms/step - loss: 30.0212 - mae: 4.7384 - val_loss: 29.9819 - val_mae: 4.7363\n",
            "Epoch 198/250\n",
            "178/178 [==============================] - 25s 140ms/step - loss: 29.9741 - mae: 4.7339 - val_loss: 30.0042 - val_mae: 4.7334\n",
            "Epoch 199/250\n",
            "178/178 [==============================] - 24s 134ms/step - loss: 29.9873 - mae: 4.7356 - val_loss: 29.8124 - val_mae: 4.7194\n",
            "Epoch 200/250\n",
            "178/178 [==============================] - 24s 134ms/step - loss: 30.0684 - mae: 4.7440 - val_loss: 29.8844 - val_mae: 4.7278\n",
            "Epoch 201/250\n",
            "178/178 [==============================] - 25s 135ms/step - loss: 30.0313 - mae: 4.7395 - val_loss: 30.0434 - val_mae: 4.7427\n",
            "Epoch 202/250\n",
            "178/178 [==============================] - 24s 135ms/step - loss: 30.0067 - mae: 4.7384 - val_loss: 29.9672 - val_mae: 4.7300\n",
            "Epoch 203/250\n",
            "178/178 [==============================] - 25s 139ms/step - loss: 30.0249 - mae: 4.7393 - val_loss: 30.0159 - val_mae: 4.7384\n",
            "Epoch 204/250\n",
            "178/178 [==============================] - 25s 140ms/step - loss: 30.0355 - mae: 4.7409 - val_loss: 29.9524 - val_mae: 4.7321\n",
            "Epoch 205/250\n",
            "178/178 [==============================] - 25s 136ms/step - loss: 29.9437 - mae: 4.7319 - val_loss: 30.0201 - val_mae: 4.7384\n",
            "Epoch 206/250\n",
            "178/178 [==============================] - 25s 135ms/step - loss: 30.0355 - mae: 4.7419 - val_loss: 29.9492 - val_mae: 4.7332\n",
            "Epoch 207/250\n",
            "178/178 [==============================] - 24s 134ms/step - loss: 29.9459 - mae: 4.7314 - val_loss: 30.0392 - val_mae: 4.7407\n",
            "Epoch 208/250\n",
            "178/178 [==============================] - 25s 136ms/step - loss: 29.9921 - mae: 4.7360 - val_loss: 30.0530 - val_mae: 4.7437\n",
            "Epoch 209/250\n",
            "178/178 [==============================] - 25s 137ms/step - loss: 29.9862 - mae: 4.7351 - val_loss: 30.0541 - val_mae: 4.7450\n",
            "Epoch 210/250\n",
            "178/178 [==============================] - 25s 138ms/step - loss: 29.9758 - mae: 4.7344 - val_loss: 30.1006 - val_mae: 4.7471\n",
            "Epoch 211/250\n",
            "178/178 [==============================] - 25s 139ms/step - loss: 30.0666 - mae: 4.7437 - val_loss: 30.1737 - val_mae: 4.7588\n",
            "Epoch 212/250\n",
            "178/178 [==============================] - 24s 134ms/step - loss: 30.0298 - mae: 4.7431 - val_loss: 29.9521 - val_mae: 4.7302\n",
            "Epoch 213/250\n",
            "178/178 [==============================] - 25s 135ms/step - loss: 29.9891 - mae: 4.7342 - val_loss: 30.0520 - val_mae: 4.7407\n",
            "Epoch 214/250\n",
            "178/178 [==============================] - 25s 136ms/step - loss: 29.9689 - mae: 4.7340 - val_loss: 30.0254 - val_mae: 4.7374\n",
            "Epoch 215/250\n",
            "178/178 [==============================] - 24s 134ms/step - loss: 29.9821 - mae: 4.7362 - val_loss: 30.0562 - val_mae: 4.7405\n",
            "Epoch 216/250\n",
            "178/178 [==============================] - 19s 107ms/step - loss: 30.0304 - mae: 4.7400 - val_loss: 29.9820 - val_mae: 4.7341\n",
            "Epoch 217/250\n",
            "178/178 [==============================] - 25s 139ms/step - loss: 29.9677 - mae: 4.7323 - val_loss: 30.0369 - val_mae: 4.7407\n",
            "Epoch 218/250\n",
            "178/178 [==============================] - 25s 136ms/step - loss: 30.0371 - mae: 4.7417 - val_loss: 29.9375 - val_mae: 4.7321\n",
            "Epoch 219/250\n",
            "178/178 [==============================] - 24s 134ms/step - loss: 29.9965 - mae: 4.7356 - val_loss: 29.9195 - val_mae: 4.7290\n",
            "Epoch 220/250\n",
            "178/178 [==============================] - 25s 136ms/step - loss: 29.9879 - mae: 4.7349 - val_loss: 30.0223 - val_mae: 4.7363\n",
            "Epoch 221/250\n",
            "178/178 [==============================] - 24s 135ms/step - loss: 29.9317 - mae: 4.7310 - val_loss: 30.0307 - val_mae: 4.7384\n",
            "Epoch 222/250\n",
            "178/178 [==============================] - 24s 135ms/step - loss: 30.0104 - mae: 4.7380 - val_loss: 30.0593 - val_mae: 4.7396\n",
            "Epoch 223/250\n",
            "178/178 [==============================] - 24s 134ms/step - loss: 30.0303 - mae: 4.7413 - val_loss: 30.0614 - val_mae: 4.7459\n",
            "Epoch 224/250\n",
            "178/178 [==============================] - 25s 136ms/step - loss: 30.0161 - mae: 4.7388 - val_loss: 30.0307 - val_mae: 4.7384\n",
            "Epoch 225/250\n",
            "178/178 [==============================] - 25s 136ms/step - loss: 29.9235 - mae: 4.7288 - val_loss: 30.0159 - val_mae: 4.7405\n",
            "Epoch 226/250\n",
            "178/178 [==============================] - 25s 140ms/step - loss: 30.0163 - mae: 4.7398 - val_loss: 30.0244 - val_mae: 4.7427\n",
            "Epoch 227/250\n",
            "178/178 [==============================] - 25s 139ms/step - loss: 30.0431 - mae: 4.7422 - val_loss: 30.0125 - val_mae: 4.7376\n",
            "Epoch 228/250\n",
            "178/178 [==============================] - 25s 136ms/step - loss: 30.0191 - mae: 4.7378 - val_loss: 30.0647 - val_mae: 4.7427\n",
            "Epoch 229/250\n",
            "178/178 [==============================] - 25s 136ms/step - loss: 29.9889 - mae: 4.7356 - val_loss: 29.9545 - val_mae: 4.7299\n",
            "Epoch 230/250\n",
            "178/178 [==============================] - 25s 135ms/step - loss: 30.0201 - mae: 4.7381 - val_loss: 30.0000 - val_mae: 4.7373\n",
            "Epoch 231/250\n",
            "178/178 [==============================] - 20s 109ms/step - loss: 29.9831 - mae: 4.7370 - val_loss: 30.1261 - val_mae: 4.7511\n",
            "Epoch 232/250\n",
            "178/178 [==============================] - 25s 140ms/step - loss: 29.9201 - mae: 4.7292 - val_loss: 30.0265 - val_mae: 4.7385\n",
            "Epoch 233/250\n",
            "178/178 [==============================] - 25s 140ms/step - loss: 29.9866 - mae: 4.7347 - val_loss: 30.0468 - val_mae: 4.7461\n",
            "Epoch 234/250\n",
            "178/178 [==============================] - 24s 135ms/step - loss: 29.9999 - mae: 4.7371 - val_loss: 30.0646 - val_mae: 4.7447\n",
            "Epoch 235/250\n",
            "178/178 [==============================] - 21s 114ms/step - loss: 29.9883 - mae: 4.7359 - val_loss: 29.9110 - val_mae: 4.7311\n",
            "Epoch 236/250\n",
            "178/178 [==============================] - 20s 109ms/step - loss: 30.0316 - mae: 4.7390 - val_loss: 29.9494 - val_mae: 4.7312\n",
            "Epoch 237/250\n",
            "178/178 [==============================] - 25s 136ms/step - loss: 30.0645 - mae: 4.7426 - val_loss: 30.0011 - val_mae: 4.7366\n",
            "Epoch 238/250\n",
            "178/178 [==============================] - 21s 115ms/step - loss: 30.0407 - mae: 4.7398 - val_loss: 30.0351 - val_mae: 4.7387\n",
            "Epoch 239/250\n",
            "178/178 [==============================] - 25s 135ms/step - loss: 30.0005 - mae: 4.7386 - val_loss: 30.0308 - val_mae: 4.7453\n",
            "Epoch 240/250\n",
            "178/178 [==============================] - 25s 135ms/step - loss: 30.0408 - mae: 4.7404 - val_loss: 29.9628 - val_mae: 4.7346\n",
            "Epoch 241/250\n",
            "178/178 [==============================] - 24s 135ms/step - loss: 29.9862 - mae: 4.7367 - val_loss: 30.0203 - val_mae: 4.7367\n",
            "Epoch 242/250\n",
            "178/178 [==============================] - 24s 135ms/step - loss: 29.9726 - mae: 4.7342 - val_loss: 29.9663 - val_mae: 4.7335\n",
            "Epoch 243/250\n",
            "178/178 [==============================] - 24s 134ms/step - loss: 30.0221 - mae: 4.7411 - val_loss: 29.9209 - val_mae: 4.7303\n",
            "Epoch 244/250\n",
            "178/178 [==============================] - 20s 110ms/step - loss: 30.0086 - mae: 4.7373 - val_loss: 29.9619 - val_mae: 4.7336\n",
            "Epoch 245/250\n",
            "178/178 [==============================] - 25s 139ms/step - loss: 30.0050 - mae: 4.7394 - val_loss: 29.9981 - val_mae: 4.7356\n",
            "Epoch 246/250\n",
            "178/178 [==============================] - 25s 135ms/step - loss: 30.0550 - mae: 4.7411 - val_loss: 29.8821 - val_mae: 4.7240\n",
            "Epoch 247/250\n",
            "178/178 [==============================] - 24s 135ms/step - loss: 30.0399 - mae: 4.7407 - val_loss: 30.0484 - val_mae: 4.7390\n",
            "Epoch 248/250\n",
            "178/178 [==============================] - 25s 136ms/step - loss: 30.0932 - mae: 4.7461 - val_loss: 30.0424 - val_mae: 4.7395\n",
            "Epoch 249/250\n",
            "178/178 [==============================] - 25s 136ms/step - loss: 30.0195 - mae: 4.7380 - val_loss: 30.0064 - val_mae: 4.7373\n",
            "Epoch 250/250\n",
            "178/178 [==============================] - 25s 137ms/step - loss: 29.9536 - mae: 4.7336 - val_loss: 29.8983 - val_mae: 4.7288\n"
          ]
        }
      ]
    },
    {
      "cell_type": "code",
      "source": [
        "loss = history.history['loss']\n",
        "val_loss = history.history['val_loss']\n",
        "mae = history.history['mae']\n",
        "val_mae = history.history['val_mae']\n",
        "\n",
        "\n",
        "epochs_x = range(len(loss))\n",
        "\n",
        "\n",
        "# plt.plot(epochs_x, mae, 'go', label='Training MAE')\n",
        "plt.plot(epochs_x, mae, 'o', color ='darkviolet', label='Training MAE')\n",
        "plt.plot(epochs_x, val_mae, 'k', label='Validation MAE')\n",
        "plt.title('Training and validation MeanAbsoluteError')\n",
        "plt.legend()\n",
        "\n",
        "plt.figure()\n",
        "# plt.plot(epochs_x, loss, 'go', label='Training loss')\n",
        "plt.plot(epochs_x, loss, 'o', color ='darkviolet', label='Training loss')\n",
        "plt.plot(epochs_x, val_loss, 'k', label='Validation loss')\n",
        "plt.title('Training and validation loss')\n",
        "plt.legend()\n",
        "\n",
        "plt.show()"
      ],
      "metadata": {
        "id": "Y3K89-CM-dfg",
        "colab": {
          "base_uri": "https://localhost:8080/",
          "height": 887
        },
        "outputId": "b67b3dbe-8101-48d2-8761-7853371c5d12"
      },
      "execution_count": null,
      "outputs": [
        {
          "output_type": "display_data",
          "data": {
            "text/plain": [
              "<Figure size 640x480 with 1 Axes>"
            ],
            "image/png": "[encoded data removed]"
          },
          "metadata": {}
        },
        {
          "output_type": "display_data",
          "data": {
            "text/plain": [
              "<Figure size 640x480 with 1 Axes>"
            ],
            "image/png": "[encoded data removed]"
          },
          "metadata": {}
        }
      ]
    },
    {
      "cell_type": "code",
      "source": [
        "epochs_x"
      ],
      "metadata": {
        "id": "N_sP_ZmSY-Jv",
        "colab": {
          "base_uri": "https://localhost:8080/"
        },
        "outputId": "ae88b51b-482e-4d78-bcfa-e934df32011a"
      },
      "execution_count": null,
      "outputs": [
        {
          "output_type": "execute_result",
          "data": {
            "text/plain": [
              "range(0, 250)"
            ]
          },
          "metadata": {},
          "execution_count": 18
        }
      ]
    },
    {
      "cell_type": "markdown",
      "source": [
        "#Download the model\n"
      ],
      "metadata": {
        "id": "R19IJQSYoW7J"
      }
    },
    {
      "cell_type": "code",
      "source": [
        "os.makedirs('/content/drive/My Drive/cut_panoramic/Model', exist_ok=True)\n",
        "model.save('/content/drive/My Drive/All_File_Lt/Model/Regression/5/5.2_(4e-4)AR2_Freeze_250_Lt.h5')"
      ],
      "metadata": {
        "id": "Zed4TdFcG2iJ"
      },
      "execution_count": null,
      "outputs": []
    },
    {
      "cell_type": "markdown",
      "source": [],
      "metadata": {
        "id": "n5YxZ-5QjQ0-"
      }
    },
    {
      "cell_type": "code",
      "source": [
        "# from google.colab import files\n",
        "# files.download('/content/drive/My Drive/cut_panoramic/Model/1.1_รอบแรก_Flimpano_Male125_250.h5')"
      ],
      "metadata": {
        "id": "P5eMxm1NV-oY"
      },
      "execution_count": null,
      "outputs": []
    },
    {
      "cell_type": "code",
      "source": [
        "\n"
      ],
      "metadata": {
        "id": "wY_pDlxkRwxS"
      },
      "execution_count": null,
      "outputs": []
    },
    {
      "cell_type": "code",
      "source": [],
      "metadata": {
        "id": "bwanKzbTjUeu"
      },
      "execution_count": null,
      "outputs": []
    }
  ]
}
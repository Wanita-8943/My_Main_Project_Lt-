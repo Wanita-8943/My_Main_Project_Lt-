{
  "nbformat": 4,
  "nbformat_minor": 0,
  "metadata": {
    "colab": {
      "provenance": [],
      "machine_shape": "hm",
      "include_colab_link": true
    },
    "kernelspec": {
      "name": "python3",
      "display_name": "Python 3"
    },
    "language_info": {
      "name": "python"
    },
    "accelerator": "GPU",
    "gpuClass": "standard"
  },
  "cells": [
    {
      "cell_type": "markdown",
      "metadata": {
        "id": "view-in-github",
        "colab_type": "text"
      },
      "source": [
        "<a href=\"https://colab.research.google.com/github/Wanita-8943/My_Main_Project_Lt-/blob/main/AC2_Train_Freeze_250_Lt.ipynb\" target=\"_parent\"><img src=\"https://colab.research.google.com/assets/colab-badge.svg\" alt=\"Open In Colab\"/></a>"
      ]
    },
    {
      "cell_type": "markdown",
      "source": [
        "#เรียกใช้ CSV"
      ],
      "metadata": {
        "id": "ow7eWoNw6U-c"
      }
    },
    {
      "cell_type": "code",
      "execution_count": null,
      "metadata": {
        "id": "z8o_VVNXzcL8"
      },
      "outputs": [],
      "source": [
        "import pandas as pd\n",
        "import shutil"
      ]
    },
    {
      "cell_type": "code",
      "source": [
        "from google.colab import drive\n",
        "drive.mount('/content/drive')"
      ],
      "metadata": {
        "colab": {
          "base_uri": "https://localhost:8080/"
        },
        "id": "1_2Fe8u81d5r",
        "outputId": "bb6894e9-4158-4543-ba19-a14ff7105e0a"
      },
      "execution_count": null,
      "outputs": [
        {
          "output_type": "stream",
          "name": "stdout",
          "text": [
            "Mounted at /content/drive\n"
          ]
        }
      ]
    },
    {
      "cell_type": "markdown",
      "source": [
        "#Imports"
      ],
      "metadata": {
        "id": "5qxePnnn7TGW"
      }
    },
    {
      "cell_type": "code",
      "source": [
        "from tensorflow.keras import models\n",
        "from tensorflow.keras import layers\n",
        "from tensorflow.keras import optimizers\n",
        "import os\n",
        "import glob\n",
        "import shutil\n",
        "import sys\n",
        "import numpy as np\n",
        "from skimage.io import imread\n",
        "import matplotlib.pyplot as plt\n",
        "from IPython.display import Image\n",
        "%matplotlib inline"
      ],
      "metadata": {
        "id": "D-hCRloc3t39"
      },
      "execution_count": null,
      "outputs": []
    },
    {
      "cell_type": "code",
      "source": [
        "import tensorflow as tf\n",
        "from tensorflow.keras import Sequential\n",
        "from tensorflow.keras.layers import Dense\n",
        "from tensorflow.keras.optimizers import Adam\n",
        "from tensorflow.keras import backend as K"
      ],
      "metadata": {
        "id": "YZWXwjXeGxZP"
      },
      "execution_count": null,
      "outputs": []
    },
    {
      "cell_type": "markdown",
      "source": [
        "#กำหนดค่าพารามิเตอร์\n"
      ],
      "metadata": {
        "id": "RooqSdBc7QHC"
      }
    },
    {
      "cell_type": "code",
      "source": [
        "batch_size = 16\n",
        "width = 150\n",
        "height = 150\n",
        "epochs = 250\n",
        "NUM_TRAIN = 2850\n",
        "NUM_TEST = 950\n",
        "dropout_rate = 0.2\n",
        "input_shape = (height, width, 3)"
      ],
      "metadata": {
        "id": "thDb7U9B3xOo"
      },
      "execution_count": null,
      "outputs": []
    },
    {
      "cell_type": "markdown",
      "source": [
        "#Clone efficientnet repo\n"
      ],
      "metadata": {
        "id": "pumGmy6f3eSW"
      }
    },
    {
      "cell_type": "code",
      "source": [
        "#ดึงข้อมูลใน Github มาใช้\n",
        "import os\n",
        "%cd /content\n",
        "if not os.path.isdir(\"efficientnet_keras_transfer_learning\"):\n",
        " !git clone https://github.com/Wanita-8943/efficientnet_keras_transfer_learning\n",
        "%cd efficientnet_keras_transfer_learning/\n"
      ],
      "metadata": {
        "colab": {
          "base_uri": "https://localhost:8080/"
        },
        "id": "P7iy2f8n16p0",
        "outputId": "f338863c-0318-4cc1-f6cc-9e237d9499c1"
      },
      "execution_count": null,
      "outputs": [
        {
          "output_type": "stream",
          "name": "stdout",
          "text": [
            "/content\n",
            "Cloning into 'efficientnet_keras_transfer_learning'...\n",
            "remote: Enumerating objects: 1085, done.\u001b[K\n",
            "remote: Counting objects: 100% (248/248), done.\u001b[K\n",
            "remote: Compressing objects: 100% (127/127), done.\u001b[K\n",
            "remote: Total 1085 (delta 124), reused 241 (delta 121), pack-reused 837\u001b[K\n",
            "Receiving objects: 100% (1085/1085), 14.09 MiB | 18.45 MiB/s, done.\n",
            "Resolving deltas: 100% (621/621), done.\n",
            "/content/efficientnet_keras_transfer_learning\n"
          ]
        }
      ]
    },
    {
      "cell_type": "code",
      "source": [
        "# Options: EfficientNetB0, EfficientNetB1, EfficientNetB2, EfficientNetB3\n",
        "# Higher the number, the more complex the model is.\n",
        "from efficientnet import EfficientNetB0 as Net\n",
        "from efficientnet import center_crop_and_resize, preprocess_input"
      ],
      "metadata": {
        "id": "tjZBRnfo3bN0"
      },
      "execution_count": null,
      "outputs": []
    },
    {
      "cell_type": "markdown",
      "source": [
        "#load model\n"
      ],
      "metadata": {
        "id": "gUXNvjTfg97D"
      }
    },
    {
      "cell_type": "code",
      "source": [
        "import sys\n",
        "sys.path.append('/content/drive/My Drive/All_File_Lt/Model/Classification/All_Age/AC1_Freeze_250_Lt.h5')\n",
        "\n",
        "from efficientnet.layers import Swish, DropConnect\n",
        "from efficientnet.model import ConvKernalInitializer\n",
        "from tensorflow.keras.utils import get_custom_objects\n",
        "\n",
        "get_custom_objects().update({\n",
        "    'ConvKernalInitializer': ConvKernalInitializer,\n",
        "    'Swish': Swish,\n",
        "    'DropConnect':DropConnect\n",
        "})"
      ],
      "metadata": {
        "id": "tdEdMUM6g8-K"
      },
      "execution_count": null,
      "outputs": []
    },
    {
      "cell_type": "code",
      "source": [
        "#load model \n",
        "from tensorflow.keras.models import load_model\n",
        "model = load_model('/content/drive/My Drive/All_File_Lt/Model/Classification/All_Age/AC1_Freeze_250_Lt.h5')\n",
        "height = width = model.input_shape[1]"
      ],
      "metadata": {
        "colab": {
          "base_uri": "https://localhost:8080/"
        },
        "id": "51y00AmKhFVp",
        "outputId": "33c65882-3ae2-490a-bfa3-d3e438beaa35"
      },
      "execution_count": null,
      "outputs": [
        {
          "output_type": "stream",
          "name": "stderr",
          "text": [
            "WARNING:tensorflow:From /usr/local/lib/python3.9/dist-packages/tensorflow/python/autograph/pyct/static_analysis/liveness.py:83: Analyzer.lamba_check (from tensorflow.python.autograph.pyct.static_analysis.liveness) is deprecated and will be removed after 2023-09-23.\n",
            "Instructions for updating:\n",
            "Lambda fuctions will be no more assumed to be used in the statement where they are used, or at least in the same block. https://github.com/tensorflow/tensorflow/issues/56089\n"
          ]
        }
      ]
    },
    {
      "cell_type": "code",
      "source": [
        "model.summary()"
      ],
      "metadata": {
        "colab": {
          "base_uri": "https://localhost:8080/"
        },
        "id": "veq6Mp-GYE2V",
        "outputId": "e71ba907-4ff3-4e3b-c088-26d1d9b11380"
      },
      "execution_count": null,
      "outputs": [
        {
          "output_type": "stream",
          "name": "stdout",
          "text": [
            "Model: \"sequential\"\n",
            "_________________________________________________________________\n",
            " Layer (type)                Output Shape              Param #   \n",
            "=================================================================\n",
            " efficientnet-b0 (Functional  (None, 5, 5, 1280)       4049564   \n",
            " )                                                               \n",
            "                                                                 \n",
            " gap (GlobalMaxPooling2D)    (None, 1280)              0         \n",
            "                                                                 \n",
            " dropout_out (Dropout)       (None, 1280)              0         \n",
            "                                                                 \n",
            " fc_out (Dense)              (None, 19)                24339     \n",
            "                                                                 \n",
            "=================================================================\n",
            "Total params: 4,073,903\n",
            "Trainable params: 24,339\n",
            "Non-trainable params: 4,049,564\n",
            "_________________________________________________________________\n"
          ]
        }
      ]
    },
    {
      "cell_type": "markdown",
      "source": [
        "#สร้างโฟลเดอร์ Train Valodation และ Test"
      ],
      "metadata": {
        "id": "J36J9EAE7qSB"
      }
    },
    {
      "cell_type": "code",
      "source": [
        "df = pd.read_csv (r'/content/drive/MyDrive/All_File_Lt/Data/All_Data_Lt.csv')\n",
        "df"
      ],
      "metadata": {
        "colab": {
          "base_uri": "https://localhost:8080/",
          "height": 679
        },
        "id": "skoKhKJDngAZ",
        "outputId": "0463ce9b-c6d1-42be-8908-60f60f43f51b"
      },
      "execution_count": null,
      "outputs": [
        {
          "output_type": "execute_result",
          "data": {
            "text/plain": [
              "      Fig_Age  Fig_Person Class_Age+Gender Class_Age  Class_0-18  Age(year)  \\\n",
              "0           1           1             Y07F       Y07           0          7   \n",
              "1           2           1             Y07F       Y07           0          7   \n",
              "2           3           2             Y07F       Y07           0          7   \n",
              "3           4           2             Y07F       Y07           0          7   \n",
              "4           5           3             Y07F       Y07           0          7   \n",
              "...       ...         ...              ...       ...         ...        ...   \n",
              "4745      121          77             Y25M       Y25          18         25   \n",
              "4746      122          78             Y25M       Y25          18         25   \n",
              "4747      123          78             Y25M       Y25          18         25   \n",
              "4748      124          79             Y25M       Y25          18         25   \n",
              "4749      125          79             Y25M       Y25          18         25   \n",
              "\n",
              "      Class_0-1       Filename  \\\n",
              "0             0         V1.jpg   \n",
              "1             0    Flip_V1.jpg   \n",
              "2             0         V2.jpg   \n",
              "3             0    Flip_V2.jpg   \n",
              "4             0         V3.jpg   \n",
              "...         ...            ...   \n",
              "4745          1  Flip_J463.jpg   \n",
              "4746          1       J464.jpg   \n",
              "4747          1  Flip_J464.jpg   \n",
              "4748          1       J465.jpg   \n",
              "4749          1  Flip_J465.jpg   \n",
              "\n",
              "                                          Path_filename     Sex Floder  \n",
              "0     /content/drive/My Drive/All_File_Lt/TVT_All_Lt...  Female   Both  \n",
              "1     /content/drive/My Drive/All_File_Lt/TVT_All_Lt...  Female   Both  \n",
              "2     /content/drive/My Drive/All_File_Lt/TVT_All_Lt...  Female   Both  \n",
              "3     /content/drive/My Drive/All_File_Lt/TVT_All_Lt...  Female   Both  \n",
              "4     /content/drive/My Drive/All_File_Lt/TVT_All_Lt...  Female   Both  \n",
              "...                                                 ...     ...    ...  \n",
              "4745  /content/drive/My Drive/All_File_Lt/TVT_All_Lt...    Male   Both  \n",
              "4746  /content/drive/My Drive/All_File_Lt/TVT_All_Lt...    Male   Both  \n",
              "4747  /content/drive/My Drive/All_File_Lt/TVT_All_Lt...    Male   Both  \n",
              "4748  /content/drive/My Drive/All_File_Lt/TVT_All_Lt...    Male   Both  \n",
              "4749  /content/drive/My Drive/All_File_Lt/TVT_All_Lt...    Male   Both  \n",
              "\n",
              "[4750 rows x 11 columns]"
            ],
            "text/html": [
              "\n",
              "  <div id=\"df-bf23127d-90e0-4078-aaf4-16f9479d48a7\">\n",
              "    <div class=\"colab-df-container\">\n",
              "      <div>\n",
              "<style scoped>\n",
              "    .dataframe tbody tr th:only-of-type {\n",
              "        vertical-align: middle;\n",
              "    }\n",
              "\n",
              "    .dataframe tbody tr th {\n",
              "        vertical-align: top;\n",
              "    }\n",
              "\n",
              "    .dataframe thead th {\n",
              "        text-align: right;\n",
              "    }\n",
              "</style>\n",
              "<table border=\"1\" class=\"dataframe\">\n",
              "  <thead>\n",
              "    <tr style=\"text-align: right;\">\n",
              "      <th></th>\n",
              "      <th>Fig_Age</th>\n",
              "      <th>Fig_Person</th>\n",
              "      <th>Class_Age+Gender</th>\n",
              "      <th>Class_Age</th>\n",
              "      <th>Class_0-18</th>\n",
              "      <th>Age(year)</th>\n",
              "      <th>Class_0-1</th>\n",
              "      <th>Filename</th>\n",
              "      <th>Path_filename</th>\n",
              "      <th>Sex</th>\n",
              "      <th>Floder</th>\n",
              "    </tr>\n",
              "  </thead>\n",
              "  <tbody>\n",
              "    <tr>\n",
              "      <th>0</th>\n",
              "      <td>1</td>\n",
              "      <td>1</td>\n",
              "      <td>Y07F</td>\n",
              "      <td>Y07</td>\n",
              "      <td>0</td>\n",
              "      <td>7</td>\n",
              "      <td>0</td>\n",
              "      <td>V1.jpg</td>\n",
              "      <td>/content/drive/My Drive/All_File_Lt/TVT_All_Lt...</td>\n",
              "      <td>Female</td>\n",
              "      <td>Both</td>\n",
              "    </tr>\n",
              "    <tr>\n",
              "      <th>1</th>\n",
              "      <td>2</td>\n",
              "      <td>1</td>\n",
              "      <td>Y07F</td>\n",
              "      <td>Y07</td>\n",
              "      <td>0</td>\n",
              "      <td>7</td>\n",
              "      <td>0</td>\n",
              "      <td>Flip_V1.jpg</td>\n",
              "      <td>/content/drive/My Drive/All_File_Lt/TVT_All_Lt...</td>\n",
              "      <td>Female</td>\n",
              "      <td>Both</td>\n",
              "    </tr>\n",
              "    <tr>\n",
              "      <th>2</th>\n",
              "      <td>3</td>\n",
              "      <td>2</td>\n",
              "      <td>Y07F</td>\n",
              "      <td>Y07</td>\n",
              "      <td>0</td>\n",
              "      <td>7</td>\n",
              "      <td>0</td>\n",
              "      <td>V2.jpg</td>\n",
              "      <td>/content/drive/My Drive/All_File_Lt/TVT_All_Lt...</td>\n",
              "      <td>Female</td>\n",
              "      <td>Both</td>\n",
              "    </tr>\n",
              "    <tr>\n",
              "      <th>3</th>\n",
              "      <td>4</td>\n",
              "      <td>2</td>\n",
              "      <td>Y07F</td>\n",
              "      <td>Y07</td>\n",
              "      <td>0</td>\n",
              "      <td>7</td>\n",
              "      <td>0</td>\n",
              "      <td>Flip_V2.jpg</td>\n",
              "      <td>/content/drive/My Drive/All_File_Lt/TVT_All_Lt...</td>\n",
              "      <td>Female</td>\n",
              "      <td>Both</td>\n",
              "    </tr>\n",
              "    <tr>\n",
              "      <th>4</th>\n",
              "      <td>5</td>\n",
              "      <td>3</td>\n",
              "      <td>Y07F</td>\n",
              "      <td>Y07</td>\n",
              "      <td>0</td>\n",
              "      <td>7</td>\n",
              "      <td>0</td>\n",
              "      <td>V3.jpg</td>\n",
              "      <td>/content/drive/My Drive/All_File_Lt/TVT_All_Lt...</td>\n",
              "      <td>Female</td>\n",
              "      <td>Both</td>\n",
              "    </tr>\n",
              "    <tr>\n",
              "      <th>...</th>\n",
              "      <td>...</td>\n",
              "      <td>...</td>\n",
              "      <td>...</td>\n",
              "      <td>...</td>\n",
              "      <td>...</td>\n",
              "      <td>...</td>\n",
              "      <td>...</td>\n",
              "      <td>...</td>\n",
              "      <td>...</td>\n",
              "      <td>...</td>\n",
              "      <td>...</td>\n",
              "    </tr>\n",
              "    <tr>\n",
              "      <th>4745</th>\n",
              "      <td>121</td>\n",
              "      <td>77</td>\n",
              "      <td>Y25M</td>\n",
              "      <td>Y25</td>\n",
              "      <td>18</td>\n",
              "      <td>25</td>\n",
              "      <td>1</td>\n",
              "      <td>Flip_J463.jpg</td>\n",
              "      <td>/content/drive/My Drive/All_File_Lt/TVT_All_Lt...</td>\n",
              "      <td>Male</td>\n",
              "      <td>Both</td>\n",
              "    </tr>\n",
              "    <tr>\n",
              "      <th>4746</th>\n",
              "      <td>122</td>\n",
              "      <td>78</td>\n",
              "      <td>Y25M</td>\n",
              "      <td>Y25</td>\n",
              "      <td>18</td>\n",
              "      <td>25</td>\n",
              "      <td>1</td>\n",
              "      <td>J464.jpg</td>\n",
              "      <td>/content/drive/My Drive/All_File_Lt/TVT_All_Lt...</td>\n",
              "      <td>Male</td>\n",
              "      <td>Both</td>\n",
              "    </tr>\n",
              "    <tr>\n",
              "      <th>4747</th>\n",
              "      <td>123</td>\n",
              "      <td>78</td>\n",
              "      <td>Y25M</td>\n",
              "      <td>Y25</td>\n",
              "      <td>18</td>\n",
              "      <td>25</td>\n",
              "      <td>1</td>\n",
              "      <td>Flip_J464.jpg</td>\n",
              "      <td>/content/drive/My Drive/All_File_Lt/TVT_All_Lt...</td>\n",
              "      <td>Male</td>\n",
              "      <td>Both</td>\n",
              "    </tr>\n",
              "    <tr>\n",
              "      <th>4748</th>\n",
              "      <td>124</td>\n",
              "      <td>79</td>\n",
              "      <td>Y25M</td>\n",
              "      <td>Y25</td>\n",
              "      <td>18</td>\n",
              "      <td>25</td>\n",
              "      <td>1</td>\n",
              "      <td>J465.jpg</td>\n",
              "      <td>/content/drive/My Drive/All_File_Lt/TVT_All_Lt...</td>\n",
              "      <td>Male</td>\n",
              "      <td>Both</td>\n",
              "    </tr>\n",
              "    <tr>\n",
              "      <th>4749</th>\n",
              "      <td>125</td>\n",
              "      <td>79</td>\n",
              "      <td>Y25M</td>\n",
              "      <td>Y25</td>\n",
              "      <td>18</td>\n",
              "      <td>25</td>\n",
              "      <td>1</td>\n",
              "      <td>Flip_J465.jpg</td>\n",
              "      <td>/content/drive/My Drive/All_File_Lt/TVT_All_Lt...</td>\n",
              "      <td>Male</td>\n",
              "      <td>Both</td>\n",
              "    </tr>\n",
              "  </tbody>\n",
              "</table>\n",
              "<p>4750 rows × 11 columns</p>\n",
              "</div>\n",
              "      <button class=\"colab-df-convert\" onclick=\"convertToInteractive('df-bf23127d-90e0-4078-aaf4-16f9479d48a7')\"\n",
              "              title=\"Convert this dataframe to an interactive table.\"\n",
              "              style=\"display:none;\">\n",
              "        \n",
              "  <svg xmlns=\"http://www.w3.org/2000/svg\" height=\"24px\"viewBox=\"0 0 24 24\"\n",
              "       width=\"24px\">\n",
              "    <path d=\"M0 0h24v24H0V0z\" fill=\"none\"/>\n",
              "    <path d=\"M18.56 5.44l.94 2.06.94-2.06 2.06-.94-2.06-.94-.94-2.06-.94 2.06-2.06.94zm-11 1L8.5 8.5l.94-2.06 2.06-.94-2.06-.94L8.5 2.5l-.94 2.06-2.06.94zm10 10l.94 2.06.94-2.06 2.06-.94-2.06-.94-.94-2.06-.94 2.06-2.06.94z\"/><path d=\"M17.41 7.96l-1.37-1.37c-.4-.4-.92-.59-1.43-.59-.52 0-1.04.2-1.43.59L10.3 9.45l-7.72 7.72c-.78.78-.78 2.05 0 2.83L4 21.41c.39.39.9.59 1.41.59.51 0 1.02-.2 1.41-.59l7.78-7.78 2.81-2.81c.8-.78.8-2.07 0-2.86zM5.41 20L4 18.59l7.72-7.72 1.47 1.35L5.41 20z\"/>\n",
              "  </svg>\n",
              "      </button>\n",
              "      \n",
              "  <style>\n",
              "    .colab-df-container {\n",
              "      display:flex;\n",
              "      flex-wrap:wrap;\n",
              "      gap: 12px;\n",
              "    }\n",
              "\n",
              "    .colab-df-convert {\n",
              "      background-color: #E8F0FE;\n",
              "      border: none;\n",
              "      border-radius: 50%;\n",
              "      cursor: pointer;\n",
              "      display: none;\n",
              "      fill: #1967D2;\n",
              "      height: 32px;\n",
              "      padding: 0 0 0 0;\n",
              "      width: 32px;\n",
              "    }\n",
              "\n",
              "    .colab-df-convert:hover {\n",
              "      background-color: #E2EBFA;\n",
              "      box-shadow: 0px 1px 2px rgba(60, 64, 67, 0.3), 0px 1px 3px 1px rgba(60, 64, 67, 0.15);\n",
              "      fill: #174EA6;\n",
              "    }\n",
              "\n",
              "    [theme=dark] .colab-df-convert {\n",
              "      background-color: #3B4455;\n",
              "      fill: #D2E3FC;\n",
              "    }\n",
              "\n",
              "    [theme=dark] .colab-df-convert:hover {\n",
              "      background-color: #434B5C;\n",
              "      box-shadow: 0px 1px 3px 1px rgba(0, 0, 0, 0.15);\n",
              "      filter: drop-shadow(0px 1px 2px rgba(0, 0, 0, 0.3));\n",
              "      fill: #FFFFFF;\n",
              "    }\n",
              "  </style>\n",
              "\n",
              "      <script>\n",
              "        const buttonEl =\n",
              "          document.querySelector('#df-bf23127d-90e0-4078-aaf4-16f9479d48a7 button.colab-df-convert');\n",
              "        buttonEl.style.display =\n",
              "          google.colab.kernel.accessAllowed ? 'block' : 'none';\n",
              "\n",
              "        async function convertToInteractive(key) {\n",
              "          const element = document.querySelector('#df-bf23127d-90e0-4078-aaf4-16f9479d48a7');\n",
              "          const dataTable =\n",
              "            await google.colab.kernel.invokeFunction('convertToInteractive',\n",
              "                                                     [key], {});\n",
              "          if (!dataTable) return;\n",
              "\n",
              "          const docLinkHtml = 'Like what you see? Visit the ' +\n",
              "            '<a target=\"_blank\" href=https://colab.research.google.com/notebooks/data_table.ipynb>data table notebook</a>'\n",
              "            + ' to learn more about interactive tables.';\n",
              "          element.innerHTML = '';\n",
              "          dataTable['output_type'] = 'display_data';\n",
              "          await google.colab.output.renderOutput(dataTable, element);\n",
              "          const docLink = document.createElement('div');\n",
              "          docLink.innerHTML = docLinkHtml;\n",
              "          element.appendChild(docLink);\n",
              "        }\n",
              "      </script>\n",
              "    </div>\n",
              "  </div>\n",
              "  "
            ]
          },
          "metadata": {},
          "execution_count": 11
        }
      ]
    },
    {
      "cell_type": "code",
      "source": [
        "train = df[df['Fig_Age'].between(1,75)]\n",
        "val = df[df['Fig_Age'].between(76,100)]"
      ],
      "metadata": {
        "id": "Z1zBw01Gl8Ac"
      },
      "execution_count": null,
      "outputs": []
    },
    {
      "cell_type": "code",
      "source": [
        "DATA_PATH = \"/content/drive/My Drive/All_File_Lt/TVT_All_Lt\"\n",
        "os.chdir(DATA_PATH)\n",
        "train_dir = os.path.join(DATA_PATH, 'train')\n",
        "print(train_dir)\n",
        "validation_dir = os.path.join(DATA_PATH, 'validation')\n",
        "print(validation_dir)"
      ],
      "metadata": {
        "colab": {
          "base_uri": "https://localhost:8080/"
        },
        "id": "QL0g-8iOnMC4",
        "outputId": "7b318617-e80a-4654-94e1-32a4f2e300aa"
      },
      "execution_count": null,
      "outputs": [
        {
          "output_type": "stream",
          "name": "stdout",
          "text": [
            "/content/drive/My Drive/All_File_Lt/TVT_All_Lt/train\n",
            "/content/drive/My Drive/All_File_Lt/TVT_All_Lt/validation\n"
          ]
        }
      ]
    },
    {
      "cell_type": "markdown",
      "source": [
        "\n",
        "#Train"
      ],
      "metadata": {
        "id": "bWEnlTSwazL5"
      }
    },
    {
      "cell_type": "code",
      "source": [
        "\n",
        "# Train ด้วย ImageDataGenerator ของ Keras ซึ่งจะเพิ่มข้อมูลเสริมระหว่างการฝึกเพื่อลดโอกาสเกิด overfitting\n",
        "#overfitting เกิดจากข้อมูลที่ซับซ้อนกันเกินไป\n",
        "from tensorflow.keras.preprocessing.image import ImageDataGenerator\n",
        "\n",
        "train_datagen = ImageDataGenerator(\n",
        "      rescale=1./255, #โมเดลส่วนใหญ่ต้องใช้ RGB ในช่วง 0–1\n",
        "      rotation_range=40,\n",
        "      width_shift_range=0.2,\n",
        "      height_shift_range=0.2,\n",
        "      shear_range=0.2,\n",
        "      zoom_range=0.2,\n",
        "      horizontal_flip=True,\n",
        "      fill_mode='nearest')\n",
        "\n",
        "# Note that the validation data should not be augmented!\n",
        "test_datagen = ImageDataGenerator(rescale=1./255)\n",
        "\n",
        "train_generator = train_datagen.flow_from_dataframe(\n",
        "        dataframe = train,\n",
        "        directory = train_dir,\n",
        "        x_col = 'Path_filename',\n",
        "        y_col = 'Class_Age',\n",
        "        class_mode = 'categorical',\n",
        "        target_size=(height, width),\n",
        "        batch_size=batch_size)\n",
        "\n",
        "validation_generator = test_datagen.flow_from_dataframe(\n",
        "        dataframe = val,\n",
        "        directory = validation_dir,\n",
        "        x_col = 'Path_filename',\n",
        "        y_col = 'Class_Age',\n",
        "        class_mode = 'categorical',\n",
        "        target_size=(height, width),\n",
        "        batch_size=batch_size)"
      ],
      "metadata": {
        "id": "xGPrsn9no_pa",
        "outputId": "9135fa3f-a26b-41b3-ece3-0c6cb4139fc9",
        "colab": {
          "base_uri": "https://localhost:8080/"
        }
      },
      "execution_count": null,
      "outputs": [
        {
          "output_type": "stream",
          "name": "stdout",
          "text": [
            "Found 2850 validated image filenames belonging to 19 classes.\n",
            "Found 950 validated image filenames belonging to 19 classes.\n"
          ]
        }
      ]
    },
    {
      "cell_type": "code",
      "source": [
        "history = model.fit_generator(\n",
        "      train_generator,\n",
        "      steps_per_epoch= NUM_TRAIN //batch_size,\n",
        "      epochs=epochs,\n",
        "      validation_data=validation_generator,\n",
        "      validation_steps= NUM_TEST //batch_size,\n",
        "      verbose=1,\n",
        "      use_multiprocessing=True,\n",
        "      workers=4)"
      ],
      "metadata": {
        "id": "N6qUmmF856ZE",
        "outputId": "d6c3eded-5b41-4f36-cf03-f255dc75c096",
        "colab": {
          "base_uri": "https://localhost:8080/"
        }
      },
      "execution_count": null,
      "outputs": [
        {
          "metadata": {
            "tags": null
          },
          "name": "stderr",
          "output_type": "stream",
          "text": [
            "<ipython-input-15-caa7b37242a8>:1: UserWarning: `Model.fit_generator` is deprecated and will be removed in a future version. Please use `Model.fit`, which supports generators.\n",
            "  history = model.fit_generator(\n"
          ]
        },
        {
          "output_type": "stream",
          "name": "stdout",
          "text": [
            "Epoch 1/250\n",
            "178/178 [==============================] - 484s 3s/step - loss: 2.5035 - acc: 0.1902 - val_loss: 2.5227 - val_acc: 0.1780\n",
            "Epoch 2/250\n",
            "178/178 [==============================] - 19s 102ms/step - loss: 2.4568 - acc: 0.2022 - val_loss: 2.5229 - val_acc: 0.1758\n",
            "Epoch 3/250\n",
            "178/178 [==============================] - 23s 129ms/step - loss: 2.4902 - acc: 0.1916 - val_loss: 2.5432 - val_acc: 0.1801\n",
            "Epoch 4/250\n",
            "178/178 [==============================] - 23s 130ms/step - loss: 2.4891 - acc: 0.1895 - val_loss: 2.5264 - val_acc: 0.1758\n",
            "Epoch 5/250\n",
            "178/178 [==============================] - 23s 128ms/step - loss: 2.4774 - acc: 0.1951 - val_loss: 2.5320 - val_acc: 0.1854\n",
            "Epoch 6/250\n",
            "178/178 [==============================] - 24s 135ms/step - loss: 2.4558 - acc: 0.1934 - val_loss: 2.5246 - val_acc: 0.1748\n",
            "Epoch 7/250\n",
            "178/178 [==============================] - 23s 129ms/step - loss: 2.4790 - acc: 0.1987 - val_loss: 2.5309 - val_acc: 0.1748\n",
            "Epoch 8/250\n",
            "178/178 [==============================] - 23s 129ms/step - loss: 2.4929 - acc: 0.1817 - val_loss: 2.5088 - val_acc: 0.1737\n",
            "Epoch 9/250\n",
            "178/178 [==============================] - 20s 107ms/step - loss: 2.5247 - acc: 0.1789 - val_loss: 2.5431 - val_acc: 0.1716\n",
            "Epoch 10/250\n",
            "178/178 [==============================] - 23s 129ms/step - loss: 2.4448 - acc: 0.2103 - val_loss: 2.5448 - val_acc: 0.1811\n",
            "Epoch 11/250\n",
            "178/178 [==============================] - 23s 129ms/step - loss: 2.4890 - acc: 0.1905 - val_loss: 2.5430 - val_acc: 0.1758\n",
            "Epoch 12/250\n",
            "178/178 [==============================] - 23s 129ms/step - loss: 2.4774 - acc: 0.1853 - val_loss: 2.5183 - val_acc: 0.1811\n",
            "Epoch 13/250\n",
            "178/178 [==============================] - 24s 132ms/step - loss: 2.4583 - acc: 0.1927 - val_loss: 2.5394 - val_acc: 0.1663\n",
            "Epoch 14/250\n",
            "178/178 [==============================] - 24s 131ms/step - loss: 2.4774 - acc: 0.1955 - val_loss: 2.5356 - val_acc: 0.1716\n",
            "Epoch 15/250\n",
            "178/178 [==============================] - 20s 108ms/step - loss: 2.4571 - acc: 0.1962 - val_loss: 2.5325 - val_acc: 0.1748\n",
            "Epoch 16/250\n",
            "178/178 [==============================] - 24s 134ms/step - loss: 2.4695 - acc: 0.1955 - val_loss: 2.5262 - val_acc: 0.1801\n",
            "Epoch 17/250\n",
            "178/178 [==============================] - 24s 132ms/step - loss: 2.4518 - acc: 0.1923 - val_loss: 2.5251 - val_acc: 0.1769\n",
            "Epoch 18/250\n",
            "178/178 [==============================] - 23s 129ms/step - loss: 2.4579 - acc: 0.1930 - val_loss: 2.5404 - val_acc: 0.1737\n",
            "Epoch 19/250\n",
            "178/178 [==============================] - 23s 129ms/step - loss: 2.5419 - acc: 0.1771 - val_loss: 2.5600 - val_acc: 0.1769\n",
            "Epoch 20/250\n",
            "178/178 [==============================] - 24s 134ms/step - loss: 2.4358 - acc: 0.1969 - val_loss: 2.5388 - val_acc: 0.1769\n",
            "Epoch 21/250\n",
            "178/178 [==============================] - 24s 135ms/step - loss: 2.4793 - acc: 0.1895 - val_loss: 2.5400 - val_acc: 0.1801\n",
            "Epoch 22/250\n",
            "178/178 [==============================] - 23s 129ms/step - loss: 2.4829 - acc: 0.1962 - val_loss: 2.5396 - val_acc: 0.1737\n",
            "Epoch 23/250\n",
            "178/178 [==============================] - 23s 129ms/step - loss: 2.4648 - acc: 0.1937 - val_loss: 2.5454 - val_acc: 0.1737\n",
            "Epoch 24/250\n",
            "178/178 [==============================] - 23s 129ms/step - loss: 2.4894 - acc: 0.1916 - val_loss: 2.5570 - val_acc: 0.1758\n",
            "Epoch 25/250\n",
            "178/178 [==============================] - 24s 134ms/step - loss: 2.4446 - acc: 0.1958 - val_loss: 2.5551 - val_acc: 0.1748\n",
            "Epoch 26/250\n",
            "178/178 [==============================] - 23s 129ms/step - loss: 2.4651 - acc: 0.1934 - val_loss: 2.5437 - val_acc: 0.1748\n",
            "Epoch 27/250\n",
            "178/178 [==============================] - 23s 129ms/step - loss: 2.4440 - acc: 0.2032 - val_loss: 2.5268 - val_acc: 0.1790\n",
            "Epoch 28/250\n",
            "178/178 [==============================] - 23s 129ms/step - loss: 2.4612 - acc: 0.1842 - val_loss: 2.5102 - val_acc: 0.1843\n",
            "Epoch 29/250\n",
            "178/178 [==============================] - 24s 132ms/step - loss: 2.4458 - acc: 0.1923 - val_loss: 2.5308 - val_acc: 0.1748\n",
            "Epoch 30/250\n",
            "178/178 [==============================] - 24s 130ms/step - loss: 2.4470 - acc: 0.2032 - val_loss: 2.5314 - val_acc: 0.1727\n",
            "Epoch 31/250\n",
            "178/178 [==============================] - 18s 101ms/step - loss: 2.4718 - acc: 0.1976 - val_loss: 2.5433 - val_acc: 0.1769\n",
            "Epoch 32/250\n",
            "178/178 [==============================] - 24s 134ms/step - loss: 2.4511 - acc: 0.2050 - val_loss: 2.5324 - val_acc: 0.1663\n",
            "Epoch 33/250\n",
            "178/178 [==============================] - 23s 129ms/step - loss: 2.4436 - acc: 0.2043 - val_loss: 2.5453 - val_acc: 0.1769\n",
            "Epoch 34/250\n",
            "178/178 [==============================] - 23s 129ms/step - loss: 2.4452 - acc: 0.2022 - val_loss: 2.5540 - val_acc: 0.1748\n",
            "Epoch 35/250\n",
            "178/178 [==============================] - 24s 129ms/step - loss: 2.4684 - acc: 0.2008 - val_loss: 2.5483 - val_acc: 0.1716\n",
            "Epoch 36/250\n",
            "178/178 [==============================] - 24s 134ms/step - loss: 2.4214 - acc: 0.2082 - val_loss: 2.5260 - val_acc: 0.1822\n",
            "Epoch 37/250\n",
            "178/178 [==============================] - 23s 130ms/step - loss: 2.4491 - acc: 0.1976 - val_loss: 2.5245 - val_acc: 0.1811\n",
            "Epoch 38/250\n",
            "178/178 [==============================] - 23s 129ms/step - loss: 2.4889 - acc: 0.1884 - val_loss: 2.5405 - val_acc: 0.1716\n",
            "Epoch 39/250\n",
            "178/178 [==============================] - 23s 129ms/step - loss: 2.4278 - acc: 0.1958 - val_loss: 2.5399 - val_acc: 0.1716\n",
            "Epoch 40/250\n",
            "178/178 [==============================] - 24s 131ms/step - loss: 2.4301 - acc: 0.2011 - val_loss: 2.5468 - val_acc: 0.1642\n",
            "Epoch 41/250\n",
            "178/178 [==============================] - 24s 132ms/step - loss: 2.4504 - acc: 0.2008 - val_loss: 2.5391 - val_acc: 0.1631\n",
            "Epoch 42/250\n",
            "178/178 [==============================] - 23s 129ms/step - loss: 2.4236 - acc: 0.2015 - val_loss: 2.5371 - val_acc: 0.1706\n",
            "Epoch 43/250\n",
            "178/178 [==============================] - 23s 129ms/step - loss: 2.4591 - acc: 0.1969 - val_loss: 2.5338 - val_acc: 0.1716\n",
            "Epoch 44/250\n",
            "178/178 [==============================] - 24s 130ms/step - loss: 2.4301 - acc: 0.2082 - val_loss: 2.5358 - val_acc: 0.1716\n",
            "Epoch 45/250\n",
            "178/178 [==============================] - 24s 134ms/step - loss: 2.4288 - acc: 0.2092 - val_loss: 2.5324 - val_acc: 0.1822\n",
            "Epoch 46/250\n",
            "178/178 [==============================] - 23s 130ms/step - loss: 2.4413 - acc: 0.1976 - val_loss: 2.5491 - val_acc: 0.1695\n",
            "Epoch 47/250\n",
            "178/178 [==============================] - 23s 130ms/step - loss: 2.4212 - acc: 0.2043 - val_loss: 2.5288 - val_acc: 0.1727\n",
            "Epoch 48/250\n",
            "178/178 [==============================] - 24s 130ms/step - loss: 2.4560 - acc: 0.1941 - val_loss: 2.5254 - val_acc: 0.1811\n",
            "Epoch 49/250\n",
            "178/178 [==============================] - 24s 133ms/step - loss: 2.4417 - acc: 0.2032 - val_loss: 2.5283 - val_acc: 0.1833\n",
            "Epoch 50/250\n",
            "178/178 [==============================] - 24s 131ms/step - loss: 2.4258 - acc: 0.2018 - val_loss: 2.5406 - val_acc: 0.1737\n",
            "Epoch 51/250\n",
            "178/178 [==============================] - 23s 129ms/step - loss: 2.4362 - acc: 0.1997 - val_loss: 2.5296 - val_acc: 0.1790\n",
            "Epoch 52/250\n",
            "178/178 [==============================] - 23s 129ms/step - loss: 2.4335 - acc: 0.1980 - val_loss: 2.5330 - val_acc: 0.1769\n",
            "Epoch 53/250\n",
            "178/178 [==============================] - 24s 131ms/step - loss: 2.4242 - acc: 0.1898 - val_loss: 2.5295 - val_acc: 0.1748\n",
            "Epoch 54/250\n",
            "178/178 [==============================] - 24s 134ms/step - loss: 2.4527 - acc: 0.1916 - val_loss: 2.5459 - val_acc: 0.1822\n",
            "Epoch 55/250\n",
            "178/178 [==============================] - 23s 129ms/step - loss: 2.4198 - acc: 0.2043 - val_loss: 2.5593 - val_acc: 0.1653\n",
            "Epoch 56/250\n",
            "178/178 [==============================] - 19s 103ms/step - loss: 2.4401 - acc: 0.2011 - val_loss: 2.5321 - val_acc: 0.1864\n",
            "Epoch 57/250\n",
            "178/178 [==============================] - 24s 134ms/step - loss: 2.4313 - acc: 0.1980 - val_loss: 2.5177 - val_acc: 0.1737\n",
            "Epoch 58/250\n",
            "178/178 [==============================] - 24s 130ms/step - loss: 2.4148 - acc: 0.2025 - val_loss: 2.5242 - val_acc: 0.1843\n",
            "Epoch 59/250\n",
            "178/178 [==============================] - 23s 130ms/step - loss: 2.4143 - acc: 0.2001 - val_loss: 2.5354 - val_acc: 0.1780\n",
            "Epoch 60/250\n",
            "178/178 [==============================] - 20s 107ms/step - loss: 2.4603 - acc: 0.2015 - val_loss: 2.5283 - val_acc: 0.1748\n",
            "Epoch 61/250\n",
            "178/178 [==============================] - 24s 131ms/step - loss: 2.4260 - acc: 0.1948 - val_loss: 2.5413 - val_acc: 0.1811\n",
            "Epoch 62/250\n",
            "178/178 [==============================] - 23s 129ms/step - loss: 2.4120 - acc: 0.2001 - val_loss: 2.5422 - val_acc: 0.1780\n",
            "Epoch 63/250\n",
            "178/178 [==============================] - 23s 129ms/step - loss: 2.4202 - acc: 0.1927 - val_loss: 2.5363 - val_acc: 0.1716\n",
            "Epoch 64/250\n",
            "178/178 [==============================] - 23s 129ms/step - loss: 2.4106 - acc: 0.2047 - val_loss: 2.5588 - val_acc: 0.1780\n",
            "Epoch 65/250\n",
            "178/178 [==============================] - 24s 133ms/step - loss: 2.3816 - acc: 0.2107 - val_loss: 2.5403 - val_acc: 0.1811\n",
            "Epoch 66/250\n",
            "178/178 [==============================] - 19s 104ms/step - loss: 2.4266 - acc: 0.2085 - val_loss: 2.5264 - val_acc: 0.1843\n",
            "Epoch 67/250\n",
            "178/178 [==============================] - 20s 109ms/step - loss: 2.3713 - acc: 0.2043 - val_loss: 2.5121 - val_acc: 0.1875\n",
            "Epoch 68/250\n",
            "178/178 [==============================] - 24s 129ms/step - loss: 2.4226 - acc: 0.2018 - val_loss: 2.5319 - val_acc: 0.1790\n",
            "Epoch 69/250\n",
            "178/178 [==============================] - 23s 129ms/step - loss: 2.3814 - acc: 0.1994 - val_loss: 2.5236 - val_acc: 0.1801\n",
            "Epoch 70/250\n",
            "178/178 [==============================] - 23s 128ms/step - loss: 2.4083 - acc: 0.2078 - val_loss: 2.5148 - val_acc: 0.1801\n",
            "Epoch 71/250\n",
            "178/178 [==============================] - 24s 130ms/step - loss: 2.4411 - acc: 0.2022 - val_loss: 2.5411 - val_acc: 0.1748\n",
            "Epoch 72/250\n",
            "178/178 [==============================] - 20s 108ms/step - loss: 2.4308 - acc: 0.1884 - val_loss: 2.5419 - val_acc: 0.1706\n",
            "Epoch 73/250\n",
            "178/178 [==============================] - 23s 129ms/step - loss: 2.3976 - acc: 0.2089 - val_loss: 2.5323 - val_acc: 0.1801\n",
            "Epoch 74/250\n",
            "178/178 [==============================] - 23s 129ms/step - loss: 2.3912 - acc: 0.1962 - val_loss: 2.5301 - val_acc: 0.1737\n",
            "Epoch 75/250\n",
            "178/178 [==============================] - 24s 132ms/step - loss: 2.4005 - acc: 0.2082 - val_loss: 2.5414 - val_acc: 0.1769\n",
            "Epoch 76/250\n",
            "178/178 [==============================] - 24s 133ms/step - loss: 2.3868 - acc: 0.2135 - val_loss: 2.5308 - val_acc: 0.1790\n",
            "Epoch 77/250\n",
            "178/178 [==============================] - 20s 108ms/step - loss: 2.3954 - acc: 0.2089 - val_loss: 2.5309 - val_acc: 0.1843\n",
            "Epoch 78/250\n",
            "178/178 [==============================] - 24s 131ms/step - loss: 2.3704 - acc: 0.2082 - val_loss: 2.5237 - val_acc: 0.1780\n",
            "Epoch 79/250\n",
            "178/178 [==============================] - 24s 133ms/step - loss: 2.3798 - acc: 0.1969 - val_loss: 2.5260 - val_acc: 0.1833\n",
            "Epoch 80/250\n",
            "178/178 [==============================] - 23s 128ms/step - loss: 2.4086 - acc: 0.1965 - val_loss: 2.5346 - val_acc: 0.1811\n",
            "Epoch 81/250\n",
            "178/178 [==============================] - 23s 129ms/step - loss: 2.4269 - acc: 0.1980 - val_loss: 2.5472 - val_acc: 0.1716\n",
            "Epoch 82/250\n",
            "178/178 [==============================] - 23s 129ms/step - loss: 2.3816 - acc: 0.2107 - val_loss: 2.5399 - val_acc: 0.1875\n",
            "Epoch 83/250\n",
            "178/178 [==============================] - 24s 135ms/step - loss: 2.4046 - acc: 0.1990 - val_loss: 2.5259 - val_acc: 0.1780\n",
            "Epoch 84/250\n",
            "178/178 [==============================] - 23s 129ms/step - loss: 2.3880 - acc: 0.2040 - val_loss: 2.5249 - val_acc: 0.1875\n",
            "Epoch 85/250\n",
            "178/178 [==============================] - 23s 129ms/step - loss: 2.4009 - acc: 0.2043 - val_loss: 2.5278 - val_acc: 0.1822\n",
            "Epoch 86/250\n",
            "178/178 [==============================] - 24s 130ms/step - loss: 2.3879 - acc: 0.2096 - val_loss: 2.5400 - val_acc: 0.1801\n",
            "Epoch 87/250\n",
            "178/178 [==============================] - 24s 133ms/step - loss: 2.3865 - acc: 0.2032 - val_loss: 2.5407 - val_acc: 0.1769\n",
            "Epoch 88/250\n",
            "178/178 [==============================] - 24s 131ms/step - loss: 2.4006 - acc: 0.2142 - val_loss: 2.5251 - val_acc: 0.1811\n",
            "Epoch 89/250\n",
            "178/178 [==============================] - 24s 130ms/step - loss: 2.3979 - acc: 0.2054 - val_loss: 2.5240 - val_acc: 0.1790\n",
            "Epoch 90/250\n",
            "178/178 [==============================] - 23s 130ms/step - loss: 2.3597 - acc: 0.2107 - val_loss: 2.5216 - val_acc: 0.1663\n",
            "Epoch 91/250\n",
            "178/178 [==============================] - 23s 129ms/step - loss: 2.3935 - acc: 0.2089 - val_loss: 2.5236 - val_acc: 0.1854\n",
            "Epoch 92/250\n",
            "178/178 [==============================] - 24s 134ms/step - loss: 2.3854 - acc: 0.2032 - val_loss: 2.5325 - val_acc: 0.1822\n",
            "Epoch 93/250\n",
            "178/178 [==============================] - 23s 130ms/step - loss: 2.3684 - acc: 0.2025 - val_loss: 2.5401 - val_acc: 0.1758\n",
            "Epoch 94/250\n",
            "178/178 [==============================] - 24s 130ms/step - loss: 2.3773 - acc: 0.2089 - val_loss: 2.5286 - val_acc: 0.1695\n",
            "Epoch 95/250\n",
            "178/178 [==============================] - 23s 129ms/step - loss: 2.4024 - acc: 0.1969 - val_loss: 2.5412 - val_acc: 0.1769\n",
            "Epoch 96/250\n",
            "178/178 [==============================] - 20s 108ms/step - loss: 2.3948 - acc: 0.2036 - val_loss: 2.5273 - val_acc: 0.1822\n",
            "Epoch 97/250\n",
            "178/178 [==============================] - 24s 131ms/step - loss: 2.4035 - acc: 0.2064 - val_loss: 2.5248 - val_acc: 0.1833\n",
            "Epoch 98/250\n",
            "178/178 [==============================] - 23s 129ms/step - loss: 2.4074 - acc: 0.1983 - val_loss: 2.5335 - val_acc: 0.1769\n",
            "Epoch 99/250\n",
            "178/178 [==============================] - 24s 132ms/step - loss: 2.3649 - acc: 0.2174 - val_loss: 2.5382 - val_acc: 0.1790\n",
            "Epoch 100/250\n",
            "178/178 [==============================] - 24s 132ms/step - loss: 2.4036 - acc: 0.1976 - val_loss: 2.5481 - val_acc: 0.1801\n",
            "Epoch 101/250\n",
            "178/178 [==============================] - 23s 129ms/step - loss: 2.4030 - acc: 0.2085 - val_loss: 2.5444 - val_acc: 0.1875\n",
            "Epoch 102/250\n",
            "178/178 [==============================] - 23s 130ms/step - loss: 2.3894 - acc: 0.2089 - val_loss: 2.5468 - val_acc: 0.1780\n",
            "Epoch 103/250\n",
            "178/178 [==============================] - 24s 130ms/step - loss: 2.3808 - acc: 0.2114 - val_loss: 2.5492 - val_acc: 0.1790\n",
            "Epoch 104/250\n",
            "178/178 [==============================] - 24s 133ms/step - loss: 2.3838 - acc: 0.2068 - val_loss: 2.5439 - val_acc: 0.1769\n",
            "Epoch 105/250\n",
            "178/178 [==============================] - 23s 129ms/step - loss: 2.3918 - acc: 0.2103 - val_loss: 2.5440 - val_acc: 0.1801\n",
            "Epoch 106/250\n",
            "178/178 [==============================] - 23s 129ms/step - loss: 2.3540 - acc: 0.2089 - val_loss: 2.5618 - val_acc: 0.1833\n",
            "Epoch 107/250\n",
            "178/178 [==============================] - 24s 131ms/step - loss: 2.3904 - acc: 0.2018 - val_loss: 2.5360 - val_acc: 0.1822\n",
            "Epoch 108/250\n",
            "178/178 [==============================] - 24s 134ms/step - loss: 2.3571 - acc: 0.2230 - val_loss: 2.5351 - val_acc: 0.1875\n",
            "Epoch 109/250\n",
            "178/178 [==============================] - 24s 130ms/step - loss: 2.3613 - acc: 0.2195 - val_loss: 2.5475 - val_acc: 0.1843\n",
            "Epoch 110/250\n",
            "178/178 [==============================] - 23s 129ms/step - loss: 2.3590 - acc: 0.2131 - val_loss: 2.5329 - val_acc: 0.1822\n",
            "Epoch 111/250\n",
            "178/178 [==============================] - 23s 129ms/step - loss: 2.3645 - acc: 0.2138 - val_loss: 2.5481 - val_acc: 0.1737\n",
            "Epoch 112/250\n",
            "178/178 [==============================] - 24s 132ms/step - loss: 2.3596 - acc: 0.2100 - val_loss: 2.5448 - val_acc: 0.1769\n",
            "Epoch 113/250\n",
            "178/178 [==============================] - 24s 133ms/step - loss: 2.3774 - acc: 0.2100 - val_loss: 2.5494 - val_acc: 0.1843\n",
            "Epoch 114/250\n",
            "178/178 [==============================] - 23s 130ms/step - loss: 2.3884 - acc: 0.1927 - val_loss: 2.5636 - val_acc: 0.1854\n",
            "Epoch 115/250\n",
            "178/178 [==============================] - 23s 129ms/step - loss: 2.3814 - acc: 0.2174 - val_loss: 2.5683 - val_acc: 0.1737\n",
            "Epoch 116/250\n",
            "178/178 [==============================] - 24s 130ms/step - loss: 2.3476 - acc: 0.2075 - val_loss: 2.5627 - val_acc: 0.1875\n",
            "Epoch 117/250\n",
            "178/178 [==============================] - 25s 135ms/step - loss: 2.3704 - acc: 0.1941 - val_loss: 2.5597 - val_acc: 0.1801\n",
            "Epoch 118/250\n",
            "178/178 [==============================] - 19s 104ms/step - loss: 2.3635 - acc: 0.2064 - val_loss: 2.5504 - val_acc: 0.1758\n",
            "Epoch 119/250\n",
            "178/178 [==============================] - 24s 130ms/step - loss: 2.3829 - acc: 0.1994 - val_loss: 2.5370 - val_acc: 0.1854\n",
            "Epoch 120/250\n",
            "178/178 [==============================] - 24s 134ms/step - loss: 2.3589 - acc: 0.2188 - val_loss: 2.5328 - val_acc: 0.1896\n",
            "Epoch 121/250\n",
            "178/178 [==============================] - 24s 131ms/step - loss: 2.3630 - acc: 0.2054 - val_loss: 2.5412 - val_acc: 0.1864\n",
            "Epoch 122/250\n",
            "178/178 [==============================] - 19s 104ms/step - loss: 2.3680 - acc: 0.2032 - val_loss: 2.5336 - val_acc: 0.1907\n",
            "Epoch 123/250\n",
            "178/178 [==============================] - 25s 134ms/step - loss: 2.3710 - acc: 0.2128 - val_loss: 2.5352 - val_acc: 0.1801\n",
            "Epoch 124/250\n",
            "178/178 [==============================] - 24s 130ms/step - loss: 2.3824 - acc: 0.2036 - val_loss: 2.5337 - val_acc: 0.1801\n",
            "Epoch 125/250\n",
            "178/178 [==============================] - 24s 131ms/step - loss: 2.3679 - acc: 0.2054 - val_loss: 2.5305 - val_acc: 0.1843\n",
            "Epoch 126/250\n",
            "178/178 [==============================] - 20s 109ms/step - loss: 2.3585 - acc: 0.2237 - val_loss: 2.5461 - val_acc: 0.1886\n",
            "Epoch 127/250\n",
            "178/178 [==============================] - 24s 135ms/step - loss: 2.3572 - acc: 0.2050 - val_loss: 2.5674 - val_acc: 0.1811\n",
            "Epoch 128/250\n",
            "178/178 [==============================] - 24s 131ms/step - loss: 2.3715 - acc: 0.2163 - val_loss: 2.5487 - val_acc: 0.1811\n",
            "Epoch 129/250\n",
            "178/178 [==============================] - 24s 132ms/step - loss: 2.3426 - acc: 0.2138 - val_loss: 2.5520 - val_acc: 0.1833\n",
            "Epoch 130/250\n",
            "178/178 [==============================] - 24s 130ms/step - loss: 2.3653 - acc: 0.2057 - val_loss: 2.5424 - val_acc: 0.1790\n",
            "Epoch 131/250\n",
            "178/178 [==============================] - 24s 134ms/step - loss: 2.3561 - acc: 0.2089 - val_loss: 2.5545 - val_acc: 0.1801\n",
            "Epoch 132/250\n",
            "178/178 [==============================] - 24s 133ms/step - loss: 2.3620 - acc: 0.2131 - val_loss: 2.5397 - val_acc: 0.1843\n",
            "Epoch 133/250\n",
            "178/178 [==============================] - 24s 132ms/step - loss: 2.3659 - acc: 0.2032 - val_loss: 2.5582 - val_acc: 0.1875\n",
            "Epoch 134/250\n",
            "178/178 [==============================] - 24s 134ms/step - loss: 2.3714 - acc: 0.2202 - val_loss: 2.5588 - val_acc: 0.1801\n",
            "Epoch 135/250\n",
            "178/178 [==============================] - 20s 108ms/step - loss: 2.3316 - acc: 0.2082 - val_loss: 2.5406 - val_acc: 0.1864\n",
            "Epoch 136/250\n",
            "178/178 [==============================] - 25s 134ms/step - loss: 2.3364 - acc: 0.2177 - val_loss: 2.5736 - val_acc: 0.1727\n",
            "Epoch 137/250\n",
            "178/178 [==============================] - 20s 107ms/step - loss: 2.3303 - acc: 0.2181 - val_loss: 2.5475 - val_acc: 0.1811\n",
            "Epoch 138/250\n",
            "178/178 [==============================] - 25s 135ms/step - loss: 2.3704 - acc: 0.2018 - val_loss: 2.5665 - val_acc: 0.1854\n",
            "Epoch 139/250\n",
            "178/178 [==============================] - 24s 135ms/step - loss: 2.3494 - acc: 0.2054 - val_loss: 2.5595 - val_acc: 0.1801\n",
            "Epoch 140/250\n",
            "178/178 [==============================] - 23s 129ms/step - loss: 2.3771 - acc: 0.2124 - val_loss: 2.5790 - val_acc: 0.1833\n",
            "Epoch 141/250\n",
            "178/178 [==============================] - 24s 131ms/step - loss: 2.3528 - acc: 0.2152 - val_loss: 2.5512 - val_acc: 0.1780\n",
            "Epoch 142/250\n",
            "178/178 [==============================] - 24s 130ms/step - loss: 2.3689 - acc: 0.2131 - val_loss: 2.5596 - val_acc: 0.1864\n",
            "Epoch 143/250\n",
            "178/178 [==============================] - 24s 133ms/step - loss: 2.3654 - acc: 0.2103 - val_loss: 2.5525 - val_acc: 0.1833\n",
            "Epoch 144/250\n",
            "178/178 [==============================] - 24s 131ms/step - loss: 2.3675 - acc: 0.2135 - val_loss: 2.5559 - val_acc: 0.1769\n",
            "Epoch 145/250\n",
            "178/178 [==============================] - 24s 131ms/step - loss: 2.3480 - acc: 0.2149 - val_loss: 2.5768 - val_acc: 0.1737\n",
            "Epoch 146/250\n",
            "178/178 [==============================] - 24s 131ms/step - loss: 2.3649 - acc: 0.2181 - val_loss: 2.5640 - val_acc: 0.1780\n",
            "Epoch 147/250\n",
            "178/178 [==============================] - 23s 129ms/step - loss: 2.3933 - acc: 0.1990 - val_loss: 2.5686 - val_acc: 0.1737\n",
            "Epoch 148/250\n",
            "178/178 [==============================] - 24s 131ms/step - loss: 2.3450 - acc: 0.2149 - val_loss: 2.5527 - val_acc: 0.1737\n",
            "Epoch 149/250\n",
            "178/178 [==============================] - 24s 129ms/step - loss: 2.3484 - acc: 0.2138 - val_loss: 2.5649 - val_acc: 0.1790\n",
            "Epoch 150/250\n",
            "178/178 [==============================] - 24s 135ms/step - loss: 2.3524 - acc: 0.2075 - val_loss: 2.5579 - val_acc: 0.1811\n",
            "Epoch 151/250\n",
            "178/178 [==============================] - 24s 130ms/step - loss: 2.3408 - acc: 0.2110 - val_loss: 2.5325 - val_acc: 0.1907\n",
            "Epoch 152/250\n",
            "178/178 [==============================] - 24s 131ms/step - loss: 2.3605 - acc: 0.2078 - val_loss: 2.5554 - val_acc: 0.1811\n",
            "Epoch 153/250\n",
            "178/178 [==============================] - 24s 131ms/step - loss: 2.3476 - acc: 0.2142 - val_loss: 2.5601 - val_acc: 0.1769\n",
            "Epoch 154/250\n",
            "178/178 [==============================] - 24s 132ms/step - loss: 2.3543 - acc: 0.2047 - val_loss: 2.5672 - val_acc: 0.1843\n",
            "Epoch 155/250\n",
            "178/178 [==============================] - 25s 139ms/step - loss: 2.3522 - acc: 0.2107 - val_loss: 2.5622 - val_acc: 0.1790\n",
            "Epoch 156/250\n",
            "178/178 [==============================] - 25s 138ms/step - loss: 2.3509 - acc: 0.2170 - val_loss: 2.5577 - val_acc: 0.1843\n",
            "Epoch 157/250\n",
            "178/178 [==============================] - 25s 138ms/step - loss: 2.3752 - acc: 0.2032 - val_loss: 2.5600 - val_acc: 0.1875\n",
            "Epoch 158/250\n",
            "178/178 [==============================] - 26s 142ms/step - loss: 2.3619 - acc: 0.2029 - val_loss: 2.5673 - val_acc: 0.1801\n",
            "Epoch 159/250\n",
            "178/178 [==============================] - 25s 138ms/step - loss: 2.3214 - acc: 0.2234 - val_loss: 2.5516 - val_acc: 0.1833\n",
            "Epoch 160/250\n",
            "178/178 [==============================] - 25s 138ms/step - loss: 2.3301 - acc: 0.2142 - val_loss: 2.5666 - val_acc: 0.1790\n",
            "Epoch 161/250\n",
            "178/178 [==============================] - 25s 136ms/step - loss: 2.3115 - acc: 0.2163 - val_loss: 2.5560 - val_acc: 0.1801\n",
            "Epoch 162/250\n",
            "178/178 [==============================] - 25s 136ms/step - loss: 2.3497 - acc: 0.2198 - val_loss: 2.5745 - val_acc: 0.1758\n",
            "Epoch 163/250\n",
            "178/178 [==============================] - 25s 138ms/step - loss: 2.3464 - acc: 0.2181 - val_loss: 2.5494 - val_acc: 0.1833\n",
            "Epoch 164/250\n",
            "178/178 [==============================] - 26s 144ms/step - loss: 2.3502 - acc: 0.2036 - val_loss: 2.5678 - val_acc: 0.1790\n",
            "Epoch 165/250\n",
            "178/178 [==============================] - 25s 140ms/step - loss: 2.3381 - acc: 0.2022 - val_loss: 2.5720 - val_acc: 0.1822\n",
            "Epoch 166/250\n",
            "178/178 [==============================] - 25s 137ms/step - loss: 2.3430 - acc: 0.2237 - val_loss: 2.5879 - val_acc: 0.1769\n",
            "Epoch 167/250\n",
            "178/178 [==============================] - 25s 139ms/step - loss: 2.3546 - acc: 0.2092 - val_loss: 2.5677 - val_acc: 0.1790\n",
            "Epoch 168/250\n",
            "178/178 [==============================] - 25s 137ms/step - loss: 2.3151 - acc: 0.2184 - val_loss: 2.5715 - val_acc: 0.1822\n",
            "Epoch 169/250\n",
            "178/178 [==============================] - 25s 137ms/step - loss: 2.3295 - acc: 0.2188 - val_loss: 2.5528 - val_acc: 0.1854\n",
            "Epoch 170/250\n",
            "178/178 [==============================] - 24s 132ms/step - loss: 2.3470 - acc: 0.2181 - val_loss: 2.5618 - val_acc: 0.1790\n",
            "Epoch 171/250\n",
            "178/178 [==============================] - 19s 104ms/step - loss: 2.3232 - acc: 0.2188 - val_loss: 2.5665 - val_acc: 0.1875\n",
            "Epoch 172/250\n",
            "178/178 [==============================] - 24s 133ms/step - loss: 2.3327 - acc: 0.2135 - val_loss: 2.5643 - val_acc: 0.1811\n",
            "Epoch 173/250\n",
            "178/178 [==============================] - 24s 133ms/step - loss: 2.3213 - acc: 0.2174 - val_loss: 2.5804 - val_acc: 0.1801\n",
            "Epoch 174/250\n",
            "178/178 [==============================] - 24s 131ms/step - loss: 2.3128 - acc: 0.2156 - val_loss: 2.5779 - val_acc: 0.1833\n",
            "Epoch 175/250\n",
            "178/178 [==============================] - 24s 131ms/step - loss: 2.3244 - acc: 0.2234 - val_loss: 2.5694 - val_acc: 0.1790\n",
            "Epoch 176/250\n",
            "178/178 [==============================] - 23s 130ms/step - loss: 2.3082 - acc: 0.2167 - val_loss: 2.5648 - val_acc: 0.1811\n",
            "Epoch 177/250\n",
            "178/178 [==============================] - 20s 109ms/step - loss: 2.2956 - acc: 0.2343 - val_loss: 2.5497 - val_acc: 0.1811\n",
            "Epoch 178/250\n",
            "178/178 [==============================] - 24s 131ms/step - loss: 2.3290 - acc: 0.2202 - val_loss: 2.5705 - val_acc: 0.1896\n",
            "Epoch 179/250\n",
            "178/178 [==============================] - 24s 133ms/step - loss: 2.3217 - acc: 0.2114 - val_loss: 2.5718 - val_acc: 0.1801\n",
            "Epoch 180/250\n",
            "178/178 [==============================] - 24s 133ms/step - loss: 2.3534 - acc: 0.2082 - val_loss: 2.5659 - val_acc: 0.1854\n",
            "Epoch 181/250\n",
            "178/178 [==============================] - 25s 136ms/step - loss: 2.3077 - acc: 0.2177 - val_loss: 2.5859 - val_acc: 0.1706\n",
            "Epoch 182/250\n",
            "178/178 [==============================] - 24s 131ms/step - loss: 2.3295 - acc: 0.2145 - val_loss: 2.5600 - val_acc: 0.1822\n",
            "Epoch 183/250\n",
            "178/178 [==============================] - 23s 129ms/step - loss: 2.3186 - acc: 0.2124 - val_loss: 2.5488 - val_acc: 0.1833\n",
            "Epoch 184/250\n",
            "178/178 [==============================] - 23s 129ms/step - loss: 2.3226 - acc: 0.2297 - val_loss: 2.5673 - val_acc: 0.1822\n",
            "Epoch 185/250\n",
            "178/178 [==============================] - 24s 130ms/step - loss: 2.3379 - acc: 0.2188 - val_loss: 2.5574 - val_acc: 0.1822\n",
            "Epoch 186/250\n",
            "178/178 [==============================] - 24s 129ms/step - loss: 2.3451 - acc: 0.2149 - val_loss: 2.5784 - val_acc: 0.1917\n",
            "Epoch 187/250\n",
            "178/178 [==============================] - 24s 133ms/step - loss: 2.2976 - acc: 0.2227 - val_loss: 2.5605 - val_acc: 0.1727\n",
            "Epoch 188/250\n",
            "178/178 [==============================] - 25s 135ms/step - loss: 2.3119 - acc: 0.2269 - val_loss: 2.5921 - val_acc: 0.1854\n",
            "Epoch 189/250\n",
            "178/178 [==============================] - 24s 132ms/step - loss: 2.3129 - acc: 0.2223 - val_loss: 2.5777 - val_acc: 0.1939\n",
            "Epoch 190/250\n",
            "178/178 [==============================] - 24s 130ms/step - loss: 2.2985 - acc: 0.2205 - val_loss: 2.5684 - val_acc: 0.1875\n",
            "Epoch 191/250\n",
            "178/178 [==============================] - 24s 130ms/step - loss: 2.3427 - acc: 0.2195 - val_loss: 2.5587 - val_acc: 0.1811\n",
            "Epoch 192/250\n",
            "178/178 [==============================] - 24s 131ms/step - loss: 2.3332 - acc: 0.2198 - val_loss: 2.5820 - val_acc: 0.1758\n",
            "Epoch 193/250\n",
            "178/178 [==============================] - 23s 130ms/step - loss: 2.3406 - acc: 0.2114 - val_loss: 2.5703 - val_acc: 0.1801\n",
            "Epoch 194/250\n",
            "178/178 [==============================] - 24s 132ms/step - loss: 2.3382 - acc: 0.2135 - val_loss: 2.5867 - val_acc: 0.1758\n",
            "Epoch 195/250\n",
            "178/178 [==============================] - 24s 134ms/step - loss: 2.3143 - acc: 0.2262 - val_loss: 2.5740 - val_acc: 0.1822\n",
            "Epoch 196/250\n",
            "178/178 [==============================] - 24s 135ms/step - loss: 2.3192 - acc: 0.2103 - val_loss: 2.5801 - val_acc: 0.1875\n",
            "Epoch 197/250\n",
            "178/178 [==============================] - 24s 131ms/step - loss: 2.3270 - acc: 0.2184 - val_loss: 2.5948 - val_acc: 0.1822\n",
            "Epoch 198/250\n",
            "178/178 [==============================] - 24s 130ms/step - loss: 2.3337 - acc: 0.2227 - val_loss: 2.5791 - val_acc: 0.1875\n",
            "Epoch 199/250\n",
            "178/178 [==============================] - 24s 130ms/step - loss: 2.2928 - acc: 0.2188 - val_loss: 2.5804 - val_acc: 0.1811\n",
            "Epoch 200/250\n",
            "178/178 [==============================] - 23s 129ms/step - loss: 2.3097 - acc: 0.2181 - val_loss: 2.5588 - val_acc: 0.1790\n",
            "Epoch 201/250\n",
            "178/178 [==============================] - 24s 130ms/step - loss: 2.3127 - acc: 0.2283 - val_loss: 2.5582 - val_acc: 0.1811\n",
            "Epoch 202/250\n",
            "178/178 [==============================] - 24s 134ms/step - loss: 2.3198 - acc: 0.2096 - val_loss: 2.5692 - val_acc: 0.1854\n",
            "Epoch 203/250\n",
            "178/178 [==============================] - 24s 135ms/step - loss: 2.3244 - acc: 0.2279 - val_loss: 2.5673 - val_acc: 0.1875\n",
            "Epoch 204/250\n",
            "178/178 [==============================] - 24s 131ms/step - loss: 2.3275 - acc: 0.2241 - val_loss: 2.5685 - val_acc: 0.1822\n",
            "Epoch 205/250\n",
            "178/178 [==============================] - 24s 131ms/step - loss: 2.3283 - acc: 0.2114 - val_loss: 2.5724 - val_acc: 0.1833\n",
            "Epoch 206/250\n",
            "178/178 [==============================] - 24s 132ms/step - loss: 2.3172 - acc: 0.2181 - val_loss: 2.5769 - val_acc: 0.1875\n",
            "Epoch 207/250\n",
            "178/178 [==============================] - 24s 131ms/step - loss: 2.3098 - acc: 0.2184 - val_loss: 2.5532 - val_acc: 0.1907\n",
            "Epoch 208/250\n",
            "178/178 [==============================] - 24s 130ms/step - loss: 2.3210 - acc: 0.2230 - val_loss: 2.5722 - val_acc: 0.1875\n",
            "Epoch 209/250\n",
            "178/178 [==============================] - 24s 132ms/step - loss: 2.3541 - acc: 0.2159 - val_loss: 2.5684 - val_acc: 0.1875\n",
            "Epoch 210/250\n",
            "178/178 [==============================] - 24s 133ms/step - loss: 2.3123 - acc: 0.2071 - val_loss: 2.5579 - val_acc: 0.1854\n",
            "Epoch 211/250\n",
            "178/178 [==============================] - 24s 134ms/step - loss: 2.3004 - acc: 0.2230 - val_loss: 2.5693 - val_acc: 0.1811\n",
            "Epoch 212/250\n",
            "178/178 [==============================] - 24s 132ms/step - loss: 2.2872 - acc: 0.2262 - val_loss: 2.5667 - val_acc: 0.1907\n",
            "Epoch 213/250\n",
            "178/178 [==============================] - 24s 130ms/step - loss: 2.3143 - acc: 0.2195 - val_loss: 2.5705 - val_acc: 0.1780\n",
            "Epoch 214/250\n",
            "178/178 [==============================] - 24s 129ms/step - loss: 2.3134 - acc: 0.2114 - val_loss: 2.5944 - val_acc: 0.1843\n",
            "Epoch 215/250\n",
            "178/178 [==============================] - 24s 130ms/step - loss: 2.3038 - acc: 0.2184 - val_loss: 2.5856 - val_acc: 0.1822\n",
            "Epoch 216/250\n",
            "178/178 [==============================] - 24s 130ms/step - loss: 2.2935 - acc: 0.2290 - val_loss: 2.5955 - val_acc: 0.1875\n",
            "Epoch 217/250\n",
            "178/178 [==============================] - 24s 132ms/step - loss: 2.3000 - acc: 0.2241 - val_loss: 2.5746 - val_acc: 0.1822\n",
            "Epoch 218/250\n",
            "178/178 [==============================] - 20s 110ms/step - loss: 2.3004 - acc: 0.2188 - val_loss: 2.5913 - val_acc: 0.1864\n",
            "Epoch 219/250\n",
            "178/178 [==============================] - 19s 105ms/step - loss: 2.3321 - acc: 0.2205 - val_loss: 2.5890 - val_acc: 0.1822\n",
            "Epoch 220/250\n",
            "178/178 [==============================] - 24s 133ms/step - loss: 2.3400 - acc: 0.2181 - val_loss: 2.5622 - val_acc: 0.1864\n",
            "Epoch 221/250\n",
            "178/178 [==============================] - 24s 135ms/step - loss: 2.3028 - acc: 0.2167 - val_loss: 2.5898 - val_acc: 0.1843\n",
            "Epoch 222/250\n",
            "178/178 [==============================] - 24s 132ms/step - loss: 2.3053 - acc: 0.2159 - val_loss: 2.5938 - val_acc: 0.1843\n",
            "Epoch 223/250\n",
            "178/178 [==============================] - 24s 131ms/step - loss: 2.2908 - acc: 0.2283 - val_loss: 2.5714 - val_acc: 0.1864\n",
            "Epoch 224/250\n",
            "178/178 [==============================] - 24s 131ms/step - loss: 2.3313 - acc: 0.2184 - val_loss: 2.5890 - val_acc: 0.1875\n",
            "Epoch 225/250\n",
            "178/178 [==============================] - 23s 130ms/step - loss: 2.3183 - acc: 0.2092 - val_loss: 2.5582 - val_acc: 0.1833\n",
            "Epoch 226/250\n",
            "178/178 [==============================] - 24s 131ms/step - loss: 2.3020 - acc: 0.2279 - val_loss: 2.5916 - val_acc: 0.1811\n",
            "Epoch 227/250\n",
            "178/178 [==============================] - 24s 130ms/step - loss: 2.2955 - acc: 0.2272 - val_loss: 2.5778 - val_acc: 0.1822\n",
            "Epoch 228/250\n",
            "178/178 [==============================] - 24s 133ms/step - loss: 2.2844 - acc: 0.2294 - val_loss: 2.5729 - val_acc: 0.1896\n",
            "Epoch 229/250\n",
            "178/178 [==============================] - 24s 134ms/step - loss: 2.3035 - acc: 0.2149 - val_loss: 2.5670 - val_acc: 0.1822\n",
            "Epoch 230/250\n",
            "178/178 [==============================] - 24s 130ms/step - loss: 2.3212 - acc: 0.2255 - val_loss: 2.5674 - val_acc: 0.1833\n",
            "Epoch 231/250\n",
            "178/178 [==============================] - 23s 129ms/step - loss: 2.2897 - acc: 0.2262 - val_loss: 2.5771 - val_acc: 0.1780\n",
            "Epoch 232/250\n",
            "178/178 [==============================] - 24s 130ms/step - loss: 2.2848 - acc: 0.2237 - val_loss: 2.5641 - val_acc: 0.1864\n",
            "Epoch 233/250\n",
            "178/178 [==============================] - 24s 133ms/step - loss: 2.2931 - acc: 0.2329 - val_loss: 2.5680 - val_acc: 0.1854\n",
            "Epoch 234/250\n",
            "178/178 [==============================] - 24s 131ms/step - loss: 2.3170 - acc: 0.2159 - val_loss: 2.5694 - val_acc: 0.1822\n",
            "Epoch 235/250\n",
            "178/178 [==============================] - 24s 131ms/step - loss: 2.3122 - acc: 0.2064 - val_loss: 2.5809 - val_acc: 0.1843\n",
            "Epoch 236/250\n",
            "178/178 [==============================] - 24s 134ms/step - loss: 2.3196 - acc: 0.2142 - val_loss: 2.5421 - val_acc: 0.1886\n",
            "Epoch 237/250\n",
            "178/178 [==============================] - 24s 135ms/step - loss: 2.3093 - acc: 0.2227 - val_loss: 2.5619 - val_acc: 0.1822\n",
            "Epoch 238/250\n",
            "178/178 [==============================] - 24s 133ms/step - loss: 2.2907 - acc: 0.2216 - val_loss: 2.5910 - val_acc: 0.1854\n",
            "Epoch 239/250\n",
            "178/178 [==============================] - 24s 130ms/step - loss: 2.3298 - acc: 0.2212 - val_loss: 2.5900 - val_acc: 0.1843\n",
            "Epoch 240/250\n",
            "178/178 [==============================] - 24s 130ms/step - loss: 2.2959 - acc: 0.2219 - val_loss: 2.5872 - val_acc: 0.1843\n",
            "Epoch 241/250\n",
            "178/178 [==============================] - 24s 130ms/step - loss: 2.2977 - acc: 0.2177 - val_loss: 2.5864 - val_acc: 0.1811\n",
            "Epoch 242/250\n",
            "178/178 [==============================] - 24s 130ms/step - loss: 2.2904 - acc: 0.2385 - val_loss: 2.5834 - val_acc: 0.1854\n",
            "Epoch 243/250\n",
            "178/178 [==============================] - 24s 132ms/step - loss: 2.3325 - acc: 0.2149 - val_loss: 2.5840 - val_acc: 0.1875\n",
            "Epoch 244/250\n",
            "178/178 [==============================] - 20s 112ms/step - loss: 2.2826 - acc: 0.2297 - val_loss: 2.5943 - val_acc: 0.1886\n",
            "Epoch 245/250\n",
            "178/178 [==============================] - 23s 129ms/step - loss: 2.2636 - acc: 0.2417 - val_loss: 2.5796 - val_acc: 0.1886\n",
            "Epoch 246/250\n",
            "178/178 [==============================] - 24s 130ms/step - loss: 2.2969 - acc: 0.2219 - val_loss: 2.5644 - val_acc: 0.1801\n",
            "Epoch 247/250\n",
            "178/178 [==============================] - 24s 132ms/step - loss: 2.2853 - acc: 0.2262 - val_loss: 2.5579 - val_acc: 0.1886\n",
            "Epoch 248/250\n",
            "178/178 [==============================] - 20s 110ms/step - loss: 2.2776 - acc: 0.2276 - val_loss: 2.5797 - val_acc: 0.1907\n",
            "Epoch 249/250\n",
            "178/178 [==============================] - 24s 133ms/step - loss: 2.3129 - acc: 0.2244 - val_loss: 2.5733 - val_acc: 0.1864\n",
            "Epoch 250/250\n",
            "178/178 [==============================] - 24s 132ms/step - loss: 2.2852 - acc: 0.2304 - val_loss: 2.5728 - val_acc: 0.1886\n"
          ]
        }
      ]
    },
    {
      "cell_type": "code",
      "source": [
        "\n",
        "acc = history.history['acc']\n",
        "val_acc = history.history['val_acc']\n",
        "loss = history.history['loss']\n",
        "val_loss = history.history['val_loss']\n",
        "\n",
        "epochs_x = range(len(acc))\n",
        "\n",
        "plt.plot(epochs_x, acc, 'ro', label='Training acc')\n",
        "plt.plot(epochs_x, val_acc, 'k', label='Validation acc')\n",
        "plt.title('Training and validation accuracy')\n",
        "plt.legend()\n",
        "\n",
        "plt.figure()\n",
        "\n",
        "plt.plot(epochs_x, loss, 'ro', label='Training loss')\n",
        "plt.plot(epochs_x, val_loss, 'k', label='Validation loss')\n",
        "plt.title('Training and validation loss')\n",
        "plt.legend()\n",
        "\n",
        "plt.show()"
      ],
      "metadata": {
        "id": "Y3K89-CM-dfg",
        "colab": {
          "base_uri": "https://localhost:8080/",
          "height": 545
        },
        "outputId": "0c517fd7-1b3f-4416-f901-8679bac72475"
      },
      "execution_count": null,
      "outputs": [
        {
          "output_type": "display_data",
          "data": {
            "text/plain": [
              "<Figure size 432x288 with 1 Axes>"
            ],
            "image/png": "[encoded data removed]"
          },
          "metadata": {
            "needs_background": "light"
          }
        },
        {
          "output_type": "display_data",
          "data": {
            "text/plain": [
              "<Figure size 432x288 with 1 Axes>"
            ],
            "image/png": "[encoded data removed]"
          },
          "metadata": {
            "needs_background": "light"
          }
        }
      ]
    },
    {
      "cell_type": "code",
      "source": [
        "epochs_x"
      ],
      "metadata": {
        "id": "N_sP_ZmSY-Jv",
        "colab": {
          "base_uri": "https://localhost:8080/"
        },
        "outputId": "d186b9ce-b743-431c-93c0-bfacfb80e19b"
      },
      "execution_count": null,
      "outputs": [
        {
          "output_type": "execute_result",
          "data": {
            "text/plain": [
              "range(0, 250)"
            ]
          },
          "metadata": {},
          "execution_count": 17
        }
      ]
    },
    {
      "cell_type": "markdown",
      "source": [
        "#Download the model\n"
      ],
      "metadata": {
        "id": "R19IJQSYoW7J"
      }
    },
    {
      "cell_type": "code",
      "source": [
        "os.makedirs('/content/drive/My Drive/cut_panoramic/Model', exist_ok=True)\n",
        "model.save('/content/drive/MyDrive/All_File_Lt/Model/Classification/All_Age/AC2_Freeze_250_Lt.h5')"
      ],
      "metadata": {
        "id": "Zed4TdFcG2iJ"
      },
      "execution_count": null,
      "outputs": []
    },
    {
      "cell_type": "markdown",
      "source": [],
      "metadata": {
        "id": "n5YxZ-5QjQ0-"
      }
    },
    {
      "cell_type": "code",
      "source": [
        "# from google.colab import files\n",
        "# files.download('/content/drive/My Drive/cut_panoramic/Model/1.1_รอบแรก_Flimpano_Male125_250.h5')"
      ],
      "metadata": {
        "id": "P5eMxm1NV-oY"
      },
      "execution_count": null,
      "outputs": []
    },
    {
      "cell_type": "code",
      "source": [
        "\n"
      ],
      "metadata": {
        "id": "wY_pDlxkRwxS"
      },
      "execution_count": null,
      "outputs": []
    },
    {
      "cell_type": "code",
      "source": [],
      "metadata": {
        "id": "bwanKzbTjUeu"
      },
      "execution_count": null,
      "outputs": []
    }
  ]
}
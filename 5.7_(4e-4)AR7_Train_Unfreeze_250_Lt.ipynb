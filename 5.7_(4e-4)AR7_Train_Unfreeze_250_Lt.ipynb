{
  "nbformat": 4,
  "nbformat_minor": 0,
  "metadata": {
    "colab": {
      "provenance": [],
      "machine_shape": "hm",
      "include_colab_link": true
    },
    "kernelspec": {
      "name": "python3",
      "display_name": "Python 3"
    },
    "language_info": {
      "name": "python"
    },
    "accelerator": "GPU",
    "gpuClass": "standard"
  },
  "cells": [
    {
      "cell_type": "markdown",
      "metadata": {
        "id": "view-in-github",
        "colab_type": "text"
      },
      "source": [
        "<a href=\"https://colab.research.google.com/github/Wanita-8943/My_Main_Project_Lt-/blob/main/5.7_(4e-4)AR7_Train_Unfreeze_250_Lt.ipynb\" target=\"_parent\"><img src=\"https://colab.research.google.com/assets/colab-badge.svg\" alt=\"Open In Colab\"/></a>"
      ]
    },
    {
      "cell_type": "markdown",
      "source": [
        "#เรียกใช้ CSV"
      ],
      "metadata": {
        "id": "ow7eWoNw6U-c"
      }
    },
    {
      "cell_type": "code",
      "execution_count": null,
      "metadata": {
        "id": "z8o_VVNXzcL8"
      },
      "outputs": [],
      "source": [
        "import pandas as pd\n",
        "import shutil"
      ]
    },
    {
      "cell_type": "code",
      "source": [
        "from google.colab import drive\n",
        "drive.mount('/content/drive')"
      ],
      "metadata": {
        "colab": {
          "base_uri": "https://localhost:8080/"
        },
        "id": "1_2Fe8u81d5r",
        "outputId": "a126b454-d249-48e6-ec34-0270d4602218"
      },
      "execution_count": null,
      "outputs": [
        {
          "output_type": "stream",
          "name": "stdout",
          "text": [
            "Mounted at /content/drive\n"
          ]
        }
      ]
    },
    {
      "cell_type": "markdown",
      "source": [
        "#Imports"
      ],
      "metadata": {
        "id": "5qxePnnn7TGW"
      }
    },
    {
      "cell_type": "code",
      "source": [
        "from tensorflow.keras import models\n",
        "from tensorflow.keras import layers\n",
        "from tensorflow.keras import optimizers\n",
        "import os\n",
        "import glob\n",
        "import shutil\n",
        "import sys\n",
        "import numpy as np\n",
        "from skimage.io import imread\n",
        "import matplotlib.pyplot as plt\n",
        "from IPython.display import Image\n",
        "%matplotlib inline"
      ],
      "metadata": {
        "id": "D-hCRloc3t39"
      },
      "execution_count": null,
      "outputs": []
    },
    {
      "cell_type": "code",
      "source": [
        "import tensorflow as tf\n",
        "from tensorflow.keras import Sequential\n",
        "from tensorflow.keras.layers import Dense\n",
        "from tensorflow.keras.optimizers import Adam\n",
        "from tensorflow.keras import backend as K"
      ],
      "metadata": {
        "id": "YZWXwjXeGxZP"
      },
      "execution_count": null,
      "outputs": []
    },
    {
      "cell_type": "markdown",
      "source": [
        "#กำหนดค่าพารามิเตอร์\n"
      ],
      "metadata": {
        "id": "RooqSdBc7QHC"
      }
    },
    {
      "cell_type": "code",
      "source": [
        "batch_size = 16\n",
        "width = 150\n",
        "height = 150\n",
        "epochs = 250\n",
        "NUM_TRAIN = 2850\n",
        "NUM_TEST = 950\n",
        "dropout_rate = 0.2\n",
        "input_shape = (height, width, 3)"
      ],
      "metadata": {
        "id": "thDb7U9B3xOo"
      },
      "execution_count": null,
      "outputs": []
    },
    {
      "cell_type": "markdown",
      "source": [
        "#Clone efficientnet repo\n"
      ],
      "metadata": {
        "id": "pumGmy6f3eSW"
      }
    },
    {
      "cell_type": "code",
      "source": [
        "#ดึงข้อมูลใน Github มาใช้\n",
        "import os\n",
        "%cd /content\n",
        "if not os.path.isdir(\"efficientnet_keras_transfer_learning\"):\n",
        " !git clone https://github.com/Wanita-8943/efficientnet_keras_transfer_learning\n",
        "%cd efficientnet_keras_transfer_learning/\n"
      ],
      "metadata": {
        "colab": {
          "base_uri": "https://localhost:8080/"
        },
        "id": "P7iy2f8n16p0",
        "outputId": "191dc695-beb8-4e30-a471-a44e157b3ae4"
      },
      "execution_count": null,
      "outputs": [
        {
          "output_type": "stream",
          "name": "stdout",
          "text": [
            "/content\n",
            "Cloning into 'efficientnet_keras_transfer_learning'...\n",
            "remote: Enumerating objects: 1085, done.\u001b[K\n",
            "remote: Counting objects: 100% (248/248), done.\u001b[K\n",
            "remote: Compressing objects: 100% (127/127), done.\u001b[K\n",
            "remote: Total 1085 (delta 124), reused 241 (delta 121), pack-reused 837\u001b[K\n",
            "Receiving objects: 100% (1085/1085), 14.09 MiB | 21.07 MiB/s, done.\n",
            "Resolving deltas: 100% (621/621), done.\n",
            "/content/efficientnet_keras_transfer_learning\n"
          ]
        }
      ]
    },
    {
      "cell_type": "code",
      "source": [
        "# Options: EfficientNetB0, EfficientNetB1, EfficientNetB2, EfficientNetB3\n",
        "# Higher the number, the more complex the model is.\n",
        "from efficientnet import EfficientNetB0 as Net\n",
        "from efficientnet import center_crop_and_resize, preprocess_input"
      ],
      "metadata": {
        "id": "tjZBRnfo3bN0"
      },
      "execution_count": null,
      "outputs": []
    },
    {
      "cell_type": "code",
      "source": [
        "# loading pretrained conv base model\n",
        "# โหลดโมเดล มาโดยตัด output ของโมเดลออก เเต่ยังใช้ input อันเดิม\n",
        "# เเละโหลด weight ของโมเดล มาด้วยที่ชื่อว่า imagenet\n",
        "conv_base = Net(weights='imagenet', include_top=False, input_shape=input_shape)"
      ],
      "metadata": {
        "colab": {
          "base_uri": "https://localhost:8080/"
        },
        "id": "-KXyJhN3DjTd",
        "outputId": "29bde172-4aad-4e98-bfc0-aade5d5e5c7c"
      },
      "execution_count": null,
      "outputs": [
        {
          "output_type": "stream",
          "name": "stdout",
          "text": [
            "Downloading data from https://github.com/qubvel/efficientnet/releases/download/v0.0.1/efficientnet-b0_imagenet_1000_notop.h5\n",
            "16717576/16717576 [==============================] - 0s 0us/step\n"
          ]
        }
      ]
    },
    {
      "cell_type": "markdown",
      "source": [
        "#load model\n"
      ],
      "metadata": {
        "id": "gUXNvjTfg97D"
      }
    },
    {
      "cell_type": "code",
      "source": [
        "import sys\n",
        "sys.path.append('/content/drive/My Drive/All_File_Lt/Model/Regression/5/5.6_(4e-4)AR6_Unfreeze_250_Lt.h5')\n",
        "\n",
        "from efficientnet.layers import Swish, DropConnect\n",
        "from efficientnet.model import ConvKernalInitializer\n",
        "from tensorflow.keras.utils import get_custom_objects\n",
        "\n",
        "get_custom_objects().update({\n",
        "    'ConvKernalInitializer': ConvKernalInitializer,\n",
        "    'Swish': Swish,\n",
        "    'DropConnect':DropConnect\n",
        "})"
      ],
      "metadata": {
        "id": "tdEdMUM6g8-K"
      },
      "execution_count": null,
      "outputs": []
    },
    {
      "cell_type": "code",
      "source": [
        "#load model \n",
        "from tensorflow.keras.models import load_model\n",
        "model = load_model('/content/drive/My Drive/All_File_Lt/Model/Regression/5/5.6_(4e-4)AR6_Unfreeze_250_Lt.h5')\n",
        "height = width = model.input_shape[1]"
      ],
      "metadata": {
        "id": "51y00AmKhFVp"
      },
      "execution_count": null,
      "outputs": []
    },
    {
      "cell_type": "code",
      "source": [
        "model.summary()"
      ],
      "metadata": {
        "colab": {
          "base_uri": "https://localhost:8080/"
        },
        "id": "veq6Mp-GYE2V",
        "outputId": "73327467-aec8-4c2c-ba8c-1b8b1efd731b"
      },
      "execution_count": null,
      "outputs": [
        {
          "output_type": "stream",
          "name": "stdout",
          "text": [
            "Model: \"sequential\"\n",
            "_________________________________________________________________\n",
            " Layer (type)                Output Shape              Param #   \n",
            "=================================================================\n",
            " efficientnet-b0 (Functional  (None, 5, 5, 1280)       4049564   \n",
            " )                                                               \n",
            "                                                                 \n",
            " gap (GlobalMaxPooling2D)    (None, 1280)              0         \n",
            "                                                                 \n",
            " dropout_out (Dropout)       (None, 1280)              0         \n",
            "                                                                 \n",
            " fc_out (Dense)              (None, 19)                24339     \n",
            "                                                                 \n",
            " dense (Dense)               (None, 1)                 20        \n",
            "                                                                 \n",
            "=================================================================\n",
            "Total params: 4,073,923\n",
            "Trainable params: 4,031,907\n",
            "Non-trainable params: 42,016\n",
            "_________________________________________________________________\n"
          ]
        }
      ]
    },
    {
      "cell_type": "markdown",
      "source": [
        "#สร้างโฟลเดอร์ Train Valodation และ Test"
      ],
      "metadata": {
        "id": "J36J9EAE7qSB"
      }
    },
    {
      "cell_type": "code",
      "source": [
        "df = pd.read_csv (r'/content/drive/MyDrive/All_File_Lt/Data/All_Data_Lt.csv')\n",
        "df"
      ],
      "metadata": {
        "colab": {
          "base_uri": "https://localhost:8080/",
          "height": 424
        },
        "id": "skoKhKJDngAZ",
        "outputId": "a67d8aa4-5a85-4c1c-f155-378729e5bfb4"
      },
      "execution_count": null,
      "outputs": [
        {
          "output_type": "execute_result",
          "data": {
            "text/plain": [
              "      Fig_Age  Fig_Person Class_Age+Gender Class_Age  Class_0-18  Age(year)  \\\n",
              "0           1           1             Y07F       Y07           0          7   \n",
              "1           2           1             Y07F       Y07           0          7   \n",
              "2           3           2             Y07F       Y07           0          7   \n",
              "3           4           2             Y07F       Y07           0          7   \n",
              "4           5           3             Y07F       Y07           0          7   \n",
              "...       ...         ...              ...       ...         ...        ...   \n",
              "4745      121          77             Y25M       Y25          18         25   \n",
              "4746      122          78             Y25M       Y25          18         25   \n",
              "4747      123          78             Y25M       Y25          18         25   \n",
              "4748      124          79             Y25M       Y25          18         25   \n",
              "4749      125          79             Y25M       Y25          18         25   \n",
              "\n",
              "      Class_0-1       Filename  \\\n",
              "0             0         V1.jpg   \n",
              "1             0    Flip_V1.jpg   \n",
              "2             0         V2.jpg   \n",
              "3             0    Flip_V2.jpg   \n",
              "4             0         V3.jpg   \n",
              "...         ...            ...   \n",
              "4745          1  Flip_J463.jpg   \n",
              "4746          1       J464.jpg   \n",
              "4747          1  Flip_J464.jpg   \n",
              "4748          1       J465.jpg   \n",
              "4749          1  Flip_J465.jpg   \n",
              "\n",
              "                                          Path_filename     Sex Floder  \n",
              "0     /content/drive/My Drive/All_File_Lt/TVT_All_Lt...  Female   Both  \n",
              "1     /content/drive/My Drive/All_File_Lt/TVT_All_Lt...  Female   Both  \n",
              "2     /content/drive/My Drive/All_File_Lt/TVT_All_Lt...  Female   Both  \n",
              "3     /content/drive/My Drive/All_File_Lt/TVT_All_Lt...  Female   Both  \n",
              "4     /content/drive/My Drive/All_File_Lt/TVT_All_Lt...  Female   Both  \n",
              "...                                                 ...     ...    ...  \n",
              "4745  /content/drive/My Drive/All_File_Lt/TVT_All_Lt...    Male   Both  \n",
              "4746  /content/drive/My Drive/All_File_Lt/TVT_All_Lt...    Male   Both  \n",
              "4747  /content/drive/My Drive/All_File_Lt/TVT_All_Lt...    Male   Both  \n",
              "4748  /content/drive/My Drive/All_File_Lt/TVT_All_Lt...    Male   Both  \n",
              "4749  /content/drive/My Drive/All_File_Lt/TVT_All_Lt...    Male   Both  \n",
              "\n",
              "[4750 rows x 11 columns]"
            ],
            "text/html": [
              "\n",
              "  <div id=\"df-df5f8c1b-ad88-49b0-9b90-1d626c5b6a24\">\n",
              "    <div class=\"colab-df-container\">\n",
              "      <div>\n",
              "<style scoped>\n",
              "    .dataframe tbody tr th:only-of-type {\n",
              "        vertical-align: middle;\n",
              "    }\n",
              "\n",
              "    .dataframe tbody tr th {\n",
              "        vertical-align: top;\n",
              "    }\n",
              "\n",
              "    .dataframe thead th {\n",
              "        text-align: right;\n",
              "    }\n",
              "</style>\n",
              "<table border=\"1\" class=\"dataframe\">\n",
              "  <thead>\n",
              "    <tr style=\"text-align: right;\">\n",
              "      <th></th>\n",
              "      <th>Fig_Age</th>\n",
              "      <th>Fig_Person</th>\n",
              "      <th>Class_Age+Gender</th>\n",
              "      <th>Class_Age</th>\n",
              "      <th>Class_0-18</th>\n",
              "      <th>Age(year)</th>\n",
              "      <th>Class_0-1</th>\n",
              "      <th>Filename</th>\n",
              "      <th>Path_filename</th>\n",
              "      <th>Sex</th>\n",
              "      <th>Floder</th>\n",
              "    </tr>\n",
              "  </thead>\n",
              "  <tbody>\n",
              "    <tr>\n",
              "      <th>0</th>\n",
              "      <td>1</td>\n",
              "      <td>1</td>\n",
              "      <td>Y07F</td>\n",
              "      <td>Y07</td>\n",
              "      <td>0</td>\n",
              "      <td>7</td>\n",
              "      <td>0</td>\n",
              "      <td>V1.jpg</td>\n",
              "      <td>/content/drive/My Drive/All_File_Lt/TVT_All_Lt...</td>\n",
              "      <td>Female</td>\n",
              "      <td>Both</td>\n",
              "    </tr>\n",
              "    <tr>\n",
              "      <th>1</th>\n",
              "      <td>2</td>\n",
              "      <td>1</td>\n",
              "      <td>Y07F</td>\n",
              "      <td>Y07</td>\n",
              "      <td>0</td>\n",
              "      <td>7</td>\n",
              "      <td>0</td>\n",
              "      <td>Flip_V1.jpg</td>\n",
              "      <td>/content/drive/My Drive/All_File_Lt/TVT_All_Lt...</td>\n",
              "      <td>Female</td>\n",
              "      <td>Both</td>\n",
              "    </tr>\n",
              "    <tr>\n",
              "      <th>2</th>\n",
              "      <td>3</td>\n",
              "      <td>2</td>\n",
              "      <td>Y07F</td>\n",
              "      <td>Y07</td>\n",
              "      <td>0</td>\n",
              "      <td>7</td>\n",
              "      <td>0</td>\n",
              "      <td>V2.jpg</td>\n",
              "      <td>/content/drive/My Drive/All_File_Lt/TVT_All_Lt...</td>\n",
              "      <td>Female</td>\n",
              "      <td>Both</td>\n",
              "    </tr>\n",
              "    <tr>\n",
              "      <th>3</th>\n",
              "      <td>4</td>\n",
              "      <td>2</td>\n",
              "      <td>Y07F</td>\n",
              "      <td>Y07</td>\n",
              "      <td>0</td>\n",
              "      <td>7</td>\n",
              "      <td>0</td>\n",
              "      <td>Flip_V2.jpg</td>\n",
              "      <td>/content/drive/My Drive/All_File_Lt/TVT_All_Lt...</td>\n",
              "      <td>Female</td>\n",
              "      <td>Both</td>\n",
              "    </tr>\n",
              "    <tr>\n",
              "      <th>4</th>\n",
              "      <td>5</td>\n",
              "      <td>3</td>\n",
              "      <td>Y07F</td>\n",
              "      <td>Y07</td>\n",
              "      <td>0</td>\n",
              "      <td>7</td>\n",
              "      <td>0</td>\n",
              "      <td>V3.jpg</td>\n",
              "      <td>/content/drive/My Drive/All_File_Lt/TVT_All_Lt...</td>\n",
              "      <td>Female</td>\n",
              "      <td>Both</td>\n",
              "    </tr>\n",
              "    <tr>\n",
              "      <th>...</th>\n",
              "      <td>...</td>\n",
              "      <td>...</td>\n",
              "      <td>...</td>\n",
              "      <td>...</td>\n",
              "      <td>...</td>\n",
              "      <td>...</td>\n",
              "      <td>...</td>\n",
              "      <td>...</td>\n",
              "      <td>...</td>\n",
              "      <td>...</td>\n",
              "      <td>...</td>\n",
              "    </tr>\n",
              "    <tr>\n",
              "      <th>4745</th>\n",
              "      <td>121</td>\n",
              "      <td>77</td>\n",
              "      <td>Y25M</td>\n",
              "      <td>Y25</td>\n",
              "      <td>18</td>\n",
              "      <td>25</td>\n",
              "      <td>1</td>\n",
              "      <td>Flip_J463.jpg</td>\n",
              "      <td>/content/drive/My Drive/All_File_Lt/TVT_All_Lt...</td>\n",
              "      <td>Male</td>\n",
              "      <td>Both</td>\n",
              "    </tr>\n",
              "    <tr>\n",
              "      <th>4746</th>\n",
              "      <td>122</td>\n",
              "      <td>78</td>\n",
              "      <td>Y25M</td>\n",
              "      <td>Y25</td>\n",
              "      <td>18</td>\n",
              "      <td>25</td>\n",
              "      <td>1</td>\n",
              "      <td>J464.jpg</td>\n",
              "      <td>/content/drive/My Drive/All_File_Lt/TVT_All_Lt...</td>\n",
              "      <td>Male</td>\n",
              "      <td>Both</td>\n",
              "    </tr>\n",
              "    <tr>\n",
              "      <th>4747</th>\n",
              "      <td>123</td>\n",
              "      <td>78</td>\n",
              "      <td>Y25M</td>\n",
              "      <td>Y25</td>\n",
              "      <td>18</td>\n",
              "      <td>25</td>\n",
              "      <td>1</td>\n",
              "      <td>Flip_J464.jpg</td>\n",
              "      <td>/content/drive/My Drive/All_File_Lt/TVT_All_Lt...</td>\n",
              "      <td>Male</td>\n",
              "      <td>Both</td>\n",
              "    </tr>\n",
              "    <tr>\n",
              "      <th>4748</th>\n",
              "      <td>124</td>\n",
              "      <td>79</td>\n",
              "      <td>Y25M</td>\n",
              "      <td>Y25</td>\n",
              "      <td>18</td>\n",
              "      <td>25</td>\n",
              "      <td>1</td>\n",
              "      <td>J465.jpg</td>\n",
              "      <td>/content/drive/My Drive/All_File_Lt/TVT_All_Lt...</td>\n",
              "      <td>Male</td>\n",
              "      <td>Both</td>\n",
              "    </tr>\n",
              "    <tr>\n",
              "      <th>4749</th>\n",
              "      <td>125</td>\n",
              "      <td>79</td>\n",
              "      <td>Y25M</td>\n",
              "      <td>Y25</td>\n",
              "      <td>18</td>\n",
              "      <td>25</td>\n",
              "      <td>1</td>\n",
              "      <td>Flip_J465.jpg</td>\n",
              "      <td>/content/drive/My Drive/All_File_Lt/TVT_All_Lt...</td>\n",
              "      <td>Male</td>\n",
              "      <td>Both</td>\n",
              "    </tr>\n",
              "  </tbody>\n",
              "</table>\n",
              "<p>4750 rows × 11 columns</p>\n",
              "</div>\n",
              "      <button class=\"colab-df-convert\" onclick=\"convertToInteractive('df-df5f8c1b-ad88-49b0-9b90-1d626c5b6a24')\"\n",
              "              title=\"Convert this dataframe to an interactive table.\"\n",
              "              style=\"display:none;\">\n",
              "        \n",
              "  <svg xmlns=\"http://www.w3.org/2000/svg\" height=\"24px\"viewBox=\"0 0 24 24\"\n",
              "       width=\"24px\">\n",
              "    <path d=\"M0 0h24v24H0V0z\" fill=\"none\"/>\n",
              "    <path d=\"M18.56 5.44l.94 2.06.94-2.06 2.06-.94-2.06-.94-.94-2.06-.94 2.06-2.06.94zm-11 1L8.5 8.5l.94-2.06 2.06-.94-2.06-.94L8.5 2.5l-.94 2.06-2.06.94zm10 10l.94 2.06.94-2.06 2.06-.94-2.06-.94-.94-2.06-.94 2.06-2.06.94z\"/><path d=\"M17.41 7.96l-1.37-1.37c-.4-.4-.92-.59-1.43-.59-.52 0-1.04.2-1.43.59L10.3 9.45l-7.72 7.72c-.78.78-.78 2.05 0 2.83L4 21.41c.39.39.9.59 1.41.59.51 0 1.02-.2 1.41-.59l7.78-7.78 2.81-2.81c.8-.78.8-2.07 0-2.86zM5.41 20L4 18.59l7.72-7.72 1.47 1.35L5.41 20z\"/>\n",
              "  </svg>\n",
              "      </button>\n",
              "      \n",
              "  <style>\n",
              "    .colab-df-container {\n",
              "      display:flex;\n",
              "      flex-wrap:wrap;\n",
              "      gap: 12px;\n",
              "    }\n",
              "\n",
              "    .colab-df-convert {\n",
              "      background-color: #E8F0FE;\n",
              "      border: none;\n",
              "      border-radius: 50%;\n",
              "      cursor: pointer;\n",
              "      display: none;\n",
              "      fill: #1967D2;\n",
              "      height: 32px;\n",
              "      padding: 0 0 0 0;\n",
              "      width: 32px;\n",
              "    }\n",
              "\n",
              "    .colab-df-convert:hover {\n",
              "      background-color: #E2EBFA;\n",
              "      box-shadow: 0px 1px 2px rgba(60, 64, 67, 0.3), 0px 1px 3px 1px rgba(60, 64, 67, 0.15);\n",
              "      fill: #174EA6;\n",
              "    }\n",
              "\n",
              "    [theme=dark] .colab-df-convert {\n",
              "      background-color: #3B4455;\n",
              "      fill: #D2E3FC;\n",
              "    }\n",
              "\n",
              "    [theme=dark] .colab-df-convert:hover {\n",
              "      background-color: #434B5C;\n",
              "      box-shadow: 0px 1px 3px 1px rgba(0, 0, 0, 0.15);\n",
              "      filter: drop-shadow(0px 1px 2px rgba(0, 0, 0, 0.3));\n",
              "      fill: #FFFFFF;\n",
              "    }\n",
              "  </style>\n",
              "\n",
              "      <script>\n",
              "        const buttonEl =\n",
              "          document.querySelector('#df-df5f8c1b-ad88-49b0-9b90-1d626c5b6a24 button.colab-df-convert');\n",
              "        buttonEl.style.display =\n",
              "          google.colab.kernel.accessAllowed ? 'block' : 'none';\n",
              "\n",
              "        async function convertToInteractive(key) {\n",
              "          const element = document.querySelector('#df-df5f8c1b-ad88-49b0-9b90-1d626c5b6a24');\n",
              "          const dataTable =\n",
              "            await google.colab.kernel.invokeFunction('convertToInteractive',\n",
              "                                                     [key], {});\n",
              "          if (!dataTable) return;\n",
              "\n",
              "          const docLinkHtml = 'Like what you see? Visit the ' +\n",
              "            '<a target=\"_blank\" href=https://colab.research.google.com/notebooks/data_table.ipynb>data table notebook</a>'\n",
              "            + ' to learn more about interactive tables.';\n",
              "          element.innerHTML = '';\n",
              "          dataTable['output_type'] = 'display_data';\n",
              "          await google.colab.output.renderOutput(dataTable, element);\n",
              "          const docLink = document.createElement('div');\n",
              "          docLink.innerHTML = docLinkHtml;\n",
              "          element.appendChild(docLink);\n",
              "        }\n",
              "      </script>\n",
              "    </div>\n",
              "  </div>\n",
              "  "
            ]
          },
          "metadata": {},
          "execution_count": 12
        }
      ]
    },
    {
      "cell_type": "code",
      "source": [
        "train = df[df['Fig_Age'].between(1,75)]\n",
        "val = df[df['Fig_Age'].between(76,100)]"
      ],
      "metadata": {
        "id": "Z1zBw01Gl8Ac"
      },
      "execution_count": null,
      "outputs": []
    },
    {
      "cell_type": "code",
      "source": [
        "DATA_PATH = \"/content/drive/My Drive/All_File_Lt/TVT_All_Lt\"\n",
        "os.chdir(DATA_PATH)\n",
        "train_dir = os.path.join(DATA_PATH, 'train')\n",
        "print(train_dir)\n",
        "validation_dir = os.path.join(DATA_PATH, 'validation')\n",
        "print(validation_dir)"
      ],
      "metadata": {
        "colab": {
          "base_uri": "https://localhost:8080/"
        },
        "id": "QL0g-8iOnMC4",
        "outputId": "7dc0cac9-0283-4c7a-e8ff-f908941f3dcd"
      },
      "execution_count": null,
      "outputs": [
        {
          "output_type": "stream",
          "name": "stdout",
          "text": [
            "/content/drive/My Drive/All_File_Lt/TVT_All_Lt/train\n",
            "/content/drive/My Drive/All_File_Lt/TVT_All_Lt/validation\n"
          ]
        }
      ]
    },
    {
      "cell_type": "markdown",
      "source": [
        "\n",
        "#Train"
      ],
      "metadata": {
        "id": "bWEnlTSwazL5"
      }
    },
    {
      "cell_type": "code",
      "source": [
        "# Train ด้วย ImageDataGenerator ของ Keras ซึ่งจะเพิ่มข้อมูลเสริมระหว่างการฝึกเพื่อลดโอกาสเกิด overfitting\n",
        "#overfitting เกิดจากข้อมูลที่ซับซ้อนกันเกินไป\n",
        "from tensorflow.keras.preprocessing.image import ImageDataGenerator\n",
        "\n",
        "train_datagen = ImageDataGenerator(\n",
        "      rescale=1./255, #โมเดลส่วนใหญ่ต้องใช้ RGB ในช่วง 0–1\n",
        "      rotation_range=40,\n",
        "      width_shift_range=0.2,\n",
        "      height_shift_range=0.2,\n",
        "      shear_range=0.2,\n",
        "      zoom_range=0.2,\n",
        "      horizontal_flip=True,\n",
        "      fill_mode='nearest')\n",
        "\n",
        "# Note that the validation data should not be augmented!\n",
        "test_datagen = ImageDataGenerator(rescale=1./255)\n",
        "\n",
        "train_generator = train_datagen.flow_from_dataframe(\n",
        "        dataframe = train,\n",
        "        directory = train_dir,\n",
        "        x_col = 'Path_filename',\n",
        "        y_col = 'Age(year)',\n",
        "        class_mode = 'other',\n",
        "        target_size=(height, width),\n",
        "        batch_size=batch_size)\n",
        "\n",
        "validation_generator = test_datagen.flow_from_dataframe(\n",
        "        dataframe = val,\n",
        "        directory = validation_dir,\n",
        "        x_col = 'Path_filename',\n",
        "        y_col = 'Age(year)',\n",
        "        class_mode = 'other',\n",
        "        target_size=(height, width),\n",
        "        batch_size=batch_size)"
      ],
      "metadata": {
        "id": "xGPrsn9no_pa",
        "outputId": "d53e94c1-e2fd-4c7e-c053-157356f2295c",
        "colab": {
          "base_uri": "https://localhost:8080/"
        }
      },
      "execution_count": null,
      "outputs": [
        {
          "output_type": "stream",
          "name": "stdout",
          "text": [
            "Found 2850 validated image filenames.\n",
            "Found 950 validated image filenames.\n"
          ]
        }
      ]
    },
    {
      "cell_type": "code",
      "source": [
        "model.compile(loss='mse',\n",
        "          optimizer=Adam(learning_rate=4e-4),\n",
        "          metrics=['mae'])\n",
        "history = model.fit_generator(\n",
        "      train_generator,\n",
        "      steps_per_epoch= NUM_TRAIN //batch_size,\n",
        "      epochs=epochs,\n",
        "      validation_data=validation_generator,\n",
        "      validation_steps= NUM_TEST //batch_size,\n",
        "      verbose=1,\n",
        "      use_multiprocessing=True,\n",
        "      workers=4)"
      ],
      "metadata": {
        "id": "N6qUmmF856ZE",
        "outputId": "853cef99-0790-4a56-a9c4-5c4ba66fe5e9",
        "colab": {
          "base_uri": "https://localhost:8080/"
        }
      },
      "execution_count": null,
      "outputs": [
        {
          "output_type": "stream",
          "name": "stderr",
          "text": [
            "<ipython-input-16-23c2d5617436>:4: UserWarning: `Model.fit_generator` is deprecated and will be removed in a future version. Please use `Model.fit`, which supports generators.\n",
            "  history = model.fit_generator(\n"
          ]
        },
        {
          "output_type": "stream",
          "name": "stdout",
          "text": [
            "Epoch 1/250\n",
            "178/178 [==============================] - 517s 3s/step - loss: 4.7827 - mae: 1.3570 - val_loss: 3.9569 - val_mae: 1.4611\n",
            "Epoch 2/250\n",
            "178/178 [==============================] - 27s 151ms/step - loss: 3.0180 - mae: 1.1940 - val_loss: 10.3508 - val_mae: 2.4251\n",
            "Epoch 3/250\n",
            "178/178 [==============================] - 27s 148ms/step - loss: 3.0703 - mae: 1.2090 - val_loss: 4.8169 - val_mae: 1.6283\n",
            "Epoch 4/250\n",
            "178/178 [==============================] - 27s 148ms/step - loss: 2.7398 - mae: 1.1986 - val_loss: 7.2510 - val_mae: 2.1025\n",
            "Epoch 5/250\n",
            "178/178 [==============================] - 27s 150ms/step - loss: 2.3533 - mae: 1.1507 - val_loss: 7.9165 - val_mae: 2.1717\n",
            "Epoch 6/250\n",
            "178/178 [==============================] - 27s 149ms/step - loss: 2.2402 - mae: 1.1229 - val_loss: 7.2228 - val_mae: 2.1213\n",
            "Epoch 7/250\n",
            "178/178 [==============================] - 27s 150ms/step - loss: 2.1910 - mae: 1.0960 - val_loss: 8.4939 - val_mae: 2.2611\n",
            "Epoch 8/250\n",
            "178/178 [==============================] - 27s 151ms/step - loss: 2.1432 - mae: 1.0749 - val_loss: 6.0748 - val_mae: 1.9215\n",
            "Epoch 9/250\n",
            "178/178 [==============================] - 23s 126ms/step - loss: 1.9030 - mae: 1.0469 - val_loss: 6.4145 - val_mae: 1.9464\n",
            "Epoch 10/250\n",
            "178/178 [==============================] - 27s 147ms/step - loss: 1.8533 - mae: 1.0376 - val_loss: 7.0880 - val_mae: 2.0790\n",
            "Epoch 11/250\n",
            "178/178 [==============================] - 26s 144ms/step - loss: 1.8577 - mae: 1.0281 - val_loss: 6.0585 - val_mae: 1.9576\n",
            "Epoch 12/250\n",
            "178/178 [==============================] - 22s 120ms/step - loss: 1.8673 - mae: 1.0166 - val_loss: 6.1780 - val_mae: 1.9535\n",
            "Epoch 13/250\n",
            "178/178 [==============================] - 27s 148ms/step - loss: 2.0856 - mae: 1.0407 - val_loss: 8.4974 - val_mae: 2.2559\n",
            "Epoch 14/250\n",
            "178/178 [==============================] - 27s 147ms/step - loss: 1.9927 - mae: 1.0456 - val_loss: 11.7446 - val_mae: 2.6543\n",
            "Epoch 15/250\n",
            "178/178 [==============================] - 27s 146ms/step - loss: 2.0936 - mae: 1.0541 - val_loss: 7.5987 - val_mae: 2.0978\n",
            "Epoch 16/250\n",
            "178/178 [==============================] - 27s 146ms/step - loss: 1.7916 - mae: 1.0273 - val_loss: 9.5603 - val_mae: 2.3331\n",
            "Epoch 17/250\n",
            "178/178 [==============================] - 27s 149ms/step - loss: 1.7798 - mae: 1.0090 - val_loss: 13.8601 - val_mae: 2.9240\n",
            "Epoch 18/250\n",
            "178/178 [==============================] - 22s 121ms/step - loss: 1.8196 - mae: 1.0299 - val_loss: 14.2187 - val_mae: 2.9800\n",
            "Epoch 19/250\n",
            "178/178 [==============================] - 27s 147ms/step - loss: 1.8181 - mae: 1.0145 - val_loss: 13.6459 - val_mae: 2.9064\n",
            "Epoch 20/250\n",
            "178/178 [==============================] - 22s 119ms/step - loss: 1.6117 - mae: 0.9746 - val_loss: 15.4070 - val_mae: 3.1636\n",
            "Epoch 21/250\n",
            "178/178 [==============================] - 26s 145ms/step - loss: 1.6231 - mae: 0.9706 - val_loss: 16.6210 - val_mae: 3.3132\n",
            "Epoch 22/250\n",
            "178/178 [==============================] - 26s 145ms/step - loss: 1.7768 - mae: 1.0205 - val_loss: 14.6557 - val_mae: 3.0370\n",
            "Epoch 23/250\n",
            "178/178 [==============================] - 26s 144ms/step - loss: 1.7365 - mae: 0.9943 - val_loss: 7.3312 - val_mae: 2.0132\n",
            "Epoch 24/250\n",
            "178/178 [==============================] - 26s 144ms/step - loss: 1.6305 - mae: 0.9826 - val_loss: 6.8012 - val_mae: 1.9951\n",
            "Epoch 25/250\n",
            "178/178 [==============================] - 26s 145ms/step - loss: 1.7713 - mae: 0.9973 - val_loss: 8.5370 - val_mae: 2.1785\n",
            "Epoch 26/250\n",
            "178/178 [==============================] - 26s 144ms/step - loss: 1.6272 - mae: 0.9824 - val_loss: 5.6653 - val_mae: 1.8376\n",
            "Epoch 27/250\n",
            "178/178 [==============================] - 26s 145ms/step - loss: 1.8574 - mae: 1.0067 - val_loss: 6.9147 - val_mae: 2.0313\n",
            "Epoch 28/250\n",
            "178/178 [==============================] - 26s 144ms/step - loss: 1.6133 - mae: 0.9569 - val_loss: 8.1096 - val_mae: 2.2250\n",
            "Epoch 29/250\n",
            "178/178 [==============================] - 26s 144ms/step - loss: 1.7111 - mae: 0.9638 - val_loss: 13.6453 - val_mae: 2.7159\n",
            "Epoch 30/250\n",
            "178/178 [==============================] - 26s 144ms/step - loss: 1.8082 - mae: 1.0024 - val_loss: 6.9054 - val_mae: 2.0599\n",
            "Epoch 31/250\n",
            "178/178 [==============================] - 23s 125ms/step - loss: 1.7833 - mae: 0.9935 - val_loss: 7.7515 - val_mae: 2.1959\n",
            "Epoch 32/250\n",
            "178/178 [==============================] - 26s 145ms/step - loss: 1.7171 - mae: 0.9697 - val_loss: 5.2115 - val_mae: 1.8029\n",
            "Epoch 33/250\n",
            "178/178 [==============================] - 27s 145ms/step - loss: 1.4978 - mae: 0.9274 - val_loss: 5.6711 - val_mae: 1.8975\n",
            "Epoch 34/250\n",
            "178/178 [==============================] - 26s 143ms/step - loss: 1.4375 - mae: 0.9157 - val_loss: 6.3600 - val_mae: 1.9821\n",
            "Epoch 35/250\n",
            "178/178 [==============================] - 26s 144ms/step - loss: 1.9900 - mae: 1.0471 - val_loss: 5.1934 - val_mae: 1.8043\n",
            "Epoch 36/250\n",
            "178/178 [==============================] - 26s 144ms/step - loss: 1.8368 - mae: 1.0242 - val_loss: 5.7515 - val_mae: 1.8650\n",
            "Epoch 37/250\n",
            "178/178 [==============================] - 26s 144ms/step - loss: 1.6801 - mae: 0.9711 - val_loss: 5.3294 - val_mae: 1.8191\n",
            "Epoch 38/250\n",
            "178/178 [==============================] - 26s 143ms/step - loss: 1.6486 - mae: 0.9700 - val_loss: 5.4209 - val_mae: 1.8255\n",
            "Epoch 39/250\n",
            "178/178 [==============================] - 26s 143ms/step - loss: 1.7265 - mae: 0.9930 - val_loss: 4.9934 - val_mae: 1.7630\n",
            "Epoch 40/250\n",
            "178/178 [==============================] - 26s 144ms/step - loss: 1.8031 - mae: 1.0077 - val_loss: 4.7225 - val_mae: 1.7104\n",
            "Epoch 41/250\n",
            "178/178 [==============================] - 26s 144ms/step - loss: 1.7577 - mae: 1.0102 - val_loss: 5.1764 - val_mae: 1.7974\n",
            "Epoch 42/250\n",
            "178/178 [==============================] - 26s 144ms/step - loss: 1.6238 - mae: 0.9795 - val_loss: 5.1548 - val_mae: 1.7885\n",
            "Epoch 43/250\n",
            "178/178 [==============================] - 26s 145ms/step - loss: 1.5982 - mae: 0.9632 - val_loss: 4.8347 - val_mae: 1.7278\n",
            "Epoch 44/250\n",
            "178/178 [==============================] - 26s 145ms/step - loss: 1.7369 - mae: 1.0060 - val_loss: 5.0949 - val_mae: 1.7595\n",
            "Epoch 45/250\n",
            "178/178 [==============================] - 26s 145ms/step - loss: 1.7375 - mae: 1.0003 - val_loss: 5.1807 - val_mae: 1.7718\n",
            "Epoch 46/250\n",
            "178/178 [==============================] - 26s 144ms/step - loss: 1.5740 - mae: 0.9633 - val_loss: 5.1769 - val_mae: 1.7823\n",
            "Epoch 47/250\n",
            "178/178 [==============================] - 26s 144ms/step - loss: 1.9244 - mae: 1.0360 - val_loss: 6.7459 - val_mae: 2.0020\n",
            "Epoch 48/250\n",
            "178/178 [==============================] - 26s 145ms/step - loss: 2.2469 - mae: 1.0993 - val_loss: 5.6532 - val_mae: 1.8582\n",
            "Epoch 49/250\n",
            "178/178 [==============================] - 27s 147ms/step - loss: 2.1344 - mae: 1.1016 - val_loss: 4.4846 - val_mae: 1.6770\n",
            "Epoch 50/250\n",
            "178/178 [==============================] - 27s 150ms/step - loss: 2.6799 - mae: 1.1082 - val_loss: 12.0097 - val_mae: 2.4874\n",
            "Epoch 51/250\n",
            "178/178 [==============================] - 27s 149ms/step - loss: 4.9681 - mae: 1.3596 - val_loss: 7.7810 - val_mae: 2.1058\n",
            "Epoch 52/250\n",
            "178/178 [==============================] - 27s 147ms/step - loss: 5.1058 - mae: 1.3199 - val_loss: 5.8816 - val_mae: 1.8777\n",
            "Epoch 53/250\n",
            "178/178 [==============================] - 22s 121ms/step - loss: 2.9562 - mae: 1.1392 - val_loss: 5.6251 - val_mae: 1.8003\n",
            "Epoch 54/250\n",
            "178/178 [==============================] - 27s 145ms/step - loss: 2.1625 - mae: 1.0846 - val_loss: 4.6175 - val_mae: 1.6647\n",
            "Epoch 55/250\n",
            "178/178 [==============================] - 26s 144ms/step - loss: 4.6092 - mae: 1.3205 - val_loss: 6.1195 - val_mae: 1.9241\n",
            "Epoch 56/250\n",
            "178/178 [==============================] - 26s 144ms/step - loss: 4.5501 - mae: 1.2709 - val_loss: 5.4269 - val_mae: 1.7878\n",
            "Epoch 57/250\n",
            "178/178 [==============================] - 27s 146ms/step - loss: 4.0698 - mae: 1.2240 - val_loss: 5.6691 - val_mae: 1.8354\n",
            "Epoch 58/250\n",
            "178/178 [==============================] - 27s 149ms/step - loss: 3.4072 - mae: 1.1688 - val_loss: 39.2612 - val_mae: 4.8102\n",
            "Epoch 59/250\n",
            "178/178 [==============================] - 27s 148ms/step - loss: 1.8016 - mae: 1.0308 - val_loss: 7.6814 - val_mae: 2.1161\n",
            "Epoch 60/250\n",
            "178/178 [==============================] - 23s 127ms/step - loss: 1.7364 - mae: 0.9970 - val_loss: 7.9224 - val_mae: 2.1714\n",
            "Epoch 61/250\n",
            "178/178 [==============================] - 28s 155ms/step - loss: 1.7746 - mae: 1.0207 - val_loss: 7.7666 - val_mae: 2.1489\n",
            "Epoch 62/250\n",
            "178/178 [==============================] - 29s 158ms/step - loss: 1.6566 - mae: 0.9945 - val_loss: 6.9025 - val_mae: 2.0312\n",
            "Epoch 63/250\n",
            "178/178 [==============================] - 27s 149ms/step - loss: 1.6219 - mae: 0.9741 - val_loss: 7.6210 - val_mae: 2.1063\n",
            "Epoch 64/250\n",
            "178/178 [==============================] - 27s 147ms/step - loss: 1.5953 - mae: 0.9780 - val_loss: 7.1485 - val_mae: 2.0519\n",
            "Epoch 65/250\n",
            "178/178 [==============================] - 27s 147ms/step - loss: 1.5296 - mae: 0.9586 - val_loss: 6.1938 - val_mae: 1.9345\n",
            "Epoch 66/250\n",
            "178/178 [==============================] - 27s 149ms/step - loss: 1.5354 - mae: 0.9639 - val_loss: 7.7913 - val_mae: 2.1449\n",
            "Epoch 67/250\n",
            "178/178 [==============================] - 27s 147ms/step - loss: 1.5487 - mae: 0.9548 - val_loss: 6.7677 - val_mae: 2.0371\n",
            "Epoch 68/250\n",
            "178/178 [==============================] - 27s 147ms/step - loss: 1.5495 - mae: 0.9565 - val_loss: 6.4527 - val_mae: 1.9887\n",
            "Epoch 69/250\n",
            "178/178 [==============================] - 27s 148ms/step - loss: 1.4710 - mae: 0.9380 - val_loss: 6.7304 - val_mae: 2.0324\n",
            "Epoch 70/250\n",
            "178/178 [==============================] - 26s 146ms/step - loss: 1.5217 - mae: 0.9394 - val_loss: 7.1098 - val_mae: 2.0970\n",
            "Epoch 71/250\n",
            "178/178 [==============================] - 27s 147ms/step - loss: 1.3386 - mae: 0.8972 - val_loss: 6.1110 - val_mae: 1.9592\n",
            "Epoch 72/250\n",
            "178/178 [==============================] - 27s 147ms/step - loss: 1.4015 - mae: 0.9142 - val_loss: 5.5192 - val_mae: 1.8133\n",
            "Epoch 73/250\n",
            "178/178 [==============================] - 26s 146ms/step - loss: 1.7282 - mae: 1.0080 - val_loss: 6.2983 - val_mae: 1.9642\n",
            "Epoch 74/250\n",
            "178/178 [==============================] - 26s 146ms/step - loss: 1.5893 - mae: 0.9648 - val_loss: 8.1702 - val_mae: 2.2377\n",
            "Epoch 75/250\n",
            "178/178 [==============================] - 23s 126ms/step - loss: 1.6022 - mae: 0.9653 - val_loss: 6.6808 - val_mae: 1.9906\n",
            "Epoch 76/250\n",
            "178/178 [==============================] - 26s 144ms/step - loss: 1.5589 - mae: 0.9508 - val_loss: 10.0057 - val_mae: 2.4141\n",
            "Epoch 77/250\n",
            "178/178 [==============================] - 26s 144ms/step - loss: 1.4771 - mae: 0.9486 - val_loss: 7.2978 - val_mae: 2.0789\n",
            "Epoch 78/250\n",
            "178/178 [==============================] - 27s 146ms/step - loss: 1.5528 - mae: 0.9371 - val_loss: 6.5573 - val_mae: 1.9407\n",
            "Epoch 79/250\n",
            "178/178 [==============================] - 26s 143ms/step - loss: 1.6316 - mae: 0.9597 - val_loss: 7.3431 - val_mae: 2.0462\n",
            "Epoch 80/250\n",
            "178/178 [==============================] - 26s 144ms/step - loss: 1.4960 - mae: 0.9255 - val_loss: 9.2732 - val_mae: 2.2596\n",
            "Epoch 81/250\n",
            "178/178 [==============================] - 27s 146ms/step - loss: 1.5042 - mae: 0.9441 - val_loss: 7.0265 - val_mae: 2.0370\n",
            "Epoch 82/250\n",
            "178/178 [==============================] - 26s 144ms/step - loss: 1.4932 - mae: 0.9399 - val_loss: 6.4380 - val_mae: 1.9800\n",
            "Epoch 83/250\n",
            "178/178 [==============================] - 27s 146ms/step - loss: 1.3759 - mae: 0.9103 - val_loss: 5.8890 - val_mae: 1.9002\n",
            "Epoch 84/250\n",
            "178/178 [==============================] - 27s 146ms/step - loss: 1.4991 - mae: 0.9424 - val_loss: 5.6129 - val_mae: 1.8589\n",
            "Epoch 85/250\n",
            "178/178 [==============================] - 26s 144ms/step - loss: 1.3663 - mae: 0.9120 - val_loss: 8.0468 - val_mae: 2.1853\n",
            "Epoch 86/250\n",
            "178/178 [==============================] - 27s 146ms/step - loss: 1.4412 - mae: 0.9298 - val_loss: 7.1649 - val_mae: 2.0711\n",
            "Epoch 87/250\n",
            "178/178 [==============================] - 26s 145ms/step - loss: 1.4536 - mae: 0.9285 - val_loss: 5.1201 - val_mae: 1.7861\n",
            "Epoch 88/250\n",
            "178/178 [==============================] - 26s 144ms/step - loss: 1.3612 - mae: 0.8855 - val_loss: 7.2370 - val_mae: 2.0936\n",
            "Epoch 89/250\n",
            "178/178 [==============================] - 26s 144ms/step - loss: 1.3045 - mae: 0.8778 - val_loss: 7.4366 - val_mae: 2.1145\n",
            "Epoch 90/250\n",
            "178/178 [==============================] - 26s 144ms/step - loss: 1.3152 - mae: 0.8958 - val_loss: 5.2036 - val_mae: 1.7973\n",
            "Epoch 91/250\n",
            "178/178 [==============================] - 26s 145ms/step - loss: 1.5994 - mae: 0.9429 - val_loss: 6.1187 - val_mae: 1.9116\n",
            "Epoch 92/250\n",
            "178/178 [==============================] - 23s 124ms/step - loss: 1.5011 - mae: 0.9177 - val_loss: 5.6994 - val_mae: 1.8778\n",
            "Epoch 93/250\n",
            "178/178 [==============================] - 27s 147ms/step - loss: 1.5321 - mae: 0.9380 - val_loss: 8.1495 - val_mae: 2.1079\n",
            "Epoch 94/250\n",
            "178/178 [==============================] - 27s 147ms/step - loss: 2.8289 - mae: 1.2100 - val_loss: 6.1363 - val_mae: 1.9034\n",
            "Epoch 95/250\n",
            "178/178 [==============================] - 27s 147ms/step - loss: 3.8264 - mae: 1.3550 - val_loss: 7.3087 - val_mae: 2.0897\n",
            "Epoch 96/250\n",
            "178/178 [==============================] - 27s 148ms/step - loss: 2.6354 - mae: 1.1532 - val_loss: 6.0212 - val_mae: 1.8854\n",
            "Epoch 97/250\n",
            "178/178 [==============================] - 27s 147ms/step - loss: 3.8900 - mae: 1.2557 - val_loss: 6.0122 - val_mae: 1.9003\n",
            "Epoch 98/250\n",
            "178/178 [==============================] - 27s 146ms/step - loss: 4.4392 - mae: 1.3037 - val_loss: 7.6987 - val_mae: 2.1163\n",
            "Epoch 99/250\n",
            "178/178 [==============================] - 26s 144ms/step - loss: 2.5267 - mae: 1.0896 - val_loss: 7.1279 - val_mae: 2.0743\n",
            "Epoch 100/250\n",
            "178/178 [==============================] - 27s 146ms/step - loss: 1.8395 - mae: 1.0384 - val_loss: 7.5281 - val_mae: 2.1198\n",
            "Epoch 101/250\n",
            "178/178 [==============================] - 27s 146ms/step - loss: 1.8170 - mae: 1.0371 - val_loss: 9.7300 - val_mae: 2.3312\n",
            "Epoch 102/250\n",
            "178/178 [==============================] - 27s 147ms/step - loss: 1.7193 - mae: 0.9900 - val_loss: 7.5273 - val_mae: 2.0867\n",
            "Epoch 103/250\n",
            "178/178 [==============================] - 26s 146ms/step - loss: 1.5810 - mae: 0.9770 - val_loss: 7.4497 - val_mae: 2.0796\n",
            "Epoch 104/250\n",
            "178/178 [==============================] - 27s 148ms/step - loss: 1.5351 - mae: 0.9554 - val_loss: 8.6193 - val_mae: 2.2262\n",
            "Epoch 105/250\n",
            "178/178 [==============================] - 27s 148ms/step - loss: 1.6125 - mae: 0.9918 - val_loss: 6.5755 - val_mae: 1.9672\n",
            "Epoch 106/250\n",
            "178/178 [==============================] - 27s 148ms/step - loss: 1.6268 - mae: 0.9672 - val_loss: 6.1301 - val_mae: 1.9103\n",
            "Epoch 107/250\n",
            "178/178 [==============================] - 27s 149ms/step - loss: 1.6307 - mae: 0.9836 - val_loss: 7.5409 - val_mae: 2.1868\n",
            "Epoch 108/250\n",
            "178/178 [==============================] - 27s 148ms/step - loss: 1.6455 - mae: 0.9735 - val_loss: 5.2992 - val_mae: 1.8274\n",
            "Epoch 109/250\n",
            "178/178 [==============================] - 27s 148ms/step - loss: 1.5521 - mae: 0.9630 - val_loss: 5.7341 - val_mae: 1.8821\n",
            "Epoch 110/250\n",
            "178/178 [==============================] - 27s 150ms/step - loss: 1.6255 - mae: 0.9437 - val_loss: 5.3114 - val_mae: 1.8179\n",
            "Epoch 111/250\n",
            "178/178 [==============================] - 27s 147ms/step - loss: 1.4260 - mae: 0.9088 - val_loss: 6.3050 - val_mae: 1.9622\n",
            "Epoch 112/250\n",
            "178/178 [==============================] - 27s 148ms/step - loss: 1.5206 - mae: 0.9426 - val_loss: 7.6110 - val_mae: 2.1495\n",
            "Epoch 113/250\n",
            "178/178 [==============================] - 27s 149ms/step - loss: 1.4946 - mae: 0.9480 - val_loss: 6.5605 - val_mae: 2.0165\n",
            "Epoch 114/250\n",
            "178/178 [==============================] - 27s 148ms/step - loss: 1.4552 - mae: 0.9158 - val_loss: 6.2961 - val_mae: 1.9760\n",
            "Epoch 115/250\n",
            "178/178 [==============================] - 27s 147ms/step - loss: 1.4053 - mae: 0.9059 - val_loss: 5.0802 - val_mae: 1.8087\n",
            "Epoch 116/250\n",
            "178/178 [==============================] - 27s 147ms/step - loss: 1.4308 - mae: 0.9040 - val_loss: 6.3124 - val_mae: 1.9935\n",
            "Epoch 117/250\n",
            "178/178 [==============================] - 27s 147ms/step - loss: 1.3739 - mae: 0.8966 - val_loss: 5.6168 - val_mae: 1.8694\n",
            "Epoch 118/250\n",
            "178/178 [==============================] - 27s 148ms/step - loss: 1.4262 - mae: 0.9163 - val_loss: 6.1404 - val_mae: 1.9170\n",
            "Epoch 119/250\n",
            "178/178 [==============================] - 27s 146ms/step - loss: 1.4515 - mae: 0.8872 - val_loss: 5.1995 - val_mae: 1.7729\n",
            "Epoch 120/250\n",
            "178/178 [==============================] - 27s 148ms/step - loss: 1.3063 - mae: 0.8824 - val_loss: 5.7237 - val_mae: 1.8815\n",
            "Epoch 121/250\n",
            "178/178 [==============================] - 27s 149ms/step - loss: 1.2906 - mae: 0.8761 - val_loss: 5.5967 - val_mae: 1.8590\n",
            "Epoch 122/250\n",
            "178/178 [==============================] - 27s 148ms/step - loss: 1.3874 - mae: 0.8909 - val_loss: 6.6772 - val_mae: 2.0063\n",
            "Epoch 123/250\n",
            "178/178 [==============================] - 27s 146ms/step - loss: 1.2068 - mae: 0.8507 - val_loss: 7.6633 - val_mae: 2.1197\n",
            "Epoch 124/250\n",
            "178/178 [==============================] - 23s 125ms/step - loss: 1.2137 - mae: 0.8606 - val_loss: 6.9253 - val_mae: 2.0150\n",
            "Epoch 125/250\n",
            "178/178 [==============================] - 27s 150ms/step - loss: 1.2355 - mae: 0.8530 - val_loss: 7.5319 - val_mae: 2.1052\n",
            "Epoch 126/250\n",
            "178/178 [==============================] - 27s 149ms/step - loss: 1.2499 - mae: 0.8650 - val_loss: 6.8521 - val_mae: 1.9952\n",
            "Epoch 127/250\n",
            "178/178 [==============================] - 27s 149ms/step - loss: 1.2273 - mae: 0.8515 - val_loss: 6.1867 - val_mae: 1.9309\n",
            "Epoch 128/250\n",
            "178/178 [==============================] - 27s 149ms/step - loss: 1.1850 - mae: 0.8328 - val_loss: 5.5808 - val_mae: 1.8331\n",
            "Epoch 129/250\n",
            "178/178 [==============================] - 27s 148ms/step - loss: 1.2492 - mae: 0.8499 - val_loss: 5.1665 - val_mae: 1.7966\n",
            "Epoch 130/250\n",
            "178/178 [==============================] - 27s 149ms/step - loss: 1.2783 - mae: 0.8564 - val_loss: 5.1747 - val_mae: 1.7750\n",
            "Epoch 131/250\n",
            "178/178 [==============================] - 27s 149ms/step - loss: 1.1703 - mae: 0.8434 - val_loss: 6.6961 - val_mae: 2.0355\n",
            "Epoch 132/250\n",
            "178/178 [==============================] - 23s 125ms/step - loss: 1.2405 - mae: 0.8438 - val_loss: 8.0047 - val_mae: 2.1551\n",
            "Epoch 133/250\n",
            "178/178 [==============================] - 28s 152ms/step - loss: 1.1695 - mae: 0.8323 - val_loss: 7.7101 - val_mae: 2.1644\n",
            "Epoch 134/250\n",
            "178/178 [==============================] - 27s 151ms/step - loss: 1.2088 - mae: 0.8316 - val_loss: 5.8042 - val_mae: 1.9056\n",
            "Epoch 135/250\n",
            "178/178 [==============================] - 27s 149ms/step - loss: 1.1361 - mae: 0.8236 - val_loss: 5.8238 - val_mae: 1.9239\n",
            "Epoch 136/250\n",
            "178/178 [==============================] - 27s 149ms/step - loss: 1.1424 - mae: 0.8203 - val_loss: 8.2387 - val_mae: 2.2025\n",
            "Epoch 137/250\n",
            "178/178 [==============================] - 27s 149ms/step - loss: 1.1724 - mae: 0.8197 - val_loss: 7.0257 - val_mae: 2.0772\n",
            "Epoch 138/250\n",
            "178/178 [==============================] - 27s 148ms/step - loss: 1.1678 - mae: 0.8259 - val_loss: 6.0772 - val_mae: 1.9066\n",
            "Epoch 139/250\n",
            "178/178 [==============================] - 27s 147ms/step - loss: 1.0451 - mae: 0.7912 - val_loss: 5.6643 - val_mae: 1.8565\n",
            "Epoch 140/250\n",
            "178/178 [==============================] - 27s 147ms/step - loss: 1.1069 - mae: 0.8174 - val_loss: 6.7533 - val_mae: 2.0361\n",
            "Epoch 141/250\n",
            "178/178 [==============================] - 27s 146ms/step - loss: 1.1903 - mae: 0.8270 - val_loss: 5.3048 - val_mae: 1.8085\n",
            "Epoch 142/250\n",
            "178/178 [==============================] - 27s 147ms/step - loss: 1.0612 - mae: 0.7914 - val_loss: 4.6911 - val_mae: 1.7099\n",
            "Epoch 143/250\n",
            "178/178 [==============================] - 26s 145ms/step - loss: 1.1746 - mae: 0.8178 - val_loss: 5.7973 - val_mae: 1.8465\n",
            "Epoch 144/250\n",
            "178/178 [==============================] - 27s 149ms/step - loss: 1.2337 - mae: 0.8514 - val_loss: 5.1613 - val_mae: 1.7821\n",
            "Epoch 145/250\n",
            "178/178 [==============================] - 27s 148ms/step - loss: 1.3038 - mae: 0.8533 - val_loss: 4.7788 - val_mae: 1.7193\n",
            "Epoch 146/250\n",
            "178/178 [==============================] - 27s 149ms/step - loss: 1.2374 - mae: 0.8547 - val_loss: 4.1992 - val_mae: 1.6415\n",
            "Epoch 147/250\n",
            "178/178 [==============================] - 27s 148ms/step - loss: 1.2415 - mae: 0.8395 - val_loss: 5.7114 - val_mae: 1.8827\n",
            "Epoch 148/250\n",
            "178/178 [==============================] - 27s 147ms/step - loss: 1.0356 - mae: 0.7865 - val_loss: 4.0098 - val_mae: 1.5920\n",
            "Epoch 149/250\n",
            "178/178 [==============================] - 27s 147ms/step - loss: 1.0384 - mae: 0.7924 - val_loss: 4.8713 - val_mae: 1.7454\n",
            "Epoch 150/250\n",
            "178/178 [==============================] - 27s 147ms/step - loss: 1.1168 - mae: 0.7991 - val_loss: 5.4466 - val_mae: 1.8077\n",
            "Epoch 151/250\n",
            "178/178 [==============================] - 27s 148ms/step - loss: 1.0858 - mae: 0.8007 - val_loss: 6.1616 - val_mae: 1.9390\n",
            "Epoch 152/250\n",
            "178/178 [==============================] - 27s 149ms/step - loss: 1.1264 - mae: 0.8200 - val_loss: 5.9592 - val_mae: 1.8966\n",
            "Epoch 153/250\n",
            "178/178 [==============================] - 27s 148ms/step - loss: 0.9481 - mae: 0.7578 - val_loss: 4.4049 - val_mae: 1.6627\n",
            "Epoch 154/250\n",
            "178/178 [==============================] - 27s 148ms/step - loss: 0.9584 - mae: 0.7595 - val_loss: 5.8914 - val_mae: 1.9394\n",
            "Epoch 155/250\n",
            "178/178 [==============================] - 27s 148ms/step - loss: 1.2384 - mae: 0.8378 - val_loss: 4.9738 - val_mae: 1.7939\n",
            "Epoch 156/250\n",
            "178/178 [==============================] - 27s 147ms/step - loss: 1.2676 - mae: 0.8447 - val_loss: 4.1407 - val_mae: 1.5818\n",
            "Epoch 157/250\n",
            "178/178 [==============================] - 27s 147ms/step - loss: 1.2260 - mae: 0.8201 - val_loss: 4.8953 - val_mae: 1.7161\n",
            "Epoch 158/250\n",
            "178/178 [==============================] - 27s 147ms/step - loss: 1.2808 - mae: 0.8297 - val_loss: 5.5300 - val_mae: 1.8720\n",
            "Epoch 159/250\n",
            "178/178 [==============================] - 27s 148ms/step - loss: 1.4969 - mae: 0.8801 - val_loss: 6.9719 - val_mae: 2.0525\n",
            "Epoch 160/250\n",
            "178/178 [==============================] - 27s 148ms/step - loss: 1.4417 - mae: 0.8507 - val_loss: 5.7171 - val_mae: 1.8849\n",
            "Epoch 161/250\n",
            "178/178 [==============================] - 27s 149ms/step - loss: 1.1565 - mae: 0.8074 - val_loss: 4.8297 - val_mae: 1.7505\n",
            "Epoch 162/250\n",
            "178/178 [==============================] - 27s 148ms/step - loss: 1.0980 - mae: 0.7947 - val_loss: 6.2060 - val_mae: 1.9542\n",
            "Epoch 163/250\n",
            "178/178 [==============================] - 27s 148ms/step - loss: 1.2043 - mae: 0.8021 - val_loss: 6.6937 - val_mae: 2.0179\n",
            "Epoch 164/250\n",
            "178/178 [==============================] - 23s 125ms/step - loss: 1.1003 - mae: 0.7809 - val_loss: 5.9776 - val_mae: 1.9064\n",
            "Epoch 165/250\n",
            "178/178 [==============================] - 27s 151ms/step - loss: 1.2192 - mae: 0.7810 - val_loss: 4.6525 - val_mae: 1.7076\n",
            "Epoch 166/250\n",
            "178/178 [==============================] - 27s 150ms/step - loss: 1.0314 - mae: 0.7702 - val_loss: 5.4277 - val_mae: 1.8552\n",
            "Epoch 167/250\n",
            "178/178 [==============================] - 27s 148ms/step - loss: 0.9859 - mae: 0.7563 - val_loss: 5.1240 - val_mae: 1.8036\n",
            "Epoch 168/250\n",
            "178/178 [==============================] - 27s 147ms/step - loss: 1.4001 - mae: 0.8404 - val_loss: 7.3660 - val_mae: 2.1068\n",
            "Epoch 169/250\n",
            "178/178 [==============================] - 27s 147ms/step - loss: 1.0705 - mae: 0.7863 - val_loss: 5.7804 - val_mae: 1.8848\n",
            "Epoch 170/250\n",
            "178/178 [==============================] - 27s 146ms/step - loss: 1.0968 - mae: 0.7858 - val_loss: 7.4692 - val_mae: 2.1200\n",
            "Epoch 171/250\n",
            "178/178 [==============================] - 28s 152ms/step - loss: 1.2346 - mae: 0.8370 - val_loss: 5.0586 - val_mae: 1.7797\n",
            "Epoch 172/250\n",
            "178/178 [==============================] - 27s 151ms/step - loss: 1.0481 - mae: 0.7915 - val_loss: 6.1262 - val_mae: 1.9306\n",
            "Epoch 173/250\n",
            "178/178 [==============================] - 27s 148ms/step - loss: 1.0321 - mae: 0.7852 - val_loss: 7.2686 - val_mae: 2.0889\n",
            "Epoch 174/250\n",
            "178/178 [==============================] - 27s 147ms/step - loss: 1.1958 - mae: 0.7930 - val_loss: 5.3643 - val_mae: 1.7838\n",
            "Epoch 175/250\n",
            "178/178 [==============================] - 27s 147ms/step - loss: 1.1011 - mae: 0.8117 - val_loss: 4.6458 - val_mae: 1.6786\n",
            "Epoch 176/250\n",
            "178/178 [==============================] - 27s 146ms/step - loss: 1.0403 - mae: 0.7768 - val_loss: 5.0325 - val_mae: 1.7527\n",
            "Epoch 177/250\n",
            "178/178 [==============================] - 27s 148ms/step - loss: 1.1672 - mae: 0.8038 - val_loss: 5.4002 - val_mae: 1.8618\n",
            "Epoch 178/250\n",
            "178/178 [==============================] - 27s 146ms/step - loss: 1.2907 - mae: 0.8261 - val_loss: 5.3813 - val_mae: 1.8352\n",
            "Epoch 179/250\n",
            "178/178 [==============================] - 26s 145ms/step - loss: 1.0048 - mae: 0.7755 - val_loss: 5.0140 - val_mae: 1.7564\n",
            "Epoch 180/250\n",
            "178/178 [==============================] - 27s 150ms/step - loss: 1.0744 - mae: 0.7740 - val_loss: 6.6944 - val_mae: 2.0326\n",
            "Epoch 181/250\n",
            "178/178 [==============================] - 27s 148ms/step - loss: 1.0020 - mae: 0.7580 - val_loss: 4.6764 - val_mae: 1.7213\n",
            "Epoch 182/250\n",
            "178/178 [==============================] - 27s 148ms/step - loss: 1.0842 - mae: 0.7675 - val_loss: 5.5576 - val_mae: 1.8811\n",
            "Epoch 183/250\n",
            "178/178 [==============================] - 27s 147ms/step - loss: 1.1128 - mae: 0.7686 - val_loss: 5.4172 - val_mae: 1.8567\n",
            "Epoch 184/250\n",
            "178/178 [==============================] - 27s 147ms/step - loss: 0.9610 - mae: 0.7297 - val_loss: 6.4372 - val_mae: 1.9966\n",
            "Epoch 185/250\n",
            "178/178 [==============================] - 27s 148ms/step - loss: 0.9317 - mae: 0.7438 - val_loss: 5.5679 - val_mae: 1.8470\n",
            "Epoch 186/250\n",
            "178/178 [==============================] - 23s 125ms/step - loss: 1.0388 - mae: 0.7632 - val_loss: 4.7524 - val_mae: 1.7370\n",
            "Epoch 187/250\n",
            "178/178 [==============================] - 26s 144ms/step - loss: 1.1671 - mae: 0.7935 - val_loss: 5.9139 - val_mae: 1.9067\n",
            "Epoch 188/250\n",
            "178/178 [==============================] - 26s 145ms/step - loss: 0.9539 - mae: 0.7559 - val_loss: 4.4988 - val_mae: 1.6962\n",
            "Epoch 189/250\n",
            "178/178 [==============================] - 27s 145ms/step - loss: 1.0967 - mae: 0.7502 - val_loss: 6.3465 - val_mae: 1.9601\n",
            "Epoch 190/250\n",
            "178/178 [==============================] - 26s 145ms/step - loss: 1.0479 - mae: 0.7595 - val_loss: 5.7212 - val_mae: 1.8894\n",
            "Epoch 191/250\n",
            "178/178 [==============================] - 22s 120ms/step - loss: 0.8597 - mae: 0.7163 - val_loss: 5.9259 - val_mae: 1.9127\n",
            "Epoch 192/250\n",
            "178/178 [==============================] - 27s 149ms/step - loss: 0.9343 - mae: 0.7390 - val_loss: 4.7034 - val_mae: 1.7218\n",
            "Epoch 193/250\n",
            "178/178 [==============================] - 27s 149ms/step - loss: 0.8396 - mae: 0.7108 - val_loss: 4.5246 - val_mae: 1.7119\n",
            "Epoch 194/250\n",
            "178/178 [==============================] - 27s 149ms/step - loss: 0.9026 - mae: 0.7233 - val_loss: 4.3610 - val_mae: 1.6563\n",
            "Epoch 195/250\n",
            "178/178 [==============================] - 27s 149ms/step - loss: 0.9651 - mae: 0.7262 - val_loss: 4.9438 - val_mae: 1.7424\n",
            "Epoch 196/250\n",
            "178/178 [==============================] - 27s 150ms/step - loss: 0.9417 - mae: 0.7187 - val_loss: 6.8011 - val_mae: 2.0279\n",
            "Epoch 197/250\n",
            "178/178 [==============================] - 27s 147ms/step - loss: 0.8943 - mae: 0.7127 - val_loss: 4.1958 - val_mae: 1.6329\n",
            "Epoch 198/250\n",
            "178/178 [==============================] - 27s 148ms/step - loss: 0.9690 - mae: 0.7330 - val_loss: 4.1911 - val_mae: 1.6314\n",
            "Epoch 199/250\n",
            "178/178 [==============================] - 27s 148ms/step - loss: 0.8783 - mae: 0.7219 - val_loss: 4.5086 - val_mae: 1.6567\n",
            "Epoch 200/250\n",
            "178/178 [==============================] - 27s 147ms/step - loss: 0.9431 - mae: 0.7377 - val_loss: 5.5173 - val_mae: 1.8547\n",
            "Epoch 201/250\n",
            "178/178 [==============================] - 27s 146ms/step - loss: 0.8372 - mae: 0.7043 - val_loss: 4.9375 - val_mae: 1.7465\n",
            "Epoch 202/250\n",
            "178/178 [==============================] - 27s 149ms/step - loss: 1.1671 - mae: 0.7831 - val_loss: 4.7547 - val_mae: 1.7005\n",
            "Epoch 203/250\n",
            "178/178 [==============================] - 27s 149ms/step - loss: 1.0835 - mae: 0.7971 - val_loss: 4.1060 - val_mae: 1.5833\n",
            "Epoch 204/250\n",
            "178/178 [==============================] - 23s 123ms/step - loss: 1.2035 - mae: 0.7962 - val_loss: 6.0856 - val_mae: 1.9189\n",
            "Epoch 205/250\n",
            "178/178 [==============================] - 27s 150ms/step - loss: 0.9787 - mae: 0.7440 - val_loss: 6.7152 - val_mae: 2.0158\n",
            "Epoch 206/250\n",
            "178/178 [==============================] - 27s 149ms/step - loss: 0.8632 - mae: 0.7196 - val_loss: 5.5547 - val_mae: 1.8523\n",
            "Epoch 207/250\n",
            "178/178 [==============================] - 27s 149ms/step - loss: 1.1094 - mae: 0.7787 - val_loss: 6.0113 - val_mae: 1.8930\n",
            "Epoch 208/250\n",
            "178/178 [==============================] - 27s 150ms/step - loss: 1.0143 - mae: 0.7617 - val_loss: 5.2597 - val_mae: 1.7990\n",
            "Epoch 209/250\n",
            "178/178 [==============================] - 27s 149ms/step - loss: 0.9995 - mae: 0.7665 - val_loss: 5.8309 - val_mae: 1.9096\n",
            "Epoch 210/250\n",
            "178/178 [==============================] - 27s 148ms/step - loss: 1.0438 - mae: 0.7588 - val_loss: 6.4704 - val_mae: 2.0009\n",
            "Epoch 211/250\n",
            "178/178 [==============================] - 27s 146ms/step - loss: 0.9386 - mae: 0.7281 - val_loss: 7.8330 - val_mae: 2.1978\n",
            "Epoch 212/250\n",
            "178/178 [==============================] - 27s 147ms/step - loss: 0.9481 - mae: 0.7367 - val_loss: 5.5286 - val_mae: 1.8780\n",
            "Epoch 213/250\n",
            "178/178 [==============================] - 27s 146ms/step - loss: 0.9478 - mae: 0.7314 - val_loss: 5.0778 - val_mae: 1.7953\n",
            "Epoch 214/250\n",
            "178/178 [==============================] - 27s 146ms/step - loss: 0.8866 - mae: 0.7143 - val_loss: 5.3942 - val_mae: 1.8491\n",
            "Epoch 215/250\n",
            "178/178 [==============================] - 23s 126ms/step - loss: 0.8575 - mae: 0.7097 - val_loss: 5.9985 - val_mae: 1.9632\n",
            "Epoch 216/250\n",
            "178/178 [==============================] - 23s 126ms/step - loss: 0.8821 - mae: 0.7135 - val_loss: 5.5346 - val_mae: 1.8544\n",
            "Epoch 217/250\n",
            "178/178 [==============================] - 27s 148ms/step - loss: 0.8708 - mae: 0.6959 - val_loss: 5.1452 - val_mae: 1.8170\n",
            "Epoch 218/250\n",
            "178/178 [==============================] - 27s 151ms/step - loss: 0.8313 - mae: 0.7045 - val_loss: 5.3006 - val_mae: 1.8338\n",
            "Epoch 219/250\n",
            "178/178 [==============================] - 23s 127ms/step - loss: 0.9344 - mae: 0.7102 - val_loss: 6.4842 - val_mae: 2.0250\n",
            "Epoch 220/250\n",
            "178/178 [==============================] - 23s 124ms/step - loss: 0.8624 - mae: 0.7061 - val_loss: 5.4737 - val_mae: 1.8598\n",
            "Epoch 221/250\n",
            "178/178 [==============================] - 27s 146ms/step - loss: 0.8186 - mae: 0.6924 - val_loss: 5.7359 - val_mae: 1.9040\n",
            "Epoch 222/250\n",
            "178/178 [==============================] - 22s 120ms/step - loss: 0.8027 - mae: 0.6783 - val_loss: 5.0366 - val_mae: 1.7911\n",
            "Epoch 223/250\n",
            "178/178 [==============================] - 27s 149ms/step - loss: 0.7797 - mae: 0.6844 - val_loss: 6.3979 - val_mae: 2.0110\n",
            "Epoch 224/250\n",
            "178/178 [==============================] - 27s 151ms/step - loss: 2.4764 - mae: 0.9245 - val_loss: 6.9957 - val_mae: 1.8020\n",
            "Epoch 225/250\n",
            "178/178 [==============================] - 27s 150ms/step - loss: 2.2712 - mae: 0.9404 - val_loss: 4.9355 - val_mae: 1.6122\n",
            "Epoch 226/250\n",
            "178/178 [==============================] - 27s 149ms/step - loss: 1.3292 - mae: 0.8502 - val_loss: 6.1642 - val_mae: 1.8661\n",
            "Epoch 227/250\n",
            "178/178 [==============================] - 27s 150ms/step - loss: 1.2297 - mae: 0.8170 - val_loss: 5.2652 - val_mae: 1.7245\n",
            "Epoch 228/250\n",
            "178/178 [==============================] - 27s 149ms/step - loss: 1.1393 - mae: 0.7938 - val_loss: 4.4315 - val_mae: 1.6048\n",
            "Epoch 229/250\n",
            "178/178 [==============================] - 27s 150ms/step - loss: 2.0043 - mae: 0.9408 - val_loss: 4.8075 - val_mae: 1.6671\n",
            "Epoch 230/250\n",
            "178/178 [==============================] - 22s 123ms/step - loss: 1.7169 - mae: 0.9025 - val_loss: 4.2668 - val_mae: 1.6046\n",
            "Epoch 231/250\n",
            "178/178 [==============================] - 27s 145ms/step - loss: 1.3629 - mae: 0.8208 - val_loss: 7.0128 - val_mae: 1.8774\n",
            "Epoch 232/250\n",
            "178/178 [==============================] - 27s 148ms/step - loss: 1.5278 - mae: 0.8345 - val_loss: 5.1621 - val_mae: 1.6395\n",
            "Epoch 233/250\n",
            "178/178 [==============================] - 27s 147ms/step - loss: 1.2852 - mae: 0.8083 - val_loss: 5.5498 - val_mae: 1.7126\n",
            "Epoch 234/250\n",
            "178/178 [==============================] - 27s 151ms/step - loss: 1.1499 - mae: 0.7727 - val_loss: 4.8725 - val_mae: 1.6546\n",
            "Epoch 235/250\n",
            "178/178 [==============================] - 27s 150ms/step - loss: 1.2061 - mae: 0.7717 - val_loss: 5.2592 - val_mae: 1.7536\n",
            "Epoch 236/250\n",
            "178/178 [==============================] - 27s 151ms/step - loss: 1.1776 - mae: 0.7714 - val_loss: 5.3561 - val_mae: 1.7472\n",
            "Epoch 237/250\n",
            "178/178 [==============================] - 23s 125ms/step - loss: 1.2368 - mae: 0.7696 - val_loss: 5.7196 - val_mae: 1.8042\n",
            "Epoch 238/250\n",
            "178/178 [==============================] - 27s 151ms/step - loss: 1.1576 - mae: 0.7674 - val_loss: 5.5607 - val_mae: 1.7506\n",
            "Epoch 239/250\n",
            "178/178 [==============================] - 27s 150ms/step - loss: 1.2167 - mae: 0.7673 - val_loss: 4.7803 - val_mae: 1.6036\n",
            "Epoch 240/250\n",
            "178/178 [==============================] - 27s 149ms/step - loss: 2.2883 - mae: 0.8858 - val_loss: 4.4244 - val_mae: 1.5617\n",
            "Epoch 241/250\n",
            "178/178 [==============================] - 27s 148ms/step - loss: 3.3435 - mae: 0.9802 - val_loss: 7.6329 - val_mae: 1.8206\n",
            "Epoch 242/250\n",
            "178/178 [==============================] - 27s 149ms/step - loss: 3.4082 - mae: 0.9790 - val_loss: 5.0223 - val_mae: 1.6407\n",
            "Epoch 243/250\n",
            "178/178 [==============================] - 27s 149ms/step - loss: 3.2884 - mae: 0.9488 - val_loss: 6.8016 - val_mae: 1.8993\n",
            "Epoch 244/250\n",
            "178/178 [==============================] - 27s 147ms/step - loss: 2.7518 - mae: 0.9113 - val_loss: 5.3550 - val_mae: 1.7215\n",
            "Epoch 245/250\n",
            "178/178 [==============================] - 27s 147ms/step - loss: 2.3521 - mae: 0.9239 - val_loss: 5.0996 - val_mae: 1.7130\n",
            "Epoch 246/250\n",
            "178/178 [==============================] - 23s 125ms/step - loss: 2.0876 - mae: 0.8790 - val_loss: 6.6084 - val_mae: 1.8706\n",
            "Epoch 247/250\n",
            "178/178 [==============================] - 26s 144ms/step - loss: 1.7248 - mae: 0.8906 - val_loss: 6.7020 - val_mae: 1.8331\n",
            "Epoch 248/250\n",
            "178/178 [==============================] - 27s 146ms/step - loss: 1.5934 - mae: 0.9386 - val_loss: 4.6726 - val_mae: 1.5888\n",
            "Epoch 249/250\n",
            "178/178 [==============================] - 26s 144ms/step - loss: 2.8484 - mae: 1.0936 - val_loss: 8.3665 - val_mae: 2.1074\n",
            "Epoch 250/250\n",
            "178/178 [==============================] - 27s 146ms/step - loss: 3.7619 - mae: 1.3528 - val_loss: 9.7875 - val_mae: 2.2506\n"
          ]
        }
      ]
    },
    {
      "cell_type": "code",
      "source": [
        "loss = history.history['loss']\n",
        "val_loss = history.history['val_loss']\n",
        "mae = history.history['mae']\n",
        "val_mae = history.history['val_mae']\n",
        "\n",
        "\n",
        "epochs_x = range(len(loss))\n",
        "\n",
        "\n",
        "# plt.plot(epochs_x, mae, 'go', label='Training MAE')\n",
        "plt.plot(epochs_x, mae, 'o', color ='darkviolet', label='Training MAE')\n",
        "plt.plot(epochs_x, val_mae, 'k', label='Validation MAE')\n",
        "plt.title('Training and validation MeanAbsoluteError')\n",
        "plt.legend()\n",
        "\n",
        "plt.figure()\n",
        "# plt.plot(epochs_x, loss, 'go', label='Training loss')\n",
        "plt.plot(epochs_x, loss, 'o', color ='darkviolet', label='Training loss')\n",
        "plt.plot(epochs_x, val_loss, 'k', label='Validation loss')\n",
        "plt.title('Training and validation loss')\n",
        "plt.legend()\n",
        "\n",
        "plt.show()"
      ],
      "metadata": {
        "id": "Y3K89-CM-dfg",
        "colab": {
          "base_uri": "https://localhost:8080/",
          "height": 887
        },
        "outputId": "3c19c8be-5d3b-4f92-8022-fdfc8904fdda"
      },
      "execution_count": null,
      "outputs": [
        {
          "output_type": "display_data",
          "data": {
            "text/plain": [
              "<Figure size 640x480 with 1 Axes>"
            ],
            "image/png": "[encoded data removed]"
          },
          "metadata": {}
        },
        {
          "output_type": "display_data",
          "data": {
            "text/plain": [
              "<Figure size 640x480 with 1 Axes>"
            ],
            "image/png": "[encoded data removed]"
          },
          "metadata": {}
        }
      ]
    },
    {
      "cell_type": "code",
      "source": [
        "epochs_x"
      ],
      "metadata": {
        "id": "N_sP_ZmSY-Jv",
        "colab": {
          "base_uri": "https://localhost:8080/"
        },
        "outputId": "4ce72214-8e4e-4a09-9d80-9fd3a954ef98"
      },
      "execution_count": null,
      "outputs": [
        {
          "output_type": "execute_result",
          "data": {
            "text/plain": [
              "range(0, 250)"
            ]
          },
          "metadata": {},
          "execution_count": 18
        }
      ]
    },
    {
      "cell_type": "markdown",
      "source": [
        "#Download the model\n"
      ],
      "metadata": {
        "id": "R19IJQSYoW7J"
      }
    },
    {
      "cell_type": "code",
      "source": [
        "os.makedirs('/content/drive/My Drive/cut_panoramic/Model', exist_ok=True)\n",
        "model.save('/content/drive/My Drive/All_File_Lt/Model/Regression/5/5.7_(4e-4)AR7_Unfreeze_250_Lt.h5')"
      ],
      "metadata": {
        "id": "Zed4TdFcG2iJ"
      },
      "execution_count": null,
      "outputs": []
    },
    {
      "cell_type": "markdown",
      "source": [],
      "metadata": {
        "id": "n5YxZ-5QjQ0-"
      }
    },
    {
      "cell_type": "code",
      "source": [
        "# from google.colab import files\n",
        "# files.download('/content/drive/My Drive/cut_panoramic/Model/1.1_รอบแรก_Flimpano_Male125_250.h5')"
      ],
      "metadata": {
        "id": "P5eMxm1NV-oY"
      },
      "execution_count": null,
      "outputs": []
    }
  ]
}
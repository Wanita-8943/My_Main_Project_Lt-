{
  "nbformat": 4,
  "nbformat_minor": 0,
  "metadata": {
    "colab": {
      "provenance": [],
      "machine_shape": "hm",
      "include_colab_link": true
    },
    "kernelspec": {
      "name": "python3",
      "display_name": "Python 3"
    },
    "language_info": {
      "name": "python"
    },
    "accelerator": "GPU",
    "gpuClass": "standard"
  },
  "cells": [
    {
      "cell_type": "markdown",
      "metadata": {
        "id": "view-in-github",
        "colab_type": "text"
      },
      "source": [
        "<a href=\"https://colab.research.google.com/github/Wanita-8943/My_Main_Project_Lt-/blob/main/5.6_(4e-4)AR6_Train_Unfreeze_250_Lt.ipynb\" target=\"_parent\"><img src=\"https://colab.research.google.com/assets/colab-badge.svg\" alt=\"Open In Colab\"/></a>"
      ]
    },
    {
      "cell_type": "markdown",
      "source": [
        "#เรียกใช้ CSV"
      ],
      "metadata": {
        "id": "ow7eWoNw6U-c"
      }
    },
    {
      "cell_type": "code",
      "execution_count": null,
      "metadata": {
        "id": "z8o_VVNXzcL8"
      },
      "outputs": [],
      "source": [
        "import pandas as pd\n",
        "import shutil"
      ]
    },
    {
      "cell_type": "code",
      "source": [
        "from google.colab import drive\n",
        "drive.mount('/content/drive')"
      ],
      "metadata": {
        "colab": {
          "base_uri": "https://localhost:8080/"
        },
        "id": "1_2Fe8u81d5r",
        "outputId": "fa0f19a7-2621-49e0-96af-84fea13022ca"
      },
      "execution_count": null,
      "outputs": [
        {
          "output_type": "stream",
          "name": "stdout",
          "text": [
            "Mounted at /content/drive\n"
          ]
        }
      ]
    },
    {
      "cell_type": "markdown",
      "source": [
        "#Imports"
      ],
      "metadata": {
        "id": "5qxePnnn7TGW"
      }
    },
    {
      "cell_type": "code",
      "source": [
        "from tensorflow.keras import models\n",
        "from tensorflow.keras import layers\n",
        "from tensorflow.keras import optimizers\n",
        "import os\n",
        "import glob\n",
        "import shutil\n",
        "import sys\n",
        "import numpy as np\n",
        "from skimage.io import imread\n",
        "import matplotlib.pyplot as plt\n",
        "from IPython.display import Image\n",
        "%matplotlib inline"
      ],
      "metadata": {
        "id": "D-hCRloc3t39"
      },
      "execution_count": null,
      "outputs": []
    },
    {
      "cell_type": "code",
      "source": [
        "import tensorflow as tf\n",
        "from tensorflow.keras import Sequential\n",
        "from tensorflow.keras.layers import Dense\n",
        "from tensorflow.keras.optimizers import Adam\n",
        "from tensorflow.keras import backend as K"
      ],
      "metadata": {
        "id": "YZWXwjXeGxZP"
      },
      "execution_count": null,
      "outputs": []
    },
    {
      "cell_type": "markdown",
      "source": [
        "#กำหนดค่าพารามิเตอร์\n"
      ],
      "metadata": {
        "id": "RooqSdBc7QHC"
      }
    },
    {
      "cell_type": "code",
      "source": [
        "batch_size = 16\n",
        "width = 150\n",
        "height = 150\n",
        "epochs = 250\n",
        "NUM_TRAIN = 2850\n",
        "NUM_TEST = 950\n",
        "dropout_rate = 0.2\n",
        "input_shape = (height, width, 3)"
      ],
      "metadata": {
        "id": "thDb7U9B3xOo"
      },
      "execution_count": null,
      "outputs": []
    },
    {
      "cell_type": "markdown",
      "source": [
        "#Clone efficientnet repo\n"
      ],
      "metadata": {
        "id": "pumGmy6f3eSW"
      }
    },
    {
      "cell_type": "code",
      "source": [
        "#ดึงข้อมูลใน Github มาใช้\n",
        "import os\n",
        "%cd /content\n",
        "if not os.path.isdir(\"efficientnet_keras_transfer_learning\"):\n",
        " !git clone https://github.com/Wanita-8943/efficientnet_keras_transfer_learning\n",
        "%cd efficientnet_keras_transfer_learning/\n"
      ],
      "metadata": {
        "colab": {
          "base_uri": "https://localhost:8080/"
        },
        "id": "P7iy2f8n16p0",
        "outputId": "040bb026-fe64-4b2d-c1b1-cb7f51f0a557"
      },
      "execution_count": null,
      "outputs": [
        {
          "output_type": "stream",
          "name": "stdout",
          "text": [
            "/content\n",
            "Cloning into 'efficientnet_keras_transfer_learning'...\n",
            "remote: Enumerating objects: 1085, done.\u001b[K\n",
            "remote: Counting objects: 100% (248/248), done.\u001b[K\n",
            "remote: Compressing objects: 100% (127/127), done.\u001b[K\n",
            "remote: Total 1085 (delta 124), reused 241 (delta 121), pack-reused 837\u001b[K\n",
            "Receiving objects: 100% (1085/1085), 14.09 MiB | 3.31 MiB/s, done.\n",
            "Resolving deltas: 100% (621/621), done.\n",
            "/content/efficientnet_keras_transfer_learning\n"
          ]
        }
      ]
    },
    {
      "cell_type": "code",
      "source": [
        "# Options: EfficientNetB0, EfficientNetB1, EfficientNetB2, EfficientNetB3\n",
        "# Higher the number, the more complex the model is.\n",
        "from efficientnet import EfficientNetB0 as Net\n",
        "from efficientnet import center_crop_and_resize, preprocess_input"
      ],
      "metadata": {
        "id": "tjZBRnfo3bN0"
      },
      "execution_count": null,
      "outputs": []
    },
    {
      "cell_type": "code",
      "source": [
        "# loading pretrained conv base model\n",
        "# โหลดโมเดล มาโดยตัด output ของโมเดลออก เเต่ยังใช้ input อันเดิม\n",
        "# เเละโหลด weight ของโมเดล มาด้วยที่ชื่อว่า imagenet\n",
        "conv_base = Net(weights='imagenet', include_top=False, input_shape=input_shape)"
      ],
      "metadata": {
        "colab": {
          "base_uri": "https://localhost:8080/"
        },
        "id": "-KXyJhN3DjTd",
        "outputId": "e14f7139-f940-48f1-ed6c-70f385151fe5"
      },
      "execution_count": null,
      "outputs": [
        {
          "output_type": "stream",
          "name": "stdout",
          "text": [
            "Downloading data from https://github.com/qubvel/efficientnet/releases/download/v0.0.1/efficientnet-b0_imagenet_1000_notop.h5\n",
            "16717576/16717576 [==============================] - 1s 0us/step\n"
          ]
        }
      ]
    },
    {
      "cell_type": "markdown",
      "source": [
        "#load model\n"
      ],
      "metadata": {
        "id": "gUXNvjTfg97D"
      }
    },
    {
      "cell_type": "code",
      "source": [
        "import sys\n",
        "sys.path.append('/content/drive/My Drive/All_File_Lt/Model/Regression/5/5.5_(4e-4)AR5_Unfreeze_250_Lt.h5')\n",
        "\n",
        "from efficientnet.layers import Swish, DropConnect\n",
        "from efficientnet.model import ConvKernalInitializer\n",
        "from tensorflow.keras.utils import get_custom_objects\n",
        "\n",
        "get_custom_objects().update({\n",
        "    'ConvKernalInitializer': ConvKernalInitializer,\n",
        "    'Swish': Swish,\n",
        "    'DropConnect':DropConnect\n",
        "})"
      ],
      "metadata": {
        "id": "tdEdMUM6g8-K"
      },
      "execution_count": null,
      "outputs": []
    },
    {
      "cell_type": "code",
      "source": [
        "#load model \n",
        "from tensorflow.keras.models import load_model\n",
        "model = load_model('/content/drive/My Drive/All_File_Lt/Model/Regression/5/5.5_(4e-4)AR5_Unfreeze_250_Lt.h5')\n",
        "height = width = model.input_shape[1]"
      ],
      "metadata": {
        "id": "51y00AmKhFVp"
      },
      "execution_count": null,
      "outputs": []
    },
    {
      "cell_type": "code",
      "source": [
        "model.summary()"
      ],
      "metadata": {
        "colab": {
          "base_uri": "https://localhost:8080/"
        },
        "id": "veq6Mp-GYE2V",
        "outputId": "771a385a-5292-4081-f1b8-33e53a03bb8c"
      },
      "execution_count": null,
      "outputs": [
        {
          "output_type": "stream",
          "name": "stdout",
          "text": [
            "Model: \"sequential\"\n",
            "_________________________________________________________________\n",
            " Layer (type)                Output Shape              Param #   \n",
            "=================================================================\n",
            " efficientnet-b0 (Functional  (None, 5, 5, 1280)       4049564   \n",
            " )                                                               \n",
            "                                                                 \n",
            " gap (GlobalMaxPooling2D)    (None, 1280)              0         \n",
            "                                                                 \n",
            " dropout_out (Dropout)       (None, 1280)              0         \n",
            "                                                                 \n",
            " fc_out (Dense)              (None, 19)                24339     \n",
            "                                                                 \n",
            " dense (Dense)               (None, 1)                 20        \n",
            "                                                                 \n",
            "=================================================================\n",
            "Total params: 4,073,923\n",
            "Trainable params: 4,031,907\n",
            "Non-trainable params: 42,016\n",
            "_________________________________________________________________\n"
          ]
        }
      ]
    },
    {
      "cell_type": "markdown",
      "source": [
        "#สร้างโฟลเดอร์ Train Valodation และ Test"
      ],
      "metadata": {
        "id": "J36J9EAE7qSB"
      }
    },
    {
      "cell_type": "code",
      "source": [
        "df = pd.read_csv (r'/content/drive/MyDrive/All_File_Lt/Data/All_Data_Lt.csv')\n",
        "df"
      ],
      "metadata": {
        "colab": {
          "base_uri": "https://localhost:8080/",
          "height": 679
        },
        "id": "skoKhKJDngAZ",
        "outputId": "cd0bdde8-9639-458e-d155-edd52ca8ff58"
      },
      "execution_count": null,
      "outputs": [
        {
          "output_type": "execute_result",
          "data": {
            "text/plain": [
              "      Fig_Age  Fig_Person Class_Age+Gender Class_Age  Class_0-18  Age(year)  \\\n",
              "0           1           1             Y07F       Y07           0          7   \n",
              "1           2           1             Y07F       Y07           0          7   \n",
              "2           3           2             Y07F       Y07           0          7   \n",
              "3           4           2             Y07F       Y07           0          7   \n",
              "4           5           3             Y07F       Y07           0          7   \n",
              "...       ...         ...              ...       ...         ...        ...   \n",
              "4745      121          77             Y25M       Y25          18         25   \n",
              "4746      122          78             Y25M       Y25          18         25   \n",
              "4747      123          78             Y25M       Y25          18         25   \n",
              "4748      124          79             Y25M       Y25          18         25   \n",
              "4749      125          79             Y25M       Y25          18         25   \n",
              "\n",
              "      Class_0-1       Filename  \\\n",
              "0             0         V1.jpg   \n",
              "1             0    Flip_V1.jpg   \n",
              "2             0         V2.jpg   \n",
              "3             0    Flip_V2.jpg   \n",
              "4             0         V3.jpg   \n",
              "...         ...            ...   \n",
              "4745          1  Flip_J463.jpg   \n",
              "4746          1       J464.jpg   \n",
              "4747          1  Flip_J464.jpg   \n",
              "4748          1       J465.jpg   \n",
              "4749          1  Flip_J465.jpg   \n",
              "\n",
              "                                          Path_filename     Sex Floder  \n",
              "0     /content/drive/My Drive/All_File_Lt/TVT_All_Lt...  Female   Both  \n",
              "1     /content/drive/My Drive/All_File_Lt/TVT_All_Lt...  Female   Both  \n",
              "2     /content/drive/My Drive/All_File_Lt/TVT_All_Lt...  Female   Both  \n",
              "3     /content/drive/My Drive/All_File_Lt/TVT_All_Lt...  Female   Both  \n",
              "4     /content/drive/My Drive/All_File_Lt/TVT_All_Lt...  Female   Both  \n",
              "...                                                 ...     ...    ...  \n",
              "4745  /content/drive/My Drive/All_File_Lt/TVT_All_Lt...    Male   Both  \n",
              "4746  /content/drive/My Drive/All_File_Lt/TVT_All_Lt...    Male   Both  \n",
              "4747  /content/drive/My Drive/All_File_Lt/TVT_All_Lt...    Male   Both  \n",
              "4748  /content/drive/My Drive/All_File_Lt/TVT_All_Lt...    Male   Both  \n",
              "4749  /content/drive/My Drive/All_File_Lt/TVT_All_Lt...    Male   Both  \n",
              "\n",
              "[4750 rows x 11 columns]"
            ],
            "text/html": [
              "\n",
              "  <div id=\"df-e909c180-0e53-4527-93f7-e329dccab758\">\n",
              "    <div class=\"colab-df-container\">\n",
              "      <div>\n",
              "<style scoped>\n",
              "    .dataframe tbody tr th:only-of-type {\n",
              "        vertical-align: middle;\n",
              "    }\n",
              "\n",
              "    .dataframe tbody tr th {\n",
              "        vertical-align: top;\n",
              "    }\n",
              "\n",
              "    .dataframe thead th {\n",
              "        text-align: right;\n",
              "    }\n",
              "</style>\n",
              "<table border=\"1\" class=\"dataframe\">\n",
              "  <thead>\n",
              "    <tr style=\"text-align: right;\">\n",
              "      <th></th>\n",
              "      <th>Fig_Age</th>\n",
              "      <th>Fig_Person</th>\n",
              "      <th>Class_Age+Gender</th>\n",
              "      <th>Class_Age</th>\n",
              "      <th>Class_0-18</th>\n",
              "      <th>Age(year)</th>\n",
              "      <th>Class_0-1</th>\n",
              "      <th>Filename</th>\n",
              "      <th>Path_filename</th>\n",
              "      <th>Sex</th>\n",
              "      <th>Floder</th>\n",
              "    </tr>\n",
              "  </thead>\n",
              "  <tbody>\n",
              "    <tr>\n",
              "      <th>0</th>\n",
              "      <td>1</td>\n",
              "      <td>1</td>\n",
              "      <td>Y07F</td>\n",
              "      <td>Y07</td>\n",
              "      <td>0</td>\n",
              "      <td>7</td>\n",
              "      <td>0</td>\n",
              "      <td>V1.jpg</td>\n",
              "      <td>/content/drive/My Drive/All_File_Lt/TVT_All_Lt...</td>\n",
              "      <td>Female</td>\n",
              "      <td>Both</td>\n",
              "    </tr>\n",
              "    <tr>\n",
              "      <th>1</th>\n",
              "      <td>2</td>\n",
              "      <td>1</td>\n",
              "      <td>Y07F</td>\n",
              "      <td>Y07</td>\n",
              "      <td>0</td>\n",
              "      <td>7</td>\n",
              "      <td>0</td>\n",
              "      <td>Flip_V1.jpg</td>\n",
              "      <td>/content/drive/My Drive/All_File_Lt/TVT_All_Lt...</td>\n",
              "      <td>Female</td>\n",
              "      <td>Both</td>\n",
              "    </tr>\n",
              "    <tr>\n",
              "      <th>2</th>\n",
              "      <td>3</td>\n",
              "      <td>2</td>\n",
              "      <td>Y07F</td>\n",
              "      <td>Y07</td>\n",
              "      <td>0</td>\n",
              "      <td>7</td>\n",
              "      <td>0</td>\n",
              "      <td>V2.jpg</td>\n",
              "      <td>/content/drive/My Drive/All_File_Lt/TVT_All_Lt...</td>\n",
              "      <td>Female</td>\n",
              "      <td>Both</td>\n",
              "    </tr>\n",
              "    <tr>\n",
              "      <th>3</th>\n",
              "      <td>4</td>\n",
              "      <td>2</td>\n",
              "      <td>Y07F</td>\n",
              "      <td>Y07</td>\n",
              "      <td>0</td>\n",
              "      <td>7</td>\n",
              "      <td>0</td>\n",
              "      <td>Flip_V2.jpg</td>\n",
              "      <td>/content/drive/My Drive/All_File_Lt/TVT_All_Lt...</td>\n",
              "      <td>Female</td>\n",
              "      <td>Both</td>\n",
              "    </tr>\n",
              "    <tr>\n",
              "      <th>4</th>\n",
              "      <td>5</td>\n",
              "      <td>3</td>\n",
              "      <td>Y07F</td>\n",
              "      <td>Y07</td>\n",
              "      <td>0</td>\n",
              "      <td>7</td>\n",
              "      <td>0</td>\n",
              "      <td>V3.jpg</td>\n",
              "      <td>/content/drive/My Drive/All_File_Lt/TVT_All_Lt...</td>\n",
              "      <td>Female</td>\n",
              "      <td>Both</td>\n",
              "    </tr>\n",
              "    <tr>\n",
              "      <th>...</th>\n",
              "      <td>...</td>\n",
              "      <td>...</td>\n",
              "      <td>...</td>\n",
              "      <td>...</td>\n",
              "      <td>...</td>\n",
              "      <td>...</td>\n",
              "      <td>...</td>\n",
              "      <td>...</td>\n",
              "      <td>...</td>\n",
              "      <td>...</td>\n",
              "      <td>...</td>\n",
              "    </tr>\n",
              "    <tr>\n",
              "      <th>4745</th>\n",
              "      <td>121</td>\n",
              "      <td>77</td>\n",
              "      <td>Y25M</td>\n",
              "      <td>Y25</td>\n",
              "      <td>18</td>\n",
              "      <td>25</td>\n",
              "      <td>1</td>\n",
              "      <td>Flip_J463.jpg</td>\n",
              "      <td>/content/drive/My Drive/All_File_Lt/TVT_All_Lt...</td>\n",
              "      <td>Male</td>\n",
              "      <td>Both</td>\n",
              "    </tr>\n",
              "    <tr>\n",
              "      <th>4746</th>\n",
              "      <td>122</td>\n",
              "      <td>78</td>\n",
              "      <td>Y25M</td>\n",
              "      <td>Y25</td>\n",
              "      <td>18</td>\n",
              "      <td>25</td>\n",
              "      <td>1</td>\n",
              "      <td>J464.jpg</td>\n",
              "      <td>/content/drive/My Drive/All_File_Lt/TVT_All_Lt...</td>\n",
              "      <td>Male</td>\n",
              "      <td>Both</td>\n",
              "    </tr>\n",
              "    <tr>\n",
              "      <th>4747</th>\n",
              "      <td>123</td>\n",
              "      <td>78</td>\n",
              "      <td>Y25M</td>\n",
              "      <td>Y25</td>\n",
              "      <td>18</td>\n",
              "      <td>25</td>\n",
              "      <td>1</td>\n",
              "      <td>Flip_J464.jpg</td>\n",
              "      <td>/content/drive/My Drive/All_File_Lt/TVT_All_Lt...</td>\n",
              "      <td>Male</td>\n",
              "      <td>Both</td>\n",
              "    </tr>\n",
              "    <tr>\n",
              "      <th>4748</th>\n",
              "      <td>124</td>\n",
              "      <td>79</td>\n",
              "      <td>Y25M</td>\n",
              "      <td>Y25</td>\n",
              "      <td>18</td>\n",
              "      <td>25</td>\n",
              "      <td>1</td>\n",
              "      <td>J465.jpg</td>\n",
              "      <td>/content/drive/My Drive/All_File_Lt/TVT_All_Lt...</td>\n",
              "      <td>Male</td>\n",
              "      <td>Both</td>\n",
              "    </tr>\n",
              "    <tr>\n",
              "      <th>4749</th>\n",
              "      <td>125</td>\n",
              "      <td>79</td>\n",
              "      <td>Y25M</td>\n",
              "      <td>Y25</td>\n",
              "      <td>18</td>\n",
              "      <td>25</td>\n",
              "      <td>1</td>\n",
              "      <td>Flip_J465.jpg</td>\n",
              "      <td>/content/drive/My Drive/All_File_Lt/TVT_All_Lt...</td>\n",
              "      <td>Male</td>\n",
              "      <td>Both</td>\n",
              "    </tr>\n",
              "  </tbody>\n",
              "</table>\n",
              "<p>4750 rows × 11 columns</p>\n",
              "</div>\n",
              "      <button class=\"colab-df-convert\" onclick=\"convertToInteractive('df-e909c180-0e53-4527-93f7-e329dccab758')\"\n",
              "              title=\"Convert this dataframe to an interactive table.\"\n",
              "              style=\"display:none;\">\n",
              "        \n",
              "  <svg xmlns=\"http://www.w3.org/2000/svg\" height=\"24px\"viewBox=\"0 0 24 24\"\n",
              "       width=\"24px\">\n",
              "    <path d=\"M0 0h24v24H0V0z\" fill=\"none\"/>\n",
              "    <path d=\"M18.56 5.44l.94 2.06.94-2.06 2.06-.94-2.06-.94-.94-2.06-.94 2.06-2.06.94zm-11 1L8.5 8.5l.94-2.06 2.06-.94-2.06-.94L8.5 2.5l-.94 2.06-2.06.94zm10 10l.94 2.06.94-2.06 2.06-.94-2.06-.94-.94-2.06-.94 2.06-2.06.94z\"/><path d=\"M17.41 7.96l-1.37-1.37c-.4-.4-.92-.59-1.43-.59-.52 0-1.04.2-1.43.59L10.3 9.45l-7.72 7.72c-.78.78-.78 2.05 0 2.83L4 21.41c.39.39.9.59 1.41.59.51 0 1.02-.2 1.41-.59l7.78-7.78 2.81-2.81c.8-.78.8-2.07 0-2.86zM5.41 20L4 18.59l7.72-7.72 1.47 1.35L5.41 20z\"/>\n",
              "  </svg>\n",
              "      </button>\n",
              "      \n",
              "  <style>\n",
              "    .colab-df-container {\n",
              "      display:flex;\n",
              "      flex-wrap:wrap;\n",
              "      gap: 12px;\n",
              "    }\n",
              "\n",
              "    .colab-df-convert {\n",
              "      background-color: #E8F0FE;\n",
              "      border: none;\n",
              "      border-radius: 50%;\n",
              "      cursor: pointer;\n",
              "      display: none;\n",
              "      fill: #1967D2;\n",
              "      height: 32px;\n",
              "      padding: 0 0 0 0;\n",
              "      width: 32px;\n",
              "    }\n",
              "\n",
              "    .colab-df-convert:hover {\n",
              "      background-color: #E2EBFA;\n",
              "      box-shadow: 0px 1px 2px rgba(60, 64, 67, 0.3), 0px 1px 3px 1px rgba(60, 64, 67, 0.15);\n",
              "      fill: #174EA6;\n",
              "    }\n",
              "\n",
              "    [theme=dark] .colab-df-convert {\n",
              "      background-color: #3B4455;\n",
              "      fill: #D2E3FC;\n",
              "    }\n",
              "\n",
              "    [theme=dark] .colab-df-convert:hover {\n",
              "      background-color: #434B5C;\n",
              "      box-shadow: 0px 1px 3px 1px rgba(0, 0, 0, 0.15);\n",
              "      filter: drop-shadow(0px 1px 2px rgba(0, 0, 0, 0.3));\n",
              "      fill: #FFFFFF;\n",
              "    }\n",
              "  </style>\n",
              "\n",
              "      <script>\n",
              "        const buttonEl =\n",
              "          document.querySelector('#df-e909c180-0e53-4527-93f7-e329dccab758 button.colab-df-convert');\n",
              "        buttonEl.style.display =\n",
              "          google.colab.kernel.accessAllowed ? 'block' : 'none';\n",
              "\n",
              "        async function convertToInteractive(key) {\n",
              "          const element = document.querySelector('#df-e909c180-0e53-4527-93f7-e329dccab758');\n",
              "          const dataTable =\n",
              "            await google.colab.kernel.invokeFunction('convertToInteractive',\n",
              "                                                     [key], {});\n",
              "          if (!dataTable) return;\n",
              "\n",
              "          const docLinkHtml = 'Like what you see? Visit the ' +\n",
              "            '<a target=\"_blank\" href=https://colab.research.google.com/notebooks/data_table.ipynb>data table notebook</a>'\n",
              "            + ' to learn more about interactive tables.';\n",
              "          element.innerHTML = '';\n",
              "          dataTable['output_type'] = 'display_data';\n",
              "          await google.colab.output.renderOutput(dataTable, element);\n",
              "          const docLink = document.createElement('div');\n",
              "          docLink.innerHTML = docLinkHtml;\n",
              "          element.appendChild(docLink);\n",
              "        }\n",
              "      </script>\n",
              "    </div>\n",
              "  </div>\n",
              "  "
            ]
          },
          "metadata": {},
          "execution_count": 12
        }
      ]
    },
    {
      "cell_type": "code",
      "source": [
        "train = df[df['Fig_Age'].between(1,75)]\n",
        "val = df[df['Fig_Age'].between(76,100)]"
      ],
      "metadata": {
        "id": "Z1zBw01Gl8Ac"
      },
      "execution_count": null,
      "outputs": []
    },
    {
      "cell_type": "code",
      "source": [
        "DATA_PATH = \"/content/drive/My Drive/All_File_Lt/TVT_All_Lt\"\n",
        "os.chdir(DATA_PATH)\n",
        "train_dir = os.path.join(DATA_PATH, 'train')\n",
        "print(train_dir)\n",
        "validation_dir = os.path.join(DATA_PATH, 'validation')\n",
        "print(validation_dir)"
      ],
      "metadata": {
        "colab": {
          "base_uri": "https://localhost:8080/"
        },
        "id": "QL0g-8iOnMC4",
        "outputId": "e02bbf6c-6be1-461f-baf4-634e32a48f5d"
      },
      "execution_count": null,
      "outputs": [
        {
          "output_type": "stream",
          "name": "stdout",
          "text": [
            "/content/drive/My Drive/All_File_Lt/TVT_All_Lt/train\n",
            "/content/drive/My Drive/All_File_Lt/TVT_All_Lt/validation\n"
          ]
        }
      ]
    },
    {
      "cell_type": "markdown",
      "source": [
        "\n",
        "#Train"
      ],
      "metadata": {
        "id": "bWEnlTSwazL5"
      }
    },
    {
      "cell_type": "code",
      "source": [
        "# Train ด้วย ImageDataGenerator ของ Keras ซึ่งจะเพิ่มข้อมูลเสริมระหว่างการฝึกเพื่อลดโอกาสเกิด overfitting\n",
        "#overfitting เกิดจากข้อมูลที่ซับซ้อนกันเกินไป\n",
        "from tensorflow.keras.preprocessing.image import ImageDataGenerator\n",
        "\n",
        "train_datagen = ImageDataGenerator(\n",
        "      rescale=1./255, #โมเดลส่วนใหญ่ต้องใช้ RGB ในช่วง 0–1\n",
        "      rotation_range=40,\n",
        "      width_shift_range=0.2,\n",
        "      height_shift_range=0.2,\n",
        "      shear_range=0.2,\n",
        "      zoom_range=0.2,\n",
        "      horizontal_flip=True,\n",
        "      fill_mode='nearest')\n",
        "\n",
        "# Note that the validation data should not be augmented!\n",
        "test_datagen = ImageDataGenerator(rescale=1./255)\n",
        "\n",
        "train_generator = train_datagen.flow_from_dataframe(\n",
        "        dataframe = train,\n",
        "        directory = train_dir,\n",
        "        x_col = 'Path_filename',\n",
        "        y_col = 'Age(year)',\n",
        "        class_mode = 'other',\n",
        "        target_size=(height, width),\n",
        "        batch_size=batch_size)\n",
        "\n",
        "validation_generator = test_datagen.flow_from_dataframe(\n",
        "        dataframe = val,\n",
        "        directory = validation_dir,\n",
        "        x_col = 'Path_filename',\n",
        "        y_col = 'Age(year)',\n",
        "        class_mode = 'other',\n",
        "        target_size=(height, width),\n",
        "        batch_size=batch_size)"
      ],
      "metadata": {
        "id": "xGPrsn9no_pa",
        "outputId": "11657ebc-4836-4a0d-8644-e91b6b2537af",
        "colab": {
          "base_uri": "https://localhost:8080/"
        }
      },
      "execution_count": null,
      "outputs": [
        {
          "output_type": "stream",
          "name": "stdout",
          "text": [
            "Found 2850 validated image filenames.\n",
            "Found 950 validated image filenames.\n"
          ]
        }
      ]
    },
    {
      "cell_type": "code",
      "source": [
        "model.compile(loss='mse',\n",
        "          optimizer=Adam(learning_rate=4e-4),\n",
        "          metrics=['mae'])\n",
        "history = model.fit_generator(\n",
        "      train_generator,\n",
        "      steps_per_epoch= NUM_TRAIN //batch_size,\n",
        "      epochs=epochs,\n",
        "      validation_data=validation_generator,\n",
        "      validation_steps= NUM_TEST //batch_size,\n",
        "      verbose=1,\n",
        "      use_multiprocessing=True,\n",
        "      workers=4)"
      ],
      "metadata": {
        "id": "N6qUmmF856ZE",
        "outputId": "1fb7e618-76cd-4b52-bcfa-ef7583334051",
        "colab": {
          "base_uri": "https://localhost:8080/"
        }
      },
      "execution_count": null,
      "outputs": [
        {
          "output_type": "stream",
          "name": "stderr",
          "text": [
            "<ipython-input-16-23c2d5617436>:4: UserWarning: `Model.fit_generator` is deprecated and will be removed in a future version. Please use `Model.fit`, which supports generators.\n",
            "  history = model.fit_generator(\n"
          ]
        },
        {
          "output_type": "stream",
          "name": "stdout",
          "text": [
            "Epoch 1/250\n",
            "178/178 [==============================] - 491s 2s/step - loss: 2.5031 - mae: 1.1362 - val_loss: 9.3864 - val_mae: 2.4142\n",
            "Epoch 2/250\n",
            "178/178 [==============================] - 27s 149ms/step - loss: 2.4292 - mae: 1.1127 - val_loss: 9.2297 - val_mae: 2.3306\n",
            "Epoch 3/250\n",
            "178/178 [==============================] - 27s 148ms/step - loss: 2.5066 - mae: 1.1154 - val_loss: 10.1778 - val_mae: 2.5074\n",
            "Epoch 4/250\n",
            "178/178 [==============================] - 27s 149ms/step - loss: 2.6749 - mae: 1.1368 - val_loss: 6.8292 - val_mae: 2.0594\n",
            "Epoch 5/250\n",
            "178/178 [==============================] - 27s 150ms/step - loss: 2.5083 - mae: 1.1087 - val_loss: 9.8844 - val_mae: 2.5165\n",
            "Epoch 6/250\n",
            "178/178 [==============================] - 27s 151ms/step - loss: 3.1320 - mae: 1.1021 - val_loss: 5.7365 - val_mae: 1.8536\n",
            "Epoch 7/250\n",
            "178/178 [==============================] - 27s 151ms/step - loss: 3.7571 - mae: 1.1734 - val_loss: 8.4496 - val_mae: 2.1373\n",
            "Epoch 8/250\n",
            "178/178 [==============================] - 28s 152ms/step - loss: 4.2592 - mae: 1.2109 - val_loss: 7.6189 - val_mae: 2.0426\n",
            "Epoch 9/250\n",
            "178/178 [==============================] - 29s 161ms/step - loss: 4.4469 - mae: 1.2325 - val_loss: 5.8911 - val_mae: 1.7983\n",
            "Epoch 10/250\n",
            "178/178 [==============================] - 28s 155ms/step - loss: 4.3633 - mae: 1.1940 - val_loss: 6.1743 - val_mae: 1.8947\n",
            "Epoch 11/250\n",
            "178/178 [==============================] - 29s 158ms/step - loss: 3.7889 - mae: 1.1490 - val_loss: 6.2723 - val_mae: 1.8956\n",
            "Epoch 12/250\n",
            "178/178 [==============================] - 28s 155ms/step - loss: 3.5315 - mae: 1.1532 - val_loss: 15.0588 - val_mae: 2.8861\n",
            "Epoch 13/250\n",
            "178/178 [==============================] - 28s 154ms/step - loss: 2.6463 - mae: 1.1564 - val_loss: 9.3415 - val_mae: 2.4552\n",
            "Epoch 14/250\n",
            "178/178 [==============================] - 28s 155ms/step - loss: 2.7122 - mae: 1.1653 - val_loss: 7.7475 - val_mae: 2.2543\n",
            "Epoch 15/250\n",
            "178/178 [==============================] - 28s 155ms/step - loss: 2.6760 - mae: 1.1584 - val_loss: 7.6468 - val_mae: 2.2093\n",
            "Epoch 16/250\n",
            "178/178 [==============================] - 23s 128ms/step - loss: 2.7963 - mae: 1.1914 - val_loss: 3.9014 - val_mae: 1.5245\n",
            "Epoch 17/250\n",
            "178/178 [==============================] - 28s 156ms/step - loss: 4.6880 - mae: 1.3294 - val_loss: 4.4738 - val_mae: 1.6232\n",
            "Epoch 18/250\n",
            "178/178 [==============================] - 28s 157ms/step - loss: 4.3323 - mae: 1.3048 - val_loss: 7.4814 - val_mae: 2.0287\n",
            "Epoch 19/250\n",
            "178/178 [==============================] - 29s 159ms/step - loss: 4.8730 - mae: 1.4697 - val_loss: 10.7359 - val_mae: 2.5338\n",
            "Epoch 20/250\n",
            "178/178 [==============================] - 29s 157ms/step - loss: 4.0850 - mae: 1.3510 - val_loss: 9.5662 - val_mae: 2.3073\n",
            "Epoch 21/250\n",
            "178/178 [==============================] - 29s 158ms/step - loss: 3.8667 - mae: 1.3000 - val_loss: 7.0880 - val_mae: 1.9652\n",
            "Epoch 22/250\n",
            "178/178 [==============================] - 28s 155ms/step - loss: 3.8220 - mae: 1.2916 - val_loss: 7.7836 - val_mae: 2.0560\n",
            "Epoch 23/250\n",
            "178/178 [==============================] - 28s 157ms/step - loss: 3.4694 - mae: 1.2536 - val_loss: 7.0591 - val_mae: 1.9682\n",
            "Epoch 24/250\n",
            "178/178 [==============================] - 28s 156ms/step - loss: 3.4884 - mae: 1.2536 - val_loss: 7.6029 - val_mae: 2.0698\n",
            "Epoch 25/250\n",
            "178/178 [==============================] - 28s 156ms/step - loss: 3.7473 - mae: 1.2403 - val_loss: 7.2569 - val_mae: 2.0456\n",
            "Epoch 26/250\n",
            "178/178 [==============================] - 28s 155ms/step - loss: 3.7426 - mae: 1.2395 - val_loss: 6.8581 - val_mae: 1.9776\n",
            "Epoch 27/250\n",
            "178/178 [==============================] - 28s 154ms/step - loss: 2.8113 - mae: 1.1857 - val_loss: 9.7636 - val_mae: 2.3661\n",
            "Epoch 28/250\n",
            "178/178 [==============================] - 28s 154ms/step - loss: 2.6446 - mae: 1.2124 - val_loss: 9.7113 - val_mae: 2.5465\n",
            "Epoch 29/250\n",
            "178/178 [==============================] - 28s 154ms/step - loss: 2.8475 - mae: 1.2547 - val_loss: 9.0203 - val_mae: 2.4656\n",
            "Epoch 30/250\n",
            "178/178 [==============================] - 28s 156ms/step - loss: 2.5400 - mae: 1.1927 - val_loss: 8.0265 - val_mae: 2.3231\n",
            "Epoch 31/250\n",
            "178/178 [==============================] - 28s 153ms/step - loss: 2.7589 - mae: 1.2421 - val_loss: 14.2721 - val_mae: 3.0256\n",
            "Epoch 32/250\n",
            "178/178 [==============================] - 29s 158ms/step - loss: 2.8740 - mae: 1.2734 - val_loss: 9.8256 - val_mae: 2.5065\n",
            "Epoch 33/250\n",
            "178/178 [==============================] - 28s 153ms/step - loss: 2.6240 - mae: 1.2300 - val_loss: 9.8593 - val_mae: 2.4991\n",
            "Epoch 34/250\n",
            "178/178 [==============================] - 29s 157ms/step - loss: 2.5220 - mae: 1.1895 - val_loss: 10.2497 - val_mae: 2.5252\n",
            "Epoch 35/250\n",
            "178/178 [==============================] - 28s 153ms/step - loss: 2.3926 - mae: 1.1531 - val_loss: 10.9128 - val_mae: 2.6002\n",
            "Epoch 36/250\n",
            "178/178 [==============================] - 28s 156ms/step - loss: 2.4550 - mae: 1.1799 - val_loss: 10.2968 - val_mae: 2.5030\n",
            "Epoch 37/250\n",
            "178/178 [==============================] - 28s 157ms/step - loss: 2.8863 - mae: 1.2308 - val_loss: 23.6797 - val_mae: 3.6164\n",
            "Epoch 38/250\n",
            "178/178 [==============================] - 28s 152ms/step - loss: 4.5925 - mae: 1.4853 - val_loss: 5.0729 - val_mae: 1.6629\n",
            "Epoch 39/250\n",
            "178/178 [==============================] - 28s 153ms/step - loss: 5.4621 - mae: 1.5132 - val_loss: 4.7752 - val_mae: 1.6418\n",
            "Epoch 40/250\n",
            "178/178 [==============================] - 28s 154ms/step - loss: 5.5874 - mae: 1.4890 - val_loss: 4.9535 - val_mae: 1.7047\n",
            "Epoch 41/250\n",
            "178/178 [==============================] - 28s 152ms/step - loss: 5.0659 - mae: 1.4291 - val_loss: 5.0664 - val_mae: 1.7246\n",
            "Epoch 42/250\n",
            "178/178 [==============================] - 24s 129ms/step - loss: 5.0866 - mae: 1.4142 - val_loss: 4.8723 - val_mae: 1.6682\n",
            "Epoch 43/250\n",
            "178/178 [==============================] - 28s 154ms/step - loss: 4.8626 - mae: 1.3903 - val_loss: 6.1332 - val_mae: 1.8634\n",
            "Epoch 44/250\n",
            "178/178 [==============================] - 28s 152ms/step - loss: 4.9454 - mae: 1.4009 - val_loss: 6.2318 - val_mae: 1.8836\n",
            "Epoch 45/250\n",
            "178/178 [==============================] - 28s 155ms/step - loss: 4.7946 - mae: 1.3876 - val_loss: 4.9841 - val_mae: 1.6465\n",
            "Epoch 46/250\n",
            "178/178 [==============================] - 28s 154ms/step - loss: 5.1382 - mae: 1.4231 - val_loss: 5.1816 - val_mae: 1.7146\n",
            "Epoch 47/250\n",
            "178/178 [==============================] - 28s 155ms/step - loss: 5.2672 - mae: 1.3856 - val_loss: 5.4094 - val_mae: 1.7501\n",
            "Epoch 48/250\n",
            "178/178 [==============================] - 29s 160ms/step - loss: 5.4018 - mae: 1.4729 - val_loss: 9.3219 - val_mae: 2.0573\n",
            "Epoch 49/250\n",
            "178/178 [==============================] - 28s 157ms/step - loss: 5.8802 - mae: 1.5236 - val_loss: 6.2006 - val_mae: 1.7914\n",
            "Epoch 50/250\n",
            "178/178 [==============================] - 28s 157ms/step - loss: 5.1619 - mae: 1.4671 - val_loss: 9.7281 - val_mae: 2.0789\n",
            "Epoch 51/250\n",
            "178/178 [==============================] - 29s 157ms/step - loss: 4.3429 - mae: 1.3900 - val_loss: 6.2980 - val_mae: 1.8892\n",
            "Epoch 52/250\n",
            "178/178 [==============================] - 28s 155ms/step - loss: 4.5501 - mae: 1.4189 - val_loss: 5.9177 - val_mae: 1.8045\n",
            "Epoch 53/250\n",
            "178/178 [==============================] - 28s 156ms/step - loss: 4.5650 - mae: 1.3992 - val_loss: 5.7632 - val_mae: 1.7648\n",
            "Epoch 54/250\n",
            "178/178 [==============================] - 28s 155ms/step - loss: 4.9848 - mae: 1.4369 - val_loss: 6.2868 - val_mae: 1.8462\n",
            "Epoch 55/250\n",
            "178/178 [==============================] - 28s 156ms/step - loss: 4.6201 - mae: 1.3974 - val_loss: 5.3207 - val_mae: 1.7095\n",
            "Epoch 56/250\n",
            "178/178 [==============================] - 28s 154ms/step - loss: 5.5063 - mae: 1.4831 - val_loss: 6.3955 - val_mae: 1.9027\n",
            "Epoch 57/250\n",
            "178/178 [==============================] - 28s 155ms/step - loss: 5.4291 - mae: 1.4731 - val_loss: 5.0213 - val_mae: 1.6967\n",
            "Epoch 58/250\n",
            "178/178 [==============================] - 28s 156ms/step - loss: 4.9314 - mae: 1.4083 - val_loss: 5.3374 - val_mae: 1.7390\n",
            "Epoch 59/250\n",
            "178/178 [==============================] - 29s 157ms/step - loss: 4.6936 - mae: 1.3996 - val_loss: 5.6094 - val_mae: 1.7869\n",
            "Epoch 60/250\n",
            "178/178 [==============================] - 29s 160ms/step - loss: 5.1695 - mae: 1.4058 - val_loss: 5.6776 - val_mae: 1.8043\n",
            "Epoch 61/250\n",
            "178/178 [==============================] - 29s 163ms/step - loss: 4.8413 - mae: 1.3921 - val_loss: 5.1610 - val_mae: 1.7059\n",
            "Epoch 62/250\n",
            "178/178 [==============================] - 24s 133ms/step - loss: 4.6273 - mae: 1.3811 - val_loss: 5.5272 - val_mae: 1.7595\n",
            "Epoch 63/250\n",
            "178/178 [==============================] - 30s 162ms/step - loss: 4.4705 - mae: 1.3609 - val_loss: 5.5418 - val_mae: 1.7817\n",
            "Epoch 64/250\n",
            "178/178 [==============================] - 30s 164ms/step - loss: 4.6706 - mae: 1.3457 - val_loss: 5.3135 - val_mae: 1.7277\n",
            "Epoch 65/250\n",
            "178/178 [==============================] - 29s 156ms/step - loss: 4.3285 - mae: 1.3254 - val_loss: 4.5664 - val_mae: 1.6265\n",
            "Epoch 66/250\n",
            "178/178 [==============================] - 28s 151ms/step - loss: 4.4291 - mae: 1.3391 - val_loss: 5.0853 - val_mae: 1.6953\n",
            "Epoch 67/250\n",
            "178/178 [==============================] - 28s 154ms/step - loss: 4.1637 - mae: 1.3150 - val_loss: 4.7017 - val_mae: 1.6357\n",
            "Epoch 68/250\n",
            "178/178 [==============================] - 27s 151ms/step - loss: 4.2012 - mae: 1.3209 - val_loss: 5.3657 - val_mae: 1.7430\n",
            "Epoch 69/250\n",
            "178/178 [==============================] - 28s 152ms/step - loss: 3.9770 - mae: 1.2952 - val_loss: 5.8668 - val_mae: 1.8335\n",
            "Epoch 70/250\n",
            "178/178 [==============================] - 28s 155ms/step - loss: 4.0754 - mae: 1.3129 - val_loss: 5.4365 - val_mae: 1.7465\n",
            "Epoch 71/250\n",
            "178/178 [==============================] - 29s 159ms/step - loss: 4.0441 - mae: 1.2982 - val_loss: 4.9416 - val_mae: 1.6898\n",
            "Epoch 72/250\n",
            "178/178 [==============================] - 29s 158ms/step - loss: 4.2037 - mae: 1.3169 - val_loss: 5.1327 - val_mae: 1.7178\n",
            "Epoch 73/250\n",
            "178/178 [==============================] - 28s 156ms/step - loss: 3.9425 - mae: 1.3184 - val_loss: 6.0261 - val_mae: 1.8233\n",
            "Epoch 74/250\n",
            "178/178 [==============================] - 28s 155ms/step - loss: 4.0618 - mae: 1.3287 - val_loss: 7.2274 - val_mae: 1.9846\n",
            "Epoch 75/250\n",
            "178/178 [==============================] - 28s 154ms/step - loss: 3.4862 - mae: 1.2461 - val_loss: 7.4733 - val_mae: 2.0542\n",
            "Epoch 76/250\n",
            "178/178 [==============================] - 28s 156ms/step - loss: 3.3374 - mae: 1.2444 - val_loss: 7.0348 - val_mae: 1.9891\n",
            "Epoch 77/250\n",
            "178/178 [==============================] - 28s 154ms/step - loss: 3.2738 - mae: 1.2696 - val_loss: 6.3319 - val_mae: 1.8851\n",
            "Epoch 78/250\n",
            "178/178 [==============================] - 28s 155ms/step - loss: 3.5376 - mae: 1.2688 - val_loss: 5.8201 - val_mae: 1.8180\n",
            "Epoch 79/250\n",
            "178/178 [==============================] - 28s 155ms/step - loss: 3.1821 - mae: 1.2440 - val_loss: 5.5861 - val_mae: 1.7927\n",
            "Epoch 80/250\n",
            "178/178 [==============================] - 28s 156ms/step - loss: 2.9831 - mae: 1.1957 - val_loss: 7.0816 - val_mae: 2.0021\n",
            "Epoch 81/250\n",
            "178/178 [==============================] - 28s 156ms/step - loss: 3.0094 - mae: 1.1888 - val_loss: 6.4817 - val_mae: 1.9321\n",
            "Epoch 82/250\n",
            "178/178 [==============================] - 29s 157ms/step - loss: 3.3822 - mae: 1.2348 - val_loss: 8.1792 - val_mae: 2.0901\n",
            "Epoch 83/250\n",
            "178/178 [==============================] - 28s 156ms/step - loss: 4.4967 - mae: 1.3810 - val_loss: 5.5035 - val_mae: 1.7282\n",
            "Epoch 84/250\n",
            "178/178 [==============================] - 29s 158ms/step - loss: 5.0069 - mae: 1.4092 - val_loss: 6.2424 - val_mae: 1.8264\n",
            "Epoch 85/250\n",
            "178/178 [==============================] - 28s 154ms/step - loss: 4.2804 - mae: 1.3358 - val_loss: 5.7565 - val_mae: 1.7307\n",
            "Epoch 86/250\n",
            "178/178 [==============================] - 23s 128ms/step - loss: 4.2401 - mae: 1.3140 - val_loss: 6.3107 - val_mae: 1.8611\n",
            "Epoch 87/250\n",
            "178/178 [==============================] - 28s 156ms/step - loss: 4.0798 - mae: 1.2895 - val_loss: 5.3541 - val_mae: 1.6972\n",
            "Epoch 88/250\n",
            "178/178 [==============================] - 28s 152ms/step - loss: 4.0904 - mae: 1.2832 - val_loss: 3.9348 - val_mae: 1.5003\n",
            "Epoch 89/250\n",
            "178/178 [==============================] - 27s 151ms/step - loss: 3.7486 - mae: 1.2535 - val_loss: 5.6018 - val_mae: 1.7425\n",
            "Epoch 90/250\n",
            "178/178 [==============================] - 28s 154ms/step - loss: 4.0785 - mae: 1.2664 - val_loss: 5.3969 - val_mae: 1.7033\n",
            "Epoch 91/250\n",
            "178/178 [==============================] - 28s 155ms/step - loss: 3.6326 - mae: 1.2332 - val_loss: 5.4945 - val_mae: 1.7731\n",
            "Epoch 92/250\n",
            "178/178 [==============================] - 28s 155ms/step - loss: 3.1468 - mae: 1.1909 - val_loss: 6.3437 - val_mae: 1.8684\n",
            "Epoch 93/250\n",
            "178/178 [==============================] - 24s 133ms/step - loss: 3.9903 - mae: 1.3099 - val_loss: 7.2391 - val_mae: 1.9910\n",
            "Epoch 94/250\n",
            "178/178 [==============================] - 27s 149ms/step - loss: 3.8963 - mae: 1.3142 - val_loss: 4.7649 - val_mae: 1.6438\n",
            "Epoch 95/250\n",
            "178/178 [==============================] - 27s 150ms/step - loss: 4.3916 - mae: 1.4140 - val_loss: 3.9948 - val_mae: 1.5544\n",
            "Epoch 96/250\n",
            "178/178 [==============================] - 27s 150ms/step - loss: 4.0384 - mae: 1.4399 - val_loss: 4.6335 - val_mae: 1.6323\n",
            "Epoch 97/250\n",
            "178/178 [==============================] - 28s 155ms/step - loss: 2.9683 - mae: 1.2996 - val_loss: 4.1580 - val_mae: 1.5693\n",
            "Epoch 98/250\n",
            "178/178 [==============================] - 28s 152ms/step - loss: 3.3866 - mae: 1.3157 - val_loss: 4.1882 - val_mae: 1.5641\n",
            "Epoch 99/250\n",
            "178/178 [==============================] - 28s 155ms/step - loss: 3.1473 - mae: 1.2714 - val_loss: 3.7299 - val_mae: 1.5072\n",
            "Epoch 100/250\n",
            "178/178 [==============================] - 29s 157ms/step - loss: 2.9875 - mae: 1.2706 - val_loss: 5.3707 - val_mae: 1.7445\n",
            "Epoch 101/250\n",
            "178/178 [==============================] - 28s 156ms/step - loss: 3.7169 - mae: 1.4119 - val_loss: 4.4753 - val_mae: 1.5995\n",
            "Epoch 102/250\n",
            "178/178 [==============================] - 28s 154ms/step - loss: 3.6081 - mae: 1.3506 - val_loss: 6.8275 - val_mae: 1.9099\n",
            "Epoch 103/250\n",
            "178/178 [==============================] - 28s 157ms/step - loss: 3.5249 - mae: 1.3653 - val_loss: 5.8349 - val_mae: 1.8203\n",
            "Epoch 104/250\n",
            "178/178 [==============================] - 28s 156ms/step - loss: 3.3850 - mae: 1.3088 - val_loss: 5.7568 - val_mae: 1.7813\n",
            "Epoch 105/250\n",
            "178/178 [==============================] - 28s 157ms/step - loss: 3.4839 - mae: 1.3211 - val_loss: 6.0589 - val_mae: 1.8595\n",
            "Epoch 106/250\n",
            "178/178 [==============================] - 28s 155ms/step - loss: 3.2880 - mae: 1.2746 - val_loss: 5.0417 - val_mae: 1.7194\n",
            "Epoch 107/250\n",
            "178/178 [==============================] - 28s 158ms/step - loss: 3.2992 - mae: 1.2702 - val_loss: 6.8560 - val_mae: 1.9510\n",
            "Epoch 108/250\n",
            "178/178 [==============================] - 28s 156ms/step - loss: 3.5282 - mae: 1.3024 - val_loss: 4.4362 - val_mae: 1.6536\n",
            "Epoch 109/250\n",
            "178/178 [==============================] - 29s 158ms/step - loss: 2.7048 - mae: 1.1846 - val_loss: 4.7754 - val_mae: 1.6675\n",
            "Epoch 110/250\n",
            "178/178 [==============================] - 28s 155ms/step - loss: 3.1539 - mae: 1.2698 - val_loss: 4.5605 - val_mae: 1.6226\n",
            "Epoch 111/250\n",
            "178/178 [==============================] - 24s 130ms/step - loss: 3.2676 - mae: 1.2946 - val_loss: 4.8064 - val_mae: 1.6760\n",
            "Epoch 112/250\n",
            "178/178 [==============================] - 28s 151ms/step - loss: 3.3117 - mae: 1.2945 - val_loss: 3.6782 - val_mae: 1.4925\n",
            "Epoch 113/250\n",
            "178/178 [==============================] - 23s 128ms/step - loss: 3.7146 - mae: 1.3047 - val_loss: 4.5174 - val_mae: 1.6251\n",
            "Epoch 114/250\n",
            "178/178 [==============================] - 28s 153ms/step - loss: 3.2845 - mae: 1.2518 - val_loss: 5.1050 - val_mae: 1.7201\n",
            "Epoch 115/250\n",
            "178/178 [==============================] - 27s 149ms/step - loss: 3.6905 - mae: 1.2669 - val_loss: 5.5718 - val_mae: 1.8284\n",
            "Epoch 116/250\n",
            "178/178 [==============================] - 27s 151ms/step - loss: 3.0077 - mae: 1.2481 - val_loss: 5.1528 - val_mae: 1.7225\n",
            "Epoch 117/250\n",
            "178/178 [==============================] - 28s 151ms/step - loss: 4.1896 - mae: 1.4739 - val_loss: 3.7435 - val_mae: 1.4775\n",
            "Epoch 118/250\n",
            "178/178 [==============================] - 28s 152ms/step - loss: 3.6147 - mae: 1.3637 - val_loss: 4.4207 - val_mae: 1.6361\n",
            "Epoch 119/250\n",
            "178/178 [==============================] - 28s 153ms/step - loss: 3.4047 - mae: 1.3393 - val_loss: 4.2790 - val_mae: 1.5874\n",
            "Epoch 120/250\n",
            "178/178 [==============================] - 28s 156ms/step - loss: 2.6997 - mae: 1.2479 - val_loss: 6.4306 - val_mae: 1.8869\n",
            "Epoch 121/250\n",
            "178/178 [==============================] - 28s 153ms/step - loss: 2.8689 - mae: 1.2746 - val_loss: 7.2766 - val_mae: 2.0209\n",
            "Epoch 122/250\n",
            "178/178 [==============================] - 28s 154ms/step - loss: 2.4332 - mae: 1.1764 - val_loss: 5.3588 - val_mae: 1.7489\n",
            "Epoch 123/250\n",
            "178/178 [==============================] - 28s 154ms/step - loss: 2.4149 - mae: 1.1763 - val_loss: 5.0183 - val_mae: 1.6826\n",
            "Epoch 124/250\n",
            "178/178 [==============================] - 28s 157ms/step - loss: 2.4370 - mae: 1.1711 - val_loss: 5.9815 - val_mae: 1.8149\n",
            "Epoch 125/250\n",
            "178/178 [==============================] - 28s 154ms/step - loss: 2.2671 - mae: 1.1433 - val_loss: 6.5795 - val_mae: 1.9010\n",
            "Epoch 126/250\n",
            "178/178 [==============================] - 28s 155ms/step - loss: 2.2754 - mae: 1.1332 - val_loss: 6.0467 - val_mae: 1.8230\n",
            "Epoch 127/250\n",
            "178/178 [==============================] - 28s 155ms/step - loss: 2.1188 - mae: 1.0991 - val_loss: 7.7062 - val_mae: 2.0676\n",
            "Epoch 128/250\n",
            "178/178 [==============================] - 28s 156ms/step - loss: 2.4508 - mae: 1.1701 - val_loss: 6.6304 - val_mae: 1.8815\n",
            "Epoch 129/250\n",
            "178/178 [==============================] - 28s 157ms/step - loss: 3.0693 - mae: 1.2556 - val_loss: 7.4901 - val_mae: 2.0595\n",
            "Epoch 130/250\n",
            "178/178 [==============================] - 29s 157ms/step - loss: 2.5150 - mae: 1.1627 - val_loss: 6.5682 - val_mae: 1.9121\n",
            "Epoch 131/250\n",
            "178/178 [==============================] - 28s 156ms/step - loss: 2.7905 - mae: 1.1767 - val_loss: 5.5336 - val_mae: 1.7509\n",
            "Epoch 132/250\n",
            "178/178 [==============================] - 28s 155ms/step - loss: 2.1799 - mae: 1.1053 - val_loss: 5.5766 - val_mae: 1.7601\n",
            "Epoch 133/250\n",
            "178/178 [==============================] - 28s 154ms/step - loss: 2.3122 - mae: 1.1211 - val_loss: 5.7664 - val_mae: 1.8344\n",
            "Epoch 134/250\n",
            "178/178 [==============================] - 28s 155ms/step - loss: 3.0013 - mae: 1.1678 - val_loss: 4.4716 - val_mae: 1.6000\n",
            "Epoch 135/250\n",
            "178/178 [==============================] - 28s 157ms/step - loss: 2.8315 - mae: 1.1780 - val_loss: 4.8231 - val_mae: 1.6702\n",
            "Epoch 136/250\n",
            "178/178 [==============================] - 28s 155ms/step - loss: 3.0801 - mae: 1.1832 - val_loss: 4.6094 - val_mae: 1.6231\n",
            "Epoch 137/250\n",
            "178/178 [==============================] - 28s 156ms/step - loss: 2.5597 - mae: 1.1189 - val_loss: 3.4302 - val_mae: 1.4033\n",
            "Epoch 138/250\n",
            "178/178 [==============================] - 24s 134ms/step - loss: 2.3761 - mae: 1.1415 - val_loss: 5.2158 - val_mae: 1.7692\n",
            "Epoch 139/250\n",
            "178/178 [==============================] - 28s 156ms/step - loss: 3.2213 - mae: 1.3382 - val_loss: 5.6921 - val_mae: 1.7821\n",
            "Epoch 140/250\n",
            "178/178 [==============================] - 28s 155ms/step - loss: 2.8055 - mae: 1.2383 - val_loss: 4.9976 - val_mae: 1.7273\n",
            "Epoch 141/250\n",
            "178/178 [==============================] - 28s 154ms/step - loss: 3.1693 - mae: 1.3203 - val_loss: 5.4003 - val_mae: 1.7693\n",
            "Epoch 142/250\n",
            "178/178 [==============================] - 28s 154ms/step - loss: 2.7546 - mae: 1.2322 - val_loss: 5.4536 - val_mae: 1.7538\n",
            "Epoch 143/250\n",
            "178/178 [==============================] - 28s 154ms/step - loss: 2.9493 - mae: 1.2743 - val_loss: 5.5635 - val_mae: 1.7692\n",
            "Epoch 144/250\n",
            "178/178 [==============================] - 28s 156ms/step - loss: 2.5490 - mae: 1.1960 - val_loss: 7.2192 - val_mae: 1.9802\n",
            "Epoch 145/250\n",
            "178/178 [==============================] - 29s 158ms/step - loss: 2.5821 - mae: 1.1942 - val_loss: 7.0712 - val_mae: 1.9718\n",
            "Epoch 146/250\n",
            "178/178 [==============================] - 28s 156ms/step - loss: 2.7879 - mae: 1.2357 - val_loss: 7.9706 - val_mae: 2.2423\n",
            "Epoch 147/250\n",
            "178/178 [==============================] - 28s 152ms/step - loss: 2.7704 - mae: 1.2342 - val_loss: 6.9239 - val_mae: 2.0151\n",
            "Epoch 148/250\n",
            "178/178 [==============================] - 28s 154ms/step - loss: 2.6835 - mae: 1.1990 - val_loss: 6.1597 - val_mae: 1.8383\n",
            "Epoch 149/250\n",
            "178/178 [==============================] - 27s 149ms/step - loss: 2.4433 - mae: 1.1617 - val_loss: 5.5471 - val_mae: 1.7579\n",
            "Epoch 150/250\n",
            "178/178 [==============================] - 27s 150ms/step - loss: 2.3551 - mae: 1.1448 - val_loss: 9.7315 - val_mae: 2.5259\n",
            "Epoch 151/250\n",
            "178/178 [==============================] - 27s 150ms/step - loss: 3.6511 - mae: 1.3671 - val_loss: 21.2088 - val_mae: 3.3275\n",
            "Epoch 152/250\n",
            "178/178 [==============================] - 28s 153ms/step - loss: 4.9840 - mae: 1.4779 - val_loss: 4.8332 - val_mae: 1.5875\n",
            "Epoch 153/250\n",
            "178/178 [==============================] - 28s 154ms/step - loss: 4.5434 - mae: 1.3736 - val_loss: 4.7453 - val_mae: 1.5971\n",
            "Epoch 154/250\n",
            "178/178 [==============================] - 28s 156ms/step - loss: 4.1649 - mae: 1.3336 - val_loss: 4.4134 - val_mae: 1.5559\n",
            "Epoch 155/250\n",
            "178/178 [==============================] - 28s 155ms/step - loss: 4.3346 - mae: 1.4113 - val_loss: 6.7825 - val_mae: 1.8657\n",
            "Epoch 156/250\n",
            "178/178 [==============================] - 29s 157ms/step - loss: 4.0893 - mae: 1.3535 - val_loss: 6.6347 - val_mae: 1.8751\n",
            "Epoch 157/250\n",
            "178/178 [==============================] - 28s 154ms/step - loss: 4.0776 - mae: 1.3179 - val_loss: 6.6234 - val_mae: 1.8789\n",
            "Epoch 158/250\n",
            "178/178 [==============================] - 29s 158ms/step - loss: 3.5563 - mae: 1.2453 - val_loss: 4.5055 - val_mae: 1.5755\n",
            "Epoch 159/250\n",
            "178/178 [==============================] - 28s 156ms/step - loss: 4.0896 - mae: 1.3441 - val_loss: 4.5775 - val_mae: 1.6106\n",
            "Epoch 160/250\n",
            "178/178 [==============================] - 29s 158ms/step - loss: 3.8542 - mae: 1.3326 - val_loss: 5.9781 - val_mae: 1.8067\n",
            "Epoch 161/250\n",
            "178/178 [==============================] - 28s 156ms/step - loss: 3.7378 - mae: 1.3367 - val_loss: 6.0282 - val_mae: 1.8474\n",
            "Epoch 162/250\n",
            "178/178 [==============================] - 28s 157ms/step - loss: 3.8989 - mae: 1.3469 - val_loss: 9.7730 - val_mae: 2.3336\n",
            "Epoch 163/250\n",
            "178/178 [==============================] - 28s 153ms/step - loss: 3.5655 - mae: 1.2838 - val_loss: 6.2627 - val_mae: 1.8877\n",
            "Epoch 164/250\n",
            "178/178 [==============================] - 28s 156ms/step - loss: 4.0952 - mae: 1.4053 - val_loss: 4.9902 - val_mae: 1.6980\n",
            "Epoch 165/250\n",
            "178/178 [==============================] - 28s 154ms/step - loss: 4.0456 - mae: 1.3904 - val_loss: 5.5127 - val_mae: 1.8078\n",
            "Epoch 166/250\n",
            "178/178 [==============================] - 28s 155ms/step - loss: 3.8779 - mae: 1.3684 - val_loss: 6.6329 - val_mae: 1.9268\n",
            "Epoch 167/250\n",
            "178/178 [==============================] - 28s 156ms/step - loss: 3.9322 - mae: 1.3751 - val_loss: 5.2222 - val_mae: 1.7515\n",
            "Epoch 168/250\n",
            "178/178 [==============================] - 29s 157ms/step - loss: 3.5753 - mae: 1.3063 - val_loss: 6.1277 - val_mae: 1.8407\n",
            "Epoch 169/250\n",
            "178/178 [==============================] - 28s 152ms/step - loss: 3.8315 - mae: 1.3171 - val_loss: 6.0154 - val_mae: 1.8454\n",
            "Epoch 170/250\n",
            "178/178 [==============================] - 28s 154ms/step - loss: 3.2496 - mae: 1.2656 - val_loss: 5.9836 - val_mae: 1.8585\n",
            "Epoch 171/250\n",
            "178/178 [==============================] - 27s 148ms/step - loss: 3.9601 - mae: 1.3226 - val_loss: 6.2529 - val_mae: 1.8862\n",
            "Epoch 172/250\n",
            "178/178 [==============================] - 27s 149ms/step - loss: 4.0922 - mae: 1.3260 - val_loss: 5.5280 - val_mae: 1.7751\n",
            "Epoch 173/250\n",
            "178/178 [==============================] - 27s 151ms/step - loss: 4.1332 - mae: 1.3452 - val_loss: 6.1586 - val_mae: 1.8748\n",
            "Epoch 174/250\n",
            "178/178 [==============================] - 28s 153ms/step - loss: 3.9678 - mae: 1.3350 - val_loss: 5.9590 - val_mae: 1.8120\n",
            "Epoch 175/250\n",
            "178/178 [==============================] - 28s 152ms/step - loss: 3.2883 - mae: 1.2870 - val_loss: 6.7430 - val_mae: 1.9460\n",
            "Epoch 176/250\n",
            "178/178 [==============================] - 28s 155ms/step - loss: 3.3688 - mae: 1.2814 - val_loss: 6.5707 - val_mae: 1.9298\n",
            "Epoch 177/250\n",
            "178/178 [==============================] - 28s 156ms/step - loss: 3.0922 - mae: 1.2310 - val_loss: 6.1033 - val_mae: 1.8555\n",
            "Epoch 178/250\n",
            "178/178 [==============================] - 28s 155ms/step - loss: 2.8272 - mae: 1.1870 - val_loss: 6.0145 - val_mae: 1.8393\n",
            "Epoch 179/250\n",
            "178/178 [==============================] - 28s 153ms/step - loss: 2.7229 - mae: 1.1873 - val_loss: 11.1759 - val_mae: 2.4951\n",
            "Epoch 180/250\n",
            "178/178 [==============================] - 28s 154ms/step - loss: 2.4034 - mae: 1.1553 - val_loss: 8.0464 - val_mae: 2.1383\n",
            "Epoch 181/250\n",
            "178/178 [==============================] - 28s 154ms/step - loss: 2.2987 - mae: 1.1352 - val_loss: 7.9397 - val_mae: 2.0852\n",
            "Epoch 182/250\n",
            "178/178 [==============================] - 28s 156ms/step - loss: 2.5819 - mae: 1.1443 - val_loss: 7.2835 - val_mae: 2.0104\n",
            "Epoch 183/250\n",
            "178/178 [==============================] - 28s 154ms/step - loss: 2.2333 - mae: 1.1088 - val_loss: 10.0841 - val_mae: 2.3690\n",
            "Epoch 184/250\n",
            "178/178 [==============================] - 28s 156ms/step - loss: 2.2134 - mae: 1.1030 - val_loss: 6.1124 - val_mae: 1.8590\n",
            "Epoch 185/250\n",
            "178/178 [==============================] - 28s 153ms/step - loss: 2.1385 - mae: 1.0902 - val_loss: 6.0554 - val_mae: 1.8476\n",
            "Epoch 186/250\n",
            "178/178 [==============================] - 28s 157ms/step - loss: 2.2045 - mae: 1.1070 - val_loss: 6.3907 - val_mae: 1.9052\n",
            "Epoch 187/250\n",
            "178/178 [==============================] - 28s 154ms/step - loss: 2.1841 - mae: 1.1025 - val_loss: 7.7519 - val_mae: 2.1121\n",
            "Epoch 188/250\n",
            "178/178 [==============================] - 28s 155ms/step - loss: 2.2799 - mae: 1.1180 - val_loss: 7.0748 - val_mae: 2.0014\n",
            "Epoch 189/250\n",
            "178/178 [==============================] - 29s 156ms/step - loss: 3.3843 - mae: 1.2874 - val_loss: 5.8593 - val_mae: 1.8201\n",
            "Epoch 190/250\n",
            "178/178 [==============================] - 28s 153ms/step - loss: 3.0093 - mae: 1.2759 - val_loss: 8.8329 - val_mae: 2.2128\n",
            "Epoch 191/250\n",
            "178/178 [==============================] - 27s 150ms/step - loss: 2.6238 - mae: 1.1800 - val_loss: 8.4870 - val_mae: 2.1904\n",
            "Epoch 192/250\n",
            "178/178 [==============================] - 27s 150ms/step - loss: 3.0394 - mae: 1.3028 - val_loss: 17.9434 - val_mae: 3.0637\n",
            "Epoch 193/250\n",
            "178/178 [==============================] - 28s 152ms/step - loss: 3.1689 - mae: 1.3172 - val_loss: 12.3128 - val_mae: 2.5346\n",
            "Epoch 194/250\n",
            "178/178 [==============================] - 28s 153ms/step - loss: 2.5297 - mae: 1.1939 - val_loss: 8.3636 - val_mae: 2.1296\n",
            "Epoch 195/250\n",
            "178/178 [==============================] - 28s 155ms/step - loss: 2.6061 - mae: 1.2088 - val_loss: 9.4081 - val_mae: 2.2641\n",
            "Epoch 196/250\n",
            "178/178 [==============================] - 28s 154ms/step - loss: 2.1541 - mae: 1.1241 - val_loss: 8.8328 - val_mae: 2.2073\n",
            "Epoch 197/250\n",
            "178/178 [==============================] - 28s 153ms/step - loss: 3.4978 - mae: 1.3755 - val_loss: 9.8202 - val_mae: 2.3688\n",
            "Epoch 198/250\n",
            "178/178 [==============================] - 28s 154ms/step - loss: 4.0030 - mae: 1.4810 - val_loss: 17.2450 - val_mae: 3.3219\n",
            "Epoch 199/250\n",
            "178/178 [==============================] - 28s 155ms/step - loss: 4.3067 - mae: 1.4992 - val_loss: 21.9803 - val_mae: 3.8822\n",
            "Epoch 200/250\n",
            "178/178 [==============================] - 28s 156ms/step - loss: 3.2372 - mae: 1.3385 - val_loss: 20.5453 - val_mae: 3.6240\n",
            "Epoch 201/250\n",
            "178/178 [==============================] - 28s 156ms/step - loss: 2.9733 - mae: 1.2797 - val_loss: 20.5841 - val_mae: 3.6643\n",
            "Epoch 202/250\n",
            "178/178 [==============================] - 29s 157ms/step - loss: 2.8233 - mae: 1.2642 - val_loss: 19.5667 - val_mae: 3.5710\n",
            "Epoch 203/250\n",
            "178/178 [==============================] - 28s 156ms/step - loss: 2.8016 - mae: 1.2372 - val_loss: 17.7055 - val_mae: 3.3598\n",
            "Epoch 204/250\n",
            "178/178 [==============================] - 28s 155ms/step - loss: 2.6439 - mae: 1.2089 - val_loss: 19.0556 - val_mae: 3.5257\n",
            "Epoch 205/250\n",
            "178/178 [==============================] - 28s 153ms/step - loss: 2.4445 - mae: 1.1834 - val_loss: 32.9546 - val_mae: 5.0120\n",
            "Epoch 206/250\n",
            "178/178 [==============================] - 28s 155ms/step - loss: 5.0531 - mae: 1.6487 - val_loss: 19.2423 - val_mae: 3.6529\n",
            "Epoch 207/250\n",
            "178/178 [==============================] - 28s 157ms/step - loss: 4.2743 - mae: 1.5096 - val_loss: 19.3844 - val_mae: 3.6919\n",
            "Epoch 208/250\n",
            "178/178 [==============================] - 29s 157ms/step - loss: 4.0440 - mae: 1.4969 - val_loss: 18.5439 - val_mae: 3.5883\n",
            "Epoch 209/250\n",
            "178/178 [==============================] - 28s 155ms/step - loss: 3.9372 - mae: 1.4686 - val_loss: 16.6857 - val_mae: 3.3767\n",
            "Epoch 210/250\n",
            "178/178 [==============================] - 28s 154ms/step - loss: 3.8029 - mae: 1.4277 - val_loss: 16.2467 - val_mae: 3.3349\n",
            "Epoch 211/250\n",
            "178/178 [==============================] - 28s 154ms/step - loss: 3.7177 - mae: 1.4251 - val_loss: 14.6974 - val_mae: 3.2024\n",
            "Epoch 212/250\n",
            "178/178 [==============================] - 28s 154ms/step - loss: 4.4293 - mae: 1.5451 - val_loss: 10.6196 - val_mae: 2.5996\n",
            "Epoch 213/250\n",
            "178/178 [==============================] - 28s 156ms/step - loss: 3.9758 - mae: 1.4929 - val_loss: 14.6699 - val_mae: 3.1184\n",
            "Epoch 214/250\n",
            "178/178 [==============================] - 28s 155ms/step - loss: 3.7619 - mae: 1.4375 - val_loss: 12.2710 - val_mae: 2.7657\n",
            "Epoch 215/250\n",
            "178/178 [==============================] - 28s 153ms/step - loss: 3.8264 - mae: 1.4462 - val_loss: 14.7305 - val_mae: 3.1179\n",
            "Epoch 216/250\n",
            "178/178 [==============================] - 28s 154ms/step - loss: 3.6786 - mae: 1.4333 - val_loss: 14.3538 - val_mae: 3.0672\n",
            "Epoch 217/250\n",
            "178/178 [==============================] - 28s 154ms/step - loss: 3.6431 - mae: 1.4147 - val_loss: 13.7751 - val_mae: 2.9903\n",
            "Epoch 218/250\n",
            "178/178 [==============================] - 28s 155ms/step - loss: 3.5691 - mae: 1.4044 - val_loss: 14.2964 - val_mae: 3.0637\n",
            "Epoch 219/250\n",
            "178/178 [==============================] - 28s 155ms/step - loss: 3.3917 - mae: 1.3758 - val_loss: 13.4333 - val_mae: 2.9753\n",
            "Epoch 220/250\n",
            "178/178 [==============================] - 28s 153ms/step - loss: 3.4362 - mae: 1.3838 - val_loss: 15.7117 - val_mae: 3.1935\n",
            "Epoch 221/250\n",
            "178/178 [==============================] - 23s 128ms/step - loss: 3.2644 - mae: 1.3652 - val_loss: 12.6468 - val_mae: 2.8408\n",
            "Epoch 222/250\n",
            "178/178 [==============================] - 27s 149ms/step - loss: 3.2448 - mae: 1.3360 - val_loss: 12.5175 - val_mae: 2.8239\n",
            "Epoch 223/250\n",
            "178/178 [==============================] - 27s 150ms/step - loss: 3.3248 - mae: 1.3456 - val_loss: 11.9721 - val_mae: 2.7820\n",
            "Epoch 224/250\n",
            "178/178 [==============================] - 28s 152ms/step - loss: 3.0573 - mae: 1.3124 - val_loss: 12.0014 - val_mae: 2.7544\n",
            "Epoch 225/250\n",
            "178/178 [==============================] - 28s 151ms/step - loss: 3.0914 - mae: 1.3176 - val_loss: 13.0369 - val_mae: 2.8615\n",
            "Epoch 226/250\n",
            "178/178 [==============================] - 28s 151ms/step - loss: 2.7695 - mae: 1.2625 - val_loss: 11.9838 - val_mae: 2.7332\n",
            "Epoch 227/250\n",
            "178/178 [==============================] - 27s 151ms/step - loss: 2.8879 - mae: 1.2866 - val_loss: 12.0784 - val_mae: 2.7603\n",
            "Epoch 228/250\n",
            "178/178 [==============================] - 27s 150ms/step - loss: 2.8085 - mae: 1.2714 - val_loss: 13.7192 - val_mae: 2.9520\n",
            "Epoch 229/250\n",
            "178/178 [==============================] - 28s 153ms/step - loss: 2.7747 - mae: 1.2512 - val_loss: 11.5522 - val_mae: 2.6651\n",
            "Epoch 230/250\n",
            "178/178 [==============================] - 28s 152ms/step - loss: 2.6488 - mae: 1.2096 - val_loss: 11.0675 - val_mae: 2.5759\n",
            "Epoch 231/250\n",
            "178/178 [==============================] - 23s 128ms/step - loss: 2.6861 - mae: 1.2147 - val_loss: 11.4156 - val_mae: 2.6000\n",
            "Epoch 232/250\n",
            "178/178 [==============================] - 23s 126ms/step - loss: 2.7642 - mae: 1.2407 - val_loss: 13.2512 - val_mae: 2.9136\n",
            "Epoch 233/250\n",
            "178/178 [==============================] - 28s 153ms/step - loss: 2.7172 - mae: 1.2229 - val_loss: 10.4784 - val_mae: 2.5128\n",
            "Epoch 234/250\n",
            "178/178 [==============================] - 28s 153ms/step - loss: 2.8854 - mae: 1.2374 - val_loss: 11.1389 - val_mae: 2.5914\n",
            "Epoch 235/250\n",
            "178/178 [==============================] - 28s 154ms/step - loss: 2.8260 - mae: 1.2057 - val_loss: 10.4646 - val_mae: 2.4543\n",
            "Epoch 236/250\n",
            "178/178 [==============================] - 28s 153ms/step - loss: 2.4408 - mae: 1.1499 - val_loss: 10.3463 - val_mae: 2.4649\n",
            "Epoch 237/250\n",
            "178/178 [==============================] - 28s 152ms/step - loss: 3.0299 - mae: 1.2793 - val_loss: 7.0114 - val_mae: 1.9618\n",
            "Epoch 238/250\n",
            "178/178 [==============================] - 28s 154ms/step - loss: 3.2042 - mae: 1.3028 - val_loss: 8.1581 - val_mae: 2.2240\n",
            "Epoch 239/250\n",
            "178/178 [==============================] - 28s 154ms/step - loss: 2.9046 - mae: 1.2862 - val_loss: 5.4923 - val_mae: 1.8388\n",
            "Epoch 240/250\n",
            "178/178 [==============================] - 28s 152ms/step - loss: 2.8882 - mae: 1.2683 - val_loss: 9.7355 - val_mae: 2.4382\n",
            "Epoch 241/250\n",
            "178/178 [==============================] - 23s 128ms/step - loss: 2.9622 - mae: 1.2438 - val_loss: 10.9460 - val_mae: 2.4854\n",
            "Epoch 242/250\n",
            "178/178 [==============================] - 28s 153ms/step - loss: 2.6759 - mae: 1.2059 - val_loss: 10.8086 - val_mae: 2.4937\n",
            "Epoch 243/250\n",
            "178/178 [==============================] - 28s 152ms/step - loss: 2.7155 - mae: 1.1866 - val_loss: 11.5492 - val_mae: 2.5388\n",
            "Epoch 244/250\n",
            "178/178 [==============================] - 28s 152ms/step - loss: 2.7968 - mae: 1.2026 - val_loss: 12.3793 - val_mae: 2.6338\n",
            "Epoch 245/250\n",
            "178/178 [==============================] - 28s 153ms/step - loss: 2.4696 - mae: 1.1547 - val_loss: 10.7818 - val_mae: 2.4815\n",
            "Epoch 246/250\n",
            "178/178 [==============================] - 28s 156ms/step - loss: 2.6972 - mae: 1.2128 - val_loss: 11.8920 - val_mae: 2.6308\n",
            "Epoch 247/250\n",
            "178/178 [==============================] - 29s 163ms/step - loss: 2.8655 - mae: 1.2234 - val_loss: 9.8279 - val_mae: 2.3802\n",
            "Epoch 248/250\n",
            "178/178 [==============================] - 28s 153ms/step - loss: 2.6669 - mae: 1.2007 - val_loss: 34.1498 - val_mae: 4.3326\n",
            "Epoch 249/250\n",
            "178/178 [==============================] - 28s 154ms/step - loss: 2.5715 - mae: 1.1818 - val_loss: 9.7916 - val_mae: 2.3294\n",
            "Epoch 250/250\n",
            "178/178 [==============================] - 28s 153ms/step - loss: 2.7261 - mae: 1.1828 - val_loss: 8.5008 - val_mae: 2.1141\n"
          ]
        }
      ]
    },
    {
      "cell_type": "code",
      "source": [
        "loss = history.history['loss']\n",
        "val_loss = history.history['val_loss']\n",
        "mae = history.history['mae']\n",
        "val_mae = history.history['val_mae']\n",
        "\n",
        "\n",
        "epochs_x = range(len(loss))\n",
        "\n",
        "\n",
        "# plt.plot(epochs_x, mae, 'go', label='Training MAE')\n",
        "plt.plot(epochs_x, mae, 'o', color ='darkviolet', label='Training MAE')\n",
        "plt.plot(epochs_x, val_mae, 'k', label='Validation MAE')\n",
        "plt.title('Training and validation MeanAbsoluteError')\n",
        "plt.legend()\n",
        "\n",
        "plt.figure()\n",
        "# plt.plot(epochs_x, loss, 'go', label='Training loss')\n",
        "plt.plot(epochs_x, loss, 'o', color ='darkviolet', label='Training loss')\n",
        "plt.plot(epochs_x, val_loss, 'k', label='Validation loss')\n",
        "plt.title('Training and validation loss')\n",
        "plt.legend()\n",
        "\n",
        "plt.show()"
      ],
      "metadata": {
        "id": "Y3K89-CM-dfg",
        "colab": {
          "base_uri": "https://localhost:8080/",
          "height": 887
        },
        "outputId": "4a00e103-b806-486e-cfd3-1153cfbbc154"
      },
      "execution_count": null,
      "outputs": [
        {
          "output_type": "display_data",
          "data": {
            "text/plain": [
              "<Figure size 640x480 with 1 Axes>"
            ],
            "image/png": "[encoded data removed]"
          },
          "metadata": {}
        },
        {
          "output_type": "display_data",
          "data": {
            "text/plain": [
              "<Figure size 640x480 with 1 Axes>"
            ],
            "image/png": "[encoded data removed]"
          },
          "metadata": {}
        }
      ]
    },
    {
      "cell_type": "code",
      "source": [
        "epochs_x"
      ],
      "metadata": {
        "id": "N_sP_ZmSY-Jv",
        "colab": {
          "base_uri": "https://localhost:8080/"
        },
        "outputId": "18e90681-1bbb-4b8e-ce97-d33e7af53bde"
      },
      "execution_count": null,
      "outputs": [
        {
          "output_type": "execute_result",
          "data": {
            "text/plain": [
              "range(0, 250)"
            ]
          },
          "metadata": {},
          "execution_count": 18
        }
      ]
    },
    {
      "cell_type": "markdown",
      "source": [
        "#Download the model\n"
      ],
      "metadata": {
        "id": "R19IJQSYoW7J"
      }
    },
    {
      "cell_type": "code",
      "source": [
        "os.makedirs('/content/drive/My Drive/cut_panoramic/Model', exist_ok=True)\n",
        "model.save('/content/drive/My Drive/All_File_Lt/Model/Regression/5/5.6_(4e-4)AR6_Unfreeze_250_Lt.h5')"
      ],
      "metadata": {
        "id": "Zed4TdFcG2iJ"
      },
      "execution_count": null,
      "outputs": []
    },
    {
      "cell_type": "markdown",
      "source": [],
      "metadata": {
        "id": "n5YxZ-5QjQ0-"
      }
    },
    {
      "cell_type": "code",
      "source": [
        "# from google.colab import files\n",
        "# files.download('/content/drive/My Drive/cut_panoramic/Model/1.1_รอบแรก_Flimpano_Male125_250.h5')"
      ],
      "metadata": {
        "id": "P5eMxm1NV-oY"
      },
      "execution_count": null,
      "outputs": []
    },
    {
      "cell_type": "code",
      "source": [
        "\n"
      ],
      "metadata": {
        "id": "wY_pDlxkRwxS"
      },
      "execution_count": null,
      "outputs": []
    },
    {
      "cell_type": "code",
      "source": [],
      "metadata": {
        "id": "bwanKzbTjUeu"
      },
      "execution_count": null,
      "outputs": []
    }
  ]
}
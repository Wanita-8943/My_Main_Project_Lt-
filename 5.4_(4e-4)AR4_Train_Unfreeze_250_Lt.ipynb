{
  "nbformat": 4,
  "nbformat_minor": 0,
  "metadata": {
    "colab": {
      "provenance": [],
      "machine_shape": "hm",
      "include_colab_link": true
    },
    "kernelspec": {
      "name": "python3",
      "display_name": "Python 3"
    },
    "language_info": {
      "name": "python"
    },
    "accelerator": "GPU",
    "gpuClass": "standard"
  },
  "cells": [
    {
      "cell_type": "markdown",
      "metadata": {
        "id": "view-in-github",
        "colab_type": "text"
      },
      "source": [
        "<a href=\"https://colab.research.google.com/github/Wanita-8943/My_Main_Project_Lt-/blob/main/5.4_(4e-4)AR4_Train_Unfreeze_250_Lt.ipynb\" target=\"_parent\"><img src=\"https://colab.research.google.com/assets/colab-badge.svg\" alt=\"Open In Colab\"/></a>"
      ]
    },
    {
      "cell_type": "markdown",
      "source": [
        "#เรียกใช้ CSV"
      ],
      "metadata": {
        "id": "ow7eWoNw6U-c"
      }
    },
    {
      "cell_type": "code",
      "execution_count": null,
      "metadata": {
        "id": "z8o_VVNXzcL8"
      },
      "outputs": [],
      "source": [
        "import pandas as pd\n",
        "import shutil"
      ]
    },
    {
      "cell_type": "code",
      "source": [
        "from google.colab import drive\n",
        "drive.mount('/content/drive')"
      ],
      "metadata": {
        "colab": {
          "base_uri": "https://localhost:8080/"
        },
        "id": "1_2Fe8u81d5r",
        "outputId": "1437750a-88d1-4230-c25a-3898a498956a"
      },
      "execution_count": null,
      "outputs": [
        {
          "output_type": "stream",
          "name": "stdout",
          "text": [
            "Mounted at /content/drive\n"
          ]
        }
      ]
    },
    {
      "cell_type": "markdown",
      "source": [
        "#Imports"
      ],
      "metadata": {
        "id": "5qxePnnn7TGW"
      }
    },
    {
      "cell_type": "code",
      "source": [
        "from tensorflow.keras import models\n",
        "from tensorflow.keras import layers\n",
        "from tensorflow.keras import optimizers\n",
        "import os\n",
        "import glob\n",
        "import shutil\n",
        "import sys\n",
        "import numpy as np\n",
        "from skimage.io import imread\n",
        "import matplotlib.pyplot as plt\n",
        "from IPython.display import Image\n",
        "%matplotlib inline"
      ],
      "metadata": {
        "id": "D-hCRloc3t39"
      },
      "execution_count": null,
      "outputs": []
    },
    {
      "cell_type": "code",
      "source": [
        "import tensorflow as tf\n",
        "from tensorflow.keras import Sequential\n",
        "from tensorflow.keras.layers import Dense\n",
        "from tensorflow.keras.optimizers import Adam\n",
        "from tensorflow.keras import backend as K"
      ],
      "metadata": {
        "id": "YZWXwjXeGxZP"
      },
      "execution_count": null,
      "outputs": []
    },
    {
      "cell_type": "markdown",
      "source": [
        "#กำหนดค่าพารามิเตอร์\n"
      ],
      "metadata": {
        "id": "RooqSdBc7QHC"
      }
    },
    {
      "cell_type": "code",
      "source": [
        "batch_size = 16\n",
        "width = 150\n",
        "height = 150\n",
        "epochs = 250\n",
        "NUM_TRAIN = 2850\n",
        "NUM_TEST = 950\n",
        "dropout_rate = 0.2\n",
        "input_shape = (height, width, 3)"
      ],
      "metadata": {
        "id": "thDb7U9B3xOo"
      },
      "execution_count": null,
      "outputs": []
    },
    {
      "cell_type": "markdown",
      "source": [
        "#Clone efficientnet repo\n"
      ],
      "metadata": {
        "id": "pumGmy6f3eSW"
      }
    },
    {
      "cell_type": "code",
      "source": [
        "#ดึงข้อมูลใน Github มาใช้\n",
        "import os\n",
        "%cd /content\n",
        "if not os.path.isdir(\"efficientnet_keras_transfer_learning\"):\n",
        " !git clone https://github.com/Wanita-8943/efficientnet_keras_transfer_learning\n",
        "%cd efficientnet_keras_transfer_learning/\n"
      ],
      "metadata": {
        "colab": {
          "base_uri": "https://localhost:8080/"
        },
        "id": "P7iy2f8n16p0",
        "outputId": "d46a9f0f-864b-429c-dcf8-afa1b42a8bed"
      },
      "execution_count": null,
      "outputs": [
        {
          "output_type": "stream",
          "name": "stdout",
          "text": [
            "/content\n",
            "Cloning into 'efficientnet_keras_transfer_learning'...\n",
            "remote: Enumerating objects: 1085, done.\u001b[K\n",
            "remote: Counting objects: 100% (248/248), done.\u001b[K\n",
            "remote: Compressing objects: 100% (127/127), done.\u001b[K\n",
            "remote: Total 1085 (delta 124), reused 241 (delta 121), pack-reused 837\u001b[K\n",
            "Receiving objects: 100% (1085/1085), 14.09 MiB | 18.89 MiB/s, done.\n",
            "Resolving deltas: 100% (621/621), done.\n",
            "/content/efficientnet_keras_transfer_learning\n"
          ]
        }
      ]
    },
    {
      "cell_type": "code",
      "source": [
        "# Options: EfficientNetB0, EfficientNetB1, EfficientNetB2, EfficientNetB3\n",
        "# Higher the number, the more complex the model is.\n",
        "from efficientnet import EfficientNetB0 as Net\n",
        "from efficientnet import center_crop_and_resize, preprocess_input"
      ],
      "metadata": {
        "id": "tjZBRnfo3bN0"
      },
      "execution_count": null,
      "outputs": []
    },
    {
      "cell_type": "code",
      "source": [
        "# loading pretrained conv base model\n",
        "# โหลดโมเดล มาโดยตัด output ของโมเดลออก เเต่ยังใช้ input อันเดิม\n",
        "# เเละโหลด weight ของโมเดล มาด้วยที่ชื่อว่า imagenet\n",
        "conv_base = Net(weights='imagenet', include_top=False, input_shape=input_shape)"
      ],
      "metadata": {
        "colab": {
          "base_uri": "https://localhost:8080/"
        },
        "id": "-KXyJhN3DjTd",
        "outputId": "b7aad1d1-5ce4-49fc-9e20-b43e7c9a95e4"
      },
      "execution_count": null,
      "outputs": [
        {
          "output_type": "stream",
          "name": "stdout",
          "text": [
            "Downloading data from https://github.com/qubvel/efficientnet/releases/download/v0.0.1/efficientnet-b0_imagenet_1000_notop.h5\n",
            "16717576/16717576 [==============================] - 1s 0us/step\n"
          ]
        }
      ]
    },
    {
      "cell_type": "markdown",
      "source": [
        "#load model\n"
      ],
      "metadata": {
        "id": "gUXNvjTfg97D"
      }
    },
    {
      "cell_type": "code",
      "source": [
        "import sys\n",
        "sys.path.append('/content/drive/My Drive/All_File_Lt/Model/Regression/5/5.3_(4e-4)AR3_Unfreeze_250_Lt.h5')\n",
        "\n",
        "from efficientnet.layers import Swish, DropConnect\n",
        "from efficientnet.model import ConvKernalInitializer\n",
        "from tensorflow.keras.utils import get_custom_objects\n",
        "\n",
        "get_custom_objects().update({\n",
        "    'ConvKernalInitializer': ConvKernalInitializer,\n",
        "    'Swish': Swish,\n",
        "    'DropConnect':DropConnect\n",
        "})"
      ],
      "metadata": {
        "id": "tdEdMUM6g8-K"
      },
      "execution_count": null,
      "outputs": []
    },
    {
      "cell_type": "code",
      "source": [
        "#load model \n",
        "from tensorflow.keras.models import load_model\n",
        "model = load_model('/content/drive/My Drive/All_File_Lt/Model/Regression/5/5.3_(4e-4)AR3_Unfreeze_250_Lt.h5')\n",
        "height = width = model.input_shape[1]"
      ],
      "metadata": {
        "id": "51y00AmKhFVp"
      },
      "execution_count": null,
      "outputs": []
    },
    {
      "cell_type": "code",
      "source": [
        "model.summary()"
      ],
      "metadata": {
        "colab": {
          "base_uri": "https://localhost:8080/"
        },
        "id": "veq6Mp-GYE2V",
        "outputId": "4c423f87-71bb-4f41-be38-022cadfae7d9"
      },
      "execution_count": null,
      "outputs": [
        {
          "output_type": "stream",
          "name": "stdout",
          "text": [
            "Model: \"sequential\"\n",
            "_________________________________________________________________\n",
            " Layer (type)                Output Shape              Param #   \n",
            "=================================================================\n",
            " efficientnet-b0 (Functional  (None, 5, 5, 1280)       4049564   \n",
            " )                                                               \n",
            "                                                                 \n",
            " gap (GlobalMaxPooling2D)    (None, 1280)              0         \n",
            "                                                                 \n",
            " dropout_out (Dropout)       (None, 1280)              0         \n",
            "                                                                 \n",
            " fc_out (Dense)              (None, 19)                24339     \n",
            "                                                                 \n",
            " dense (Dense)               (None, 1)                 20        \n",
            "                                                                 \n",
            "=================================================================\n",
            "Total params: 4,073,923\n",
            "Trainable params: 4,031,907\n",
            "Non-trainable params: 42,016\n",
            "_________________________________________________________________\n"
          ]
        }
      ]
    },
    {
      "cell_type": "markdown",
      "source": [
        "#สร้างโฟลเดอร์ Train Valodation และ Test"
      ],
      "metadata": {
        "id": "J36J9EAE7qSB"
      }
    },
    {
      "cell_type": "code",
      "source": [
        "df = pd.read_csv (r'/content/drive/MyDrive/All_File_Lt/Data/All_Data_Lt.csv')\n",
        "df"
      ],
      "metadata": {
        "colab": {
          "base_uri": "https://localhost:8080/",
          "height": 424
        },
        "id": "skoKhKJDngAZ",
        "outputId": "51df13c8-63d1-4c7d-a928-b45735da8872"
      },
      "execution_count": null,
      "outputs": [
        {
          "output_type": "execute_result",
          "data": {
            "text/plain": [
              "      Fig_Age  Fig_Person Class_Age+Gender Class_Age  Class_0-18  Age(year)  \\\n",
              "0           1           1             Y07F       Y07           0          7   \n",
              "1           2           1             Y07F       Y07           0          7   \n",
              "2           3           2             Y07F       Y07           0          7   \n",
              "3           4           2             Y07F       Y07           0          7   \n",
              "4           5           3             Y07F       Y07           0          7   \n",
              "...       ...         ...              ...       ...         ...        ...   \n",
              "4745      121          77             Y25M       Y25          18         25   \n",
              "4746      122          78             Y25M       Y25          18         25   \n",
              "4747      123          78             Y25M       Y25          18         25   \n",
              "4748      124          79             Y25M       Y25          18         25   \n",
              "4749      125          79             Y25M       Y25          18         25   \n",
              "\n",
              "      Class_0-1       Filename  \\\n",
              "0             0         V1.jpg   \n",
              "1             0    Flip_V1.jpg   \n",
              "2             0         V2.jpg   \n",
              "3             0    Flip_V2.jpg   \n",
              "4             0         V3.jpg   \n",
              "...         ...            ...   \n",
              "4745          1  Flip_J463.jpg   \n",
              "4746          1       J464.jpg   \n",
              "4747          1  Flip_J464.jpg   \n",
              "4748          1       J465.jpg   \n",
              "4749          1  Flip_J465.jpg   \n",
              "\n",
              "                                          Path_filename     Sex Floder  \n",
              "0     /content/drive/My Drive/All_File_Lt/TVT_All_Lt...  Female   Both  \n",
              "1     /content/drive/My Drive/All_File_Lt/TVT_All_Lt...  Female   Both  \n",
              "2     /content/drive/My Drive/All_File_Lt/TVT_All_Lt...  Female   Both  \n",
              "3     /content/drive/My Drive/All_File_Lt/TVT_All_Lt...  Female   Both  \n",
              "4     /content/drive/My Drive/All_File_Lt/TVT_All_Lt...  Female   Both  \n",
              "...                                                 ...     ...    ...  \n",
              "4745  /content/drive/My Drive/All_File_Lt/TVT_All_Lt...    Male   Both  \n",
              "4746  /content/drive/My Drive/All_File_Lt/TVT_All_Lt...    Male   Both  \n",
              "4747  /content/drive/My Drive/All_File_Lt/TVT_All_Lt...    Male   Both  \n",
              "4748  /content/drive/My Drive/All_File_Lt/TVT_All_Lt...    Male   Both  \n",
              "4749  /content/drive/My Drive/All_File_Lt/TVT_All_Lt...    Male   Both  \n",
              "\n",
              "[4750 rows x 11 columns]"
            ],
            "text/html": [
              "\n",
              "  <div id=\"df-655a9934-bd0e-419a-bc2d-4d2e30b26f4f\">\n",
              "    <div class=\"colab-df-container\">\n",
              "      <div>\n",
              "<style scoped>\n",
              "    .dataframe tbody tr th:only-of-type {\n",
              "        vertical-align: middle;\n",
              "    }\n",
              "\n",
              "    .dataframe tbody tr th {\n",
              "        vertical-align: top;\n",
              "    }\n",
              "\n",
              "    .dataframe thead th {\n",
              "        text-align: right;\n",
              "    }\n",
              "</style>\n",
              "<table border=\"1\" class=\"dataframe\">\n",
              "  <thead>\n",
              "    <tr style=\"text-align: right;\">\n",
              "      <th></th>\n",
              "      <th>Fig_Age</th>\n",
              "      <th>Fig_Person</th>\n",
              "      <th>Class_Age+Gender</th>\n",
              "      <th>Class_Age</th>\n",
              "      <th>Class_0-18</th>\n",
              "      <th>Age(year)</th>\n",
              "      <th>Class_0-1</th>\n",
              "      <th>Filename</th>\n",
              "      <th>Path_filename</th>\n",
              "      <th>Sex</th>\n",
              "      <th>Floder</th>\n",
              "    </tr>\n",
              "  </thead>\n",
              "  <tbody>\n",
              "    <tr>\n",
              "      <th>0</th>\n",
              "      <td>1</td>\n",
              "      <td>1</td>\n",
              "      <td>Y07F</td>\n",
              "      <td>Y07</td>\n",
              "      <td>0</td>\n",
              "      <td>7</td>\n",
              "      <td>0</td>\n",
              "      <td>V1.jpg</td>\n",
              "      <td>/content/drive/My Drive/All_File_Lt/TVT_All_Lt...</td>\n",
              "      <td>Female</td>\n",
              "      <td>Both</td>\n",
              "    </tr>\n",
              "    <tr>\n",
              "      <th>1</th>\n",
              "      <td>2</td>\n",
              "      <td>1</td>\n",
              "      <td>Y07F</td>\n",
              "      <td>Y07</td>\n",
              "      <td>0</td>\n",
              "      <td>7</td>\n",
              "      <td>0</td>\n",
              "      <td>Flip_V1.jpg</td>\n",
              "      <td>/content/drive/My Drive/All_File_Lt/TVT_All_Lt...</td>\n",
              "      <td>Female</td>\n",
              "      <td>Both</td>\n",
              "    </tr>\n",
              "    <tr>\n",
              "      <th>2</th>\n",
              "      <td>3</td>\n",
              "      <td>2</td>\n",
              "      <td>Y07F</td>\n",
              "      <td>Y07</td>\n",
              "      <td>0</td>\n",
              "      <td>7</td>\n",
              "      <td>0</td>\n",
              "      <td>V2.jpg</td>\n",
              "      <td>/content/drive/My Drive/All_File_Lt/TVT_All_Lt...</td>\n",
              "      <td>Female</td>\n",
              "      <td>Both</td>\n",
              "    </tr>\n",
              "    <tr>\n",
              "      <th>3</th>\n",
              "      <td>4</td>\n",
              "      <td>2</td>\n",
              "      <td>Y07F</td>\n",
              "      <td>Y07</td>\n",
              "      <td>0</td>\n",
              "      <td>7</td>\n",
              "      <td>0</td>\n",
              "      <td>Flip_V2.jpg</td>\n",
              "      <td>/content/drive/My Drive/All_File_Lt/TVT_All_Lt...</td>\n",
              "      <td>Female</td>\n",
              "      <td>Both</td>\n",
              "    </tr>\n",
              "    <tr>\n",
              "      <th>4</th>\n",
              "      <td>5</td>\n",
              "      <td>3</td>\n",
              "      <td>Y07F</td>\n",
              "      <td>Y07</td>\n",
              "      <td>0</td>\n",
              "      <td>7</td>\n",
              "      <td>0</td>\n",
              "      <td>V3.jpg</td>\n",
              "      <td>/content/drive/My Drive/All_File_Lt/TVT_All_Lt...</td>\n",
              "      <td>Female</td>\n",
              "      <td>Both</td>\n",
              "    </tr>\n",
              "    <tr>\n",
              "      <th>...</th>\n",
              "      <td>...</td>\n",
              "      <td>...</td>\n",
              "      <td>...</td>\n",
              "      <td>...</td>\n",
              "      <td>...</td>\n",
              "      <td>...</td>\n",
              "      <td>...</td>\n",
              "      <td>...</td>\n",
              "      <td>...</td>\n",
              "      <td>...</td>\n",
              "      <td>...</td>\n",
              "    </tr>\n",
              "    <tr>\n",
              "      <th>4745</th>\n",
              "      <td>121</td>\n",
              "      <td>77</td>\n",
              "      <td>Y25M</td>\n",
              "      <td>Y25</td>\n",
              "      <td>18</td>\n",
              "      <td>25</td>\n",
              "      <td>1</td>\n",
              "      <td>Flip_J463.jpg</td>\n",
              "      <td>/content/drive/My Drive/All_File_Lt/TVT_All_Lt...</td>\n",
              "      <td>Male</td>\n",
              "      <td>Both</td>\n",
              "    </tr>\n",
              "    <tr>\n",
              "      <th>4746</th>\n",
              "      <td>122</td>\n",
              "      <td>78</td>\n",
              "      <td>Y25M</td>\n",
              "      <td>Y25</td>\n",
              "      <td>18</td>\n",
              "      <td>25</td>\n",
              "      <td>1</td>\n",
              "      <td>J464.jpg</td>\n",
              "      <td>/content/drive/My Drive/All_File_Lt/TVT_All_Lt...</td>\n",
              "      <td>Male</td>\n",
              "      <td>Both</td>\n",
              "    </tr>\n",
              "    <tr>\n",
              "      <th>4747</th>\n",
              "      <td>123</td>\n",
              "      <td>78</td>\n",
              "      <td>Y25M</td>\n",
              "      <td>Y25</td>\n",
              "      <td>18</td>\n",
              "      <td>25</td>\n",
              "      <td>1</td>\n",
              "      <td>Flip_J464.jpg</td>\n",
              "      <td>/content/drive/My Drive/All_File_Lt/TVT_All_Lt...</td>\n",
              "      <td>Male</td>\n",
              "      <td>Both</td>\n",
              "    </tr>\n",
              "    <tr>\n",
              "      <th>4748</th>\n",
              "      <td>124</td>\n",
              "      <td>79</td>\n",
              "      <td>Y25M</td>\n",
              "      <td>Y25</td>\n",
              "      <td>18</td>\n",
              "      <td>25</td>\n",
              "      <td>1</td>\n",
              "      <td>J465.jpg</td>\n",
              "      <td>/content/drive/My Drive/All_File_Lt/TVT_All_Lt...</td>\n",
              "      <td>Male</td>\n",
              "      <td>Both</td>\n",
              "    </tr>\n",
              "    <tr>\n",
              "      <th>4749</th>\n",
              "      <td>125</td>\n",
              "      <td>79</td>\n",
              "      <td>Y25M</td>\n",
              "      <td>Y25</td>\n",
              "      <td>18</td>\n",
              "      <td>25</td>\n",
              "      <td>1</td>\n",
              "      <td>Flip_J465.jpg</td>\n",
              "      <td>/content/drive/My Drive/All_File_Lt/TVT_All_Lt...</td>\n",
              "      <td>Male</td>\n",
              "      <td>Both</td>\n",
              "    </tr>\n",
              "  </tbody>\n",
              "</table>\n",
              "<p>4750 rows × 11 columns</p>\n",
              "</div>\n",
              "      <button class=\"colab-df-convert\" onclick=\"convertToInteractive('df-655a9934-bd0e-419a-bc2d-4d2e30b26f4f')\"\n",
              "              title=\"Convert this dataframe to an interactive table.\"\n",
              "              style=\"display:none;\">\n",
              "        \n",
              "  <svg xmlns=\"http://www.w3.org/2000/svg\" height=\"24px\"viewBox=\"0 0 24 24\"\n",
              "       width=\"24px\">\n",
              "    <path d=\"M0 0h24v24H0V0z\" fill=\"none\"/>\n",
              "    <path d=\"M18.56 5.44l.94 2.06.94-2.06 2.06-.94-2.06-.94-.94-2.06-.94 2.06-2.06.94zm-11 1L8.5 8.5l.94-2.06 2.06-.94-2.06-.94L8.5 2.5l-.94 2.06-2.06.94zm10 10l.94 2.06.94-2.06 2.06-.94-2.06-.94-.94-2.06-.94 2.06-2.06.94z\"/><path d=\"M17.41 7.96l-1.37-1.37c-.4-.4-.92-.59-1.43-.59-.52 0-1.04.2-1.43.59L10.3 9.45l-7.72 7.72c-.78.78-.78 2.05 0 2.83L4 21.41c.39.39.9.59 1.41.59.51 0 1.02-.2 1.41-.59l7.78-7.78 2.81-2.81c.8-.78.8-2.07 0-2.86zM5.41 20L4 18.59l7.72-7.72 1.47 1.35L5.41 20z\"/>\n",
              "  </svg>\n",
              "      </button>\n",
              "      \n",
              "  <style>\n",
              "    .colab-df-container {\n",
              "      display:flex;\n",
              "      flex-wrap:wrap;\n",
              "      gap: 12px;\n",
              "    }\n",
              "\n",
              "    .colab-df-convert {\n",
              "      background-color: #E8F0FE;\n",
              "      border: none;\n",
              "      border-radius: 50%;\n",
              "      cursor: pointer;\n",
              "      display: none;\n",
              "      fill: #1967D2;\n",
              "      height: 32px;\n",
              "      padding: 0 0 0 0;\n",
              "      width: 32px;\n",
              "    }\n",
              "\n",
              "    .colab-df-convert:hover {\n",
              "      background-color: #E2EBFA;\n",
              "      box-shadow: 0px 1px 2px rgba(60, 64, 67, 0.3), 0px 1px 3px 1px rgba(60, 64, 67, 0.15);\n",
              "      fill: #174EA6;\n",
              "    }\n",
              "\n",
              "    [theme=dark] .colab-df-convert {\n",
              "      background-color: #3B4455;\n",
              "      fill: #D2E3FC;\n",
              "    }\n",
              "\n",
              "    [theme=dark] .colab-df-convert:hover {\n",
              "      background-color: #434B5C;\n",
              "      box-shadow: 0px 1px 3px 1px rgba(0, 0, 0, 0.15);\n",
              "      filter: drop-shadow(0px 1px 2px rgba(0, 0, 0, 0.3));\n",
              "      fill: #FFFFFF;\n",
              "    }\n",
              "  </style>\n",
              "\n",
              "      <script>\n",
              "        const buttonEl =\n",
              "          document.querySelector('#df-655a9934-bd0e-419a-bc2d-4d2e30b26f4f button.colab-df-convert');\n",
              "        buttonEl.style.display =\n",
              "          google.colab.kernel.accessAllowed ? 'block' : 'none';\n",
              "\n",
              "        async function convertToInteractive(key) {\n",
              "          const element = document.querySelector('#df-655a9934-bd0e-419a-bc2d-4d2e30b26f4f');\n",
              "          const dataTable =\n",
              "            await google.colab.kernel.invokeFunction('convertToInteractive',\n",
              "                                                     [key], {});\n",
              "          if (!dataTable) return;\n",
              "\n",
              "          const docLinkHtml = 'Like what you see? Visit the ' +\n",
              "            '<a target=\"_blank\" href=https://colab.research.google.com/notebooks/data_table.ipynb>data table notebook</a>'\n",
              "            + ' to learn more about interactive tables.';\n",
              "          element.innerHTML = '';\n",
              "          dataTable['output_type'] = 'display_data';\n",
              "          await google.colab.output.renderOutput(dataTable, element);\n",
              "          const docLink = document.createElement('div');\n",
              "          docLink.innerHTML = docLinkHtml;\n",
              "          element.appendChild(docLink);\n",
              "        }\n",
              "      </script>\n",
              "    </div>\n",
              "  </div>\n",
              "  "
            ]
          },
          "metadata": {},
          "execution_count": 12
        }
      ]
    },
    {
      "cell_type": "code",
      "source": [
        "train = df[df['Fig_Age'].between(1,75)]\n",
        "val = df[df['Fig_Age'].between(76,100)]"
      ],
      "metadata": {
        "id": "Z1zBw01Gl8Ac"
      },
      "execution_count": null,
      "outputs": []
    },
    {
      "cell_type": "code",
      "source": [
        "DATA_PATH = \"/content/drive/My Drive/All_File_Lt/TVT_All_Lt\"\n",
        "os.chdir(DATA_PATH)\n",
        "train_dir = os.path.join(DATA_PATH, 'train')\n",
        "print(train_dir)\n",
        "validation_dir = os.path.join(DATA_PATH, 'validation')\n",
        "print(validation_dir)"
      ],
      "metadata": {
        "colab": {
          "base_uri": "https://localhost:8080/"
        },
        "id": "QL0g-8iOnMC4",
        "outputId": "521b7bf1-ccb1-417c-e3e0-dc8193f6afb3"
      },
      "execution_count": null,
      "outputs": [
        {
          "output_type": "stream",
          "name": "stdout",
          "text": [
            "/content/drive/My Drive/All_File_Lt/TVT_All_Lt/train\n",
            "/content/drive/My Drive/All_File_Lt/TVT_All_Lt/validation\n"
          ]
        }
      ]
    },
    {
      "cell_type": "markdown",
      "source": [
        "\n",
        "#Train"
      ],
      "metadata": {
        "id": "bWEnlTSwazL5"
      }
    },
    {
      "cell_type": "code",
      "source": [
        "# Train ด้วย ImageDataGenerator ของ Keras ซึ่งจะเพิ่มข้อมูลเสริมระหว่างการฝึกเพื่อลดโอกาสเกิด overfitting\n",
        "#overfitting เกิดจากข้อมูลที่ซับซ้อนกันเกินไป\n",
        "from tensorflow.keras.preprocessing.image import ImageDataGenerator\n",
        "\n",
        "train_datagen = ImageDataGenerator(\n",
        "      rescale=1./255, #โมเดลส่วนใหญ่ต้องใช้ RGB ในช่วง 0–1\n",
        "      rotation_range=40,\n",
        "      width_shift_range=0.2,\n",
        "      height_shift_range=0.2,\n",
        "      shear_range=0.2,\n",
        "      zoom_range=0.2,\n",
        "      horizontal_flip=True,\n",
        "      fill_mode='nearest')\n",
        "\n",
        "# Note that the validation data should not be augmented!\n",
        "test_datagen = ImageDataGenerator(rescale=1./255)\n",
        "\n",
        "train_generator = train_datagen.flow_from_dataframe(\n",
        "        dataframe = train,\n",
        "        directory = train_dir,\n",
        "        x_col = 'Path_filename',\n",
        "        y_col = 'Age(year)',\n",
        "        class_mode = 'other',\n",
        "        target_size=(height, width),\n",
        "        batch_size=batch_size)\n",
        "\n",
        "validation_generator = test_datagen.flow_from_dataframe(\n",
        "        dataframe = val,\n",
        "        directory = validation_dir,\n",
        "        x_col = 'Path_filename',\n",
        "        y_col = 'Age(year)',\n",
        "        class_mode = 'other',\n",
        "        target_size=(height, width),\n",
        "        batch_size=batch_size)"
      ],
      "metadata": {
        "id": "xGPrsn9no_pa",
        "outputId": "c17af827-a0d8-4441-db7e-4668f6dce382",
        "colab": {
          "base_uri": "https://localhost:8080/"
        }
      },
      "execution_count": null,
      "outputs": [
        {
          "output_type": "stream",
          "name": "stdout",
          "text": [
            "Found 2850 validated image filenames.\n",
            "Found 950 validated image filenames.\n"
          ]
        }
      ]
    },
    {
      "cell_type": "code",
      "source": [
        "model.compile(loss='mse',\n",
        "          optimizer=Adam(learning_rate=4e-4),\n",
        "          metrics=['mae'])\n",
        "history = model.fit_generator(\n",
        "      train_generator,\n",
        "      steps_per_epoch= NUM_TRAIN //batch_size,\n",
        "      epochs=epochs,\n",
        "      validation_data=validation_generator,\n",
        "      validation_steps= NUM_TEST //batch_size,\n",
        "      verbose=1,\n",
        "      use_multiprocessing=True,\n",
        "      workers=4)"
      ],
      "metadata": {
        "id": "N6qUmmF856ZE",
        "outputId": "15886f07-ed37-482b-86cb-ef15546ff68d",
        "colab": {
          "base_uri": "https://localhost:8080/"
        }
      },
      "execution_count": null,
      "outputs": [
        {
          "output_type": "stream",
          "name": "stderr",
          "text": [
            "<ipython-input-16-23c2d5617436>:4: UserWarning: `Model.fit_generator` is deprecated and will be removed in a future version. Please use `Model.fit`, which supports generators.\n",
            "  history = model.fit_generator(\n"
          ]
        },
        {
          "output_type": "stream",
          "name": "stdout",
          "text": [
            "Epoch 1/250\n",
            "178/178 [==============================] - 800s 4s/step - loss: 4.8600 - mae: 1.6255 - val_loss: 9.1818 - val_mae: 2.3687\n",
            "Epoch 2/250\n",
            "178/178 [==============================] - 27s 151ms/step - loss: 4.0281 - mae: 1.5240 - val_loss: 7.7044 - val_mae: 2.1458\n",
            "Epoch 3/250\n",
            "178/178 [==============================] - 28s 152ms/step - loss: 4.2489 - mae: 1.5744 - val_loss: 7.6474 - val_mae: 2.1366\n",
            "Epoch 4/250\n",
            "178/178 [==============================] - 28s 152ms/step - loss: 3.7720 - mae: 1.4554 - val_loss: 10.9531 - val_mae: 2.5815\n",
            "Epoch 5/250\n",
            "178/178 [==============================] - 27s 150ms/step - loss: 3.4832 - mae: 1.4204 - val_loss: 9.2923 - val_mae: 2.3693\n",
            "Epoch 6/250\n",
            "178/178 [==============================] - 27s 150ms/step - loss: 3.1608 - mae: 1.3729 - val_loss: 12.1943 - val_mae: 2.7576\n",
            "Epoch 7/250\n",
            "178/178 [==============================] - 27s 150ms/step - loss: 3.2001 - mae: 1.3880 - val_loss: 5.2797 - val_mae: 1.7923\n",
            "Epoch 8/250\n",
            "178/178 [==============================] - 27s 151ms/step - loss: 3.6541 - mae: 1.4524 - val_loss: 5.9608 - val_mae: 1.9221\n",
            "Epoch 9/250\n",
            "178/178 [==============================] - 28s 152ms/step - loss: 3.1256 - mae: 1.4051 - val_loss: 7.6890 - val_mae: 2.1708\n",
            "Epoch 10/250\n",
            "178/178 [==============================] - 27s 151ms/step - loss: 3.0418 - mae: 1.3744 - val_loss: 5.1610 - val_mae: 1.8126\n",
            "Epoch 11/250\n",
            "178/178 [==============================] - 27s 151ms/step - loss: 3.1178 - mae: 1.4146 - val_loss: 6.6845 - val_mae: 2.0164\n",
            "Epoch 12/250\n",
            "178/178 [==============================] - 27s 150ms/step - loss: 3.0512 - mae: 1.3922 - val_loss: 7.7207 - val_mae: 2.2311\n",
            "Epoch 13/250\n",
            "178/178 [==============================] - 27s 150ms/step - loss: 3.2448 - mae: 1.3942 - val_loss: 6.9004 - val_mae: 2.1059\n",
            "Epoch 14/250\n",
            "178/178 [==============================] - 28s 154ms/step - loss: 2.7259 - mae: 1.3030 - val_loss: 6.8452 - val_mae: 2.0977\n",
            "Epoch 15/250\n",
            "178/178 [==============================] - 27s 151ms/step - loss: 3.1224 - mae: 1.3843 - val_loss: 4.0542 - val_mae: 1.5959\n",
            "Epoch 16/250\n",
            "178/178 [==============================] - 27s 151ms/step - loss: 4.0568 - mae: 1.5746 - val_loss: 4.8393 - val_mae: 1.7588\n",
            "Epoch 17/250\n",
            "178/178 [==============================] - 27s 150ms/step - loss: 3.2771 - mae: 1.4345 - val_loss: 5.8427 - val_mae: 1.9332\n",
            "Epoch 18/250\n",
            "178/178 [==============================] - 27s 150ms/step - loss: 3.0589 - mae: 1.3795 - val_loss: 4.8539 - val_mae: 1.7713\n",
            "Epoch 19/250\n",
            "178/178 [==============================] - 27s 150ms/step - loss: 3.0333 - mae: 1.3708 - val_loss: 7.3415 - val_mae: 2.1743\n",
            "Epoch 20/250\n",
            "178/178 [==============================] - 27s 150ms/step - loss: 2.9169 - mae: 1.3545 - val_loss: 4.8069 - val_mae: 1.7711\n",
            "Epoch 21/250\n",
            "178/178 [==============================] - 27s 150ms/step - loss: 2.6635 - mae: 1.3089 - val_loss: 5.3750 - val_mae: 1.8519\n",
            "Epoch 22/250\n",
            "178/178 [==============================] - 27s 151ms/step - loss: 2.7684 - mae: 1.3214 - val_loss: 5.6193 - val_mae: 1.9007\n",
            "Epoch 23/250\n",
            "178/178 [==============================] - 27s 151ms/step - loss: 2.7150 - mae: 1.2958 - val_loss: 5.8269 - val_mae: 1.9267\n",
            "Epoch 24/250\n",
            "178/178 [==============================] - 27s 150ms/step - loss: 2.5564 - mae: 1.2846 - val_loss: 6.0521 - val_mae: 1.9820\n",
            "Epoch 25/250\n",
            "178/178 [==============================] - 27s 151ms/step - loss: 2.6024 - mae: 1.2619 - val_loss: 6.1917 - val_mae: 1.9845\n",
            "Epoch 26/250\n",
            "178/178 [==============================] - 27s 151ms/step - loss: 2.3531 - mae: 1.2230 - val_loss: 4.6925 - val_mae: 1.7329\n",
            "Epoch 27/250\n",
            "178/178 [==============================] - 27s 151ms/step - loss: 2.3620 - mae: 1.2372 - val_loss: 5.2932 - val_mae: 1.8491\n",
            "Epoch 28/250\n",
            "178/178 [==============================] - 27s 151ms/step - loss: 2.3389 - mae: 1.2201 - val_loss: 5.2142 - val_mae: 1.7963\n",
            "Epoch 29/250\n",
            "178/178 [==============================] - 28s 152ms/step - loss: 2.4335 - mae: 1.2460 - val_loss: 6.8028 - val_mae: 2.0734\n",
            "Epoch 30/250\n",
            "178/178 [==============================] - 27s 151ms/step - loss: 2.3270 - mae: 1.2063 - val_loss: 5.8108 - val_mae: 1.9205\n",
            "Epoch 31/250\n",
            "178/178 [==============================] - 27s 151ms/step - loss: 2.4405 - mae: 1.2301 - val_loss: 4.2815 - val_mae: 1.6581\n",
            "Epoch 32/250\n",
            "178/178 [==============================] - 28s 153ms/step - loss: 2.2658 - mae: 1.1868 - val_loss: 5.2072 - val_mae: 1.8339\n",
            "Epoch 33/250\n",
            "178/178 [==============================] - 23s 129ms/step - loss: 2.1556 - mae: 1.1653 - val_loss: 4.9350 - val_mae: 1.7813\n",
            "Epoch 34/250\n",
            "178/178 [==============================] - 28s 152ms/step - loss: 2.1581 - mae: 1.1691 - val_loss: 5.8533 - val_mae: 1.9208\n",
            "Epoch 35/250\n",
            "178/178 [==============================] - 27s 149ms/step - loss: 2.2883 - mae: 1.2002 - val_loss: 9.1155 - val_mae: 2.3793\n",
            "Epoch 36/250\n",
            "178/178 [==============================] - 27s 149ms/step - loss: 2.4402 - mae: 1.2149 - val_loss: 7.0729 - val_mae: 2.0959\n",
            "Epoch 37/250\n",
            "178/178 [==============================] - 27s 150ms/step - loss: 2.1720 - mae: 1.1604 - val_loss: 5.0160 - val_mae: 1.7716\n",
            "Epoch 38/250\n",
            "178/178 [==============================] - 27s 149ms/step - loss: 2.3024 - mae: 1.1916 - val_loss: 4.0319 - val_mae: 1.6136\n",
            "Epoch 39/250\n",
            "178/178 [==============================] - 23s 126ms/step - loss: 2.3656 - mae: 1.1844 - val_loss: 4.5638 - val_mae: 1.7123\n",
            "Epoch 40/250\n",
            "178/178 [==============================] - 28s 152ms/step - loss: 2.2965 - mae: 1.1808 - val_loss: 5.1142 - val_mae: 1.7436\n",
            "Epoch 41/250\n",
            "178/178 [==============================] - 28s 151ms/step - loss: 2.1607 - mae: 1.1558 - val_loss: 4.9467 - val_mae: 1.7610\n",
            "Epoch 42/250\n",
            "178/178 [==============================] - 27s 152ms/step - loss: 2.3060 - mae: 1.1674 - val_loss: 8.7158 - val_mae: 2.3939\n",
            "Epoch 43/250\n",
            "178/178 [==============================] - 28s 152ms/step - loss: 2.1783 - mae: 1.1679 - val_loss: 4.3005 - val_mae: 1.6448\n",
            "Epoch 44/250\n",
            "178/178 [==============================] - 28s 152ms/step - loss: 2.1148 - mae: 1.1484 - val_loss: 8.4955 - val_mae: 2.2682\n",
            "Epoch 45/250\n",
            "178/178 [==============================] - 23s 129ms/step - loss: 1.9511 - mae: 1.1071 - val_loss: 6.7908 - val_mae: 2.0443\n",
            "Epoch 46/250\n",
            "178/178 [==============================] - 28s 150ms/step - loss: 1.9879 - mae: 1.1103 - val_loss: 6.1485 - val_mae: 1.9382\n",
            "Epoch 47/250\n",
            "178/178 [==============================] - 27s 150ms/step - loss: 2.0221 - mae: 1.1147 - val_loss: 7.0680 - val_mae: 2.0254\n",
            "Epoch 48/250\n",
            "178/178 [==============================] - 29s 159ms/step - loss: 2.0647 - mae: 1.1315 - val_loss: 8.1822 - val_mae: 2.2226\n",
            "Epoch 49/250\n",
            "178/178 [==============================] - 27s 151ms/step - loss: 2.0888 - mae: 1.1220 - val_loss: 5.3757 - val_mae: 1.7988\n",
            "Epoch 50/250\n",
            "178/178 [==============================] - 27s 151ms/step - loss: 2.2965 - mae: 1.1697 - val_loss: 4.1232 - val_mae: 1.6446\n",
            "Epoch 51/250\n",
            "178/178 [==============================] - 27s 150ms/step - loss: 2.0868 - mae: 1.1452 - val_loss: 6.6811 - val_mae: 1.9679\n",
            "Epoch 52/250\n",
            "178/178 [==============================] - 27s 151ms/step - loss: 2.8663 - mae: 1.2289 - val_loss: 5.4876 - val_mae: 1.7613\n",
            "Epoch 53/250\n",
            "178/178 [==============================] - 27s 150ms/step - loss: 5.6920 - mae: 1.4050 - val_loss: 7.6975 - val_mae: 2.1754\n",
            "Epoch 54/250\n",
            "178/178 [==============================] - 28s 152ms/step - loss: 3.2406 - mae: 1.3284 - val_loss: 8.6077 - val_mae: 2.3048\n",
            "Epoch 55/250\n",
            "178/178 [==============================] - 27s 151ms/step - loss: 2.4058 - mae: 1.2267 - val_loss: 8.0922 - val_mae: 2.2241\n",
            "Epoch 56/250\n",
            "178/178 [==============================] - 27s 151ms/step - loss: 2.2600 - mae: 1.1843 - val_loss: 5.9051 - val_mae: 1.9280\n",
            "Epoch 57/250\n",
            "178/178 [==============================] - 28s 152ms/step - loss: 2.8468 - mae: 1.2678 - val_loss: 4.9015 - val_mae: 1.7484\n",
            "Epoch 58/250\n",
            "178/178 [==============================] - 23s 127ms/step - loss: 2.4908 - mae: 1.2126 - val_loss: 3.9996 - val_mae: 1.6024\n",
            "Epoch 59/250\n",
            "178/178 [==============================] - 28s 153ms/step - loss: 2.1875 - mae: 1.1660 - val_loss: 5.5644 - val_mae: 1.8821\n",
            "Epoch 60/250\n",
            "178/178 [==============================] - 27s 151ms/step - loss: 2.2042 - mae: 1.1516 - val_loss: 8.3240 - val_mae: 2.2787\n",
            "Epoch 61/250\n",
            "178/178 [==============================] - 28s 153ms/step - loss: 2.0512 - mae: 1.1294 - val_loss: 6.4429 - val_mae: 2.0360\n",
            "Epoch 62/250\n",
            "178/178 [==============================] - 28s 154ms/step - loss: 1.8913 - mae: 1.0849 - val_loss: 7.2123 - val_mae: 2.1201\n",
            "Epoch 63/250\n",
            "178/178 [==============================] - 27s 151ms/step - loss: 2.0705 - mae: 1.1294 - val_loss: 4.2108 - val_mae: 1.6139\n",
            "Epoch 64/250\n",
            "178/178 [==============================] - 27s 151ms/step - loss: 2.2876 - mae: 1.1718 - val_loss: 6.3369 - val_mae: 1.9254\n",
            "Epoch 65/250\n",
            "178/178 [==============================] - 28s 153ms/step - loss: 4.3134 - mae: 1.3518 - val_loss: 6.1856 - val_mae: 1.9343\n",
            "Epoch 66/250\n",
            "178/178 [==============================] - 27s 150ms/step - loss: 5.2465 - mae: 1.4689 - val_loss: 7.4462 - val_mae: 2.0855\n",
            "Epoch 67/250\n",
            "178/178 [==============================] - 28s 151ms/step - loss: 3.9775 - mae: 1.3394 - val_loss: 10.1421 - val_mae: 2.4655\n",
            "Epoch 68/250\n",
            "178/178 [==============================] - 27s 151ms/step - loss: 2.5054 - mae: 1.2148 - val_loss: 6.9879 - val_mae: 2.0782\n",
            "Epoch 69/250\n",
            "178/178 [==============================] - 27s 151ms/step - loss: 2.3885 - mae: 1.1689 - val_loss: 6.9463 - val_mae: 2.0858\n",
            "Epoch 70/250\n",
            "178/178 [==============================] - 28s 151ms/step - loss: 2.6988 - mae: 1.2123 - val_loss: 6.4677 - val_mae: 2.0318\n",
            "Epoch 71/250\n",
            "178/178 [==============================] - 28s 152ms/step - loss: 2.2712 - mae: 1.1559 - val_loss: 11.1878 - val_mae: 2.6267\n",
            "Epoch 72/250\n",
            "178/178 [==============================] - 28s 152ms/step - loss: 2.4471 - mae: 1.1695 - val_loss: 7.9289 - val_mae: 2.2607\n",
            "Epoch 73/250\n",
            "178/178 [==============================] - 28s 152ms/step - loss: 2.2473 - mae: 1.1550 - val_loss: 10.3039 - val_mae: 2.5236\n",
            "Epoch 74/250\n",
            "178/178 [==============================] - 28s 152ms/step - loss: 2.1518 - mae: 1.1257 - val_loss: 8.2182 - val_mae: 2.2618\n",
            "Epoch 75/250\n",
            "178/178 [==============================] - 28s 153ms/step - loss: 2.1472 - mae: 1.1349 - val_loss: 7.8776 - val_mae: 2.2596\n",
            "Epoch 76/250\n",
            "178/178 [==============================] - 28s 154ms/step - loss: 2.1300 - mae: 1.1383 - val_loss: 6.5458 - val_mae: 2.0471\n",
            "Epoch 77/250\n",
            "178/178 [==============================] - 23s 128ms/step - loss: 2.1022 - mae: 1.1351 - val_loss: 5.6976 - val_mae: 1.9628\n",
            "Epoch 78/250\n",
            "178/178 [==============================] - 28s 153ms/step - loss: 2.0054 - mae: 1.1251 - val_loss: 4.6817 - val_mae: 1.7616\n",
            "Epoch 79/250\n",
            "178/178 [==============================] - 28s 153ms/step - loss: 2.1391 - mae: 1.1429 - val_loss: 6.3738 - val_mae: 2.0156\n",
            "Epoch 80/250\n",
            "178/178 [==============================] - 28s 153ms/step - loss: 2.3622 - mae: 1.1880 - val_loss: 6.3373 - val_mae: 2.0293\n",
            "Epoch 81/250\n",
            "178/178 [==============================] - 28s 153ms/step - loss: 2.1212 - mae: 1.1247 - val_loss: 5.8864 - val_mae: 1.9669\n",
            "Epoch 82/250\n",
            "178/178 [==============================] - 28s 152ms/step - loss: 2.0008 - mae: 1.1054 - val_loss: 7.6770 - val_mae: 2.2203\n",
            "Epoch 83/250\n",
            "178/178 [==============================] - 28s 153ms/step - loss: 2.0539 - mae: 1.1154 - val_loss: 6.7782 - val_mae: 2.0966\n",
            "Epoch 84/250\n",
            "178/178 [==============================] - 27s 151ms/step - loss: 1.8437 - mae: 1.0459 - val_loss: 5.7066 - val_mae: 1.9404\n",
            "Epoch 85/250\n",
            "178/178 [==============================] - 23s 125ms/step - loss: 1.9089 - mae: 1.0857 - val_loss: 7.9371 - val_mae: 2.2446\n",
            "Epoch 86/250\n",
            "178/178 [==============================] - 28s 152ms/step - loss: 1.9555 - mae: 1.0906 - val_loss: 5.7989 - val_mae: 1.9397\n",
            "Epoch 87/250\n",
            "178/178 [==============================] - 28s 152ms/step - loss: 1.9493 - mae: 1.0879 - val_loss: 8.7855 - val_mae: 2.3899\n",
            "Epoch 88/250\n",
            "178/178 [==============================] - 28s 153ms/step - loss: 1.8680 - mae: 1.0675 - val_loss: 11.1804 - val_mae: 2.6730\n",
            "Epoch 89/250\n",
            "178/178 [==============================] - 24s 129ms/step - loss: 1.9526 - mae: 1.0830 - val_loss: 5.9817 - val_mae: 1.9757\n",
            "Epoch 90/250\n",
            "178/178 [==============================] - 27s 148ms/step - loss: 1.8483 - mae: 1.0736 - val_loss: 8.2210 - val_mae: 2.2915\n",
            "Epoch 91/250\n",
            "178/178 [==============================] - 27s 148ms/step - loss: 2.2944 - mae: 1.1219 - val_loss: 12.2529 - val_mae: 2.6387\n",
            "Epoch 92/250\n",
            "178/178 [==============================] - 27s 147ms/step - loss: 3.5015 - mae: 1.2707 - val_loss: 11.4377 - val_mae: 2.5887\n",
            "Epoch 93/250\n",
            "178/178 [==============================] - 27s 149ms/step - loss: 2.6928 - mae: 1.2650 - val_loss: 11.7354 - val_mae: 2.5045\n",
            "Epoch 94/250\n",
            "178/178 [==============================] - 27s 150ms/step - loss: 2.4434 - mae: 1.2111 - val_loss: 8.4969 - val_mae: 2.0725\n",
            "Epoch 95/250\n",
            "178/178 [==============================] - 27s 150ms/step - loss: 3.4430 - mae: 1.3309 - val_loss: 12.4574 - val_mae: 2.6262\n",
            "Epoch 96/250\n",
            "178/178 [==============================] - 28s 152ms/step - loss: 2.8889 - mae: 1.2595 - val_loss: 11.0389 - val_mae: 2.4305\n",
            "Epoch 97/250\n",
            "178/178 [==============================] - 27s 150ms/step - loss: 2.5491 - mae: 1.2130 - val_loss: 10.3072 - val_mae: 2.4105\n",
            "Epoch 98/250\n",
            "178/178 [==============================] - 28s 152ms/step - loss: 2.5531 - mae: 1.1902 - val_loss: 11.9311 - val_mae: 2.6472\n",
            "Epoch 99/250\n",
            "178/178 [==============================] - 28s 152ms/step - loss: 4.4963 - mae: 1.3882 - val_loss: 24.0148 - val_mae: 3.5852\n",
            "Epoch 100/250\n",
            "178/178 [==============================] - 27s 151ms/step - loss: 3.6810 - mae: 1.4210 - val_loss: 9.4173 - val_mae: 2.3548\n",
            "Epoch 101/250\n",
            "178/178 [==============================] - 27s 150ms/step - loss: 3.7813 - mae: 1.4173 - val_loss: 14.1631 - val_mae: 2.8750\n",
            "Epoch 102/250\n",
            "178/178 [==============================] - 27s 150ms/step - loss: 3.8509 - mae: 1.4153 - val_loss: 4.9236 - val_mae: 1.7487\n",
            "Epoch 103/250\n",
            "178/178 [==============================] - 27s 151ms/step - loss: 4.2305 - mae: 1.4044 - val_loss: 5.7384 - val_mae: 1.8710\n",
            "Epoch 104/250\n",
            "178/178 [==============================] - 28s 152ms/step - loss: 4.9209 - mae: 1.4957 - val_loss: 5.3532 - val_mae: 1.8448\n",
            "Epoch 105/250\n",
            "178/178 [==============================] - 28s 152ms/step - loss: 5.1197 - mae: 1.4432 - val_loss: 6.3462 - val_mae: 1.9575\n",
            "Epoch 106/250\n",
            "178/178 [==============================] - 27s 151ms/step - loss: 4.2400 - mae: 1.3928 - val_loss: 8.6076 - val_mae: 2.2260\n",
            "Epoch 107/250\n",
            "178/178 [==============================] - 28s 152ms/step - loss: 3.0018 - mae: 1.2542 - val_loss: 6.9243 - val_mae: 1.9789\n",
            "Epoch 108/250\n",
            "178/178 [==============================] - 27s 151ms/step - loss: 3.7888 - mae: 1.3663 - val_loss: 9.0846 - val_mae: 2.2431\n",
            "Epoch 109/250\n",
            "178/178 [==============================] - 28s 152ms/step - loss: 2.7245 - mae: 1.2505 - val_loss: 8.2866 - val_mae: 2.1944\n",
            "Epoch 110/250\n",
            "178/178 [==============================] - 27s 150ms/step - loss: 2.5019 - mae: 1.2103 - val_loss: 6.2582 - val_mae: 1.9252\n",
            "Epoch 111/250\n",
            "178/178 [==============================] - 28s 152ms/step - loss: 2.6941 - mae: 1.2387 - val_loss: 6.9005 - val_mae: 2.0370\n",
            "Epoch 112/250\n",
            "178/178 [==============================] - 27s 151ms/step - loss: 2.4777 - mae: 1.1815 - val_loss: 7.0421 - val_mae: 2.0678\n",
            "Epoch 113/250\n",
            "178/178 [==============================] - 27s 151ms/step - loss: 2.4185 - mae: 1.1894 - val_loss: 7.6084 - val_mae: 2.1707\n",
            "Epoch 114/250\n",
            "178/178 [==============================] - 28s 152ms/step - loss: 2.5265 - mae: 1.2066 - val_loss: 6.1896 - val_mae: 1.9439\n",
            "Epoch 115/250\n",
            "178/178 [==============================] - 23s 125ms/step - loss: 2.4298 - mae: 1.1728 - val_loss: 7.7260 - val_mae: 2.1565\n",
            "Epoch 116/250\n",
            "178/178 [==============================] - 28s 155ms/step - loss: 2.5545 - mae: 1.1954 - val_loss: 6.6051 - val_mae: 2.0326\n",
            "Epoch 117/250\n",
            "178/178 [==============================] - 28s 153ms/step - loss: 2.3933 - mae: 1.1643 - val_loss: 9.6353 - val_mae: 2.4113\n",
            "Epoch 118/250\n",
            "178/178 [==============================] - 28s 153ms/step - loss: 2.3867 - mae: 1.1339 - val_loss: 8.6551 - val_mae: 2.2807\n",
            "Epoch 119/250\n",
            "178/178 [==============================] - 28s 153ms/step - loss: 2.6556 - mae: 1.1873 - val_loss: 4.1176 - val_mae: 1.5881\n",
            "Epoch 120/250\n",
            "178/178 [==============================] - 28s 154ms/step - loss: 5.5967 - mae: 1.4553 - val_loss: 7.8864 - val_mae: 2.1930\n",
            "Epoch 121/250\n",
            "178/178 [==============================] - 28s 153ms/step - loss: 4.8811 - mae: 1.4682 - val_loss: 7.0275 - val_mae: 1.9294\n",
            "Epoch 122/250\n",
            "178/178 [==============================] - 28s 154ms/step - loss: 3.9361 - mae: 1.4328 - val_loss: 8.6578 - val_mae: 2.1881\n",
            "Epoch 123/250\n",
            "178/178 [==============================] - 28s 153ms/step - loss: 3.2192 - mae: 1.3461 - val_loss: 10.9935 - val_mae: 2.5968\n",
            "Epoch 124/250\n",
            "178/178 [==============================] - 28s 155ms/step - loss: 3.4694 - mae: 1.3305 - val_loss: 5.6634 - val_mae: 1.8722\n",
            "Epoch 125/250\n",
            "178/178 [==============================] - 28s 154ms/step - loss: 3.5301 - mae: 1.3229 - val_loss: 6.3733 - val_mae: 1.9974\n",
            "Epoch 126/250\n",
            "178/178 [==============================] - 28s 154ms/step - loss: 3.8748 - mae: 1.3014 - val_loss: 5.7699 - val_mae: 1.8867\n",
            "Epoch 127/250\n",
            "178/178 [==============================] - 28s 155ms/step - loss: 3.1975 - mae: 1.2190 - val_loss: 6.0547 - val_mae: 1.9281\n",
            "Epoch 128/250\n",
            "178/178 [==============================] - 28s 156ms/step - loss: 3.2581 - mae: 1.2348 - val_loss: 5.6552 - val_mae: 1.8430\n",
            "Epoch 129/250\n",
            "178/178 [==============================] - 28s 155ms/step - loss: 3.1997 - mae: 1.2203 - val_loss: 7.5309 - val_mae: 2.1130\n",
            "Epoch 130/250\n",
            "178/178 [==============================] - 28s 157ms/step - loss: 2.9105 - mae: 1.1985 - val_loss: 7.2045 - val_mae: 2.0719\n",
            "Epoch 131/250\n",
            "178/178 [==============================] - 28s 156ms/step - loss: 2.7349 - mae: 1.2043 - val_loss: 8.3275 - val_mae: 2.2779\n",
            "Epoch 132/250\n",
            "178/178 [==============================] - 24s 132ms/step - loss: 2.4322 - mae: 1.2003 - val_loss: 6.7455 - val_mae: 2.0803\n",
            "Epoch 133/250\n",
            "178/178 [==============================] - 27s 151ms/step - loss: 2.2175 - mae: 1.1468 - val_loss: 6.6223 - val_mae: 2.0376\n",
            "Epoch 134/250\n",
            "178/178 [==============================] - 27s 149ms/step - loss: 2.2953 - mae: 1.1436 - val_loss: 6.8089 - val_mae: 2.0745\n",
            "Epoch 135/250\n",
            "178/178 [==============================] - 28s 152ms/step - loss: 2.4823 - mae: 1.2203 - val_loss: 9.3618 - val_mae: 2.4621\n",
            "Epoch 136/250\n",
            "178/178 [==============================] - 27s 150ms/step - loss: 2.2669 - mae: 1.1525 - val_loss: 7.1817 - val_mae: 2.1456\n",
            "Epoch 137/250\n",
            "178/178 [==============================] - 28s 153ms/step - loss: 2.2518 - mae: 1.1606 - val_loss: 5.6884 - val_mae: 1.8781\n",
            "Epoch 138/250\n",
            "178/178 [==============================] - 27s 149ms/step - loss: 2.2451 - mae: 1.1611 - val_loss: 8.1107 - val_mae: 2.2668\n",
            "Epoch 139/250\n",
            "178/178 [==============================] - 27s 151ms/step - loss: 2.1537 - mae: 1.1383 - val_loss: 7.8227 - val_mae: 2.2256\n",
            "Epoch 140/250\n",
            "178/178 [==============================] - 27s 150ms/step - loss: 2.1743 - mae: 1.1455 - val_loss: 8.4947 - val_mae: 2.3403\n",
            "Epoch 141/250\n",
            "178/178 [==============================] - 27s 150ms/step - loss: 2.1036 - mae: 1.1194 - val_loss: 9.1637 - val_mae: 2.4240\n",
            "Epoch 142/250\n",
            "178/178 [==============================] - 27s 151ms/step - loss: 2.0554 - mae: 1.1085 - val_loss: 7.0367 - val_mae: 2.1134\n",
            "Epoch 143/250\n",
            "178/178 [==============================] - 23s 127ms/step - loss: 1.9091 - mae: 1.0640 - val_loss: 10.5440 - val_mae: 2.5756\n",
            "Epoch 144/250\n",
            "178/178 [==============================] - 27s 148ms/step - loss: 1.9386 - mae: 1.0765 - val_loss: 7.6579 - val_mae: 2.2103\n",
            "Epoch 145/250\n",
            "178/178 [==============================] - 22s 123ms/step - loss: 1.8757 - mae: 1.0668 - val_loss: 7.8679 - val_mae: 2.2400\n",
            "Epoch 146/250\n",
            "178/178 [==============================] - 28s 151ms/step - loss: 1.8688 - mae: 1.0667 - val_loss: 7.8554 - val_mae: 2.2202\n",
            "Epoch 147/250\n",
            "178/178 [==============================] - 28s 153ms/step - loss: 1.9668 - mae: 1.0806 - val_loss: 5.7737 - val_mae: 1.8755\n",
            "Epoch 148/250\n",
            "178/178 [==============================] - 28s 153ms/step - loss: 1.8140 - mae: 1.0497 - val_loss: 9.2953 - val_mae: 2.3711\n",
            "Epoch 149/250\n",
            "178/178 [==============================] - 28s 154ms/step - loss: 1.8626 - mae: 1.0643 - val_loss: 6.9384 - val_mae: 2.0987\n",
            "Epoch 150/250\n",
            "178/178 [==============================] - 28s 154ms/step - loss: 1.8573 - mae: 1.0489 - val_loss: 7.8501 - val_mae: 2.1614\n",
            "Epoch 151/250\n",
            "178/178 [==============================] - 28s 155ms/step - loss: 1.7073 - mae: 1.0338 - val_loss: 5.8353 - val_mae: 1.9219\n",
            "Epoch 152/250\n",
            "178/178 [==============================] - 28s 151ms/step - loss: 1.6804 - mae: 1.0088 - val_loss: 8.3988 - val_mae: 2.2889\n",
            "Epoch 153/250\n",
            "178/178 [==============================] - 27s 150ms/step - loss: 2.1083 - mae: 1.0739 - val_loss: 6.8027 - val_mae: 2.0148\n",
            "Epoch 154/250\n",
            "178/178 [==============================] - 27s 149ms/step - loss: 3.9611 - mae: 1.2471 - val_loss: 6.1772 - val_mae: 1.9151\n",
            "Epoch 155/250\n",
            "178/178 [==============================] - 28s 153ms/step - loss: 5.7412 - mae: 1.3896 - val_loss: 5.3423 - val_mae: 1.7466\n",
            "Epoch 156/250\n",
            "178/178 [==============================] - 29s 158ms/step - loss: 6.4076 - mae: 1.4177 - val_loss: 5.3907 - val_mae: 1.7387\n",
            "Epoch 157/250\n",
            "178/178 [==============================] - 28s 154ms/step - loss: 5.1049 - mae: 1.4290 - val_loss: 6.8329 - val_mae: 2.0111\n",
            "Epoch 158/250\n",
            "178/178 [==============================] - 28s 155ms/step - loss: 2.7530 - mae: 1.2036 - val_loss: 7.1066 - val_mae: 2.1250\n",
            "Epoch 159/250\n",
            "178/178 [==============================] - 28s 155ms/step - loss: 2.4403 - mae: 1.1863 - val_loss: 8.1189 - val_mae: 2.2968\n",
            "Epoch 160/250\n",
            "178/178 [==============================] - 28s 156ms/step - loss: 2.3140 - mae: 1.1808 - val_loss: 6.9528 - val_mae: 2.1176\n",
            "Epoch 161/250\n",
            "178/178 [==============================] - 28s 154ms/step - loss: 2.0676 - mae: 1.1130 - val_loss: 6.1284 - val_mae: 1.9243\n",
            "Epoch 162/250\n",
            "178/178 [==============================] - 28s 152ms/step - loss: 2.0924 - mae: 1.1204 - val_loss: 6.3760 - val_mae: 1.9633\n",
            "Epoch 163/250\n",
            "178/178 [==============================] - 28s 153ms/step - loss: 2.0857 - mae: 1.1255 - val_loss: 5.3537 - val_mae: 1.8116\n",
            "Epoch 164/250\n",
            "178/178 [==============================] - 28s 153ms/step - loss: 2.0569 - mae: 1.1040 - val_loss: 5.5805 - val_mae: 1.8590\n",
            "Epoch 165/250\n",
            "178/178 [==============================] - 28s 153ms/step - loss: 1.9432 - mae: 1.0851 - val_loss: 7.1460 - val_mae: 2.1045\n",
            "Epoch 166/250\n",
            "178/178 [==============================] - 28s 153ms/step - loss: 2.3393 - mae: 1.1844 - val_loss: 17.2320 - val_mae: 2.6295\n",
            "Epoch 167/250\n",
            "178/178 [==============================] - 28s 154ms/step - loss: 2.3004 - mae: 1.1659 - val_loss: 6.0237 - val_mae: 1.9307\n",
            "Epoch 168/250\n",
            "178/178 [==============================] - 28s 152ms/step - loss: 2.2099 - mae: 1.1448 - val_loss: 6.8435 - val_mae: 2.0414\n",
            "Epoch 169/250\n",
            "178/178 [==============================] - 28s 154ms/step - loss: 1.9838 - mae: 1.1036 - val_loss: 5.9312 - val_mae: 1.8849\n",
            "Epoch 170/250\n",
            "178/178 [==============================] - 28s 152ms/step - loss: 2.4054 - mae: 1.1791 - val_loss: 6.3592 - val_mae: 1.9884\n",
            "Epoch 171/250\n",
            "178/178 [==============================] - 28s 153ms/step - loss: 3.1365 - mae: 1.3155 - val_loss: 5.3898 - val_mae: 1.7685\n",
            "Epoch 172/250\n",
            "178/178 [==============================] - 28s 152ms/step - loss: 2.8100 - mae: 1.2629 - val_loss: 4.9989 - val_mae: 1.7021\n",
            "Epoch 173/250\n",
            "178/178 [==============================] - 28s 152ms/step - loss: 2.5687 - mae: 1.2094 - val_loss: 5.4555 - val_mae: 1.7755\n",
            "Epoch 174/250\n",
            "178/178 [==============================] - 23s 129ms/step - loss: 2.6498 - mae: 1.2009 - val_loss: 4.9578 - val_mae: 1.6968\n",
            "Epoch 175/250\n",
            "178/178 [==============================] - 28s 152ms/step - loss: 3.6481 - mae: 1.2713 - val_loss: 5.5989 - val_mae: 1.8026\n",
            "Epoch 176/250\n",
            "178/178 [==============================] - 28s 153ms/step - loss: 3.3612 - mae: 1.2580 - val_loss: 8.0878 - val_mae: 2.1532\n",
            "Epoch 177/250\n",
            "178/178 [==============================] - 28s 152ms/step - loss: 6.4399 - mae: 1.5245 - val_loss: 5.7588 - val_mae: 1.8391\n",
            "Epoch 178/250\n",
            "178/178 [==============================] - 28s 153ms/step - loss: 5.7781 - mae: 1.4694 - val_loss: 5.5305 - val_mae: 1.8328\n",
            "Epoch 179/250\n",
            "178/178 [==============================] - 24s 133ms/step - loss: 4.9844 - mae: 1.4411 - val_loss: 11.9868 - val_mae: 2.6991\n",
            "Epoch 180/250\n",
            "178/178 [==============================] - 28s 152ms/step - loss: 3.8008 - mae: 1.4401 - val_loss: 6.7558 - val_mae: 2.0201\n",
            "Epoch 181/250\n",
            "178/178 [==============================] - 23s 125ms/step - loss: 3.2042 - mae: 1.3678 - val_loss: 5.8011 - val_mae: 1.8676\n",
            "Epoch 182/250\n",
            "178/178 [==============================] - 28s 153ms/step - loss: 2.7838 - mae: 1.2832 - val_loss: 7.3659 - val_mae: 2.1471\n",
            "Epoch 183/250\n",
            "178/178 [==============================] - 28s 153ms/step - loss: 2.8143 - mae: 1.2897 - val_loss: 5.0225 - val_mae: 1.7791\n",
            "Epoch 184/250\n",
            "178/178 [==============================] - 28s 155ms/step - loss: 2.6418 - mae: 1.2685 - val_loss: 5.7862 - val_mae: 1.8968\n",
            "Epoch 185/250\n",
            "178/178 [==============================] - 28s 153ms/step - loss: 2.7740 - mae: 1.2685 - val_loss: 6.1703 - val_mae: 1.9465\n",
            "Epoch 186/250\n",
            "178/178 [==============================] - 28s 153ms/step - loss: 2.5779 - mae: 1.2424 - val_loss: 5.9566 - val_mae: 1.9124\n",
            "Epoch 187/250\n",
            "178/178 [==============================] - 28s 153ms/step - loss: 2.6813 - mae: 1.2402 - val_loss: 3.9695 - val_mae: 1.5392\n",
            "Epoch 188/250\n",
            "178/178 [==============================] - 28s 153ms/step - loss: 3.1484 - mae: 1.2774 - val_loss: 4.5481 - val_mae: 1.6394\n",
            "Epoch 189/250\n",
            "178/178 [==============================] - 27s 150ms/step - loss: 2.8976 - mae: 1.2461 - val_loss: 4.6704 - val_mae: 1.6736\n",
            "Epoch 190/250\n",
            "178/178 [==============================] - 27s 150ms/step - loss: 3.2515 - mae: 1.2522 - val_loss: 4.6192 - val_mae: 1.6469\n",
            "Epoch 191/250\n",
            "178/178 [==============================] - 27s 150ms/step - loss: 3.6185 - mae: 1.3066 - val_loss: 6.5623 - val_mae: 1.9634\n",
            "Epoch 192/250\n",
            "178/178 [==============================] - 27s 151ms/step - loss: 3.9397 - mae: 1.3570 - val_loss: 5.1190 - val_mae: 1.7651\n",
            "Epoch 193/250\n",
            "178/178 [==============================] - 28s 152ms/step - loss: 3.5677 - mae: 1.3831 - val_loss: 3.9876 - val_mae: 1.5918\n",
            "Epoch 194/250\n",
            "178/178 [==============================] - 27s 150ms/step - loss: 2.8350 - mae: 1.3035 - val_loss: 4.5320 - val_mae: 1.6747\n",
            "Epoch 195/250\n",
            "178/178 [==============================] - 23s 128ms/step - loss: 2.8089 - mae: 1.2917 - val_loss: 6.4461 - val_mae: 1.9810\n",
            "Epoch 196/250\n",
            "178/178 [==============================] - 28s 152ms/step - loss: 2.6878 - mae: 1.2799 - val_loss: 4.1868 - val_mae: 1.5757\n",
            "Epoch 197/250\n",
            "178/178 [==============================] - 28s 152ms/step - loss: 2.6237 - mae: 1.2499 - val_loss: 4.5408 - val_mae: 1.6470\n",
            "Epoch 198/250\n",
            "178/178 [==============================] - 28s 152ms/step - loss: 3.3747 - mae: 1.3996 - val_loss: 6.8581 - val_mae: 2.0782\n",
            "Epoch 199/250\n",
            "178/178 [==============================] - 28s 154ms/step - loss: 3.1263 - mae: 1.3765 - val_loss: 6.6759 - val_mae: 2.0342\n",
            "Epoch 200/250\n",
            "178/178 [==============================] - 28s 154ms/step - loss: 3.2018 - mae: 1.3528 - val_loss: 7.3709 - val_mae: 2.0859\n",
            "Epoch 201/250\n",
            "178/178 [==============================] - 27s 151ms/step - loss: 2.8601 - mae: 1.2926 - val_loss: 5.7315 - val_mae: 1.8261\n",
            "Epoch 202/250\n",
            "178/178 [==============================] - 28s 152ms/step - loss: 2.7531 - mae: 1.2491 - val_loss: 7.0715 - val_mae: 2.0554\n",
            "Epoch 203/250\n",
            "178/178 [==============================] - 28s 152ms/step - loss: 2.6607 - mae: 1.2553 - val_loss: 5.5359 - val_mae: 1.8229\n",
            "Epoch 204/250\n",
            "178/178 [==============================] - 27s 150ms/step - loss: 2.6583 - mae: 1.2625 - val_loss: 6.1199 - val_mae: 1.9207\n",
            "Epoch 205/250\n",
            "178/178 [==============================] - 27s 150ms/step - loss: 2.5738 - mae: 1.2238 - val_loss: 5.5972 - val_mae: 1.8160\n",
            "Epoch 206/250\n",
            "178/178 [==============================] - 27s 150ms/step - loss: 5.0565 - mae: 1.4992 - val_loss: 4.6577 - val_mae: 1.6307\n",
            "Epoch 207/250\n",
            "178/178 [==============================] - 27s 150ms/step - loss: 6.3562 - mae: 1.6102 - val_loss: 4.0303 - val_mae: 1.5265\n",
            "Epoch 208/250\n",
            "178/178 [==============================] - 27s 150ms/step - loss: 6.2250 - mae: 1.5723 - val_loss: 4.6859 - val_mae: 1.6350\n",
            "Epoch 209/250\n",
            "178/178 [==============================] - 23s 126ms/step - loss: 5.8256 - mae: 1.4842 - val_loss: 4.6670 - val_mae: 1.6628\n",
            "Epoch 210/250\n",
            "178/178 [==============================] - 28s 152ms/step - loss: 4.7582 - mae: 1.4412 - val_loss: 4.4783 - val_mae: 1.6274\n",
            "Epoch 211/250\n",
            "178/178 [==============================] - 27s 151ms/step - loss: 5.3255 - mae: 1.4699 - val_loss: 4.2457 - val_mae: 1.6032\n",
            "Epoch 212/250\n",
            "178/178 [==============================] - 27s 151ms/step - loss: 4.3946 - mae: 1.3564 - val_loss: 5.5626 - val_mae: 1.7998\n",
            "Epoch 213/250\n",
            "178/178 [==============================] - 27s 151ms/step - loss: 4.7787 - mae: 1.3937 - val_loss: 4.7624 - val_mae: 1.6774\n",
            "Epoch 214/250\n",
            "178/178 [==============================] - 27s 151ms/step - loss: 5.1767 - mae: 1.4167 - val_loss: 5.5498 - val_mae: 1.7694\n",
            "Epoch 215/250\n",
            "178/178 [==============================] - 27s 150ms/step - loss: 4.8799 - mae: 1.4010 - val_loss: 6.7907 - val_mae: 1.9777\n",
            "Epoch 216/250\n",
            "178/178 [==============================] - 27s 151ms/step - loss: 4.8929 - mae: 1.4081 - val_loss: 5.7730 - val_mae: 1.8237\n",
            "Epoch 217/250\n",
            "178/178 [==============================] - 28s 153ms/step - loss: 4.5522 - mae: 1.3475 - val_loss: 5.7509 - val_mae: 1.8323\n",
            "Epoch 218/250\n",
            "178/178 [==============================] - 28s 152ms/step - loss: 4.0515 - mae: 1.4316 - val_loss: 12.1253 - val_mae: 2.6479\n",
            "Epoch 219/250\n",
            "178/178 [==============================] - 28s 153ms/step - loss: 3.7320 - mae: 1.4469 - val_loss: 8.0359 - val_mae: 2.2639\n",
            "Epoch 220/250\n",
            "178/178 [==============================] - 28s 152ms/step - loss: 3.4979 - mae: 1.3727 - val_loss: 7.2380 - val_mae: 2.0247\n",
            "Epoch 221/250\n",
            "178/178 [==============================] - 28s 154ms/step - loss: 3.7253 - mae: 1.3685 - val_loss: 9.3444 - val_mae: 2.3995\n",
            "Epoch 222/250\n",
            "178/178 [==============================] - 28s 152ms/step - loss: 3.3043 - mae: 1.3317 - val_loss: 10.1327 - val_mae: 2.4698\n",
            "Epoch 223/250\n",
            "178/178 [==============================] - 28s 151ms/step - loss: 3.3472 - mae: 1.3214 - val_loss: 9.1800 - val_mae: 2.3856\n",
            "Epoch 224/250\n",
            "178/178 [==============================] - 28s 152ms/step - loss: 3.4228 - mae: 1.3132 - val_loss: 9.6545 - val_mae: 2.4622\n",
            "Epoch 225/250\n",
            "178/178 [==============================] - 27s 151ms/step - loss: 3.5191 - mae: 1.3115 - val_loss: 10.2774 - val_mae: 2.5998\n",
            "Epoch 226/250\n",
            "178/178 [==============================] - 27s 150ms/step - loss: 2.7382 - mae: 1.2228 - val_loss: 8.3575 - val_mae: 2.2598\n",
            "Epoch 227/250\n",
            "178/178 [==============================] - 28s 152ms/step - loss: 2.7223 - mae: 1.2548 - val_loss: 9.1886 - val_mae: 2.2823\n",
            "Epoch 228/250\n",
            "178/178 [==============================] - 27s 151ms/step - loss: 3.2151 - mae: 1.2734 - val_loss: 13.1414 - val_mae: 2.6101\n",
            "Epoch 229/250\n",
            "178/178 [==============================] - 27s 151ms/step - loss: 3.2695 - mae: 1.2750 - val_loss: 7.7454 - val_mae: 2.1897\n",
            "Epoch 230/250\n",
            "178/178 [==============================] - 27s 150ms/step - loss: 2.7548 - mae: 1.2248 - val_loss: 7.6270 - val_mae: 2.1168\n",
            "Epoch 231/250\n",
            "178/178 [==============================] - 27s 150ms/step - loss: 2.4721 - mae: 1.1968 - val_loss: 6.4999 - val_mae: 1.9864\n",
            "Epoch 232/250\n",
            "178/178 [==============================] - 27s 151ms/step - loss: 2.5104 - mae: 1.1799 - val_loss: 7.0931 - val_mae: 2.0973\n",
            "Epoch 233/250\n",
            "178/178 [==============================] - 27s 151ms/step - loss: 2.5626 - mae: 1.1853 - val_loss: 6.1426 - val_mae: 1.9348\n",
            "Epoch 234/250\n",
            "178/178 [==============================] - 27s 150ms/step - loss: 2.3078 - mae: 1.1608 - val_loss: 11.0711 - val_mae: 2.5299\n",
            "Epoch 235/250\n",
            "178/178 [==============================] - 27s 150ms/step - loss: 2.8286 - mae: 1.2228 - val_loss: 7.9018 - val_mae: 2.0630\n",
            "Epoch 236/250\n",
            "178/178 [==============================] - 27s 151ms/step - loss: 2.5074 - mae: 1.1525 - val_loss: 7.6100 - val_mae: 2.1272\n",
            "Epoch 237/250\n",
            "178/178 [==============================] - 23s 126ms/step - loss: 2.9357 - mae: 1.1932 - val_loss: 7.4477 - val_mae: 2.1377\n",
            "Epoch 238/250\n",
            "178/178 [==============================] - 28s 154ms/step - loss: 3.2595 - mae: 1.2382 - val_loss: 6.3625 - val_mae: 2.0137\n",
            "Epoch 239/250\n",
            "178/178 [==============================] - 28s 157ms/step - loss: 2.7807 - mae: 1.2042 - val_loss: 6.1765 - val_mae: 1.9405\n",
            "Epoch 240/250\n",
            "178/178 [==============================] - 28s 155ms/step - loss: 3.1104 - mae: 1.2137 - val_loss: 7.3088 - val_mae: 2.1344\n",
            "Epoch 241/250\n",
            "178/178 [==============================] - 28s 155ms/step - loss: 2.9825 - mae: 1.2356 - val_loss: 14.3649 - val_mae: 2.7436\n",
            "Epoch 242/250\n",
            "178/178 [==============================] - 28s 154ms/step - loss: 2.7031 - mae: 1.2679 - val_loss: 6.8808 - val_mae: 2.0805\n",
            "Epoch 243/250\n",
            "178/178 [==============================] - 28s 153ms/step - loss: 2.3853 - mae: 1.2029 - val_loss: 7.6923 - val_mae: 2.1936\n",
            "Epoch 244/250\n",
            "178/178 [==============================] - 28s 152ms/step - loss: 2.3648 - mae: 1.2038 - val_loss: 10.0355 - val_mae: 2.4503\n",
            "Epoch 245/250\n",
            "178/178 [==============================] - 28s 152ms/step - loss: 2.1741 - mae: 1.1422 - val_loss: 7.6053 - val_mae: 2.2035\n",
            "Epoch 246/250\n",
            "178/178 [==============================] - 28s 152ms/step - loss: 2.2385 - mae: 1.1673 - val_loss: 9.7028 - val_mae: 2.4298\n",
            "Epoch 247/250\n",
            "178/178 [==============================] - 28s 153ms/step - loss: 2.1065 - mae: 1.1297 - val_loss: 7.6404 - val_mae: 2.1709\n",
            "Epoch 248/250\n",
            "178/178 [==============================] - 23s 126ms/step - loss: 3.1146 - mae: 1.3026 - val_loss: 9.4493 - val_mae: 2.3394\n",
            "Epoch 249/250\n",
            "178/178 [==============================] - 28s 152ms/step - loss: 3.0260 - mae: 1.2745 - val_loss: 7.3239 - val_mae: 2.0083\n",
            "Epoch 250/250\n",
            "178/178 [==============================] - 28s 152ms/step - loss: 3.2528 - mae: 1.3180 - val_loss: 9.1643 - val_mae: 2.3096\n"
          ]
        }
      ]
    },
    {
      "cell_type": "code",
      "source": [
        "loss = history.history['loss']\n",
        "val_loss = history.history['val_loss']\n",
        "mae = history.history['mae']\n",
        "val_mae = history.history['val_mae']\n",
        "\n",
        "\n",
        "epochs_x = range(len(loss))\n",
        "\n",
        "\n",
        "# plt.plot(epochs_x, mae, 'go', label='Training MAE')\n",
        "plt.plot(epochs_x, mae, 'o', color ='darkviolet', label='Training MAE')\n",
        "plt.plot(epochs_x, val_mae, 'k', label='Validation MAE')\n",
        "plt.title('Training and validation MeanAbsoluteError')\n",
        "plt.legend()\n",
        "\n",
        "plt.figure()\n",
        "# plt.plot(epochs_x, loss, 'go', label='Training loss')\n",
        "plt.plot(epochs_x, loss, 'o', color ='darkviolet', label='Training loss')\n",
        "plt.plot(epochs_x, val_loss, 'k', label='Validation loss')\n",
        "plt.title('Training and validation loss')\n",
        "plt.legend()\n",
        "\n",
        "plt.show()"
      ],
      "metadata": {
        "id": "Y3K89-CM-dfg",
        "colab": {
          "base_uri": "https://localhost:8080/",
          "height": 887
        },
        "outputId": "688103a8-cdfe-4190-ac1c-22f82367dd8c"
      },
      "execution_count": null,
      "outputs": [
        {
          "output_type": "display_data",
          "data": {
            "text/plain": [
              "<Figure size 640x480 with 1 Axes>"
            ],
            "image/png": "[encoded data removed]"
          },
          "metadata": {}
        },
        {
          "output_type": "display_data",
          "data": {
            "text/plain": [
              "<Figure size 640x480 with 1 Axes>"
            ],
            "image/png": "[encoded data removed]"
          },
          "metadata": {}
        }
      ]
    },
    {
      "cell_type": "code",
      "source": [
        "epochs_x"
      ],
      "metadata": {
        "id": "N_sP_ZmSY-Jv",
        "colab": {
          "base_uri": "https://localhost:8080/"
        },
        "outputId": "662ef8a2-a377-41ac-f77d-7aae4881706c"
      },
      "execution_count": null,
      "outputs": [
        {
          "output_type": "execute_result",
          "data": {
            "text/plain": [
              "range(0, 250)"
            ]
          },
          "metadata": {},
          "execution_count": 18
        }
      ]
    },
    {
      "cell_type": "markdown",
      "source": [
        "#Download the model\n"
      ],
      "metadata": {
        "id": "R19IJQSYoW7J"
      }
    },
    {
      "cell_type": "code",
      "source": [
        "os.makedirs('/content/drive/My Drive/cut_panoramic/Model', exist_ok=True)\n",
        "model.save('/content/drive/My Drive/All_File_Lt/Model/Regression/5/5.4_(4e-4)AR4_Unfreeze_250_Lt.h5')"
      ],
      "metadata": {
        "id": "Zed4TdFcG2iJ"
      },
      "execution_count": null,
      "outputs": []
    },
    {
      "cell_type": "markdown",
      "source": [],
      "metadata": {
        "id": "n5YxZ-5QjQ0-"
      }
    },
    {
      "cell_type": "code",
      "source": [
        "# from google.colab import files\n",
        "# files.download('/content/drive/My Drive/cut_panoramic/Model/1.1_รอบแรก_Flimpano_Male125_250.h5')"
      ],
      "metadata": {
        "id": "P5eMxm1NV-oY"
      },
      "execution_count": null,
      "outputs": []
    },
    {
      "cell_type": "code",
      "source": [
        "\n"
      ],
      "metadata": {
        "id": "wY_pDlxkRwxS"
      },
      "execution_count": null,
      "outputs": []
    },
    {
      "cell_type": "code",
      "source": [],
      "metadata": {
        "id": "bwanKzbTjUeu"
      },
      "execution_count": null,
      "outputs": []
    }
  ]
}
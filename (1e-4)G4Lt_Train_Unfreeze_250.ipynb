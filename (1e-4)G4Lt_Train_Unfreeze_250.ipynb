{
  "cells": [
    {
      "cell_type": "markdown",
      "metadata": {
        "id": "view-in-github",
        "colab_type": "text"
      },
      "source": [
        "<a href=\"https://colab.research.google.com/github/Wanita-8943/My_Main_Project_Lt-/blob/main/(1e-4)G4Lt_Train_Unfreeze_250.ipynb\" target=\"_parent\"><img src=\"https://colab.research.google.com/assets/colab-badge.svg\" alt=\"Open In Colab\"/></a>"
      ]
    },
    {
      "cell_type": "markdown",
      "metadata": {
        "id": "ow7eWoNw6U-c"
      },
      "source": [
        "#เรียกใช้ CSV"
      ]
    },
    {
      "cell_type": "code",
      "execution_count": null,
      "metadata": {
        "id": "z8o_VVNXzcL8"
      },
      "outputs": [],
      "source": [
        "import pandas as pd\n",
        "import shutil"
      ]
    },
    {
      "cell_type": "code",
      "execution_count": null,
      "metadata": {
        "id": "1_2Fe8u81d5r",
        "colab": {
          "base_uri": "https://localhost:8080/"
        },
        "outputId": "47ba5664-93b0-4100-894c-456ea5fd4711"
      },
      "outputs": [
        {
          "output_type": "stream",
          "name": "stdout",
          "text": [
            "Mounted at /content/drive\n"
          ]
        }
      ],
      "source": [
        "from google.colab import drive\n",
        "drive.mount('/content/drive')"
      ]
    },
    {
      "cell_type": "code",
      "execution_count": null,
      "metadata": {
        "id": "mbLFqTO1ze9O",
        "colab": {
          "base_uri": "https://localhost:8080/",
          "height": 679
        },
        "outputId": "3b6706ce-fb80-449f-94a2-9fd0f380c637"
      },
      "outputs": [
        {
          "output_type": "execute_result",
          "data": {
            "text/plain": [
              "      Fig_Age  Fig_Person Class_Age+Gender Class_Age  Class_0-18  Age(year)  \\\n",
              "0           1           1             Y07F       Y07           0          7   \n",
              "1           2           1             Y07F       Y07           0          7   \n",
              "2           3           2             Y07F       Y07           0          7   \n",
              "3           4           2             Y07F       Y07           0          7   \n",
              "4           5           3             Y07F       Y07           0          7   \n",
              "...       ...         ...              ...       ...         ...        ...   \n",
              "4745      121          77             Y25M       Y25          18         25   \n",
              "4746      122          78             Y25M       Y25          18         25   \n",
              "4747      123          78             Y25M       Y25          18         25   \n",
              "4748      124          79             Y25M       Y25          18         25   \n",
              "4749      125          79             Y25M       Y25          18         25   \n",
              "\n",
              "      Class_0-1       Filename  \\\n",
              "0             0         V1.jpg   \n",
              "1             0    Flip_V1.jpg   \n",
              "2             0         V2.jpg   \n",
              "3             0    Flip_V2.jpg   \n",
              "4             0         V3.jpg   \n",
              "...         ...            ...   \n",
              "4745          1  Flip_J463.jpg   \n",
              "4746          1       J464.jpg   \n",
              "4747          1  Flip_J464.jpg   \n",
              "4748          1       J465.jpg   \n",
              "4749          1  Flip_J465.jpg   \n",
              "\n",
              "                                          Path_filename     Sex Floder  \n",
              "0     /content/drive/My Drive/All_File_Lt/TVT_All_Lt...  Female   Both  \n",
              "1     /content/drive/My Drive/All_File_Lt/TVT_All_Lt...  Female   Both  \n",
              "2     /content/drive/My Drive/All_File_Lt/TVT_All_Lt...  Female   Both  \n",
              "3     /content/drive/My Drive/All_File_Lt/TVT_All_Lt...  Female   Both  \n",
              "4     /content/drive/My Drive/All_File_Lt/TVT_All_Lt...  Female   Both  \n",
              "...                                                 ...     ...    ...  \n",
              "4745  /content/drive/My Drive/All_File_Lt/TVT_All_Lt...    Male   Both  \n",
              "4746  /content/drive/My Drive/All_File_Lt/TVT_All_Lt...    Male   Both  \n",
              "4747  /content/drive/My Drive/All_File_Lt/TVT_All_Lt...    Male   Both  \n",
              "4748  /content/drive/My Drive/All_File_Lt/TVT_All_Lt...    Male   Both  \n",
              "4749  /content/drive/My Drive/All_File_Lt/TVT_All_Lt...    Male   Both  \n",
              "\n",
              "[4750 rows x 11 columns]"
            ],
            "text/html": [
              "\n",
              "  <div id=\"df-ccfd3f53-6c9c-44d1-859d-6cb473142474\">\n",
              "    <div class=\"colab-df-container\">\n",
              "      <div>\n",
              "<style scoped>\n",
              "    .dataframe tbody tr th:only-of-type {\n",
              "        vertical-align: middle;\n",
              "    }\n",
              "\n",
              "    .dataframe tbody tr th {\n",
              "        vertical-align: top;\n",
              "    }\n",
              "\n",
              "    .dataframe thead th {\n",
              "        text-align: right;\n",
              "    }\n",
              "</style>\n",
              "<table border=\"1\" class=\"dataframe\">\n",
              "  <thead>\n",
              "    <tr style=\"text-align: right;\">\n",
              "      <th></th>\n",
              "      <th>Fig_Age</th>\n",
              "      <th>Fig_Person</th>\n",
              "      <th>Class_Age+Gender</th>\n",
              "      <th>Class_Age</th>\n",
              "      <th>Class_0-18</th>\n",
              "      <th>Age(year)</th>\n",
              "      <th>Class_0-1</th>\n",
              "      <th>Filename</th>\n",
              "      <th>Path_filename</th>\n",
              "      <th>Sex</th>\n",
              "      <th>Floder</th>\n",
              "    </tr>\n",
              "  </thead>\n",
              "  <tbody>\n",
              "    <tr>\n",
              "      <th>0</th>\n",
              "      <td>1</td>\n",
              "      <td>1</td>\n",
              "      <td>Y07F</td>\n",
              "      <td>Y07</td>\n",
              "      <td>0</td>\n",
              "      <td>7</td>\n",
              "      <td>0</td>\n",
              "      <td>V1.jpg</td>\n",
              "      <td>/content/drive/My Drive/All_File_Lt/TVT_All_Lt...</td>\n",
              "      <td>Female</td>\n",
              "      <td>Both</td>\n",
              "    </tr>\n",
              "    <tr>\n",
              "      <th>1</th>\n",
              "      <td>2</td>\n",
              "      <td>1</td>\n",
              "      <td>Y07F</td>\n",
              "      <td>Y07</td>\n",
              "      <td>0</td>\n",
              "      <td>7</td>\n",
              "      <td>0</td>\n",
              "      <td>Flip_V1.jpg</td>\n",
              "      <td>/content/drive/My Drive/All_File_Lt/TVT_All_Lt...</td>\n",
              "      <td>Female</td>\n",
              "      <td>Both</td>\n",
              "    </tr>\n",
              "    <tr>\n",
              "      <th>2</th>\n",
              "      <td>3</td>\n",
              "      <td>2</td>\n",
              "      <td>Y07F</td>\n",
              "      <td>Y07</td>\n",
              "      <td>0</td>\n",
              "      <td>7</td>\n",
              "      <td>0</td>\n",
              "      <td>V2.jpg</td>\n",
              "      <td>/content/drive/My Drive/All_File_Lt/TVT_All_Lt...</td>\n",
              "      <td>Female</td>\n",
              "      <td>Both</td>\n",
              "    </tr>\n",
              "    <tr>\n",
              "      <th>3</th>\n",
              "      <td>4</td>\n",
              "      <td>2</td>\n",
              "      <td>Y07F</td>\n",
              "      <td>Y07</td>\n",
              "      <td>0</td>\n",
              "      <td>7</td>\n",
              "      <td>0</td>\n",
              "      <td>Flip_V2.jpg</td>\n",
              "      <td>/content/drive/My Drive/All_File_Lt/TVT_All_Lt...</td>\n",
              "      <td>Female</td>\n",
              "      <td>Both</td>\n",
              "    </tr>\n",
              "    <tr>\n",
              "      <th>4</th>\n",
              "      <td>5</td>\n",
              "      <td>3</td>\n",
              "      <td>Y07F</td>\n",
              "      <td>Y07</td>\n",
              "      <td>0</td>\n",
              "      <td>7</td>\n",
              "      <td>0</td>\n",
              "      <td>V3.jpg</td>\n",
              "      <td>/content/drive/My Drive/All_File_Lt/TVT_All_Lt...</td>\n",
              "      <td>Female</td>\n",
              "      <td>Both</td>\n",
              "    </tr>\n",
              "    <tr>\n",
              "      <th>...</th>\n",
              "      <td>...</td>\n",
              "      <td>...</td>\n",
              "      <td>...</td>\n",
              "      <td>...</td>\n",
              "      <td>...</td>\n",
              "      <td>...</td>\n",
              "      <td>...</td>\n",
              "      <td>...</td>\n",
              "      <td>...</td>\n",
              "      <td>...</td>\n",
              "      <td>...</td>\n",
              "    </tr>\n",
              "    <tr>\n",
              "      <th>4745</th>\n",
              "      <td>121</td>\n",
              "      <td>77</td>\n",
              "      <td>Y25M</td>\n",
              "      <td>Y25</td>\n",
              "      <td>18</td>\n",
              "      <td>25</td>\n",
              "      <td>1</td>\n",
              "      <td>Flip_J463.jpg</td>\n",
              "      <td>/content/drive/My Drive/All_File_Lt/TVT_All_Lt...</td>\n",
              "      <td>Male</td>\n",
              "      <td>Both</td>\n",
              "    </tr>\n",
              "    <tr>\n",
              "      <th>4746</th>\n",
              "      <td>122</td>\n",
              "      <td>78</td>\n",
              "      <td>Y25M</td>\n",
              "      <td>Y25</td>\n",
              "      <td>18</td>\n",
              "      <td>25</td>\n",
              "      <td>1</td>\n",
              "      <td>J464.jpg</td>\n",
              "      <td>/content/drive/My Drive/All_File_Lt/TVT_All_Lt...</td>\n",
              "      <td>Male</td>\n",
              "      <td>Both</td>\n",
              "    </tr>\n",
              "    <tr>\n",
              "      <th>4747</th>\n",
              "      <td>123</td>\n",
              "      <td>78</td>\n",
              "      <td>Y25M</td>\n",
              "      <td>Y25</td>\n",
              "      <td>18</td>\n",
              "      <td>25</td>\n",
              "      <td>1</td>\n",
              "      <td>Flip_J464.jpg</td>\n",
              "      <td>/content/drive/My Drive/All_File_Lt/TVT_All_Lt...</td>\n",
              "      <td>Male</td>\n",
              "      <td>Both</td>\n",
              "    </tr>\n",
              "    <tr>\n",
              "      <th>4748</th>\n",
              "      <td>124</td>\n",
              "      <td>79</td>\n",
              "      <td>Y25M</td>\n",
              "      <td>Y25</td>\n",
              "      <td>18</td>\n",
              "      <td>25</td>\n",
              "      <td>1</td>\n",
              "      <td>J465.jpg</td>\n",
              "      <td>/content/drive/My Drive/All_File_Lt/TVT_All_Lt...</td>\n",
              "      <td>Male</td>\n",
              "      <td>Both</td>\n",
              "    </tr>\n",
              "    <tr>\n",
              "      <th>4749</th>\n",
              "      <td>125</td>\n",
              "      <td>79</td>\n",
              "      <td>Y25M</td>\n",
              "      <td>Y25</td>\n",
              "      <td>18</td>\n",
              "      <td>25</td>\n",
              "      <td>1</td>\n",
              "      <td>Flip_J465.jpg</td>\n",
              "      <td>/content/drive/My Drive/All_File_Lt/TVT_All_Lt...</td>\n",
              "      <td>Male</td>\n",
              "      <td>Both</td>\n",
              "    </tr>\n",
              "  </tbody>\n",
              "</table>\n",
              "<p>4750 rows × 11 columns</p>\n",
              "</div>\n",
              "      <button class=\"colab-df-convert\" onclick=\"convertToInteractive('df-ccfd3f53-6c9c-44d1-859d-6cb473142474')\"\n",
              "              title=\"Convert this dataframe to an interactive table.\"\n",
              "              style=\"display:none;\">\n",
              "        \n",
              "  <svg xmlns=\"http://www.w3.org/2000/svg\" height=\"24px\"viewBox=\"0 0 24 24\"\n",
              "       width=\"24px\">\n",
              "    <path d=\"M0 0h24v24H0V0z\" fill=\"none\"/>\n",
              "    <path d=\"M18.56 5.44l.94 2.06.94-2.06 2.06-.94-2.06-.94-.94-2.06-.94 2.06-2.06.94zm-11 1L8.5 8.5l.94-2.06 2.06-.94-2.06-.94L8.5 2.5l-.94 2.06-2.06.94zm10 10l.94 2.06.94-2.06 2.06-.94-2.06-.94-.94-2.06-.94 2.06-2.06.94z\"/><path d=\"M17.41 7.96l-1.37-1.37c-.4-.4-.92-.59-1.43-.59-.52 0-1.04.2-1.43.59L10.3 9.45l-7.72 7.72c-.78.78-.78 2.05 0 2.83L4 21.41c.39.39.9.59 1.41.59.51 0 1.02-.2 1.41-.59l7.78-7.78 2.81-2.81c.8-.78.8-2.07 0-2.86zM5.41 20L4 18.59l7.72-7.72 1.47 1.35L5.41 20z\"/>\n",
              "  </svg>\n",
              "      </button>\n",
              "      \n",
              "  <style>\n",
              "    .colab-df-container {\n",
              "      display:flex;\n",
              "      flex-wrap:wrap;\n",
              "      gap: 12px;\n",
              "    }\n",
              "\n",
              "    .colab-df-convert {\n",
              "      background-color: #E8F0FE;\n",
              "      border: none;\n",
              "      border-radius: 50%;\n",
              "      cursor: pointer;\n",
              "      display: none;\n",
              "      fill: #1967D2;\n",
              "      height: 32px;\n",
              "      padding: 0 0 0 0;\n",
              "      width: 32px;\n",
              "    }\n",
              "\n",
              "    .colab-df-convert:hover {\n",
              "      background-color: #E2EBFA;\n",
              "      box-shadow: 0px 1px 2px rgba(60, 64, 67, 0.3), 0px 1px 3px 1px rgba(60, 64, 67, 0.15);\n",
              "      fill: #174EA6;\n",
              "    }\n",
              "\n",
              "    [theme=dark] .colab-df-convert {\n",
              "      background-color: #3B4455;\n",
              "      fill: #D2E3FC;\n",
              "    }\n",
              "\n",
              "    [theme=dark] .colab-df-convert:hover {\n",
              "      background-color: #434B5C;\n",
              "      box-shadow: 0px 1px 3px 1px rgba(0, 0, 0, 0.15);\n",
              "      filter: drop-shadow(0px 1px 2px rgba(0, 0, 0, 0.3));\n",
              "      fill: #FFFFFF;\n",
              "    }\n",
              "  </style>\n",
              "\n",
              "      <script>\n",
              "        const buttonEl =\n",
              "          document.querySelector('#df-ccfd3f53-6c9c-44d1-859d-6cb473142474 button.colab-df-convert');\n",
              "        buttonEl.style.display =\n",
              "          google.colab.kernel.accessAllowed ? 'block' : 'none';\n",
              "\n",
              "        async function convertToInteractive(key) {\n",
              "          const element = document.querySelector('#df-ccfd3f53-6c9c-44d1-859d-6cb473142474');\n",
              "          const dataTable =\n",
              "            await google.colab.kernel.invokeFunction('convertToInteractive',\n",
              "                                                     [key], {});\n",
              "          if (!dataTable) return;\n",
              "\n",
              "          const docLinkHtml = 'Like what you see? Visit the ' +\n",
              "            '<a target=\"_blank\" href=https://colab.research.google.com/notebooks/data_table.ipynb>data table notebook</a>'\n",
              "            + ' to learn more about interactive tables.';\n",
              "          element.innerHTML = '';\n",
              "          dataTable['output_type'] = 'display_data';\n",
              "          await google.colab.output.renderOutput(dataTable, element);\n",
              "          const docLink = document.createElement('div');\n",
              "          docLink.innerHTML = docLinkHtml;\n",
              "          element.appendChild(docLink);\n",
              "        }\n",
              "      </script>\n",
              "    </div>\n",
              "  </div>\n",
              "  "
            ]
          },
          "metadata": {},
          "execution_count": 3
        }
      ],
      "source": [
        "df = pd.read_csv (r'/content/drive/MyDrive/All_File_Lt/Data/All_Data_Lt.csv')\n",
        "df"
      ]
    },
    {
      "cell_type": "markdown",
      "metadata": {
        "id": "5qxePnnn7TGW"
      },
      "source": [
        "#Imports"
      ]
    },
    {
      "cell_type": "code",
      "execution_count": null,
      "metadata": {
        "id": "D-hCRloc3t39"
      },
      "outputs": [],
      "source": [
        "from tensorflow.keras import models\n",
        "from tensorflow.keras import layers\n",
        "from tensorflow.keras import optimizers\n",
        "import os\n",
        "import glob\n",
        "import shutil\n",
        "import sys\n",
        "import numpy as np\n",
        "from skimage.io import imread\n",
        "import matplotlib.pyplot as plt\n",
        "from IPython.display import Image\n",
        "%matplotlib inline"
      ]
    },
    {
      "cell_type": "markdown",
      "metadata": {
        "id": "RooqSdBc7QHC"
      },
      "source": [
        "#กำหนดค่าพารามิเตอร์\n"
      ]
    },
    {
      "cell_type": "code",
      "execution_count": null,
      "metadata": {
        "id": "thDb7U9B3xOo"
      },
      "outputs": [],
      "source": [
        "batch_size = 16\n",
        "width = 150\n",
        "height = 150\n",
        "epochs = 250\n",
        "NUM_TRAIN = 2850\n",
        "NUM_TEST = 950\n",
        "dropout_rate = 0.2\n",
        "input_shape = (height, width, 3)"
      ]
    },
    {
      "cell_type": "markdown",
      "metadata": {
        "id": "pumGmy6f3eSW"
      },
      "source": [
        "#Clone efficientnet repo\n"
      ]
    },
    {
      "cell_type": "code",
      "execution_count": null,
      "metadata": {
        "colab": {
          "base_uri": "https://localhost:8080/"
        },
        "id": "P7iy2f8n16p0",
        "outputId": "7f2fba1a-c33d-42c1-8403-52c7a29c7aac"
      },
      "outputs": [
        {
          "output_type": "stream",
          "name": "stdout",
          "text": [
            "/content\n",
            "Cloning into 'efficientnet_keras_transfer_learning'...\n",
            "remote: Enumerating objects: 1085, done.\u001b[K\n",
            "remote: Counting objects: 100% (248/248), done.\u001b[K\n",
            "remote: Compressing objects: 100% (127/127), done.\u001b[K\n",
            "remote: Total 1085 (delta 124), reused 241 (delta 121), pack-reused 837\u001b[K\n",
            "Receiving objects: 100% (1085/1085), 14.09 MiB | 15.06 MiB/s, done.\n",
            "Resolving deltas: 100% (621/621), done.\n",
            "/content/efficientnet_keras_transfer_learning\n"
          ]
        }
      ],
      "source": [
        "#ดึงข้อมูลใน Github มาใช้\n",
        "import os\n",
        "%cd /content\n",
        "if not os.path.isdir(\"efficientnet_keras_transfer_learning\"):\n",
        " !git clone https://github.com/Wanita-8943/efficientnet_keras_transfer_learning\n",
        "%cd efficientnet_keras_transfer_learning/\n"
      ]
    },
    {
      "cell_type": "code",
      "execution_count": null,
      "metadata": {
        "id": "Gqg_EUxrKkcK"
      },
      "outputs": [],
      "source": [
        "# Options: EfficientNetB0, EfficientNetB1, EfficientNetB2, EfficientNetB3\n",
        "# Higher the number, the more complex the model is.\n",
        "from efficientnet import EfficientNetB0 as Net\n",
        "from efficientnet import center_crop_and_resize, preprocess_input"
      ]
    },
    {
      "cell_type": "code",
      "source": [
        "# loading pretrained conv base model\n",
        "# โหลดโมเดล มาโดยตัด output ของโมเดลออก เเต่ยังใช้ input อันเดิม\n",
        "# เเละโหลด weight ของโมเดล มาด้วยที่ชื่อว่า imagenet\n",
        "conv_base = Net(weights='imagenet', include_top=False, input_shape=input_shape)"
      ],
      "metadata": {
        "colab": {
          "base_uri": "https://localhost:8080/"
        },
        "id": "BwkGLiFTdpPN",
        "outputId": "10ea50f2-7956-412d-8432-1ed830d4c5e3"
      },
      "execution_count": null,
      "outputs": [
        {
          "output_type": "stream",
          "name": "stderr",
          "text": [
            "WARNING:tensorflow:From /usr/local/lib/python3.9/dist-packages/tensorflow/python/autograph/pyct/static_analysis/liveness.py:83: Analyzer.lamba_check (from tensorflow.python.autograph.pyct.static_analysis.liveness) is deprecated and will be removed after 2023-09-23.\n",
            "Instructions for updating:\n",
            "Lambda fuctions will be no more assumed to be used in the statement where they are used, or at least in the same block. https://github.com/tensorflow/tensorflow/issues/56089\n"
          ]
        },
        {
          "output_type": "stream",
          "name": "stdout",
          "text": [
            "Downloading data from https://github.com/qubvel/efficientnet/releases/download/v0.0.1/efficientnet-b0_imagenet_1000_notop.h5\n",
            "16717576/16717576 [==============================] - 0s 0us/step\n"
          ]
        }
      ]
    },
    {
      "cell_type": "markdown",
      "source": [
        "#load model"
      ],
      "metadata": {
        "id": "aVGW3AAZnKCo"
      }
    },
    {
      "cell_type": "code",
      "source": [
        "\n",
        "import sys\n",
        "sys.path.append('/content/drive/MyDrive/All_File_Lt/Model/Classification/Gender/2/(1e-4)G3_Freeze_250.h5')\n",
        "\n",
        "from efficientnet.layers import Swish, DropConnect\n",
        "from efficientnet.model import ConvKernalInitializer\n",
        "from tensorflow.keras.utils import get_custom_objects\n",
        "\n",
        "get_custom_objects().update({\n",
        "    'ConvKernalInitializer': ConvKernalInitializer,\n",
        "    'Swish': Swish,\n",
        "    'DropConnect':DropConnect\n",
        "})\n",
        "     "
      ],
      "metadata": {
        "id": "OF0-ndSxnMM7"
      },
      "execution_count": null,
      "outputs": []
    },
    {
      "cell_type": "code",
      "source": [
        "#load model \n",
        "from tensorflow.keras.models import load_model\n",
        "model = load_model('/content/drive/MyDrive/All_File_Lt/Model/Classification/Gender/2/(1e-4)G3_Freeze_250.h5')\n",
        "height = width = model.input_shape[1]"
      ],
      "metadata": {
        "id": "9thCjFFMnOgs"
      },
      "execution_count": null,
      "outputs": []
    },
    {
      "cell_type": "code",
      "execution_count": null,
      "metadata": {
        "colab": {
          "base_uri": "https://localhost:8080/"
        },
        "id": "NadBB12251jh",
        "outputId": "6fc975d4-28c8-41e3-cc63-446a4a2ade9d"
      },
      "outputs": [
        {
          "output_type": "stream",
          "name": "stdout",
          "text": [
            "Model: \"sequential\"\n",
            "_________________________________________________________________\n",
            " Layer (type)                Output Shape              Param #   \n",
            "=================================================================\n",
            " efficientnet-b0 (Functional  (None, 5, 5, 1280)       4049564   \n",
            " )                                                               \n",
            "                                                                 \n",
            " gap (GlobalMaxPooling2D)    (None, 1280)              0         \n",
            "                                                                 \n",
            " dropout_out (Dropout)       (None, 1280)              0         \n",
            "                                                                 \n",
            " fc_out (Dense)              (None, 2)                 2562      \n",
            "                                                                 \n",
            "=================================================================\n",
            "Total params: 4,052,126\n",
            "Trainable params: 2,562\n",
            "Non-trainable params: 4,049,564\n",
            "_________________________________________________________________\n"
          ]
        }
      ],
      "source": [
        "model.summary()"
      ]
    },
    {
      "cell_type": "code",
      "source": [
        "# multiply_16\n",
        "# set 'multiply_16' and following layers trainable\n",
        "model.trainable = True\n",
        "\n",
        "set_trainable = False\n",
        "for layer in conv_base.layers:\n",
        "    if layer.name == 'multiply_16':\n",
        "        set_trainable = True\n",
        "    if set_trainable:\n",
        "        layer.trainable = True\n",
        "    else:\n",
        "        layer.trainable = False  "
      ],
      "metadata": {
        "id": "ueM15jK6dsyw"
      },
      "execution_count": null,
      "outputs": []
    },
    {
      "cell_type": "code",
      "source": [
        "model.summary()"
      ],
      "metadata": {
        "colab": {
          "base_uri": "https://localhost:8080/"
        },
        "id": "NNJ9sSJydvhr",
        "outputId": "b354b8ce-4a09-4251-84a2-2e94bcd054b5"
      },
      "execution_count": null,
      "outputs": [
        {
          "output_type": "stream",
          "name": "stdout",
          "text": [
            "Model: \"sequential\"\n",
            "_________________________________________________________________\n",
            " Layer (type)                Output Shape              Param #   \n",
            "=================================================================\n",
            " efficientnet-b0 (Functional  (None, 5, 5, 1280)       4049564   \n",
            " )                                                               \n",
            "                                                                 \n",
            " gap (GlobalMaxPooling2D)    (None, 1280)              0         \n",
            "                                                                 \n",
            " dropout_out (Dropout)       (None, 1280)              0         \n",
            "                                                                 \n",
            " fc_out (Dense)              (None, 2)                 2562      \n",
            "                                                                 \n",
            "=================================================================\n",
            "Total params: 4,052,126\n",
            "Trainable params: 4,010,110\n",
            "Non-trainable params: 42,016\n",
            "_________________________________________________________________\n"
          ]
        }
      ]
    },
    {
      "cell_type": "markdown",
      "metadata": {
        "id": "J36J9EAE7qSB"
      },
      "source": [
        "#สร้างโฟลเดอร์ Train Valodation และ Test"
      ]
    },
    {
      "cell_type": "code",
      "source": [
        "train = df[df['Fig_Age'].between(1,75)]\n",
        "val = df[df['Fig_Age'].between(76,100)]"
      ],
      "metadata": {
        "id": "-OZWIgEYoh0j"
      },
      "execution_count": null,
      "outputs": []
    },
    {
      "cell_type": "code",
      "execution_count": null,
      "metadata": {
        "id": "nqCFbjRQ3okB",
        "outputId": "85153fea-b85d-4cce-a8c1-35a329d503f4",
        "colab": {
          "base_uri": "https://localhost:8080/"
        }
      },
      "outputs": [
        {
          "output_type": "stream",
          "name": "stdout",
          "text": [
            "/content/drive/My Drive/All_File_Lt/TVT_All_Lt/train\n",
            "/content/drive/My Drive/All_File_Lt/TVT_All_Lt/validation\n"
          ]
        }
      ],
      "source": [
        "\n",
        "DATA_PATH = \"/content/drive/My Drive/All_File_Lt/TVT_All_Lt\"\n",
        "os.chdir(DATA_PATH)\n",
        "train_dir = os.path.join(DATA_PATH, 'train')\n",
        "print(train_dir)\n",
        "validation_dir = os.path.join(DATA_PATH, 'validation')\n",
        "print(validation_dir)"
      ]
    },
    {
      "cell_type": "markdown",
      "metadata": {
        "id": "bWEnlTSwazL5"
      },
      "source": [
        "\n",
        "#Train"
      ]
    },
    {
      "cell_type": "code",
      "execution_count": null,
      "metadata": {
        "colab": {
          "base_uri": "https://localhost:8080/"
        },
        "id": "xGPrsn9no_pa",
        "outputId": "6fad6410-76fa-40de-8e96-9e9f9f4ce03d"
      },
      "outputs": [
        {
          "output_type": "stream",
          "name": "stdout",
          "text": [
            "Found 2850 validated image filenames belonging to 2 classes.\n",
            "Found 950 validated image filenames belonging to 2 classes.\n"
          ]
        }
      ],
      "source": [
        "\n",
        "# Train ด้วย ImageDataGenerator ของ Keras ซึ่งจะเพิ่มข้อมูลเสริมระหว่างการฝึกเพื่อลดโอกาสเกิด overfitting\n",
        "#overfitting เกิดจากข้อมูลที่ซับซ้อนกันเกินไป\n",
        "from tensorflow.keras.preprocessing.image import ImageDataGenerator\n",
        "\n",
        "train_datagen = ImageDataGenerator(\n",
        "      rescale=1./255, #โมเดลส่วนใหญ่ต้องใช้ RGB ในช่วง 0–1\n",
        "      rotation_range=40,\n",
        "      width_shift_range=0.2,\n",
        "      height_shift_range=0.2,\n",
        "      shear_range=0.2,\n",
        "      zoom_range=0.2,\n",
        "      horizontal_flip=True,\n",
        "      fill_mode='nearest')\n",
        "\n",
        "# Note that the validation data should not be augmented!\n",
        "test_datagen = ImageDataGenerator(rescale=1./255)\n",
        "\n",
        "train_generator = train_datagen.flow_from_dataframe(\n",
        "        dataframe = train,\n",
        "        directory = train_dir,\n",
        "        x_col = 'Path_filename',\n",
        "        y_col = 'Sex',\n",
        "        class_mode = 'categorical',\n",
        "        target_size=(height, width),\n",
        "        batch_size=batch_size)\n",
        "\n",
        "validation_generator = test_datagen.flow_from_dataframe(\n",
        "        dataframe = val,\n",
        "        directory = validation_dir,\n",
        "        x_col = 'Path_filename',\n",
        "        y_col = 'Sex',\n",
        "        class_mode = 'categorical',\n",
        "        target_size=(height, width),\n",
        "        batch_size=batch_size)"
      ]
    },
    {
      "cell_type": "code",
      "execution_count": null,
      "metadata": {
        "colab": {
          "base_uri": "https://localhost:8080/"
        },
        "id": "N6qUmmF856ZE",
        "outputId": "6d27c35e-17a9-40a4-8404-b6ea4c59fea9"
      },
      "outputs": [
        {
          "output_type": "stream",
          "name": "stderr",
          "text": [
            "<ipython-input-17-caa7b37242a8>:1: UserWarning: `Model.fit_generator` is deprecated and will be removed in a future version. Please use `Model.fit`, which supports generators.\n",
            "  history = model.fit_generator(\n"
          ]
        },
        {
          "output_type": "stream",
          "name": "stdout",
          "text": [
            "Epoch 1/250\n",
            "178/178 [==============================] - 441s 2s/step - loss: 0.6084 - acc: 0.6793 - val_loss: 0.6197 - val_acc: 0.6790\n",
            "Epoch 2/250\n",
            "178/178 [==============================] - 25s 136ms/step - loss: 0.6015 - acc: 0.6891 - val_loss: 0.6067 - val_acc: 0.6928\n",
            "Epoch 3/250\n",
            "178/178 [==============================] - 25s 137ms/step - loss: 0.6006 - acc: 0.6838 - val_loss: 0.6167 - val_acc: 0.6790\n",
            "Epoch 4/250\n",
            "178/178 [==============================] - 21s 115ms/step - loss: 0.5947 - acc: 0.6877 - val_loss: 0.6034 - val_acc: 0.6843\n",
            "Epoch 5/250\n",
            "178/178 [==============================] - 25s 139ms/step - loss: 0.6152 - acc: 0.6669 - val_loss: 0.6004 - val_acc: 0.6981\n",
            "Epoch 6/250\n",
            "178/178 [==============================] - 26s 141ms/step - loss: 0.6038 - acc: 0.6721 - val_loss: 0.6234 - val_acc: 0.6758\n",
            "Epoch 7/250\n",
            "178/178 [==============================] - 25s 140ms/step - loss: 0.6039 - acc: 0.6704 - val_loss: 0.5898 - val_acc: 0.7055\n",
            "Epoch 8/250\n",
            "178/178 [==============================] - 25s 137ms/step - loss: 0.6155 - acc: 0.6630 - val_loss: 0.6279 - val_acc: 0.6748\n",
            "Epoch 9/250\n",
            "178/178 [==============================] - 25s 139ms/step - loss: 0.6198 - acc: 0.6754 - val_loss: 0.5926 - val_acc: 0.6970\n",
            "Epoch 10/250\n",
            "178/178 [==============================] - 25s 139ms/step - loss: 0.6081 - acc: 0.6782 - val_loss: 0.6011 - val_acc: 0.6970\n",
            "Epoch 11/250\n",
            "178/178 [==============================] - 25s 138ms/step - loss: 0.5884 - acc: 0.6976 - val_loss: 0.6008 - val_acc: 0.6811\n",
            "Epoch 12/250\n",
            "178/178 [==============================] - 26s 142ms/step - loss: 0.6227 - acc: 0.6581 - val_loss: 0.6079 - val_acc: 0.6928\n",
            "Epoch 13/250\n",
            "178/178 [==============================] - 26s 143ms/step - loss: 0.5996 - acc: 0.6775 - val_loss: 0.6281 - val_acc: 0.6631\n",
            "Epoch 14/250\n",
            "178/178 [==============================] - 26s 144ms/step - loss: 0.6046 - acc: 0.6736 - val_loss: 0.5931 - val_acc: 0.7055\n",
            "Epoch 15/250\n",
            "178/178 [==============================] - 25s 139ms/step - loss: 0.5942 - acc: 0.6877 - val_loss: 0.6165 - val_acc: 0.6843\n",
            "Epoch 16/250\n",
            "178/178 [==============================] - 25s 140ms/step - loss: 0.6044 - acc: 0.6800 - val_loss: 0.6107 - val_acc: 0.6854\n",
            "Epoch 17/250\n",
            "178/178 [==============================] - 25s 139ms/step - loss: 0.6081 - acc: 0.6824 - val_loss: 0.5992 - val_acc: 0.6981\n",
            "Epoch 18/250\n",
            "178/178 [==============================] - 25s 139ms/step - loss: 0.6025 - acc: 0.6796 - val_loss: 0.5994 - val_acc: 0.6981\n",
            "Epoch 19/250\n",
            "178/178 [==============================] - 25s 139ms/step - loss: 0.6030 - acc: 0.6824 - val_loss: 0.6234 - val_acc: 0.6631\n",
            "Epoch 20/250\n",
            "178/178 [==============================] - 26s 143ms/step - loss: 0.6080 - acc: 0.6771 - val_loss: 0.6106 - val_acc: 0.6801\n",
            "Epoch 21/250\n",
            "178/178 [==============================] - 26s 146ms/step - loss: 0.6127 - acc: 0.6704 - val_loss: 0.6107 - val_acc: 0.6811\n",
            "Epoch 22/250\n",
            "178/178 [==============================] - 27s 147ms/step - loss: 0.6019 - acc: 0.6708 - val_loss: 0.6027 - val_acc: 0.6970\n",
            "Epoch 23/250\n",
            "178/178 [==============================] - 26s 146ms/step - loss: 0.5757 - acc: 0.7001 - val_loss: 0.6023 - val_acc: 0.6875\n",
            "Epoch 24/250\n",
            "178/178 [==============================] - 26s 141ms/step - loss: 0.5992 - acc: 0.6817 - val_loss: 0.6658 - val_acc: 0.6282\n",
            "Epoch 25/250\n",
            "178/178 [==============================] - 25s 141ms/step - loss: 0.6041 - acc: 0.6909 - val_loss: 0.6308 - val_acc: 0.6568\n",
            "Epoch 26/250\n",
            "178/178 [==============================] - 25s 139ms/step - loss: 0.6121 - acc: 0.6567 - val_loss: 0.6737 - val_acc: 0.6133\n",
            "Epoch 27/250\n",
            "178/178 [==============================] - 25s 140ms/step - loss: 0.6155 - acc: 0.6669 - val_loss: 0.6744 - val_acc: 0.6049\n",
            "Epoch 28/250\n",
            "178/178 [==============================] - 25s 140ms/step - loss: 0.6028 - acc: 0.6771 - val_loss: 0.6044 - val_acc: 0.6928\n",
            "Epoch 29/250\n",
            "178/178 [==============================] - 25s 139ms/step - loss: 0.6171 - acc: 0.6722 - val_loss: 0.5927 - val_acc: 0.7023\n",
            "Epoch 30/250\n",
            "178/178 [==============================] - 25s 138ms/step - loss: 0.6211 - acc: 0.6750 - val_loss: 0.6519 - val_acc: 0.6388\n",
            "Epoch 31/250\n",
            "178/178 [==============================] - 25s 140ms/step - loss: 0.6047 - acc: 0.6704 - val_loss: 0.5964 - val_acc: 0.6928\n",
            "Epoch 32/250\n",
            "178/178 [==============================] - 25s 140ms/step - loss: 0.5921 - acc: 0.6842 - val_loss: 0.6384 - val_acc: 0.6568\n",
            "Epoch 33/250\n",
            "178/178 [==============================] - 26s 142ms/step - loss: 0.6161 - acc: 0.6764 - val_loss: 0.5950 - val_acc: 0.7055\n",
            "Epoch 34/250\n",
            "178/178 [==============================] - 25s 139ms/step - loss: 0.6036 - acc: 0.6800 - val_loss: 0.5875 - val_acc: 0.7129\n",
            "Epoch 35/250\n",
            "178/178 [==============================] - 25s 136ms/step - loss: 0.6153 - acc: 0.6694 - val_loss: 0.6029 - val_acc: 0.6896\n",
            "Epoch 36/250\n",
            "178/178 [==============================] - 25s 136ms/step - loss: 0.6003 - acc: 0.6824 - val_loss: 0.5900 - val_acc: 0.7013\n",
            "Epoch 37/250\n",
            "178/178 [==============================] - 25s 136ms/step - loss: 0.5990 - acc: 0.6768 - val_loss: 0.6252 - val_acc: 0.6631\n",
            "Epoch 38/250\n",
            "178/178 [==============================] - 25s 137ms/step - loss: 0.6107 - acc: 0.6711 - val_loss: 0.5962 - val_acc: 0.6886\n",
            "Epoch 39/250\n",
            "178/178 [==============================] - 25s 140ms/step - loss: 0.5959 - acc: 0.6849 - val_loss: 0.5980 - val_acc: 0.6939\n",
            "Epoch 40/250\n",
            "178/178 [==============================] - 25s 137ms/step - loss: 0.6148 - acc: 0.6757 - val_loss: 0.5981 - val_acc: 0.6886\n",
            "Epoch 41/250\n",
            "178/178 [==============================] - 24s 135ms/step - loss: 0.6053 - acc: 0.6874 - val_loss: 0.6351 - val_acc: 0.6472\n",
            "Epoch 42/250\n",
            "178/178 [==============================] - 25s 138ms/step - loss: 0.6158 - acc: 0.6722 - val_loss: 0.6525 - val_acc: 0.6345\n",
            "Epoch 43/250\n",
            "178/178 [==============================] - 25s 138ms/step - loss: 0.5851 - acc: 0.6923 - val_loss: 0.6098 - val_acc: 0.6843\n",
            "Epoch 44/250\n",
            "178/178 [==============================] - 25s 138ms/step - loss: 0.6057 - acc: 0.6729 - val_loss: 0.6062 - val_acc: 0.6992\n",
            "Epoch 45/250\n",
            "178/178 [==============================] - 26s 140ms/step - loss: 0.6209 - acc: 0.6687 - val_loss: 0.6060 - val_acc: 0.6833\n",
            "Epoch 46/250\n",
            "178/178 [==============================] - 26s 141ms/step - loss: 0.6032 - acc: 0.6796 - val_loss: 0.5984 - val_acc: 0.7044\n",
            "Epoch 47/250\n",
            "178/178 [==============================] - 20s 110ms/step - loss: 0.6081 - acc: 0.6718 - val_loss: 0.5992 - val_acc: 0.6970\n",
            "Epoch 48/250\n",
            "178/178 [==============================] - 25s 136ms/step - loss: 0.5996 - acc: 0.6828 - val_loss: 0.6209 - val_acc: 0.6748\n",
            "Epoch 49/250\n",
            "178/178 [==============================] - 25s 140ms/step - loss: 0.6260 - acc: 0.6570 - val_loss: 0.5953 - val_acc: 0.6970\n",
            "Epoch 50/250\n",
            "178/178 [==============================] - 25s 140ms/step - loss: 0.5961 - acc: 0.6920 - val_loss: 0.6398 - val_acc: 0.6557\n",
            "Epoch 51/250\n",
            "178/178 [==============================] - 25s 135ms/step - loss: 0.6048 - acc: 0.6743 - val_loss: 0.5998 - val_acc: 0.6896\n",
            "Epoch 52/250\n",
            "178/178 [==============================] - 25s 136ms/step - loss: 0.6072 - acc: 0.6778 - val_loss: 0.6590 - val_acc: 0.6229\n",
            "Epoch 53/250\n",
            "178/178 [==============================] - 25s 136ms/step - loss: 0.6136 - acc: 0.6775 - val_loss: 0.6375 - val_acc: 0.6536\n",
            "Epoch 54/250\n",
            "178/178 [==============================] - 24s 135ms/step - loss: 0.6130 - acc: 0.6676 - val_loss: 0.6122 - val_acc: 0.6610\n",
            "Epoch 55/250\n",
            "178/178 [==============================] - 25s 138ms/step - loss: 0.6221 - acc: 0.6715 - val_loss: 0.6236 - val_acc: 0.6695\n",
            "Epoch 56/250\n",
            "178/178 [==============================] - 25s 138ms/step - loss: 0.6049 - acc: 0.6736 - val_loss: 0.5992 - val_acc: 0.6970\n",
            "Epoch 57/250\n",
            "178/178 [==============================] - 25s 139ms/step - loss: 0.5911 - acc: 0.6905 - val_loss: 0.5954 - val_acc: 0.6949\n",
            "Epoch 58/250\n",
            "178/178 [==============================] - 26s 142ms/step - loss: 0.6046 - acc: 0.6867 - val_loss: 0.6282 - val_acc: 0.6568\n",
            "Epoch 59/250\n",
            "178/178 [==============================] - 26s 144ms/step - loss: 0.6110 - acc: 0.6793 - val_loss: 0.6011 - val_acc: 0.6758\n",
            "Epoch 60/250\n",
            "178/178 [==============================] - 21s 115ms/step - loss: 0.6021 - acc: 0.6934 - val_loss: 0.5944 - val_acc: 0.6949\n",
            "Epoch 61/250\n",
            "178/178 [==============================] - 26s 143ms/step - loss: 0.6140 - acc: 0.6701 - val_loss: 0.5953 - val_acc: 0.7013\n",
            "Epoch 62/250\n",
            "178/178 [==============================] - 25s 138ms/step - loss: 0.6095 - acc: 0.6800 - val_loss: 0.6077 - val_acc: 0.6875\n",
            "Epoch 63/250\n",
            "178/178 [==============================] - 25s 136ms/step - loss: 0.6092 - acc: 0.6740 - val_loss: 0.6030 - val_acc: 0.6928\n",
            "Epoch 64/250\n",
            "178/178 [==============================] - 25s 136ms/step - loss: 0.5981 - acc: 0.6888 - val_loss: 0.6504 - val_acc: 0.6314\n",
            "Epoch 65/250\n",
            "178/178 [==============================] - 25s 135ms/step - loss: 0.6082 - acc: 0.6683 - val_loss: 0.5892 - val_acc: 0.7023\n",
            "Epoch 66/250\n",
            "178/178 [==============================] - 25s 140ms/step - loss: 0.6177 - acc: 0.6665 - val_loss: 0.6003 - val_acc: 0.6864\n",
            "Epoch 67/250\n",
            "178/178 [==============================] - 25s 141ms/step - loss: 0.5991 - acc: 0.6845 - val_loss: 0.5941 - val_acc: 0.6970\n",
            "Epoch 68/250\n",
            "178/178 [==============================] - 24s 133ms/step - loss: 0.6076 - acc: 0.6835 - val_loss: 0.6223 - val_acc: 0.6578\n",
            "Epoch 69/250\n",
            "178/178 [==============================] - 24s 133ms/step - loss: 0.6118 - acc: 0.6658 - val_loss: 0.6259 - val_acc: 0.6536\n",
            "Epoch 70/250\n",
            "178/178 [==============================] - 24s 135ms/step - loss: 0.5920 - acc: 0.6835 - val_loss: 0.6054 - val_acc: 0.6801\n",
            "Epoch 71/250\n",
            "178/178 [==============================] - 25s 135ms/step - loss: 0.6167 - acc: 0.6761 - val_loss: 0.5920 - val_acc: 0.7044\n",
            "Epoch 72/250\n",
            "178/178 [==============================] - 25s 138ms/step - loss: 0.6008 - acc: 0.6845 - val_loss: 0.6230 - val_acc: 0.6716\n",
            "Epoch 73/250\n",
            "178/178 [==============================] - 25s 139ms/step - loss: 0.6077 - acc: 0.6641 - val_loss: 0.6024 - val_acc: 0.6886\n",
            "Epoch 74/250\n",
            "178/178 [==============================] - 25s 138ms/step - loss: 0.5991 - acc: 0.6842 - val_loss: 0.6042 - val_acc: 0.6864\n",
            "Epoch 75/250\n",
            "178/178 [==============================] - 25s 139ms/step - loss: 0.5943 - acc: 0.6867 - val_loss: 0.5887 - val_acc: 0.7002\n",
            "Epoch 76/250\n",
            "178/178 [==============================] - 25s 140ms/step - loss: 0.6020 - acc: 0.6814 - val_loss: 0.5913 - val_acc: 0.7023\n",
            "Epoch 77/250\n",
            "178/178 [==============================] - 25s 139ms/step - loss: 0.5989 - acc: 0.6793 - val_loss: 0.6130 - val_acc: 0.6833\n",
            "Epoch 78/250\n",
            "178/178 [==============================] - 21s 115ms/step - loss: 0.6026 - acc: 0.6814 - val_loss: 0.5969 - val_acc: 0.6875\n",
            "Epoch 79/250\n",
            "178/178 [==============================] - 26s 143ms/step - loss: 0.6019 - acc: 0.6694 - val_loss: 0.6094 - val_acc: 0.6864\n",
            "Epoch 80/250\n",
            "178/178 [==============================] - 25s 141ms/step - loss: 0.5996 - acc: 0.6782 - val_loss: 0.6155 - val_acc: 0.6822\n",
            "Epoch 81/250\n",
            "178/178 [==============================] - 25s 140ms/step - loss: 0.6053 - acc: 0.6757 - val_loss: 0.6033 - val_acc: 0.6917\n",
            "Epoch 82/250\n",
            "178/178 [==============================] - 25s 141ms/step - loss: 0.6141 - acc: 0.6722 - val_loss: 0.5988 - val_acc: 0.6843\n",
            "Epoch 83/250\n",
            "178/178 [==============================] - 25s 141ms/step - loss: 0.6191 - acc: 0.6680 - val_loss: 0.6159 - val_acc: 0.6769\n",
            "Epoch 84/250\n",
            "178/178 [==============================] - 26s 142ms/step - loss: 0.6108 - acc: 0.6768 - val_loss: 0.6318 - val_acc: 0.6547\n",
            "Epoch 85/250\n",
            "178/178 [==============================] - 26s 147ms/step - loss: 0.6011 - acc: 0.6750 - val_loss: 0.6135 - val_acc: 0.6716\n",
            "Epoch 86/250\n",
            "178/178 [==============================] - 26s 141ms/step - loss: 0.6077 - acc: 0.6828 - val_loss: 0.5989 - val_acc: 0.6886\n",
            "Epoch 87/250\n",
            "178/178 [==============================] - 26s 143ms/step - loss: 0.6035 - acc: 0.6764 - val_loss: 0.6275 - val_acc: 0.6525\n",
            "Epoch 88/250\n",
            "178/178 [==============================] - 25s 139ms/step - loss: 0.6110 - acc: 0.6814 - val_loss: 0.6190 - val_acc: 0.6642\n",
            "Epoch 89/250\n",
            "178/178 [==============================] - 25s 138ms/step - loss: 0.6069 - acc: 0.6768 - val_loss: 0.6256 - val_acc: 0.6600\n",
            "Epoch 90/250\n",
            "178/178 [==============================] - 25s 136ms/step - loss: 0.5931 - acc: 0.6853 - val_loss: 0.5954 - val_acc: 0.6960\n",
            "Epoch 91/250\n",
            "178/178 [==============================] - 25s 136ms/step - loss: 0.6146 - acc: 0.6701 - val_loss: 0.6090 - val_acc: 0.6801\n",
            "Epoch 92/250\n",
            "178/178 [==============================] - 25s 138ms/step - loss: 0.5965 - acc: 0.6856 - val_loss: 0.6042 - val_acc: 0.6875\n",
            "Epoch 93/250\n",
            "178/178 [==============================] - 26s 141ms/step - loss: 0.5995 - acc: 0.6863 - val_loss: 0.6119 - val_acc: 0.6780\n",
            "Epoch 94/250\n",
            "178/178 [==============================] - 25s 138ms/step - loss: 0.6064 - acc: 0.6778 - val_loss: 0.5944 - val_acc: 0.6981\n",
            "Epoch 95/250\n",
            "178/178 [==============================] - 25s 136ms/step - loss: 0.5923 - acc: 0.6814 - val_loss: 0.5938 - val_acc: 0.7034\n",
            "Epoch 96/250\n",
            "178/178 [==============================] - 24s 135ms/step - loss: 0.5953 - acc: 0.6867 - val_loss: 0.6111 - val_acc: 0.6822\n",
            "Epoch 97/250\n",
            "178/178 [==============================] - 25s 137ms/step - loss: 0.6006 - acc: 0.6821 - val_loss: 0.5936 - val_acc: 0.7034\n",
            "Epoch 98/250\n",
            "178/178 [==============================] - 21s 114ms/step - loss: 0.6025 - acc: 0.6754 - val_loss: 0.6372 - val_acc: 0.6568\n",
            "Epoch 99/250\n",
            "178/178 [==============================] - 25s 137ms/step - loss: 0.6029 - acc: 0.6796 - val_loss: 0.6104 - val_acc: 0.6801\n",
            "Epoch 100/250\n",
            "178/178 [==============================] - 25s 136ms/step - loss: 0.6135 - acc: 0.6683 - val_loss: 0.5892 - val_acc: 0.7108\n",
            "Epoch 101/250\n",
            "178/178 [==============================] - 25s 136ms/step - loss: 0.6040 - acc: 0.6722 - val_loss: 0.5955 - val_acc: 0.7034\n",
            "Epoch 102/250\n",
            "178/178 [==============================] - 25s 139ms/step - loss: 0.6045 - acc: 0.6789 - val_loss: 0.5937 - val_acc: 0.7129\n",
            "Epoch 103/250\n",
            "178/178 [==============================] - 25s 139ms/step - loss: 0.6160 - acc: 0.6796 - val_loss: 0.6047 - val_acc: 0.7023\n",
            "Epoch 104/250\n",
            "178/178 [==============================] - 25s 140ms/step - loss: 0.6094 - acc: 0.6810 - val_loss: 0.6554 - val_acc: 0.6335\n",
            "Epoch 105/250\n",
            "178/178 [==============================] - 26s 141ms/step - loss: 0.6066 - acc: 0.6807 - val_loss: 0.6037 - val_acc: 0.6960\n",
            "Epoch 106/250\n",
            "178/178 [==============================] - 26s 142ms/step - loss: 0.6115 - acc: 0.6757 - val_loss: 0.6078 - val_acc: 0.6992\n",
            "Epoch 107/250\n",
            "178/178 [==============================] - 26s 144ms/step - loss: 0.6075 - acc: 0.6747 - val_loss: 0.6487 - val_acc: 0.6409\n",
            "Epoch 108/250\n",
            "178/178 [==============================] - 26s 146ms/step - loss: 0.5991 - acc: 0.6860 - val_loss: 0.6123 - val_acc: 0.6780\n",
            "Epoch 109/250\n",
            "178/178 [==============================] - 26s 146ms/step - loss: 0.6019 - acc: 0.6817 - val_loss: 0.6015 - val_acc: 0.6960\n",
            "Epoch 110/250\n",
            "178/178 [==============================] - 26s 145ms/step - loss: 0.5991 - acc: 0.6768 - val_loss: 0.6097 - val_acc: 0.6992\n",
            "Epoch 111/250\n",
            "178/178 [==============================] - 26s 144ms/step - loss: 0.5957 - acc: 0.6768 - val_loss: 0.6345 - val_acc: 0.6642\n",
            "Epoch 112/250\n",
            "178/178 [==============================] - 26s 142ms/step - loss: 0.6000 - acc: 0.6874 - val_loss: 0.6695 - val_acc: 0.6186\n",
            "Epoch 113/250\n",
            "178/178 [==============================] - 25s 141ms/step - loss: 0.6065 - acc: 0.6821 - val_loss: 0.5998 - val_acc: 0.7002\n",
            "Epoch 114/250\n",
            "178/178 [==============================] - 26s 141ms/step - loss: 0.6054 - acc: 0.6800 - val_loss: 0.7009 - val_acc: 0.5996\n",
            "Epoch 115/250\n",
            "178/178 [==============================] - 25s 140ms/step - loss: 0.6018 - acc: 0.6824 - val_loss: 0.6195 - val_acc: 0.6875\n",
            "Epoch 116/250\n",
            "178/178 [==============================] - 21s 114ms/step - loss: 0.6111 - acc: 0.6771 - val_loss: 0.6390 - val_acc: 0.6568\n",
            "Epoch 117/250\n",
            "178/178 [==============================] - 25s 138ms/step - loss: 0.6072 - acc: 0.6694 - val_loss: 0.6124 - val_acc: 0.6886\n",
            "Epoch 118/250\n",
            "178/178 [==============================] - 25s 139ms/step - loss: 0.6069 - acc: 0.6845 - val_loss: 0.6223 - val_acc: 0.6706\n",
            "Epoch 119/250\n",
            "178/178 [==============================] - 25s 136ms/step - loss: 0.6185 - acc: 0.6641 - val_loss: 0.7219 - val_acc: 0.5805\n",
            "Epoch 120/250\n",
            "178/178 [==============================] - 25s 139ms/step - loss: 0.6191 - acc: 0.6549 - val_loss: 0.5943 - val_acc: 0.6960\n",
            "Epoch 121/250\n",
            "178/178 [==============================] - 26s 144ms/step - loss: 0.6026 - acc: 0.6715 - val_loss: 0.6026 - val_acc: 0.6928\n",
            "Epoch 122/250\n",
            "178/178 [==============================] - 26s 143ms/step - loss: 0.6201 - acc: 0.6655 - val_loss: 0.5960 - val_acc: 0.6981\n",
            "Epoch 123/250\n",
            "178/178 [==============================] - 25s 140ms/step - loss: 0.5940 - acc: 0.6803 - val_loss: 0.6308 - val_acc: 0.6515\n",
            "Epoch 124/250\n",
            "178/178 [==============================] - 25s 138ms/step - loss: 0.6040 - acc: 0.6764 - val_loss: 0.6054 - val_acc: 0.6981\n",
            "Epoch 125/250\n",
            "178/178 [==============================] - 25s 135ms/step - loss: 0.6134 - acc: 0.6651 - val_loss: 0.6007 - val_acc: 0.6970\n",
            "Epoch 126/250\n",
            "178/178 [==============================] - 25s 136ms/step - loss: 0.6059 - acc: 0.6867 - val_loss: 0.6358 - val_acc: 0.6515\n",
            "Epoch 127/250\n",
            "178/178 [==============================] - 25s 138ms/step - loss: 0.6065 - acc: 0.6856 - val_loss: 0.6189 - val_acc: 0.6706\n",
            "Epoch 128/250\n",
            "178/178 [==============================] - 26s 142ms/step - loss: 0.6050 - acc: 0.6789 - val_loss: 0.6156 - val_acc: 0.6706\n",
            "Epoch 129/250\n",
            "178/178 [==============================] - 25s 140ms/step - loss: 0.5989 - acc: 0.6814 - val_loss: 0.5999 - val_acc: 0.7013\n",
            "Epoch 130/250\n",
            "178/178 [==============================] - 25s 137ms/step - loss: 0.6074 - acc: 0.6821 - val_loss: 0.6031 - val_acc: 0.6981\n",
            "Epoch 131/250\n",
            "178/178 [==============================] - 25s 138ms/step - loss: 0.6091 - acc: 0.6768 - val_loss: 0.5964 - val_acc: 0.7023\n",
            "Epoch 132/250\n",
            "178/178 [==============================] - 25s 138ms/step - loss: 0.6025 - acc: 0.6807 - val_loss: 0.5928 - val_acc: 0.6949\n",
            "Epoch 133/250\n",
            "178/178 [==============================] - 25s 139ms/step - loss: 0.6056 - acc: 0.6658 - val_loss: 0.6006 - val_acc: 0.7002\n",
            "Epoch 134/250\n",
            "178/178 [==============================] - 25s 138ms/step - loss: 0.6060 - acc: 0.6807 - val_loss: 0.6179 - val_acc: 0.6684\n",
            "Epoch 135/250\n",
            "178/178 [==============================] - 21s 117ms/step - loss: 0.6104 - acc: 0.6761 - val_loss: 0.6272 - val_acc: 0.6600\n",
            "Epoch 136/250\n",
            "178/178 [==============================] - 25s 139ms/step - loss: 0.5977 - acc: 0.6895 - val_loss: 0.6206 - val_acc: 0.6737\n",
            "Epoch 137/250\n",
            "178/178 [==============================] - 26s 142ms/step - loss: 0.6013 - acc: 0.6824 - val_loss: 0.6432 - val_acc: 0.6557\n",
            "Epoch 138/250\n",
            "178/178 [==============================] - 25s 139ms/step - loss: 0.5940 - acc: 0.6891 - val_loss: 0.6235 - val_acc: 0.6642\n",
            "Epoch 139/250\n",
            "178/178 [==============================] - 25s 137ms/step - loss: 0.5983 - acc: 0.6920 - val_loss: 0.6130 - val_acc: 0.6790\n",
            "Epoch 140/250\n",
            "178/178 [==============================] - 25s 138ms/step - loss: 0.5935 - acc: 0.6923 - val_loss: 0.6574 - val_acc: 0.6250\n",
            "Epoch 141/250\n",
            "178/178 [==============================] - 25s 140ms/step - loss: 0.6053 - acc: 0.6842 - val_loss: 0.6377 - val_acc: 0.6515\n",
            "Epoch 142/250\n",
            "178/178 [==============================] - 26s 142ms/step - loss: 0.6011 - acc: 0.6817 - val_loss: 0.6404 - val_acc: 0.6494\n",
            "Epoch 143/250\n",
            "178/178 [==============================] - 26s 140ms/step - loss: 0.6150 - acc: 0.6704 - val_loss: 0.6449 - val_acc: 0.6409\n",
            "Epoch 144/250\n",
            "178/178 [==============================] - 26s 144ms/step - loss: 0.6053 - acc: 0.6708 - val_loss: 0.6117 - val_acc: 0.6875\n",
            "Epoch 145/250\n",
            "178/178 [==============================] - 26s 145ms/step - loss: 0.5943 - acc: 0.6870 - val_loss: 0.6100 - val_acc: 0.6970\n",
            "Epoch 146/250\n",
            "178/178 [==============================] - 26s 144ms/step - loss: 0.6024 - acc: 0.6782 - val_loss: 0.5968 - val_acc: 0.7034\n",
            "Epoch 147/250\n",
            "178/178 [==============================] - 25s 140ms/step - loss: 0.6146 - acc: 0.6651 - val_loss: 0.5971 - val_acc: 0.7023\n",
            "Epoch 148/250\n",
            "178/178 [==============================] - 26s 141ms/step - loss: 0.6207 - acc: 0.6602 - val_loss: 0.5997 - val_acc: 0.7013\n",
            "Epoch 149/250\n",
            "178/178 [==============================] - 25s 139ms/step - loss: 0.6034 - acc: 0.6673 - val_loss: 0.6679 - val_acc: 0.6133\n",
            "Epoch 150/250\n",
            "178/178 [==============================] - 25s 140ms/step - loss: 0.6071 - acc: 0.6694 - val_loss: 0.5889 - val_acc: 0.6992\n",
            "Epoch 151/250\n",
            "178/178 [==============================] - 26s 142ms/step - loss: 0.6040 - acc: 0.6775 - val_loss: 0.5975 - val_acc: 0.7013\n",
            "Epoch 152/250\n",
            "178/178 [==============================] - 26s 141ms/step - loss: 0.6021 - acc: 0.6708 - val_loss: 0.5880 - val_acc: 0.7023\n",
            "Epoch 153/250\n",
            "178/178 [==============================] - 26s 141ms/step - loss: 0.6080 - acc: 0.6743 - val_loss: 0.5979 - val_acc: 0.7023\n",
            "Epoch 154/250\n",
            "178/178 [==============================] - 25s 140ms/step - loss: 0.6084 - acc: 0.6733 - val_loss: 0.6215 - val_acc: 0.6653\n",
            "Epoch 155/250\n",
            "178/178 [==============================] - 26s 142ms/step - loss: 0.5947 - acc: 0.6881 - val_loss: 0.6002 - val_acc: 0.6864\n",
            "Epoch 156/250\n",
            "178/178 [==============================] - 22s 118ms/step - loss: 0.6027 - acc: 0.6771 - val_loss: 0.5922 - val_acc: 0.7002\n",
            "Epoch 157/250\n",
            "178/178 [==============================] - 26s 142ms/step - loss: 0.5910 - acc: 0.6870 - val_loss: 0.6138 - val_acc: 0.6811\n",
            "Epoch 158/250\n",
            "178/178 [==============================] - 26s 141ms/step - loss: 0.6035 - acc: 0.6835 - val_loss: 0.6421 - val_acc: 0.6472\n",
            "Epoch 159/250\n",
            "178/178 [==============================] - 26s 141ms/step - loss: 0.6044 - acc: 0.6810 - val_loss: 0.6154 - val_acc: 0.6758\n",
            "Epoch 160/250\n",
            "178/178 [==============================] - 26s 141ms/step - loss: 0.6067 - acc: 0.6750 - val_loss: 0.6210 - val_acc: 0.6737\n",
            "Epoch 161/250\n",
            "178/178 [==============================] - 25s 140ms/step - loss: 0.6065 - acc: 0.6725 - val_loss: 0.6001 - val_acc: 0.6939\n",
            "Epoch 162/250\n",
            "178/178 [==============================] - 25s 139ms/step - loss: 0.5923 - acc: 0.6853 - val_loss: 0.6009 - val_acc: 0.6970\n",
            "Epoch 163/250\n",
            "178/178 [==============================] - 26s 140ms/step - loss: 0.6140 - acc: 0.6835 - val_loss: 0.6236 - val_acc: 0.6684\n",
            "Epoch 164/250\n",
            "178/178 [==============================] - 26s 143ms/step - loss: 0.6086 - acc: 0.6782 - val_loss: 0.6023 - val_acc: 0.7013\n",
            "Epoch 165/250\n",
            "178/178 [==============================] - 26s 146ms/step - loss: 0.5972 - acc: 0.6810 - val_loss: 0.5962 - val_acc: 0.7108\n",
            "Epoch 166/250\n",
            "178/178 [==============================] - 26s 141ms/step - loss: 0.6241 - acc: 0.6704 - val_loss: 0.6000 - val_acc: 0.7055\n",
            "Epoch 167/250\n",
            "178/178 [==============================] - 25s 139ms/step - loss: 0.6075 - acc: 0.6874 - val_loss: 0.5971 - val_acc: 0.7182\n",
            "Epoch 168/250\n",
            "178/178 [==============================] - 25s 139ms/step - loss: 0.6101 - acc: 0.6683 - val_loss: 0.6206 - val_acc: 0.6780\n",
            "Epoch 169/250\n",
            "178/178 [==============================] - 25s 136ms/step - loss: 0.6126 - acc: 0.6757 - val_loss: 0.5986 - val_acc: 0.7076\n",
            "Epoch 170/250\n",
            "178/178 [==============================] - 25s 136ms/step - loss: 0.5994 - acc: 0.6789 - val_loss: 0.5963 - val_acc: 0.7119\n",
            "Epoch 171/250\n",
            "178/178 [==============================] - 25s 136ms/step - loss: 0.6092 - acc: 0.6701 - val_loss: 0.6145 - val_acc: 0.6949\n",
            "Epoch 172/250\n",
            "178/178 [==============================] - 25s 137ms/step - loss: 0.6109 - acc: 0.6676 - val_loss: 0.6296 - val_acc: 0.6589\n",
            "Epoch 173/250\n",
            "178/178 [==============================] - 26s 140ms/step - loss: 0.6044 - acc: 0.6838 - val_loss: 0.6056 - val_acc: 0.6939\n",
            "Epoch 174/250\n",
            "178/178 [==============================] - 26s 143ms/step - loss: 0.6004 - acc: 0.6842 - val_loss: 0.5971 - val_acc: 0.7172\n",
            "Epoch 175/250\n",
            "178/178 [==============================] - 26s 142ms/step - loss: 0.5912 - acc: 0.6800 - val_loss: 0.5922 - val_acc: 0.7140\n",
            "Epoch 176/250\n",
            "178/178 [==============================] - 26s 141ms/step - loss: 0.6183 - acc: 0.6655 - val_loss: 0.6112 - val_acc: 0.6854\n",
            "Epoch 177/250\n",
            "178/178 [==============================] - 26s 141ms/step - loss: 0.6009 - acc: 0.6821 - val_loss: 0.6453 - val_acc: 0.6483\n",
            "Epoch 178/250\n",
            "178/178 [==============================] - 26s 141ms/step - loss: 0.6079 - acc: 0.6789 - val_loss: 0.6075 - val_acc: 0.7076\n",
            "Epoch 179/250\n",
            "178/178 [==============================] - 26s 141ms/step - loss: 0.5954 - acc: 0.6845 - val_loss: 0.6202 - val_acc: 0.6896\n",
            "Epoch 180/250\n",
            "178/178 [==============================] - 26s 141ms/step - loss: 0.6117 - acc: 0.6814 - val_loss: 0.6063 - val_acc: 0.6981\n",
            "Epoch 181/250\n",
            "178/178 [==============================] - 26s 143ms/step - loss: 0.5990 - acc: 0.6828 - val_loss: 0.6058 - val_acc: 0.6949\n",
            "Epoch 182/250\n",
            "178/178 [==============================] - 26s 144ms/step - loss: 0.6118 - acc: 0.6764 - val_loss: 0.6182 - val_acc: 0.6854\n",
            "Epoch 183/250\n",
            "178/178 [==============================] - 27s 149ms/step - loss: 0.6126 - acc: 0.6750 - val_loss: 0.6283 - val_acc: 0.6684\n",
            "Epoch 184/250\n",
            "178/178 [==============================] - 27s 146ms/step - loss: 0.6106 - acc: 0.6838 - val_loss: 0.5988 - val_acc: 0.7013\n",
            "Epoch 185/250\n",
            "178/178 [==============================] - 27s 148ms/step - loss: 0.6097 - acc: 0.6718 - val_loss: 0.6803 - val_acc: 0.6059\n",
            "Epoch 186/250\n",
            "178/178 [==============================] - 26s 145ms/step - loss: 0.6065 - acc: 0.6803 - val_loss: 0.6058 - val_acc: 0.6960\n",
            "Epoch 187/250\n",
            "178/178 [==============================] - 26s 144ms/step - loss: 0.6037 - acc: 0.6835 - val_loss: 0.5966 - val_acc: 0.7097\n",
            "Epoch 188/250\n",
            "178/178 [==============================] - 26s 142ms/step - loss: 0.6066 - acc: 0.6782 - val_loss: 0.5988 - val_acc: 0.7055\n",
            "Epoch 189/250\n",
            "178/178 [==============================] - 26s 144ms/step - loss: 0.6076 - acc: 0.6761 - val_loss: 0.6547 - val_acc: 0.6250\n",
            "Epoch 190/250\n",
            "178/178 [==============================] - 26s 143ms/step - loss: 0.5978 - acc: 0.6867 - val_loss: 0.6014 - val_acc: 0.6992\n",
            "Epoch 191/250\n",
            "178/178 [==============================] - 26s 144ms/step - loss: 0.6016 - acc: 0.6817 - val_loss: 0.6366 - val_acc: 0.6525\n",
            "Epoch 192/250\n",
            "178/178 [==============================] - 22s 120ms/step - loss: 0.6092 - acc: 0.6747 - val_loss: 0.6108 - val_acc: 0.6949\n",
            "Epoch 193/250\n",
            "178/178 [==============================] - 27s 149ms/step - loss: 0.6048 - acc: 0.6810 - val_loss: 0.5989 - val_acc: 0.7161\n",
            "Epoch 194/250\n",
            "178/178 [==============================] - 27s 151ms/step - loss: 0.5986 - acc: 0.6817 - val_loss: 0.6026 - val_acc: 0.7087\n",
            "Epoch 195/250\n",
            "178/178 [==============================] - 27s 149ms/step - loss: 0.6030 - acc: 0.6740 - val_loss: 0.6054 - val_acc: 0.7087\n",
            "Epoch 196/250\n",
            "178/178 [==============================] - 27s 146ms/step - loss: 0.5949 - acc: 0.6831 - val_loss: 0.5903 - val_acc: 0.7119\n",
            "Epoch 197/250\n",
            "178/178 [==============================] - 26s 145ms/step - loss: 0.5974 - acc: 0.6814 - val_loss: 0.5880 - val_acc: 0.7002\n",
            "Epoch 198/250\n",
            "178/178 [==============================] - 26s 146ms/step - loss: 0.6018 - acc: 0.6845 - val_loss: 0.5877 - val_acc: 0.7055\n",
            "Epoch 199/250\n",
            "178/178 [==============================] - 26s 146ms/step - loss: 0.6022 - acc: 0.6785 - val_loss: 0.6438 - val_acc: 0.6356\n",
            "Epoch 200/250\n",
            "178/178 [==============================] - 26s 146ms/step - loss: 0.6020 - acc: 0.6771 - val_loss: 0.6181 - val_acc: 0.6748\n",
            "Epoch 201/250\n",
            "178/178 [==============================] - 26s 145ms/step - loss: 0.6153 - acc: 0.6708 - val_loss: 0.5846 - val_acc: 0.7097\n",
            "Epoch 202/250\n",
            "178/178 [==============================] - 26s 145ms/step - loss: 0.6068 - acc: 0.6831 - val_loss: 0.6055 - val_acc: 0.6917\n",
            "Epoch 203/250\n",
            "178/178 [==============================] - 26s 145ms/step - loss: 0.6061 - acc: 0.6768 - val_loss: 0.5989 - val_acc: 0.7023\n",
            "Epoch 204/250\n",
            "178/178 [==============================] - 26s 145ms/step - loss: 0.6161 - acc: 0.6785 - val_loss: 0.5991 - val_acc: 0.6939\n",
            "Epoch 205/250\n",
            "178/178 [==============================] - 26s 145ms/step - loss: 0.6042 - acc: 0.6740 - val_loss: 0.5970 - val_acc: 0.7023\n",
            "Epoch 206/250\n",
            "178/178 [==============================] - 26s 144ms/step - loss: 0.6129 - acc: 0.6775 - val_loss: 0.6068 - val_acc: 0.6801\n",
            "Epoch 207/250\n",
            "178/178 [==============================] - 26s 144ms/step - loss: 0.6037 - acc: 0.6743 - val_loss: 0.6003 - val_acc: 0.6886\n",
            "Epoch 208/250\n",
            "178/178 [==============================] - 26s 144ms/step - loss: 0.6056 - acc: 0.6715 - val_loss: 0.6325 - val_acc: 0.6462\n",
            "Epoch 209/250\n",
            "178/178 [==============================] - 26s 145ms/step - loss: 0.6117 - acc: 0.6778 - val_loss: 0.5932 - val_acc: 0.6981\n",
            "Epoch 210/250\n",
            "178/178 [==============================] - 27s 149ms/step - loss: 0.5999 - acc: 0.6807 - val_loss: 0.6099 - val_acc: 0.6684\n",
            "Epoch 211/250\n",
            "178/178 [==============================] - 27s 148ms/step - loss: 0.6038 - acc: 0.6722 - val_loss: 0.5925 - val_acc: 0.7097\n",
            "Epoch 212/250\n",
            "178/178 [==============================] - 27s 150ms/step - loss: 0.6027 - acc: 0.6810 - val_loss: 0.6111 - val_acc: 0.6727\n",
            "Epoch 213/250\n",
            "178/178 [==============================] - 26s 144ms/step - loss: 0.5937 - acc: 0.6867 - val_loss: 0.6173 - val_acc: 0.6737\n",
            "Epoch 214/250\n",
            "178/178 [==============================] - 26s 146ms/step - loss: 0.6140 - acc: 0.6598 - val_loss: 0.6023 - val_acc: 0.7066\n",
            "Epoch 215/250\n",
            "178/178 [==============================] - 26s 143ms/step - loss: 0.6019 - acc: 0.6789 - val_loss: 0.5936 - val_acc: 0.7150\n",
            "Epoch 216/250\n",
            "178/178 [==============================] - 26s 142ms/step - loss: 0.6077 - acc: 0.6715 - val_loss: 0.6014 - val_acc: 0.7066\n",
            "Epoch 217/250\n",
            "178/178 [==============================] - 26s 142ms/step - loss: 0.6044 - acc: 0.6793 - val_loss: 0.6253 - val_acc: 0.6695\n",
            "Epoch 218/250\n",
            "178/178 [==============================] - 26s 145ms/step - loss: 0.6191 - acc: 0.6658 - val_loss: 0.6066 - val_acc: 0.6949\n",
            "Epoch 219/250\n",
            "178/178 [==============================] - 26s 146ms/step - loss: 0.5884 - acc: 0.6874 - val_loss: 0.5951 - val_acc: 0.6992\n",
            "Epoch 220/250\n",
            "178/178 [==============================] - 26s 145ms/step - loss: 0.6052 - acc: 0.6905 - val_loss: 0.5974 - val_acc: 0.6854\n",
            "Epoch 221/250\n",
            "178/178 [==============================] - 26s 144ms/step - loss: 0.6030 - acc: 0.6793 - val_loss: 0.6106 - val_acc: 0.6833\n",
            "Epoch 222/250\n",
            "178/178 [==============================] - 27s 148ms/step - loss: 0.6104 - acc: 0.6736 - val_loss: 0.6273 - val_acc: 0.6621\n",
            "Epoch 223/250\n",
            "178/178 [==============================] - 28s 153ms/step - loss: 0.6086 - acc: 0.6722 - val_loss: 0.5912 - val_acc: 0.7182\n",
            "Epoch 224/250\n",
            "178/178 [==============================] - 26s 145ms/step - loss: 0.6016 - acc: 0.6824 - val_loss: 0.6252 - val_acc: 0.6674\n",
            "Epoch 225/250\n",
            "178/178 [==============================] - 26s 145ms/step - loss: 0.6161 - acc: 0.6683 - val_loss: 0.6047 - val_acc: 0.6928\n",
            "Epoch 226/250\n",
            "178/178 [==============================] - 27s 146ms/step - loss: 0.6033 - acc: 0.6775 - val_loss: 0.6137 - val_acc: 0.6833\n",
            "Epoch 227/250\n",
            "178/178 [==============================] - 27s 146ms/step - loss: 0.6177 - acc: 0.6740 - val_loss: 0.5992 - val_acc: 0.7172\n",
            "Epoch 228/250\n",
            "178/178 [==============================] - 26s 145ms/step - loss: 0.6159 - acc: 0.6651 - val_loss: 0.5967 - val_acc: 0.7119\n",
            "Epoch 229/250\n",
            "178/178 [==============================] - 26s 146ms/step - loss: 0.6028 - acc: 0.6736 - val_loss: 0.6114 - val_acc: 0.6748\n",
            "Epoch 230/250\n",
            "178/178 [==============================] - 27s 146ms/step - loss: 0.5976 - acc: 0.6803 - val_loss: 0.6203 - val_acc: 0.6748\n",
            "Epoch 231/250\n",
            "178/178 [==============================] - 27s 147ms/step - loss: 0.6126 - acc: 0.6736 - val_loss: 0.6115 - val_acc: 0.6790\n",
            "Epoch 232/250\n",
            "178/178 [==============================] - 27s 147ms/step - loss: 0.6144 - acc: 0.6676 - val_loss: 0.6328 - val_acc: 0.6547\n",
            "Epoch 233/250\n",
            "178/178 [==============================] - 27s 149ms/step - loss: 0.6007 - acc: 0.6828 - val_loss: 0.6236 - val_acc: 0.6727\n",
            "Epoch 234/250\n",
            "178/178 [==============================] - 27s 149ms/step - loss: 0.6078 - acc: 0.6793 - val_loss: 0.6458 - val_acc: 0.6356\n",
            "Epoch 235/250\n",
            "178/178 [==============================] - 27s 151ms/step - loss: 0.6043 - acc: 0.6694 - val_loss: 0.6020 - val_acc: 0.6907\n",
            "Epoch 236/250\n",
            "178/178 [==============================] - 27s 150ms/step - loss: 0.6067 - acc: 0.6845 - val_loss: 0.6276 - val_acc: 0.6578\n",
            "Epoch 237/250\n",
            "178/178 [==============================] - 27s 151ms/step - loss: 0.5954 - acc: 0.6881 - val_loss: 0.6157 - val_acc: 0.6822\n",
            "Epoch 238/250\n",
            "178/178 [==============================] - 27s 150ms/step - loss: 0.6092 - acc: 0.6757 - val_loss: 0.6147 - val_acc: 0.6801\n",
            "Epoch 239/250\n",
            "178/178 [==============================] - 27s 147ms/step - loss: 0.6036 - acc: 0.6828 - val_loss: 0.6240 - val_acc: 0.6684\n",
            "Epoch 240/250\n",
            "178/178 [==============================] - 26s 146ms/step - loss: 0.5994 - acc: 0.6789 - val_loss: 0.6050 - val_acc: 0.6992\n",
            "Epoch 241/250\n",
            "178/178 [==============================] - 26s 144ms/step - loss: 0.6089 - acc: 0.6743 - val_loss: 0.6264 - val_acc: 0.6684\n",
            "Epoch 242/250\n",
            "178/178 [==============================] - 26s 144ms/step - loss: 0.5944 - acc: 0.6902 - val_loss: 0.6200 - val_acc: 0.6790\n",
            "Epoch 243/250\n",
            "178/178 [==============================] - 27s 147ms/step - loss: 0.6028 - acc: 0.6831 - val_loss: 0.6293 - val_acc: 0.6674\n",
            "Epoch 244/250\n",
            "178/178 [==============================] - 26s 145ms/step - loss: 0.5940 - acc: 0.6807 - val_loss: 0.5925 - val_acc: 0.7193\n",
            "Epoch 245/250\n",
            "178/178 [==============================] - 26s 146ms/step - loss: 0.6018 - acc: 0.6824 - val_loss: 0.5920 - val_acc: 0.7119\n",
            "Epoch 246/250\n",
            "178/178 [==============================] - 26s 145ms/step - loss: 0.6195 - acc: 0.6584 - val_loss: 0.5883 - val_acc: 0.7161\n",
            "Epoch 247/250\n",
            "178/178 [==============================] - 26s 143ms/step - loss: 0.6063 - acc: 0.6775 - val_loss: 0.5855 - val_acc: 0.7172\n",
            "Epoch 248/250\n",
            "178/178 [==============================] - 26s 144ms/step - loss: 0.6049 - acc: 0.6768 - val_loss: 0.5845 - val_acc: 0.7097\n",
            "Epoch 249/250\n",
            "178/178 [==============================] - 26s 144ms/step - loss: 0.6061 - acc: 0.6810 - val_loss: 0.5953 - val_acc: 0.7034\n",
            "Epoch 250/250\n",
            "178/178 [==============================] - 26s 144ms/step - loss: 0.6099 - acc: 0.6838 - val_loss: 0.5997 - val_acc: 0.7023\n"
          ]
        }
      ],
      "source": [
        "history = model.fit_generator(\n",
        "      train_generator,\n",
        "      steps_per_epoch= NUM_TRAIN //batch_size,\n",
        "      epochs=epochs,\n",
        "      validation_data=validation_generator,\n",
        "      validation_steps= NUM_TEST //batch_size,\n",
        "      verbose=1,\n",
        "      use_multiprocessing=True,\n",
        "      workers=4)"
      ]
    },
    {
      "cell_type": "code",
      "execution_count": null,
      "metadata": {
        "id": "Y3K89-CM-dfg",
        "colab": {
          "base_uri": "https://localhost:8080/",
          "height": 545
        },
        "outputId": "39008405-a5e3-4c87-9ce9-a830c0da8fc0"
      },
      "outputs": [
        {
          "output_type": "display_data",
          "data": {
            "text/plain": [
              "<Figure size 432x288 with 1 Axes>"
            ],
            "image/png": "[encoded data removed]"
          },
          "metadata": {
            "needs_background": "light"
          }
        },
        {
          "output_type": "display_data",
          "data": {
            "text/plain": [
              "<Figure size 432x288 with 1 Axes>"
            ],
            "image/png": "[encoded data removed]"
          },
          "metadata": {
            "needs_background": "light"
          }
        }
      ],
      "source": [
        "acc = history.history['acc']\n",
        "val_acc = history.history['val_acc']\n",
        "loss = history.history['loss']\n",
        "val_loss = history.history['val_loss']\n",
        "\n",
        "epochs_x = range(len(acc))\n",
        "\n",
        "plt.plot(epochs_x, acc, 'go', label='Training acc')\n",
        "plt.plot(epochs_x, val_acc, 'k', label='Validation acc')\n",
        "plt.title('Training and validation accuracy')\n",
        "plt.legend()\n",
        "\n",
        "plt.figure()\n",
        "\n",
        "plt.plot(epochs_x, loss, 'go', label='Training loss')\n",
        "plt.plot(epochs_x, val_loss, 'k', label='Validation loss')\n",
        "plt.title('Training and validation loss')\n",
        "plt.legend()\n",
        "\n",
        "plt.show()"
      ]
    },
    {
      "cell_type": "markdown",
      "metadata": {
        "id": "R19IJQSYoW7J"
      },
      "source": [
        "#Download the model\n"
      ]
    },
    {
      "cell_type": "code",
      "execution_count": null,
      "metadata": {
        "id": "Zed4TdFcG2iJ"
      },
      "outputs": [],
      "source": [
        "os.makedirs('/content/drive/My Drive/All_File_Lt/Model/Classification/Gender/', exist_ok=True)\n",
        "model.save('/content/drive/MyDrive/All_File_Lt/Model/Classification/Gender/2/(1e-4)G4_Unfreeze_250.h5')"
      ]
    },
    {
      "cell_type": "code",
      "execution_count": null,
      "metadata": {
        "id": "P5eMxm1NV-oY"
      },
      "outputs": [],
      "source": [
        "# from google.colab import files\n",
        "# files.download('/content/drive/MyDrive/All_File_Lt/Model/G1_Freeze_250.h5')"
      ]
    },
    {
      "cell_type": "code",
      "execution_count": null,
      "metadata": {
        "id": "xlsuaFIUVriv"
      },
      "outputs": [],
      "source": []
    }
  ],
  "metadata": {
    "colab": {
      "provenance": [],
      "machine_shape": "hm",
      "include_colab_link": true
    },
    "kernelspec": {
      "display_name": "Python 3",
      "name": "python3"
    },
    "language_info": {
      "name": "python"
    },
    "gpuClass": "standard",
    "accelerator": "GPU"
  },
  "nbformat": 4,
  "nbformat_minor": 0
}